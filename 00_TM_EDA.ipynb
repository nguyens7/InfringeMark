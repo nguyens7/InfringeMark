{
 "cells": [
  {
   "cell_type": "markdown",
   "metadata": {},
   "source": [
    "# Import packages"
   ]
  },
  {
   "cell_type": "code",
   "execution_count": 2,
   "metadata": {},
   "outputs": [],
   "source": [
    "import pandas as pd\n",
    "import fuzzy\n",
    "import jellyfish\n",
    "from rapidfuzz import fuzz\n",
    "from rapidfuzz import process\n"
   ]
  },
  {
   "cell_type": "markdown",
   "metadata": {},
   "source": [
    "### Text to speech"
   ]
  },
  {
   "cell_type": "markdown",
   "metadata": {},
   "source": [
    "Here we will use the pyttsx3 package to generate speech from text data. We will save it as a test mp3 file."
   ]
  },
  {
   "cell_type": "code",
   "execution_count": 3,
   "metadata": {},
   "outputs": [],
   "source": [
    "import pyttsx3\n",
    "# pyttsx3.speak(\"Frickin Chicken, Frickin Chicken, Frickin Chicken, Frickin Chicken\")\n",
    "pyttsx3.speak(\"Flipn Chicken, Flipn Chicken, Flipn Chicken, Flipn Chicken\")\n",
    "\n",
    "# engine = pyttsx3.init()\n",
    "# engine.save_to_file('Frickin Chicken, Frickin Chicken, Frickin Chicken, Frickin Chicken', 'test.mp3')\n",
    "# engine.runAndWait()"
   ]
  },
  {
   "cell_type": "markdown",
   "metadata": {},
   "source": [
    "Import the mp3 file and read it in with librosa."
   ]
  },
  {
   "cell_type": "code",
   "execution_count": null,
   "metadata": {},
   "outputs": [],
   "source": [
    "import librosa\n",
    "audio_path = 'test.mp3'\n",
    "x , sr = librosa.load(audio_path)\n",
    "print(type(x), type(sr))\n",
    "\n",
    "print(x.shape, sr)\n"
   ]
  },
  {
   "cell_type": "code",
   "execution_count": null,
   "metadata": {},
   "outputs": [],
   "source": [
    "librosa.load(audio_path, sr=44100)"
   ]
  },
  {
   "cell_type": "code",
   "execution_count": null,
   "metadata": {},
   "outputs": [],
   "source": [
    "librosa.load(audio_path, sr=None)"
   ]
  },
  {
   "cell_type": "code",
   "execution_count": null,
   "metadata": {},
   "outputs": [],
   "source": [
    "import IPython.display as ipd\n",
    "ipd.Audio(audio_path)"
   ]
  },
  {
   "cell_type": "markdown",
   "metadata": {},
   "source": [
    "Get the spectrogram of `Frickin Chicken`"
   ]
  },
  {
   "cell_type": "code",
   "execution_count": null,
   "metadata": {},
   "outputs": [],
   "source": [
    "%matplotlib inline\n",
    "import matplotlib.pyplot as plt\n",
    "import librosa.display\n",
    "plt.figure(figsize=(14, 5))\n",
    "librosa.display.waveplot(x, sr=sr)"
   ]
  },
  {
   "cell_type": "code",
   "execution_count": null,
   "metadata": {},
   "outputs": [],
   "source": [
    "X = librosa.stft(x)\n",
    "Xdb = librosa.amplitude_to_db(abs(X))\n",
    "plt.figure(figsize=(14, 5))\n",
    "librosa.display.specshow(Xdb, sr=sr, x_axis='time', y_axis='hz')\n",
    "plt.colorbar()"
   ]
  },
  {
   "cell_type": "code",
   "execution_count": null,
   "metadata": {},
   "outputs": [],
   "source": [
    "librosa.display.specshow(Xdb, sr=sr, x_axis='time', y_axis='log')\n",
    "plt.colorbar()"
   ]
  },
  {
   "cell_type": "markdown",
   "metadata": {},
   "source": [
    "Converting mp3 to a wav"
   ]
  },
  {
   "cell_type": "code",
   "execution_count": null,
   "metadata": {},
   "outputs": [],
   "source": [
    "from pydub import AudioSegment\n",
    "\n",
    "def convert_to_wav(filename):\n",
    "    # Import audio file\n",
    "    audio = AudioSegment.from_file(filename)\n",
    "    \n",
    "    # Create new filename\n",
    "    new_filename = filename.split(\".\")[0] + \".wav\"\n",
    "    \n",
    "    # Export file as .wav\n",
    "    audio.export(new_filename, format=\"wav\")\n",
    "    print(f\"Converting {filename} to {new_filename}...\")"
   ]
  },
  {
   "cell_type": "code",
   "execution_count": null,
   "metadata": {},
   "outputs": [],
   "source": [
    "convert_to_wav('test.mp3')"
   ]
  },
  {
   "cell_type": "code",
   "execution_count": null,
   "metadata": {},
   "outputs": [],
   "source": [
    "import acoustid\n",
    "import chromaprint\n",
    "duration, fp_encoded = acoustid.fingerprint_file('test.mp3')\n",
    "fingerprint, version = chromaprint.decode_fingerprint(fp_encoded)\n",
    "print(fingerprint)"
   ]
  },
  {
   "cell_type": "code",
   "execution_count": null,
   "metadata": {},
   "outputs": [],
   "source": [
    "import numpy as np\n",
    "import matplotlib.pyplot as plt\n",
    "...\n",
    "fig = plt.figure()\n",
    "bitmap = np.transpose(np.array([[b == '1' for b in list('{:32b}'.format(i & 0xffffffff))] for i in fingerprint]))\n",
    "plt.imshow(bitmap)"
   ]
  },
  {
   "cell_type": "code",
   "execution_count": null,
   "metadata": {},
   "outputs": [],
   "source": [
    "engine = pyttsx3.init()\n",
    "engine.save_to_file('Flipn chicken, flipn chicken, flipn chicken, flipn chicken', 'test2.mp3')\n",
    "engine.runAndWait()"
   ]
  },
  {
   "cell_type": "code",
   "execution_count": null,
   "metadata": {},
   "outputs": [],
   "source": [
    "import acoustid\n",
    "import chromaprint\n",
    "\n",
    "duration, fp_encoded = acoustid.fingerprint_file('test2.mp3')\n",
    "sample_fingerprint, version = chromaprint.decode_fingerprint(fp_encoded)\n",
    "print(sample_fingerprint)"
   ]
  },
  {
   "cell_type": "code",
   "execution_count": null,
   "metadata": {},
   "outputs": [],
   "source": [
    "import numpy as np\n",
    "import matplotlib.pyplot as plt\n",
    "...\n",
    "fig = plt.figure()\n",
    "bitmap = np.transpose(np.array([[b == '1' for b in list('{:32b}'.format(i & 0xffffffff))] for i in sample_fingerprint]))\n",
    "plt.imshow(bitmap)"
   ]
  },
  {
   "cell_type": "code",
   "execution_count": null,
   "metadata": {},
   "outputs": [],
   "source": [
    "similarity = fuzz.ratio(sample_fingerprint, fingerprint)\n",
    "print(similarity)"
   ]
  },
  {
   "cell_type": "code",
   "execution_count": null,
   "metadata": {},
   "outputs": [],
   "source": [
    "def save_to_file(self, text, filename, name=None):\n",
    "    '''\n",
    "    Adds an utterance to speak to the event queue.\n",
    "    @param text: Text to sepak\n",
    "    @type text: unicode\n",
    "    @param filename: the name of file to save.\n",
    "    @param name: Name to associate with this utterance. Included in\n",
    "        notifications about this utterance.\n",
    "    @type name: str\n",
    "    '''\n",
    "    self.proxy.save_to_file(text, filename, name)"
   ]
  },
  {
   "cell_type": "code",
   "execution_count": null,
   "metadata": {},
   "outputs": [],
   "source": []
  },
  {
   "cell_type": "code",
   "execution_count": null,
   "metadata": {},
   "outputs": [],
   "source": [
    "def word_ratio(x,y):\n",
    "    ratio = fuzz.token_sort_ratio(x, y)\n",
    "    return(ratio/100)\n",
    "\n",
    "word_ratio(\"fricken\", \"flipn\")"
   ]
  },
  {
   "cell_type": "code",
   "execution_count": null,
   "metadata": {},
   "outputs": [],
   "source": [
    "import spacy\n",
    "\n",
    "nlp = spacy.load(\"en_core_web_lg\")  # make sure to use larger model!\n",
    "word1 = nlp(\"frickin chicken\")\n",
    "word2 = nlp(\"flip'n chicken\")\n",
    "\n",
    "print(word1.similarity(word2))"
   ]
  },
  {
   "cell_type": "code",
   "execution_count": null,
   "metadata": {},
   "outputs": [],
   "source": [
    "df_statement = pd.read_csv(\"Data.nosync/statement.csv\")\n",
    "\n",
    "df_statement.head(200)"
   ]
  },
  {
   "cell_type": "code",
   "execution_count": null,
   "metadata": {
    "scrolled": false
   },
   "outputs": [],
   "source": [
    "df_TM = df_statement[df_statement['statement_type_cd'] == 'DM0000']\n",
    "\n",
    "\n",
    "df_TM.head(10)\n",
    "\n",
    "# df_TM.to_csv(\"Trademarks_only.csv\", index = False, header = True)"
   ]
  },
  {
   "cell_type": "code",
   "execution_count": null,
   "metadata": {},
   "outputs": [],
   "source": [
    "df_statement_clean = df_statement[['statement_text', 'serial_no']]\n",
    "\n",
    "df_statement_clean.head(10)\n"
   ]
  },
  {
   "cell_type": "markdown",
   "metadata": {},
   "source": [
    "## Phonetic representation of TMs"
   ]
  },
  {
   "cell_type": "code",
   "execution_count": null,
   "metadata": {},
   "outputs": [],
   "source": [
    "import os.path\n",
    "\n",
    "file_path = os.path.join( os.getcwd(), '..', 'Data.nosync/TM_clean_soundex.csv')\n",
    "\n",
    "df = pd.read_csv(file_path)\n",
    "\n",
    "df"
   ]
  },
  {
   "cell_type": "code",
   "execution_count": null,
   "metadata": {},
   "outputs": [],
   "source": [
    "def sdx(x):\n",
    "    soundex = fuzzy.Soundex(4)\n",
    "    return soundex(x)\n"
   ]
  },
  {
   "cell_type": "code",
   "execution_count": null,
   "metadata": {},
   "outputs": [],
   "source": [
    "df['wordmark2'] = df['wordmark'].astype(str)\n",
    "\n",
    "df"
   ]
  },
  {
   "cell_type": "code",
   "execution_count": null,
   "metadata": {},
   "outputs": [],
   "source": [
    "df['soundex']= df['wordmark2'].apply(lambda x : jellyfish.soundex(x))\n",
    "df['metaphone']= df['wordmark2'].apply(lambda x : jellyfish.metaphone(x))\n",
    "df['nysiis']= df['wordmark2'].apply(lambda x : jellyfish.nysiis(x))\n",
    "df['mtch_rtng_cdx']= df['wordmark2'].apply(lambda x : jellyfish.match_rating_codex(x))\n",
    "df = df.drop(['wordmark2'], axis=1)"
   ]
  },
  {
   "cell_type": "code",
   "execution_count": null,
   "metadata": {},
   "outputs": [],
   "source": [
    "df\n",
    "\n",
    "# df.to_csv(\"TM_clean_soundex.csv\", index = False, header = True)"
   ]
  },
  {
   "cell_type": "code",
   "execution_count": null,
   "metadata": {},
   "outputs": [],
   "source": []
  },
  {
   "cell_type": "code",
   "execution_count": null,
   "metadata": {},
   "outputs": [],
   "source": []
  }
 ],
 "metadata": {
  "kernelspec": {
   "display_name": "Python 3",
   "language": "python",
   "name": "python3"
  },
  "language_info": {
   "codemirror_mode": {
    "name": "ipython",
    "version": 3
   },
   "file_extension": ".py",
   "mimetype": "text/x-python",
   "name": "python",
   "nbconvert_exporter": "python",
   "pygments_lexer": "ipython3",
   "version": "3.8.3"
  }
 },
 "nbformat": 4,
 "nbformat_minor": 4
}
