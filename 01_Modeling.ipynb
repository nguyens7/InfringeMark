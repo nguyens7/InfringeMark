{
 "cells": [
  {
   "cell_type": "markdown",
   "metadata": {},
   "source": [
    "# Modeling"
   ]
  },
  {
   "cell_type": "code",
   "execution_count": 1,
   "metadata": {},
   "outputs": [],
   "source": [
    "import pandas as pd\n",
    "import numpy as np\n",
    "import matplotlib as plt\n",
    "from sklearn.linear_model import LogisticRegression"
   ]
  },
  {
   "cell_type": "code",
   "execution_count": 88,
   "metadata": {},
   "outputs": [
    {
     "data": {
      "text/html": [
       "<div>\n",
       "<style scoped>\n",
       "    .dataframe tbody tr th:only-of-type {\n",
       "        vertical-align: middle;\n",
       "    }\n",
       "\n",
       "    .dataframe tbody tr th {\n",
       "        vertical-align: top;\n",
       "    }\n",
       "\n",
       "    .dataframe thead th {\n",
       "        text-align: right;\n",
       "    }\n",
       "</style>\n",
       "<table border=\"1\" class=\"dataframe\">\n",
       "  <thead>\n",
       "    <tr style=\"text-align: right;\">\n",
       "      <th></th>\n",
       "      <th>TM_A</th>\n",
       "      <th>TM_B</th>\n",
       "      <th>target</th>\n",
       "    </tr>\n",
       "  </thead>\n",
       "  <tbody>\n",
       "    <tr>\n",
       "      <th>0</th>\n",
       "      <td>Simoniz</td>\n",
       "      <td>Permanize</td>\n",
       "      <td>1</td>\n",
       "    </tr>\n",
       "    <tr>\n",
       "      <th>1</th>\n",
       "      <td>Magnavoc</td>\n",
       "      <td>Multivox</td>\n",
       "      <td>1</td>\n",
       "    </tr>\n",
       "    <tr>\n",
       "      <th>2</th>\n",
       "      <td>Zirco</td>\n",
       "      <td>Cozirc</td>\n",
       "      <td>1</td>\n",
       "    </tr>\n",
       "    <tr>\n",
       "      <th>3</th>\n",
       "      <td>Platinum Puff</td>\n",
       "      <td>Platinum Plus</td>\n",
       "      <td>1</td>\n",
       "    </tr>\n",
       "    <tr>\n",
       "      <th>4</th>\n",
       "      <td>Maternity Yours</td>\n",
       "      <td>Your Maternity Shop</td>\n",
       "      <td>1</td>\n",
       "    </tr>\n",
       "    <tr>\n",
       "      <th>5</th>\n",
       "      <td>Flossies</td>\n",
       "      <td>Flossbone</td>\n",
       "      <td>1</td>\n",
       "    </tr>\n",
       "    <tr>\n",
       "      <th>6</th>\n",
       "      <td>Hypnotiq</td>\n",
       "      <td>Hopnotic</td>\n",
       "      <td>1</td>\n",
       "    </tr>\n",
       "    <tr>\n",
       "      <th>7</th>\n",
       "      <td>Woody Stout</td>\n",
       "      <td>Woody Brown Ale</td>\n",
       "      <td>1</td>\n",
       "    </tr>\n",
       "    <tr>\n",
       "      <th>8</th>\n",
       "      <td>Frickin’ Chicken</td>\n",
       "      <td>Flip’n Chicken</td>\n",
       "      <td>1</td>\n",
       "    </tr>\n",
       "    <tr>\n",
       "      <th>9</th>\n",
       "      <td>Alair</td>\n",
       "      <td>Holaira</td>\n",
       "      <td>1</td>\n",
       "    </tr>\n",
       "    <tr>\n",
       "      <th>10</th>\n",
       "      <td>Seiko</td>\n",
       "      <td>Seycos</td>\n",
       "      <td>1</td>\n",
       "    </tr>\n",
       "    <tr>\n",
       "      <th>11</th>\n",
       "      <td>Can</td>\n",
       "      <td>Canya</td>\n",
       "      <td>1</td>\n",
       "    </tr>\n",
       "    <tr>\n",
       "      <th>12</th>\n",
       "      <td>Kresco</td>\n",
       "      <td>Cresco</td>\n",
       "      <td>1</td>\n",
       "    </tr>\n",
       "    <tr>\n",
       "      <th>13</th>\n",
       "      <td>Intelect</td>\n",
       "      <td>Entelec</td>\n",
       "      <td>1</td>\n",
       "    </tr>\n",
       "    <tr>\n",
       "      <th>14</th>\n",
       "      <td>Starbucks</td>\n",
       "      <td>Sambucks</td>\n",
       "      <td>1</td>\n",
       "    </tr>\n",
       "    <tr>\n",
       "      <th>15</th>\n",
       "      <td>Microsoft</td>\n",
       "      <td>MikeRoweSoft</td>\n",
       "      <td>1</td>\n",
       "    </tr>\n",
       "    <tr>\n",
       "      <th>16</th>\n",
       "      <td>Tailored T</td>\n",
       "      <td>Tailor-Tee</td>\n",
       "      <td>1</td>\n",
       "    </tr>\n",
       "    <tr>\n",
       "      <th>17</th>\n",
       "      <td>Point</td>\n",
       "      <td>Poynt</td>\n",
       "      <td>1</td>\n",
       "    </tr>\n",
       "    <tr>\n",
       "      <th>18</th>\n",
       "      <td>K-9</td>\n",
       "      <td>Canine</td>\n",
       "      <td>1</td>\n",
       "    </tr>\n",
       "    <tr>\n",
       "      <th>19</th>\n",
       "      <td>Kuf’N Kolar</td>\n",
       "      <td>Cuff &amp; Collar Cleaner</td>\n",
       "      <td>1</td>\n",
       "    </tr>\n",
       "  </tbody>\n",
       "</table>\n",
       "</div>"
      ],
      "text/plain": [
       "                TM_A                   TM_B  target\n",
       "0            Simoniz              Permanize       1\n",
       "1           Magnavoc               Multivox       1\n",
       "2              Zirco                 Cozirc       1\n",
       "3      Platinum Puff          Platinum Plus       1\n",
       "4    Maternity Yours    Your Maternity Shop       1\n",
       "5           Flossies              Flossbone       1\n",
       "6           Hypnotiq               Hopnotic       1\n",
       "7        Woody Stout        Woody Brown Ale       1\n",
       "8   Frickin’ Chicken         Flip’n Chicken       1\n",
       "9              Alair                Holaira       1\n",
       "10             Seiko                 Seycos       1\n",
       "11               Can                  Canya       1\n",
       "12            Kresco                 Cresco       1\n",
       "13          Intelect                Entelec       1\n",
       "14         Starbucks               Sambucks       1\n",
       "15         Microsoft           MikeRoweSoft       1\n",
       "16        Tailored T             Tailor-Tee       1\n",
       "17             Point                  Poynt       1\n",
       "18               K-9                 Canine       1\n",
       "19       Kuf’N Kolar  Cuff & Collar Cleaner       1"
      ]
     },
     "execution_count": 88,
     "metadata": {},
     "output_type": "execute_result"
    }
   ],
   "source": [
    "cases = pd.read_csv('Data.nosync/Similar_TM.csv')\n",
    "cases.head(20)"
   ]
  },
  {
   "cell_type": "code",
   "execution_count": 94,
   "metadata": {},
   "outputs": [
    {
     "data": {
      "application/vnd.jupyter.widget-view+json": {
       "model_id": "7c45c6c24c25452cb6cb9ddd28af4ba3",
       "version_major": 2,
       "version_minor": 0
      },
      "text/plain": [
       "HBox(children=(FloatProgress(value=0.0, max=357.0), HTML(value='')))"
      ]
     },
     "metadata": {},
     "output_type": "display_data"
    },
    {
     "name": "stdout",
     "output_type": "stream",
     "text": [
      "\n"
     ]
    },
    {
     "data": {
      "application/vnd.jupyter.widget-view+json": {
       "model_id": "8ff05356295a42038db56332e97ef145",
       "version_major": 2,
       "version_minor": 0
      },
      "text/plain": [
       "HBox(children=(FloatProgress(value=0.0, max=357.0), HTML(value='')))"
      ]
     },
     "metadata": {},
     "output_type": "display_data"
    },
    {
     "name": "stdout",
     "output_type": "stream",
     "text": [
      "\n"
     ]
    },
    {
     "data": {
      "application/vnd.jupyter.widget-view+json": {
       "model_id": "974aa856c0094078bf9319c12360bd78",
       "version_major": 2,
       "version_minor": 0
      },
      "text/plain": [
       "HBox(children=(FloatProgress(value=0.0, max=357.0), HTML(value='')))"
      ]
     },
     "metadata": {},
     "output_type": "display_data"
    },
    {
     "name": "stdout",
     "output_type": "stream",
     "text": [
      "\n"
     ]
    },
    {
     "data": {
      "application/vnd.jupyter.widget-view+json": {
       "model_id": "72ec56024540430b84ac01b95de994fa",
       "version_major": 2,
       "version_minor": 0
      },
      "text/plain": [
       "HBox(children=(FloatProgress(value=0.0, max=357.0), HTML(value='')))"
      ]
     },
     "metadata": {},
     "output_type": "display_data"
    },
    {
     "name": "stdout",
     "output_type": "stream",
     "text": [
      "\n"
     ]
    },
    {
     "data": {
      "application/vnd.jupyter.widget-view+json": {
       "model_id": "a3ced0c527974a7b9a0aaddd2430df22",
       "version_major": 2,
       "version_minor": 0
      },
      "text/plain": [
       "HBox(children=(FloatProgress(value=0.0, max=357.0), HTML(value='')))"
      ]
     },
     "metadata": {},
     "output_type": "display_data"
    },
    {
     "name": "stdout",
     "output_type": "stream",
     "text": [
      "\n"
     ]
    },
    {
     "data": {
      "application/vnd.jupyter.widget-view+json": {
       "model_id": "7f7a56d3239f4c11b93ea910833cfbd8",
       "version_major": 2,
       "version_minor": 0
      },
      "text/plain": [
       "HBox(children=(FloatProgress(value=0.0, max=357.0), HTML(value='')))"
      ]
     },
     "metadata": {},
     "output_type": "display_data"
    },
    {
     "name": "stdout",
     "output_type": "stream",
     "text": [
      "\n"
     ]
    },
    {
     "data": {
      "application/vnd.jupyter.widget-view+json": {
       "model_id": "2b0a8ef5bbc742c7b42c513656091cea",
       "version_major": 2,
       "version_minor": 0
      },
      "text/plain": [
       "HBox(children=(FloatProgress(value=0.0, max=357.0), HTML(value='')))"
      ]
     },
     "metadata": {},
     "output_type": "display_data"
    },
    {
     "name": "stdout",
     "output_type": "stream",
     "text": [
      "\n"
     ]
    },
    {
     "data": {
      "application/vnd.jupyter.widget-view+json": {
       "model_id": "73368ad2c2d34758bb5b225310beca2f",
       "version_major": 2,
       "version_minor": 0
      },
      "text/plain": [
       "HBox(children=(FloatProgress(value=0.0, max=357.0), HTML(value='')))"
      ]
     },
     "metadata": {},
     "output_type": "display_data"
    },
    {
     "name": "stdout",
     "output_type": "stream",
     "text": [
      "\n"
     ]
    },
    {
     "data": {
      "application/vnd.jupyter.widget-view+json": {
       "model_id": "1f181bc5ab6e47918c66abe8a72f06c1",
       "version_major": 2,
       "version_minor": 0
      },
      "text/plain": [
       "HBox(children=(FloatProgress(value=0.0, max=357.0), HTML(value='')))"
      ]
     },
     "metadata": {},
     "output_type": "display_data"
    },
    {
     "name": "stdout",
     "output_type": "stream",
     "text": [
      "\n"
     ]
    },
    {
     "data": {
      "application/vnd.jupyter.widget-view+json": {
       "model_id": "f526e6e2d0b048efa99ba20b0ba32b85",
       "version_major": 2,
       "version_minor": 0
      },
      "text/plain": [
       "HBox(children=(FloatProgress(value=0.0, max=357.0), HTML(value='')))"
      ]
     },
     "metadata": {},
     "output_type": "display_data"
    },
    {
     "name": "stdout",
     "output_type": "stream",
     "text": [
      "\n"
     ]
    },
    {
     "data": {
      "application/vnd.jupyter.widget-view+json": {
       "model_id": "198a5179a17e4d8cbcbb04dff048a9b8",
       "version_major": 2,
       "version_minor": 0
      },
      "text/plain": [
       "HBox(children=(FloatProgress(value=0.0, max=357.0), HTML(value='')))"
      ]
     },
     "metadata": {},
     "output_type": "display_data"
    },
    {
     "name": "stdout",
     "output_type": "stream",
     "text": [
      "\n"
     ]
    },
    {
     "data": {
      "application/vnd.jupyter.widget-view+json": {
       "model_id": "55d0040386b54c07a02deb1c039ceb13",
       "version_major": 2,
       "version_minor": 0
      },
      "text/plain": [
       "HBox(children=(FloatProgress(value=0.0, max=357.0), HTML(value='')))"
      ]
     },
     "metadata": {},
     "output_type": "display_data"
    },
    {
     "name": "stdout",
     "output_type": "stream",
     "text": [
      "\n"
     ]
    },
    {
     "data": {
      "application/vnd.jupyter.widget-view+json": {
       "model_id": "79fed46dad1e4508b488dd11ec6a054f",
       "version_major": 2,
       "version_minor": 0
      },
      "text/plain": [
       "HBox(children=(FloatProgress(value=0.0, max=357.0), HTML(value='')))"
      ]
     },
     "metadata": {},
     "output_type": "display_data"
    },
    {
     "name": "stdout",
     "output_type": "stream",
     "text": [
      "\n"
     ]
    },
    {
     "data": {
      "application/vnd.jupyter.widget-view+json": {
       "model_id": "e8c27c43b9c049a19afb24af7bce1a6d",
       "version_major": 2,
       "version_minor": 0
      },
      "text/plain": [
       "HBox(children=(FloatProgress(value=0.0, max=357.0), HTML(value='')))"
      ]
     },
     "metadata": {},
     "output_type": "display_data"
    },
    {
     "name": "stdout",
     "output_type": "stream",
     "text": [
      "\n"
     ]
    },
    {
     "data": {
      "application/vnd.jupyter.widget-view+json": {
       "model_id": "a3556c225c70467cb0362e9409cd032c",
       "version_major": 2,
       "version_minor": 0
      },
      "text/plain": [
       "HBox(children=(FloatProgress(value=0.0, max=357.0), HTML(value='')))"
      ]
     },
     "metadata": {},
     "output_type": "display_data"
    },
    {
     "name": "stdout",
     "output_type": "stream",
     "text": [
      "\n"
     ]
    },
    {
     "data": {
      "application/vnd.jupyter.widget-view+json": {
       "model_id": "69ab84343a7e406ba2768e98be892e71",
       "version_major": 2,
       "version_minor": 0
      },
      "text/plain": [
       "HBox(children=(FloatProgress(value=0.0, max=357.0), HTML(value='')))"
      ]
     },
     "metadata": {},
     "output_type": "display_data"
    },
    {
     "name": "stdout",
     "output_type": "stream",
     "text": [
      "\n"
     ]
    },
    {
     "data": {
      "application/vnd.jupyter.widget-view+json": {
       "model_id": "8ce8468d7fde40e098baa9bed7976635",
       "version_major": 2,
       "version_minor": 0
      },
      "text/plain": [
       "HBox(children=(FloatProgress(value=0.0, max=357.0), HTML(value='')))"
      ]
     },
     "metadata": {},
     "output_type": "display_data"
    },
    {
     "name": "stdout",
     "output_type": "stream",
     "text": [
      "\n"
     ]
    },
    {
     "data": {
      "text/html": [
       "<div>\n",
       "<style scoped>\n",
       "    .dataframe tbody tr th:only-of-type {\n",
       "        vertical-align: middle;\n",
       "    }\n",
       "\n",
       "    .dataframe tbody tr th {\n",
       "        vertical-align: top;\n",
       "    }\n",
       "\n",
       "    .dataframe thead th {\n",
       "        text-align: right;\n",
       "    }\n",
       "</style>\n",
       "<table border=\"1\" class=\"dataframe\">\n",
       "  <thead>\n",
       "    <tr style=\"text-align: right;\">\n",
       "      <th></th>\n",
       "      <th>a</th>\n",
       "      <th>b</th>\n",
       "      <th>target</th>\n",
       "      <th>TM_A</th>\n",
       "      <th>TM_B</th>\n",
       "      <th>partial</th>\n",
       "      <th>tkn_sort</th>\n",
       "      <th>tkn_set</th>\n",
       "      <th>levenshtein</th>\n",
       "      <th>metaphone</th>\n",
       "      <th>...</th>\n",
       "      <th>mra</th>\n",
       "      <th>editex</th>\n",
       "      <th>saps</th>\n",
       "      <th>flexmetric</th>\n",
       "      <th>jaro</th>\n",
       "      <th>higueramico</th>\n",
       "      <th>sift4</th>\n",
       "      <th>eudex</th>\n",
       "      <th>aline</th>\n",
       "      <th>phoneticeditdistance</th>\n",
       "    </tr>\n",
       "  </thead>\n",
       "  <tbody>\n",
       "    <tr>\n",
       "      <th>0</th>\n",
       "      <td>Simoniz</td>\n",
       "      <td>Permanize</td>\n",
       "      <td>1</td>\n",
       "      <td>simoniz</td>\n",
       "      <td>permanize</td>\n",
       "      <td>57</td>\n",
       "      <td>50</td>\n",
       "      <td>50</td>\n",
       "      <td>0.161290</td>\n",
       "      <td>0</td>\n",
       "      <td>...</td>\n",
       "      <td>0.666667</td>\n",
       "      <td>0.555556</td>\n",
       "      <td>0.137931</td>\n",
       "      <td>0.566667</td>\n",
       "      <td>0.671958</td>\n",
       "      <td>0.430556</td>\n",
       "      <td>0.444444</td>\n",
       "      <td>0.654902</td>\n",
       "      <td>0.602128</td>\n",
       "      <td>0.727599</td>\n",
       "    </tr>\n",
       "    <tr>\n",
       "      <th>1</th>\n",
       "      <td>Magnavoc</td>\n",
       "      <td>Multivox</td>\n",
       "      <td>1</td>\n",
       "      <td>magnavoc</td>\n",
       "      <td>multivox</td>\n",
       "      <td>38</td>\n",
       "      <td>38</td>\n",
       "      <td>38</td>\n",
       "      <td>0.161290</td>\n",
       "      <td>0</td>\n",
       "      <td>...</td>\n",
       "      <td>0.500000</td>\n",
       "      <td>0.500000</td>\n",
       "      <td>0.304348</td>\n",
       "      <td>0.400000</td>\n",
       "      <td>0.583333</td>\n",
       "      <td>0.375000</td>\n",
       "      <td>0.375000</td>\n",
       "      <td>0.916667</td>\n",
       "      <td>0.545455</td>\n",
       "      <td>0.897177</td>\n",
       "    </tr>\n",
       "    <tr>\n",
       "      <th>2</th>\n",
       "      <td>Zirco</td>\n",
       "      <td>Cozirc</td>\n",
       "      <td>1</td>\n",
       "      <td>zirco</td>\n",
       "      <td>cozirc</td>\n",
       "      <td>89</td>\n",
       "      <td>73</td>\n",
       "      <td>73</td>\n",
       "      <td>0.096774</td>\n",
       "      <td>0</td>\n",
       "      <td>...</td>\n",
       "      <td>0.833333</td>\n",
       "      <td>0.500000</td>\n",
       "      <td>0.428571</td>\n",
       "      <td>0.600000</td>\n",
       "      <td>0.822222</td>\n",
       "      <td>0.547619</td>\n",
       "      <td>0.666667</td>\n",
       "      <td>0.786275</td>\n",
       "      <td>0.705882</td>\n",
       "      <td>0.634409</td>\n",
       "    </tr>\n",
       "    <tr>\n",
       "      <th>3</th>\n",
       "      <td>Platinum Puff</td>\n",
       "      <td>Platinum Plus</td>\n",
       "      <td>1</td>\n",
       "      <td>platinumpuff</td>\n",
       "      <td>platinumplus</td>\n",
       "      <td>83</td>\n",
       "      <td>83</td>\n",
       "      <td>83</td>\n",
       "      <td>0.096774</td>\n",
       "      <td>0</td>\n",
       "      <td>...</td>\n",
       "      <td>0.500000</td>\n",
       "      <td>0.833333</td>\n",
       "      <td>0.666667</td>\n",
       "      <td>0.833333</td>\n",
       "      <td>0.888889</td>\n",
       "      <td>0.769231</td>\n",
       "      <td>0.833333</td>\n",
       "      <td>1.000000</td>\n",
       "      <td>0.873529</td>\n",
       "      <td>0.913978</td>\n",
       "    </tr>\n",
       "    <tr>\n",
       "      <th>4</th>\n",
       "      <td>Maternity Yours</td>\n",
       "      <td>Your Maternity Shop</td>\n",
       "      <td>1</td>\n",
       "      <td>maternityyours</td>\n",
       "      <td>yourmaternityshop</td>\n",
       "      <td>74</td>\n",
       "      <td>65</td>\n",
       "      <td>65</td>\n",
       "      <td>0.290323</td>\n",
       "      <td>0</td>\n",
       "      <td>...</td>\n",
       "      <td>0.000000</td>\n",
       "      <td>0.588235</td>\n",
       "      <td>0.319149</td>\n",
       "      <td>0.538235</td>\n",
       "      <td>0.687675</td>\n",
       "      <td>0.490372</td>\n",
       "      <td>0.588235</td>\n",
       "      <td>0.463725</td>\n",
       "      <td>0.589655</td>\n",
       "      <td>0.646110</td>\n",
       "    </tr>\n",
       "    <tr>\n",
       "      <th>5</th>\n",
       "      <td>Flossies</td>\n",
       "      <td>Flossbone</td>\n",
       "      <td>1</td>\n",
       "      <td>flossies</td>\n",
       "      <td>flossbone</td>\n",
       "      <td>62</td>\n",
       "      <td>71</td>\n",
       "      <td>71</td>\n",
       "      <td>0.129032</td>\n",
       "      <td>0</td>\n",
       "      <td>...</td>\n",
       "      <td>0.666667</td>\n",
       "      <td>0.611111</td>\n",
       "      <td>0.382353</td>\n",
       "      <td>0.700000</td>\n",
       "      <td>0.805556</td>\n",
       "      <td>0.588889</td>\n",
       "      <td>0.666667</td>\n",
       "      <td>0.890196</td>\n",
       "      <td>0.617647</td>\n",
       "      <td>0.822581</td>\n",
       "    </tr>\n",
       "    <tr>\n",
       "      <th>6</th>\n",
       "      <td>Hypnotiq</td>\n",
       "      <td>Hopnotic</td>\n",
       "      <td>1</td>\n",
       "      <td>hypnotiq</td>\n",
       "      <td>hopnotic</td>\n",
       "      <td>75</td>\n",
       "      <td>75</td>\n",
       "      <td>75</td>\n",
       "      <td>0.064516</td>\n",
       "      <td>1</td>\n",
       "      <td>...</td>\n",
       "      <td>0.666667</td>\n",
       "      <td>0.875000</td>\n",
       "      <td>0.826087</td>\n",
       "      <td>0.875000</td>\n",
       "      <td>0.777778</td>\n",
       "      <td>0.750000</td>\n",
       "      <td>0.750000</td>\n",
       "      <td>0.967157</td>\n",
       "      <td>0.784091</td>\n",
       "      <td>0.979839</td>\n",
       "    </tr>\n",
       "    <tr>\n",
       "      <th>7</th>\n",
       "      <td>Woody Stout</td>\n",
       "      <td>Woody Brown Ale</td>\n",
       "      <td>1</td>\n",
       "      <td>woodystout</td>\n",
       "      <td>woodybrownale</td>\n",
       "      <td>60</td>\n",
       "      <td>52</td>\n",
       "      <td>52</td>\n",
       "      <td>0.225806</td>\n",
       "      <td>0</td>\n",
       "      <td>...</td>\n",
       "      <td>0.500000</td>\n",
       "      <td>0.538462</td>\n",
       "      <td>0.105263</td>\n",
       "      <td>0.550000</td>\n",
       "      <td>0.687179</td>\n",
       "      <td>0.441142</td>\n",
       "      <td>0.461538</td>\n",
       "      <td>0.835294</td>\n",
       "      <td>0.485714</td>\n",
       "      <td>0.727047</td>\n",
       "    </tr>\n",
       "    <tr>\n",
       "      <th>8</th>\n",
       "      <td>Frickin’ Chicken</td>\n",
       "      <td>Flip’n Chicken</td>\n",
       "      <td>1</td>\n",
       "      <td>frickinchicken</td>\n",
       "      <td>flipnchicken</td>\n",
       "      <td>75</td>\n",
       "      <td>77</td>\n",
       "      <td>77</td>\n",
       "      <td>0.129032</td>\n",
       "      <td>0</td>\n",
       "      <td>...</td>\n",
       "      <td>0.666667</td>\n",
       "      <td>0.785714</td>\n",
       "      <td>0.500000</td>\n",
       "      <td>0.757143</td>\n",
       "      <td>0.782540</td>\n",
       "      <td>0.708791</td>\n",
       "      <td>0.642857</td>\n",
       "      <td>0.919118</td>\n",
       "      <td>0.758537</td>\n",
       "      <td>0.835253</td>\n",
       "    </tr>\n",
       "    <tr>\n",
       "      <th>9</th>\n",
       "      <td>Alair</td>\n",
       "      <td>Holaira</td>\n",
       "      <td>1</td>\n",
       "      <td>alair</td>\n",
       "      <td>holaira</td>\n",
       "      <td>80</td>\n",
       "      <td>67</td>\n",
       "      <td>67</td>\n",
       "      <td>0.096774</td>\n",
       "      <td>0</td>\n",
       "      <td>...</td>\n",
       "      <td>0.833333</td>\n",
       "      <td>0.642857</td>\n",
       "      <td>0.045455</td>\n",
       "      <td>0.671429</td>\n",
       "      <td>0.790476</td>\n",
       "      <td>0.547619</td>\n",
       "      <td>0.571429</td>\n",
       "      <td>0.795588</td>\n",
       "      <td>0.636364</td>\n",
       "      <td>0.686636</td>\n",
       "    </tr>\n",
       "    <tr>\n",
       "      <th>10</th>\n",
       "      <td>Seiko</td>\n",
       "      <td>Seycos</td>\n",
       "      <td>1</td>\n",
       "      <td>seiko</td>\n",
       "      <td>seycos</td>\n",
       "      <td>60</td>\n",
       "      <td>55</td>\n",
       "      <td>55</td>\n",
       "      <td>0.096774</td>\n",
       "      <td>0</td>\n",
       "      <td>...</td>\n",
       "      <td>0.000000</td>\n",
       "      <td>0.666667</td>\n",
       "      <td>0.250000</td>\n",
       "      <td>0.800000</td>\n",
       "      <td>0.700000</td>\n",
       "      <td>0.500000</td>\n",
       "      <td>0.500000</td>\n",
       "      <td>0.993137</td>\n",
       "      <td>0.633333</td>\n",
       "      <td>0.822581</td>\n",
       "    </tr>\n",
       "    <tr>\n",
       "      <th>11</th>\n",
       "      <td>Can</td>\n",
       "      <td>Canya</td>\n",
       "      <td>1</td>\n",
       "      <td>can</td>\n",
       "      <td>canya</td>\n",
       "      <td>100</td>\n",
       "      <td>75</td>\n",
       "      <td>75</td>\n",
       "      <td>0.064516</td>\n",
       "      <td>0</td>\n",
       "      <td>...</td>\n",
       "      <td>0.833333</td>\n",
       "      <td>0.700000</td>\n",
       "      <td>0.133333</td>\n",
       "      <td>0.600000</td>\n",
       "      <td>0.866667</td>\n",
       "      <td>0.550000</td>\n",
       "      <td>0.600000</td>\n",
       "      <td>0.996569</td>\n",
       "      <td>0.739130</td>\n",
       "      <td>0.600000</td>\n",
       "    </tr>\n",
       "    <tr>\n",
       "      <th>12</th>\n",
       "      <td>Kresco</td>\n",
       "      <td>Cresco</td>\n",
       "      <td>1</td>\n",
       "      <td>kresco</td>\n",
       "      <td>cresco</td>\n",
       "      <td>83</td>\n",
       "      <td>83</td>\n",
       "      <td>83</td>\n",
       "      <td>0.032258</td>\n",
       "      <td>1</td>\n",
       "      <td>...</td>\n",
       "      <td>0.833333</td>\n",
       "      <td>0.916667</td>\n",
       "      <td>0.619048</td>\n",
       "      <td>0.983333</td>\n",
       "      <td>0.888889</td>\n",
       "      <td>0.833333</td>\n",
       "      <td>0.833333</td>\n",
       "      <td>0.874510</td>\n",
       "      <td>0.911765</td>\n",
       "      <td>0.994624</td>\n",
       "    </tr>\n",
       "    <tr>\n",
       "      <th>13</th>\n",
       "      <td>Intelect</td>\n",
       "      <td>Entelec</td>\n",
       "      <td>1</td>\n",
       "      <td>intelect</td>\n",
       "      <td>entelec</td>\n",
       "      <td>86</td>\n",
       "      <td>80</td>\n",
       "      <td>80</td>\n",
       "      <td>0.064516</td>\n",
       "      <td>0</td>\n",
       "      <td>...</td>\n",
       "      <td>0.666667</td>\n",
       "      <td>0.812500</td>\n",
       "      <td>0.392857</td>\n",
       "      <td>0.837500</td>\n",
       "      <td>0.757937</td>\n",
       "      <td>0.750000</td>\n",
       "      <td>0.750000</td>\n",
       "      <td>0.765686</td>\n",
       "      <td>0.829545</td>\n",
       "      <td>0.870968</td>\n",
       "    </tr>\n",
       "    <tr>\n",
       "      <th>14</th>\n",
       "      <td>Starbucks</td>\n",
       "      <td>Sambucks</td>\n",
       "      <td>1</td>\n",
       "      <td>starbucks</td>\n",
       "      <td>sambucks</td>\n",
       "      <td>75</td>\n",
       "      <td>82</td>\n",
       "      <td>82</td>\n",
       "      <td>0.064516</td>\n",
       "      <td>0</td>\n",
       "      <td>...</td>\n",
       "      <td>0.666667</td>\n",
       "      <td>0.777778</td>\n",
       "      <td>0.676471</td>\n",
       "      <td>0.844444</td>\n",
       "      <td>0.884259</td>\n",
       "      <td>0.777778</td>\n",
       "      <td>0.777778</td>\n",
       "      <td>0.798039</td>\n",
       "      <td>0.709091</td>\n",
       "      <td>0.867384</td>\n",
       "    </tr>\n",
       "    <tr>\n",
       "      <th>15</th>\n",
       "      <td>Microsoft</td>\n",
       "      <td>MikeRoweSoft</td>\n",
       "      <td>1</td>\n",
       "      <td>microsoft</td>\n",
       "      <td>mikerowesoft</td>\n",
       "      <td>67</td>\n",
       "      <td>76</td>\n",
       "      <td>76</td>\n",
       "      <td>0.129032</td>\n",
       "      <td>0</td>\n",
       "      <td>...</td>\n",
       "      <td>0.833333</td>\n",
       "      <td>0.750000</td>\n",
       "      <td>0.476190</td>\n",
       "      <td>0.825000</td>\n",
       "      <td>0.851852</td>\n",
       "      <td>0.642424</td>\n",
       "      <td>0.500000</td>\n",
       "      <td>0.850980</td>\n",
       "      <td>0.758333</td>\n",
       "      <td>0.747312</td>\n",
       "    </tr>\n",
       "    <tr>\n",
       "      <th>16</th>\n",
       "      <td>Tailored T</td>\n",
       "      <td>Tailor-Tee</td>\n",
       "      <td>1</td>\n",
       "      <td>tailoredt</td>\n",
       "      <td>tailortee</td>\n",
       "      <td>78</td>\n",
       "      <td>78</td>\n",
       "      <td>78</td>\n",
       "      <td>0.096774</td>\n",
       "      <td>0</td>\n",
       "      <td>...</td>\n",
       "      <td>0.833333</td>\n",
       "      <td>0.722222</td>\n",
       "      <td>0.482759</td>\n",
       "      <td>0.866667</td>\n",
       "      <td>0.884259</td>\n",
       "      <td>0.700000</td>\n",
       "      <td>0.777778</td>\n",
       "      <td>0.931373</td>\n",
       "      <td>0.744681</td>\n",
       "      <td>0.826165</td>\n",
       "    </tr>\n",
       "    <tr>\n",
       "      <th>17</th>\n",
       "      <td>Point</td>\n",
       "      <td>Poynt</td>\n",
       "      <td>1</td>\n",
       "      <td>point</td>\n",
       "      <td>poynt</td>\n",
       "      <td>80</td>\n",
       "      <td>80</td>\n",
       "      <td>80</td>\n",
       "      <td>0.032258</td>\n",
       "      <td>1</td>\n",
       "      <td>...</td>\n",
       "      <td>0.833333</td>\n",
       "      <td>0.900000</td>\n",
       "      <td>0.866667</td>\n",
       "      <td>0.980000</td>\n",
       "      <td>0.866667</td>\n",
       "      <td>0.800000</td>\n",
       "      <td>0.800000</td>\n",
       "      <td>1.000000</td>\n",
       "      <td>0.962963</td>\n",
       "      <td>0.993548</td>\n",
       "    </tr>\n",
       "    <tr>\n",
       "      <th>18</th>\n",
       "      <td>K-9</td>\n",
       "      <td>Canine</td>\n",
       "      <td>1</td>\n",
       "      <td>k</td>\n",
       "      <td>canine</td>\n",
       "      <td>0</td>\n",
       "      <td>0</td>\n",
       "      <td>0</td>\n",
       "      <td>0.193548</td>\n",
       "      <td>0</td>\n",
       "      <td>...</td>\n",
       "      <td>0.000000</td>\n",
       "      <td>0.083333</td>\n",
       "      <td>0.000000</td>\n",
       "      <td>0.250000</td>\n",
       "      <td>0.000000</td>\n",
       "      <td>0.000000</td>\n",
       "      <td>0.000000</td>\n",
       "      <td>0.862745</td>\n",
       "      <td>0.133333</td>\n",
       "      <td>0.161290</td>\n",
       "    </tr>\n",
       "    <tr>\n",
       "      <th>19</th>\n",
       "      <td>Kuf’N Kolar</td>\n",
       "      <td>Cuff &amp; Collar Cleaner</td>\n",
       "      <td>1</td>\n",
       "      <td>kufnkolar</td>\n",
       "      <td>cuffcollarcleaner</td>\n",
       "      <td>67</td>\n",
       "      <td>46</td>\n",
       "      <td>46</td>\n",
       "      <td>0.354839</td>\n",
       "      <td>0</td>\n",
       "      <td>...</td>\n",
       "      <td>0.333333</td>\n",
       "      <td>0.500000</td>\n",
       "      <td>0.000000</td>\n",
       "      <td>0.620588</td>\n",
       "      <td>0.673203</td>\n",
       "      <td>0.212945</td>\n",
       "      <td>0.352941</td>\n",
       "      <td>0.827941</td>\n",
       "      <td>0.423158</td>\n",
       "      <td>0.508539</td>\n",
       "    </tr>\n",
       "  </tbody>\n",
       "</table>\n",
       "<p>20 rows × 30 columns</p>\n",
       "</div>"
      ],
      "text/plain": [
       "                   a                      b  target            TM_A  \\\n",
       "0            Simoniz              Permanize       1         simoniz   \n",
       "1           Magnavoc               Multivox       1        magnavoc   \n",
       "2              Zirco                 Cozirc       1           zirco   \n",
       "3      Platinum Puff          Platinum Plus       1    platinumpuff   \n",
       "4    Maternity Yours    Your Maternity Shop       1  maternityyours   \n",
       "5           Flossies              Flossbone       1        flossies   \n",
       "6           Hypnotiq               Hopnotic       1        hypnotiq   \n",
       "7        Woody Stout        Woody Brown Ale       1      woodystout   \n",
       "8   Frickin’ Chicken         Flip’n Chicken       1  frickinchicken   \n",
       "9              Alair                Holaira       1           alair   \n",
       "10             Seiko                 Seycos       1           seiko   \n",
       "11               Can                  Canya       1             can   \n",
       "12            Kresco                 Cresco       1          kresco   \n",
       "13          Intelect                Entelec       1        intelect   \n",
       "14         Starbucks               Sambucks       1       starbucks   \n",
       "15         Microsoft           MikeRoweSoft       1       microsoft   \n",
       "16        Tailored T             Tailor-Tee       1       tailoredt   \n",
       "17             Point                  Poynt       1           point   \n",
       "18               K-9                 Canine       1               k   \n",
       "19       Kuf’N Kolar  Cuff & Collar Cleaner       1       kufnkolar   \n",
       "\n",
       "                 TM_B  partial  tkn_sort  tkn_set  levenshtein  metaphone  \\\n",
       "0           permanize       57        50       50     0.161290          0   \n",
       "1            multivox       38        38       38     0.161290          0   \n",
       "2              cozirc       89        73       73     0.096774          0   \n",
       "3        platinumplus       83        83       83     0.096774          0   \n",
       "4   yourmaternityshop       74        65       65     0.290323          0   \n",
       "5           flossbone       62        71       71     0.129032          0   \n",
       "6            hopnotic       75        75       75     0.064516          1   \n",
       "7       woodybrownale       60        52       52     0.225806          0   \n",
       "8        flipnchicken       75        77       77     0.129032          0   \n",
       "9             holaira       80        67       67     0.096774          0   \n",
       "10             seycos       60        55       55     0.096774          0   \n",
       "11              canya      100        75       75     0.064516          0   \n",
       "12             cresco       83        83       83     0.032258          1   \n",
       "13            entelec       86        80       80     0.064516          0   \n",
       "14           sambucks       75        82       82     0.064516          0   \n",
       "15       mikerowesoft       67        76       76     0.129032          0   \n",
       "16          tailortee       78        78       78     0.096774          0   \n",
       "17              poynt       80        80       80     0.032258          1   \n",
       "18             canine        0         0        0     0.193548          0   \n",
       "19  cuffcollarcleaner       67        46       46     0.354839          0   \n",
       "\n",
       "    ...       mra    editex      saps  flexmetric      jaro  higueramico  \\\n",
       "0   ...  0.666667  0.555556  0.137931    0.566667  0.671958     0.430556   \n",
       "1   ...  0.500000  0.500000  0.304348    0.400000  0.583333     0.375000   \n",
       "2   ...  0.833333  0.500000  0.428571    0.600000  0.822222     0.547619   \n",
       "3   ...  0.500000  0.833333  0.666667    0.833333  0.888889     0.769231   \n",
       "4   ...  0.000000  0.588235  0.319149    0.538235  0.687675     0.490372   \n",
       "5   ...  0.666667  0.611111  0.382353    0.700000  0.805556     0.588889   \n",
       "6   ...  0.666667  0.875000  0.826087    0.875000  0.777778     0.750000   \n",
       "7   ...  0.500000  0.538462  0.105263    0.550000  0.687179     0.441142   \n",
       "8   ...  0.666667  0.785714  0.500000    0.757143  0.782540     0.708791   \n",
       "9   ...  0.833333  0.642857  0.045455    0.671429  0.790476     0.547619   \n",
       "10  ...  0.000000  0.666667  0.250000    0.800000  0.700000     0.500000   \n",
       "11  ...  0.833333  0.700000  0.133333    0.600000  0.866667     0.550000   \n",
       "12  ...  0.833333  0.916667  0.619048    0.983333  0.888889     0.833333   \n",
       "13  ...  0.666667  0.812500  0.392857    0.837500  0.757937     0.750000   \n",
       "14  ...  0.666667  0.777778  0.676471    0.844444  0.884259     0.777778   \n",
       "15  ...  0.833333  0.750000  0.476190    0.825000  0.851852     0.642424   \n",
       "16  ...  0.833333  0.722222  0.482759    0.866667  0.884259     0.700000   \n",
       "17  ...  0.833333  0.900000  0.866667    0.980000  0.866667     0.800000   \n",
       "18  ...  0.000000  0.083333  0.000000    0.250000  0.000000     0.000000   \n",
       "19  ...  0.333333  0.500000  0.000000    0.620588  0.673203     0.212945   \n",
       "\n",
       "       sift4     eudex     aline  phoneticeditdistance  \n",
       "0   0.444444  0.654902  0.602128              0.727599  \n",
       "1   0.375000  0.916667  0.545455              0.897177  \n",
       "2   0.666667  0.786275  0.705882              0.634409  \n",
       "3   0.833333  1.000000  0.873529              0.913978  \n",
       "4   0.588235  0.463725  0.589655              0.646110  \n",
       "5   0.666667  0.890196  0.617647              0.822581  \n",
       "6   0.750000  0.967157  0.784091              0.979839  \n",
       "7   0.461538  0.835294  0.485714              0.727047  \n",
       "8   0.642857  0.919118  0.758537              0.835253  \n",
       "9   0.571429  0.795588  0.636364              0.686636  \n",
       "10  0.500000  0.993137  0.633333              0.822581  \n",
       "11  0.600000  0.996569  0.739130              0.600000  \n",
       "12  0.833333  0.874510  0.911765              0.994624  \n",
       "13  0.750000  0.765686  0.829545              0.870968  \n",
       "14  0.777778  0.798039  0.709091              0.867384  \n",
       "15  0.500000  0.850980  0.758333              0.747312  \n",
       "16  0.777778  0.931373  0.744681              0.826165  \n",
       "17  0.800000  1.000000  0.962963              0.993548  \n",
       "18  0.000000  0.862745  0.133333              0.161290  \n",
       "19  0.352941  0.827941  0.423158              0.508539  \n",
       "\n",
       "[20 rows x 30 columns]"
      ]
     },
     "execution_count": 94,
     "metadata": {},
     "output_type": "execute_result"
    }
   ],
   "source": [
    "foo = featurize(cases)\n",
    "\n",
    "\n",
    "foo.head(20)"
   ]
  },
  {
   "cell_type": "code",
   "execution_count": 43,
   "metadata": {},
   "outputs": [],
   "source": [
    "import unidecode\n",
    "from fuzzywuzzy import fuzz\n",
    "import jellyfish\n",
    "\n",
    "from abydos.distance import (IterativeSubString, BISIM, DiscountedLevenshtein, Prefix, LCSstr, MLIPNS, Strcmp95,\n",
    "MRA, Editex, SAPS, FlexMetric, JaroWinkler, HigueraMico, Sift4, Eudex, ALINE, PhoneticEditDistance)\n",
    "\n",
    "from abydos.phonetic import PSHPSoundexFirst, Ainsworth\n",
    "pshp_soundex_first = PSHPSoundexFirst()\n",
    "pe = Ainsworth()"
   ]
  },
  {
   "cell_type": "code",
   "execution_count": 44,
   "metadata": {},
   "outputs": [],
   "source": [
    "iss = IterativeSubString()\n",
    "bisim = BISIM()\n",
    "dlev = DiscountedLevenshtein()\n",
    "prefix = Prefix()\n",
    "lcs = LCSstr()\n",
    "mlipns = MLIPNS()\n",
    "strcmp95 = Strcmp95()\n",
    "mra = MRA()\n",
    "editex = Editex()\n",
    "saps = SAPS()\n",
    "flexmetric = FlexMetric()\n",
    "jaro = JaroWinkler(mode='Jaro')\n",
    "higuera_mico = HigueraMico()\n",
    "sift4 = Sift4()\n",
    "eudex = Eudex()\n",
    "aline = ALINE()\n",
    "phonetic_edit = PhoneticEditDistance()"
   ]
  },
  {
   "cell_type": "code",
   "execution_count": 45,
   "metadata": {},
   "outputs": [],
   "source": [
    "algos = [iss, bisim, dlev, prefix, lcs, mlipns, strcmp95, mra, editex, saps, flexmetric, jaro, higuera_mico, sift4, eudex,\n",
    "         aline, phonetic_edit]\n",
    "\n",
    "algo_names = ['iterativesubstring', 'bisim', 'discountedlevenshtein', 'prefix', 'lcsstr', 'mlipns', 'strcmp95', 'mra',\n",
    "              'editex', 'saps', 'flexmetric', 'jaro', 'higueramico', 'sift4', 'eudex', 'aline',\n",
    "              'phoneticeditdistance']"
   ]
  },
  {
   "cell_type": "code",
   "execution_count": 46,
   "metadata": {},
   "outputs": [],
   "source": [
    "from abydos.phones import *"
   ]
  },
  {
   "cell_type": "code",
   "execution_count": 47,
   "metadata": {},
   "outputs": [],
   "source": [
    "def sum_ipa(name_a, name_b):\n",
    "    feat1 = ipa_to_features(pe.encode(name_a))\n",
    "    feat2 = ipa_to_features(pe.encode(name_b))\n",
    "    score = sum(cmp_features(f1, f2) for f1, f2 in zip(feat1, feat2))/len(feat1)\n",
    "    return score"
   ]
  },
  {
   "cell_type": "code",
   "execution_count": 48,
   "metadata": {},
   "outputs": [],
   "source": [
    "import re"
   ]
  },
  {
   "cell_type": "code",
   "execution_count": 49,
   "metadata": {},
   "outputs": [],
   "source": [
    "from tqdm import tqdm\n",
    "from sklearn.preprocessing import MinMaxScaler\n",
    "\n",
    "def featurize(df):\n",
    "    if len(df.columns)==3:\n",
    "        df.columns=['a', 'b', 'target']\n",
    "    elif len(df.columns)==2:\n",
    "        df.columns=['a', 'b']\n",
    "    else:\n",
    "        df = df.rename(columns={df.columns[0]: 'a', df.columns[1]: 'b' })\n",
    "        \n",
    "    df['TM_A'] = df.apply(lambda row: re.sub(\n",
    "        '[^a-zA-Z]+', '', unidecode.unidecode(row['a']).lower()), axis=1)\n",
    "    df['TM_B'] = df.apply(lambda row: re.sub(\n",
    "        '[^a-zA-Z]+', '', unidecode.unidecode(row['b']).lower()), axis=1)\n",
    "    \n",
    "\n",
    "    df['partial'] = df.apply(lambda row: fuzz.partial_ratio(row.TM_A,row.TM_B), axis=1)\n",
    "    df['tkn_sort'] = df.apply(lambda row: fuzz.token_sort_ratio(row.TM_A,row.TM_B), axis=1)\n",
    "    df['tkn_set'] = df.apply(lambda row: fuzz.token_set_ratio(row.TM_A,row.TM_B), axis=1)\n",
    "    \n",
    "#     df['sum_ipa'] = df.apply(lambda row: sum_ipa(row.TM_A,row.TM_B), axis=1)\n",
    "    \n",
    "    # Jellyfish levenshtein\n",
    "    df['levenshtein']= df.apply(lambda row: jellyfish.levenshtein_distance(row.TM_A,row.TM_B), axis=1)\n",
    "    # Scale Levenshtein column\n",
    "    scaler = MinMaxScaler()\n",
    "    df['levenshtein'] = scaler.fit_transform(df['levenshtein'].values.reshape(-1,1))\n",
    "\n",
    "    # Jellyfish phoneme\n",
    "    df['metaphone'] = df.apply(\n",
    "        lambda row: 1 if jellyfish.metaphone(row.TM_A)==jellyfish.metaphone(row.TM_B) else 0, axis=1)\n",
    "    df['nysiis'] = df.apply(\n",
    "        lambda row: 1 if jellyfish.nysiis(row.TM_A)==jellyfish.nysiis(row.TM_B) else 0, axis=1)\n",
    "    df['mtch_rtng_cdx'] = df.apply(\n",
    "        lambda row: 1 if jellyfish.match_rating_codex(row.TM_A)==jellyfish.match_rating_codex(row.TM_B) else 0, axis=1)\n",
    "    \n",
    "    df['pshp_soundex_first'] = df.apply(\n",
    "        lambda row: 1 if pshp_soundex_first.encode(row.TM_A)==pshp_soundex_first.encode(row.TM_B) else 0, axis=1)\n",
    "    \n",
    "    for i, algo in enumerate(algos):\n",
    "            df[algo_names[i]] = df.progress_apply(lambda row: algo.sim(row.TM_A, row.TM_B), axis=1)\n",
    "\n",
    "    \n",
    "    return df"
   ]
  },
  {
   "cell_type": "code",
   "execution_count": null,
   "metadata": {
    "scrolled": true
   },
   "outputs": [],
   "source": [
    "\n",
    "\n",
    "# featurize(cases)"
   ]
  },
  {
   "cell_type": "markdown",
   "metadata": {},
   "source": [
    "### Class Balancing  \n",
    "We can see that the classes are imbalanced, there are more instances of trademark invalidation than are dismissals."
   ]
  },
  {
   "cell_type": "code",
   "execution_count": 87,
   "metadata": {},
   "outputs": [
    {
     "data": {
      "image/png": "[encoded data removed]",
      "text/plain": [
       "<Figure size 432x288 with 1 Axes>"
      ]
     },
     "metadata": {
      "needs_background": "light"
     },
     "output_type": "display_data"
    }
   ],
   "source": [
    "cases['target'].value_counts()[:2].plot(kind='bar')\n",
    "\n",
    "# plt.savefig('TM_Unbalanced.png', dpi = 300)"
   ]
  },
  {
   "cell_type": "code",
   "execution_count": 10,
   "metadata": {},
   "outputs": [],
   "source": [
    "from itertools import combinations\n",
    "import random\n",
    "random.seed(42)\n"
   ]
  },
  {
   "cell_type": "code",
   "execution_count": 37,
   "metadata": {},
   "outputs": [
    {
     "data": {
      "text/html": [
       "<div>\n",
       "<style scoped>\n",
       "    .dataframe tbody tr th:only-of-type {\n",
       "        vertical-align: middle;\n",
       "    }\n",
       "\n",
       "    .dataframe tbody tr th {\n",
       "        vertical-align: top;\n",
       "    }\n",
       "\n",
       "    .dataframe thead th {\n",
       "        text-align: right;\n",
       "    }\n",
       "</style>\n",
       "<table border=\"1\" class=\"dataframe\">\n",
       "  <thead>\n",
       "    <tr style=\"text-align: right;\">\n",
       "      <th></th>\n",
       "      <th>TM_A</th>\n",
       "      <th>TM_B</th>\n",
       "    </tr>\n",
       "  </thead>\n",
       "  <tbody>\n",
       "    <tr>\n",
       "      <th>0</th>\n",
       "      <td>Platinum Plus</td>\n",
       "      <td>Jaked</td>\n",
       "    </tr>\n",
       "    <tr>\n",
       "      <th>1</th>\n",
       "      <td>ROOM SEVEN</td>\n",
       "      <td>Willow Tree Gin</td>\n",
       "    </tr>\n",
       "    <tr>\n",
       "      <th>2</th>\n",
       "      <td>DWELL STUDENT</td>\n",
       "      <td>Tatadoo</td>\n",
       "    </tr>\n",
       "    <tr>\n",
       "      <th>3</th>\n",
       "      <td>Miltron</td>\n",
       "      <td>Flossbone</td>\n",
       "    </tr>\n",
       "    <tr>\n",
       "      <th>4</th>\n",
       "      <td>PERCIPIO BY SKILLSOFT</td>\n",
       "      <td>Britsa</td>\n",
       "    </tr>\n",
       "    <tr>\n",
       "      <th>...</th>\n",
       "      <td>...</td>\n",
       "      <td>...</td>\n",
       "    </tr>\n",
       "    <tr>\n",
       "      <th>195</th>\n",
       "      <td>Rad</td>\n",
       "      <td>WHEALTH HEALTH IS THE REAL WEALTH</td>\n",
       "    </tr>\n",
       "    <tr>\n",
       "      <th>196</th>\n",
       "      <td>Candey Parker</td>\n",
       "      <td>MILAN</td>\n",
       "    </tr>\n",
       "    <tr>\n",
       "      <th>197</th>\n",
       "      <td>GURU</td>\n",
       "      <td>UBS SMARTWEALTH</td>\n",
       "    </tr>\n",
       "    <tr>\n",
       "      <th>198</th>\n",
       "      <td>Nivalin</td>\n",
       "      <td>PAPA</td>\n",
       "    </tr>\n",
       "    <tr>\n",
       "      <th>199</th>\n",
       "      <td>RELATE</td>\n",
       "      <td>CONNECT AUTO</td>\n",
       "    </tr>\n",
       "  </tbody>\n",
       "</table>\n",
       "<p>200 rows × 2 columns</p>\n",
       "</div>"
      ],
      "text/plain": [
       "                      TM_A                               TM_B\n",
       "0            Platinum Plus                              Jaked\n",
       "1               ROOM SEVEN                    Willow Tree Gin\n",
       "2            DWELL STUDENT                            Tatadoo\n",
       "3                  Miltron                          Flossbone\n",
       "4    PERCIPIO BY SKILLSOFT                             Britsa\n",
       "..                     ...                                ...\n",
       "195                    Rad  WHEALTH HEALTH IS THE REAL WEALTH\n",
       "196          Candey Parker                              MILAN\n",
       "197                   GURU                    UBS SMARTWEALTH\n",
       "198                Nivalin                               PAPA\n",
       "199                 RELATE                       CONNECT AUTO\n",
       "\n",
       "[200 rows x 2 columns]"
      ]
     },
     "execution_count": 37,
     "metadata": {},
     "output_type": "execute_result"
    }
   ],
   "source": [
    "# Use combinatorics to generate negative class\n",
    "pos_cases = cases[cases['target'] == 1]\n",
    "\n",
    "case_names = pos_cases.loc[:, 'TM_A':'TM_B'].values.tolist()\n",
    "unique_cases = list(set([item for items in case_names for item in items]))\n",
    "alt_pairs = list(zip(pos_cases.TM_A, pos_cases.TM_B))+ list(zip(pos_cases.TM_B, pos_cases.TM_A))\n",
    "comb = list(combinations(unique_cases, 2))\n",
    "nonmatch_cases = list(set(comb) - set(alt_pairs))\n",
    "# Undersample the negative class for 1:4 class imbalance instead of 1:1000 extreme class imbalance\n",
    "nonmatch_cases = pd.DataFrame(random.choices(nonmatch_cases, k=200), columns=['TM_A', 'TM_B']) # Originally was 1200\n",
    "\n",
    "nonmatch_cases"
   ]
  },
  {
   "cell_type": "code",
   "execution_count": 38,
   "metadata": {},
   "outputs": [
    {
     "name": "stdout",
     "output_type": "stream",
     "text": [
      "positive class ratio 1:0\n"
     ]
    }
   ],
   "source": [
    "print('positive class ratio 1:{}'.format(int(len(nonmatch_cases)/len(pos_cases))))"
   ]
  },
  {
   "cell_type": "code",
   "execution_count": 39,
   "metadata": {},
   "outputs": [
    {
     "data": {
      "text/html": [
       "<div>\n",
       "<style scoped>\n",
       "    .dataframe tbody tr th:only-of-type {\n",
       "        vertical-align: middle;\n",
       "    }\n",
       "\n",
       "    .dataframe tbody tr th {\n",
       "        vertical-align: top;\n",
       "    }\n",
       "\n",
       "    .dataframe thead th {\n",
       "        text-align: right;\n",
       "    }\n",
       "</style>\n",
       "<table border=\"1\" class=\"dataframe\">\n",
       "  <thead>\n",
       "    <tr style=\"text-align: right;\">\n",
       "      <th></th>\n",
       "      <th>TM_A</th>\n",
       "      <th>TM_B</th>\n",
       "    </tr>\n",
       "  </thead>\n",
       "  <tbody>\n",
       "    <tr>\n",
       "      <th>180</th>\n",
       "      <td>Luted</td>\n",
       "      <td>Zero</td>\n",
       "    </tr>\n",
       "    <tr>\n",
       "      <th>136</th>\n",
       "      <td>Cresco</td>\n",
       "      <td>Sabis.</td>\n",
       "    </tr>\n",
       "    <tr>\n",
       "      <th>22</th>\n",
       "      <td>GREY FAMOUSLY EFFECTIVE</td>\n",
       "      <td>Curve</td>\n",
       "    </tr>\n",
       "    <tr>\n",
       "      <th>191</th>\n",
       "      <td>GORILLA</td>\n",
       "      <td>ELEGANT RESORTS</td>\n",
       "    </tr>\n",
       "    <tr>\n",
       "      <th>143</th>\n",
       "      <td>Lutetxal</td>\n",
       "      <td>Nature Research Society</td>\n",
       "    </tr>\n",
       "    <tr>\n",
       "      <th>77</th>\n",
       "      <td>ENVY</td>\n",
       "      <td>NERO EXPRESS</td>\n",
       "    </tr>\n",
       "    <tr>\n",
       "      <th>49</th>\n",
       "      <td>HORIZON</td>\n",
       "      <td>GARDEN PARTY HIRE</td>\n",
       "    </tr>\n",
       "    <tr>\n",
       "      <th>192</th>\n",
       "      <td>Nature Research Society</td>\n",
       "      <td>Snow Globe</td>\n",
       "    </tr>\n",
       "    <tr>\n",
       "      <th>61</th>\n",
       "      <td>DENIM</td>\n",
       "      <td>Gaziantep Pastanesi</td>\n",
       "    </tr>\n",
       "    <tr>\n",
       "      <th>53</th>\n",
       "      <td>Groundtruth</td>\n",
       "      <td>BLUE.COM</td>\n",
       "    </tr>\n",
       "    <tr>\n",
       "      <th>156</th>\n",
       "      <td>Mr. Rust</td>\n",
       "      <td>Permanize</td>\n",
       "    </tr>\n",
       "    <tr>\n",
       "      <th>172</th>\n",
       "      <td>Canvas Lifestyle Retirement Living</td>\n",
       "      <td>Inside</td>\n",
       "    </tr>\n",
       "    <tr>\n",
       "      <th>195</th>\n",
       "      <td>Rad</td>\n",
       "      <td>WHEALTH HEALTH IS THE REAL WEALTH</td>\n",
       "    </tr>\n",
       "    <tr>\n",
       "      <th>40</th>\n",
       "      <td>KINKCENTRAL</td>\n",
       "      <td>Shortlister</td>\n",
       "    </tr>\n",
       "    <tr>\n",
       "      <th>38</th>\n",
       "      <td>EPOLENE</td>\n",
       "      <td>AEG</td>\n",
       "    </tr>\n",
       "    <tr>\n",
       "      <th>20</th>\n",
       "      <td>Cresco</td>\n",
       "      <td>CONNECT.COM</td>\n",
       "    </tr>\n",
       "    <tr>\n",
       "      <th>145</th>\n",
       "      <td>PACIFIC</td>\n",
       "      <td>Shortlyster</td>\n",
       "    </tr>\n",
       "    <tr>\n",
       "      <th>36</th>\n",
       "      <td>Hypnotiq</td>\n",
       "      <td>GLENFIDDICH</td>\n",
       "    </tr>\n",
       "    <tr>\n",
       "      <th>166</th>\n",
       "      <td>WILD AND WOOD COFFEE HOUSE</td>\n",
       "      <td>BLEND IT MILKSHAKES</td>\n",
       "    </tr>\n",
       "    <tr>\n",
       "      <th>110</th>\n",
       "      <td>KERV</td>\n",
       "      <td>Canvas Homes</td>\n",
       "    </tr>\n",
       "  </tbody>\n",
       "</table>\n",
       "</div>"
      ],
      "text/plain": [
       "                                   TM_A                               TM_B\n",
       "180                               Luted                               Zero\n",
       "136                              Cresco                             Sabis.\n",
       "22              GREY FAMOUSLY EFFECTIVE                              Curve\n",
       "191                             GORILLA                    ELEGANT RESORTS\n",
       "143                            Lutetxal            Nature Research Society\n",
       "77                                 ENVY                       NERO EXPRESS\n",
       "49                              HORIZON                  GARDEN PARTY HIRE\n",
       "192             Nature Research Society                         Snow Globe\n",
       "61                                DENIM                Gaziantep Pastanesi\n",
       "53                          Groundtruth                           BLUE.COM\n",
       "156                            Mr. Rust                          Permanize\n",
       "172  Canvas Lifestyle Retirement Living                             Inside\n",
       "195                                 Rad  WHEALTH HEALTH IS THE REAL WEALTH\n",
       "40                          KINKCENTRAL                        Shortlister\n",
       "38                              EPOLENE                                AEG\n",
       "20                               Cresco                        CONNECT.COM\n",
       "145                             PACIFIC                        Shortlyster\n",
       "36                             Hypnotiq                        GLENFIDDICH\n",
       "166          WILD AND WOOD COFFEE HOUSE                BLEND IT MILKSHAKES\n",
       "110                                KERV                       Canvas Homes"
      ]
     },
     "execution_count": 39,
     "metadata": {},
     "output_type": "execute_result"
    }
   ],
   "source": [
    "nonmatch_cases.sample(20)"
   ]
  },
  {
   "cell_type": "code",
   "execution_count": 40,
   "metadata": {},
   "outputs": [
    {
     "data": {
      "text/html": [
       "<div>\n",
       "<style scoped>\n",
       "    .dataframe tbody tr th:only-of-type {\n",
       "        vertical-align: middle;\n",
       "    }\n",
       "\n",
       "    .dataframe tbody tr th {\n",
       "        vertical-align: top;\n",
       "    }\n",
       "\n",
       "    .dataframe thead th {\n",
       "        text-align: right;\n",
       "    }\n",
       "</style>\n",
       "<table border=\"1\" class=\"dataframe\">\n",
       "  <thead>\n",
       "    <tr style=\"text-align: right;\">\n",
       "      <th></th>\n",
       "      <th>TM_A</th>\n",
       "      <th>TM_B</th>\n",
       "      <th>target</th>\n",
       "    </tr>\n",
       "  </thead>\n",
       "  <tbody>\n",
       "    <tr>\n",
       "      <th>0</th>\n",
       "      <td>Simoniz</td>\n",
       "      <td>Permanize</td>\n",
       "      <td>1</td>\n",
       "    </tr>\n",
       "    <tr>\n",
       "      <th>1</th>\n",
       "      <td>Magnavoc</td>\n",
       "      <td>Multivox</td>\n",
       "      <td>1</td>\n",
       "    </tr>\n",
       "    <tr>\n",
       "      <th>2</th>\n",
       "      <td>Zirco</td>\n",
       "      <td>Cozirc</td>\n",
       "      <td>1</td>\n",
       "    </tr>\n",
       "    <tr>\n",
       "      <th>3</th>\n",
       "      <td>Platinum Puff</td>\n",
       "      <td>Platinum Plus</td>\n",
       "      <td>1</td>\n",
       "    </tr>\n",
       "    <tr>\n",
       "      <th>4</th>\n",
       "      <td>Maternity Yours</td>\n",
       "      <td>Your Maternity Shop</td>\n",
       "      <td>1</td>\n",
       "    </tr>\n",
       "    <tr>\n",
       "      <th>...</th>\n",
       "      <td>...</td>\n",
       "      <td>...</td>\n",
       "      <td>...</td>\n",
       "    </tr>\n",
       "    <tr>\n",
       "      <th>352</th>\n",
       "      <td>Lilton</td>\n",
       "      <td>Wilton</td>\n",
       "      <td>0</td>\n",
       "    </tr>\n",
       "    <tr>\n",
       "      <th>353</th>\n",
       "      <td>Nutricia</td>\n",
       "      <td>Nutritea</td>\n",
       "      <td>0</td>\n",
       "    </tr>\n",
       "    <tr>\n",
       "      <th>354</th>\n",
       "      <td>Glenreidh</td>\n",
       "      <td>An Reidhe</td>\n",
       "      <td>0</td>\n",
       "    </tr>\n",
       "    <tr>\n",
       "      <th>355</th>\n",
       "      <td>No Gunk No Junk</td>\n",
       "      <td>No Gunk Just Funk</td>\n",
       "      <td>0</td>\n",
       "    </tr>\n",
       "    <tr>\n",
       "      <th>356</th>\n",
       "      <td>e-Relief</td>\n",
       "      <td>LIGHT RELIEF</td>\n",
       "      <td>0</td>\n",
       "    </tr>\n",
       "  </tbody>\n",
       "</table>\n",
       "<p>557 rows × 3 columns</p>\n",
       "</div>"
      ],
      "text/plain": [
       "                TM_A                 TM_B  target\n",
       "0            Simoniz            Permanize       1\n",
       "1           Magnavoc             Multivox       1\n",
       "2              Zirco               Cozirc       1\n",
       "3      Platinum Puff        Platinum Plus       1\n",
       "4    Maternity Yours  Your Maternity Shop       1\n",
       "..               ...                  ...     ...\n",
       "352           Lilton               Wilton       0\n",
       "353         Nutricia             Nutritea       0\n",
       "354        Glenreidh            An Reidhe       0\n",
       "355  No Gunk No Junk    No Gunk Just Funk       0\n",
       "356         e-Relief         LIGHT RELIEF       0\n",
       "\n",
       "[557 rows x 3 columns]"
      ]
     },
     "execution_count": 40,
     "metadata": {},
     "output_type": "execute_result"
    }
   ],
   "source": [
    "# Negative Class\n",
    "nonmatch_cases['target'] = 0\n",
    "df = pd.concat([pos_cases, nonmatch_cases])\n",
    "# non_match_cases = None\n",
    "# pos_cases = None\n",
    "\n",
    "# Add true negatives\n",
    "neg_cases = cases[cases['target'] == 0]\n",
    "class_balanced = pd.concat([df, neg_cases])\n",
    "\n",
    "class_balanced.sample(20)\n",
    "\n",
    "class_balanced\n",
    "\n",
    "# class_balanced[class_balanced['TM_B'].str.len()!=0]\n"
   ]
  },
  {
   "cell_type": "code",
   "execution_count": 86,
   "metadata": {},
   "outputs": [
    {
     "data": {
      "image/png": "[encoded data removed]",
      "text/plain": [
       "<Figure size 432x288 with 1 Axes>"
      ]
     },
     "metadata": {
      "needs_background": "light"
     },
     "output_type": "display_data"
    }
   ],
   "source": [
    "class_balanced['target'].value_counts()[:2].plot(kind='bar')\n",
    "\n",
    "# plt.savefig('TM_Balanced.png', dpi = 300)"
   ]
  },
  {
   "cell_type": "code",
   "execution_count": 50,
   "metadata": {},
   "outputs": [
    {
     "name": "stderr",
     "output_type": "stream",
     "text": [
      "/Users/seannguyen/opt/anaconda3/lib/python3.8/site-packages/tqdm/std.py:668: FutureWarning: The Panel class is removed from pandas. Accessing it from the top-level namespace will also be removed in the next version\n",
      "  from pandas import Panel\n"
     ]
    },
    {
     "data": {
      "application/vnd.jupyter.widget-view+json": {
       "model_id": "7073f44754de4fd6a14d54d852fe9207",
       "version_major": 2,
       "version_minor": 0
      },
      "text/plain": [
       "HBox(children=(FloatProgress(value=0.0, max=557.0), HTML(value='')))"
      ]
     },
     "metadata": {},
     "output_type": "display_data"
    },
    {
     "name": "stdout",
     "output_type": "stream",
     "text": [
      "\n"
     ]
    },
    {
     "data": {
      "application/vnd.jupyter.widget-view+json": {
       "model_id": "ca01e7edd22a43e68d60a36df2fa0bca",
       "version_major": 2,
       "version_minor": 0
      },
      "text/plain": [
       "HBox(children=(FloatProgress(value=0.0, max=557.0), HTML(value='')))"
      ]
     },
     "metadata": {},
     "output_type": "display_data"
    },
    {
     "name": "stdout",
     "output_type": "stream",
     "text": [
      "\n"
     ]
    },
    {
     "data": {
      "application/vnd.jupyter.widget-view+json": {
       "model_id": "5a89f187227f4ce98367e1d6620a2246",
       "version_major": 2,
       "version_minor": 0
      },
      "text/plain": [
       "HBox(children=(FloatProgress(value=0.0, max=557.0), HTML(value='')))"
      ]
     },
     "metadata": {},
     "output_type": "display_data"
    },
    {
     "name": "stdout",
     "output_type": "stream",
     "text": [
      "\n"
     ]
    },
    {
     "data": {
      "application/vnd.jupyter.widget-view+json": {
       "model_id": "e66f07cd6c6e46bd8f879cd97ee81abb",
       "version_major": 2,
       "version_minor": 0
      },
      "text/plain": [
       "HBox(children=(FloatProgress(value=0.0, max=557.0), HTML(value='')))"
      ]
     },
     "metadata": {},
     "output_type": "display_data"
    },
    {
     "name": "stdout",
     "output_type": "stream",
     "text": [
      "\n"
     ]
    },
    {
     "data": {
      "application/vnd.jupyter.widget-view+json": {
       "model_id": "2b79887460b5427abfa0e40c67f7e8f4",
       "version_major": 2,
       "version_minor": 0
      },
      "text/plain": [
       "HBox(children=(FloatProgress(value=0.0, max=557.0), HTML(value='')))"
      ]
     },
     "metadata": {},
     "output_type": "display_data"
    },
    {
     "name": "stdout",
     "output_type": "stream",
     "text": [
      "\n"
     ]
    },
    {
     "data": {
      "application/vnd.jupyter.widget-view+json": {
       "model_id": "7eba98ba91484de2bdb0b69d73ab3e64",
       "version_major": 2,
       "version_minor": 0
      },
      "text/plain": [
       "HBox(children=(FloatProgress(value=0.0, max=557.0), HTML(value='')))"
      ]
     },
     "metadata": {},
     "output_type": "display_data"
    },
    {
     "name": "stdout",
     "output_type": "stream",
     "text": [
      "\n"
     ]
    },
    {
     "data": {
      "application/vnd.jupyter.widget-view+json": {
       "model_id": "b9ffc9458ab947cd9f0ff1f22ca04e44",
       "version_major": 2,
       "version_minor": 0
      },
      "text/plain": [
       "HBox(children=(FloatProgress(value=0.0, max=557.0), HTML(value='')))"
      ]
     },
     "metadata": {},
     "output_type": "display_data"
    },
    {
     "name": "stdout",
     "output_type": "stream",
     "text": [
      "\n"
     ]
    },
    {
     "data": {
      "application/vnd.jupyter.widget-view+json": {
       "model_id": "6efdcdbab11c42d9a3887e3417f5b3a8",
       "version_major": 2,
       "version_minor": 0
      },
      "text/plain": [
       "HBox(children=(FloatProgress(value=0.0, max=557.0), HTML(value='')))"
      ]
     },
     "metadata": {},
     "output_type": "display_data"
    },
    {
     "name": "stdout",
     "output_type": "stream",
     "text": [
      "\n"
     ]
    },
    {
     "data": {
      "application/vnd.jupyter.widget-view+json": {
       "model_id": "c1810735d8c547198bbe39d748975fc4",
       "version_major": 2,
       "version_minor": 0
      },
      "text/plain": [
       "HBox(children=(FloatProgress(value=0.0, max=557.0), HTML(value='')))"
      ]
     },
     "metadata": {},
     "output_type": "display_data"
    },
    {
     "name": "stdout",
     "output_type": "stream",
     "text": [
      "\n"
     ]
    },
    {
     "data": {
      "application/vnd.jupyter.widget-view+json": {
       "model_id": "2cdc2f3976cf49c297f707ebd948782f",
       "version_major": 2,
       "version_minor": 0
      },
      "text/plain": [
       "HBox(children=(FloatProgress(value=0.0, max=557.0), HTML(value='')))"
      ]
     },
     "metadata": {},
     "output_type": "display_data"
    },
    {
     "name": "stdout",
     "output_type": "stream",
     "text": [
      "\n"
     ]
    },
    {
     "data": {
      "application/vnd.jupyter.widget-view+json": {
       "model_id": "0af40000e0c548e39b76414c755e4a46",
       "version_major": 2,
       "version_minor": 0
      },
      "text/plain": [
       "HBox(children=(FloatProgress(value=0.0, max=557.0), HTML(value='')))"
      ]
     },
     "metadata": {},
     "output_type": "display_data"
    },
    {
     "name": "stdout",
     "output_type": "stream",
     "text": [
      "\n"
     ]
    },
    {
     "data": {
      "application/vnd.jupyter.widget-view+json": {
       "model_id": "862a74db430d4d21ab88faf3bb2ba724",
       "version_major": 2,
       "version_minor": 0
      },
      "text/plain": [
       "HBox(children=(FloatProgress(value=0.0, max=557.0), HTML(value='')))"
      ]
     },
     "metadata": {},
     "output_type": "display_data"
    },
    {
     "name": "stdout",
     "output_type": "stream",
     "text": [
      "\n"
     ]
    },
    {
     "data": {
      "application/vnd.jupyter.widget-view+json": {
       "model_id": "c4ae0db9dbe9467cad7cca23f4a1758b",
       "version_major": 2,
       "version_minor": 0
      },
      "text/plain": [
       "HBox(children=(FloatProgress(value=0.0, max=557.0), HTML(value='')))"
      ]
     },
     "metadata": {},
     "output_type": "display_data"
    },
    {
     "name": "stdout",
     "output_type": "stream",
     "text": [
      "\n"
     ]
    },
    {
     "data": {
      "application/vnd.jupyter.widget-view+json": {
       "model_id": "f4e7c88cbc844b22979cfe40bced27b2",
       "version_major": 2,
       "version_minor": 0
      },
      "text/plain": [
       "HBox(children=(FloatProgress(value=0.0, max=557.0), HTML(value='')))"
      ]
     },
     "metadata": {},
     "output_type": "display_data"
    },
    {
     "name": "stdout",
     "output_type": "stream",
     "text": [
      "\n"
     ]
    },
    {
     "data": {
      "application/vnd.jupyter.widget-view+json": {
       "model_id": "a8f615a514634500865f3a63d87a0bd0",
       "version_major": 2,
       "version_minor": 0
      },
      "text/plain": [
       "HBox(children=(FloatProgress(value=0.0, max=557.0), HTML(value='')))"
      ]
     },
     "metadata": {},
     "output_type": "display_data"
    },
    {
     "name": "stdout",
     "output_type": "stream",
     "text": [
      "\n"
     ]
    },
    {
     "data": {
      "application/vnd.jupyter.widget-view+json": {
       "model_id": "d5009fb5e23a4b65b64b03034b37d793",
       "version_major": 2,
       "version_minor": 0
      },
      "text/plain": [
       "HBox(children=(FloatProgress(value=0.0, max=557.0), HTML(value='')))"
      ]
     },
     "metadata": {},
     "output_type": "display_data"
    },
    {
     "name": "stdout",
     "output_type": "stream",
     "text": [
      "\n"
     ]
    },
    {
     "data": {
      "application/vnd.jupyter.widget-view+json": {
       "model_id": "02a9858e67e343279f19576ff133b309",
       "version_major": 2,
       "version_minor": 0
      },
      "text/plain": [
       "HBox(children=(FloatProgress(value=0.0, max=557.0), HTML(value='')))"
      ]
     },
     "metadata": {},
     "output_type": "display_data"
    },
    {
     "name": "stdout",
     "output_type": "stream",
     "text": [
      "\n"
     ]
    },
    {
     "data": {
      "text/html": [
       "<div>\n",
       "<style scoped>\n",
       "    .dataframe tbody tr th:only-of-type {\n",
       "        vertical-align: middle;\n",
       "    }\n",
       "\n",
       "    .dataframe tbody tr th {\n",
       "        vertical-align: top;\n",
       "    }\n",
       "\n",
       "    .dataframe thead th {\n",
       "        text-align: right;\n",
       "    }\n",
       "</style>\n",
       "<table border=\"1\" class=\"dataframe\">\n",
       "  <thead>\n",
       "    <tr style=\"text-align: right;\">\n",
       "      <th></th>\n",
       "      <th>a</th>\n",
       "      <th>b</th>\n",
       "      <th>target</th>\n",
       "      <th>TM_A</th>\n",
       "      <th>TM_B</th>\n",
       "      <th>partial</th>\n",
       "      <th>tkn_sort</th>\n",
       "      <th>tkn_set</th>\n",
       "      <th>levenshtein</th>\n",
       "      <th>metaphone</th>\n",
       "      <th>...</th>\n",
       "      <th>mra</th>\n",
       "      <th>editex</th>\n",
       "      <th>saps</th>\n",
       "      <th>flexmetric</th>\n",
       "      <th>jaro</th>\n",
       "      <th>higueramico</th>\n",
       "      <th>sift4</th>\n",
       "      <th>eudex</th>\n",
       "      <th>aline</th>\n",
       "      <th>phoneticeditdistance</th>\n",
       "    </tr>\n",
       "  </thead>\n",
       "  <tbody>\n",
       "    <tr>\n",
       "      <th>88</th>\n",
       "      <td>RedInside</td>\n",
       "      <td>Inside</td>\n",
       "      <td>1</td>\n",
       "      <td>redinside</td>\n",
       "      <td>inside</td>\n",
       "      <td>100</td>\n",
       "      <td>80</td>\n",
       "      <td>80</td>\n",
       "      <td>0.088235</td>\n",
       "      <td>0</td>\n",
       "      <td>...</td>\n",
       "      <td>0.666667</td>\n",
       "      <td>0.666667</td>\n",
       "      <td>0.275862</td>\n",
       "      <td>0.794444</td>\n",
       "      <td>0.777778</td>\n",
       "      <td>0.621032</td>\n",
       "      <td>0.666667</td>\n",
       "      <td>0.676471</td>\n",
       "      <td>0.638298</td>\n",
       "      <td>0.666667</td>\n",
       "    </tr>\n",
       "    <tr>\n",
       "      <th>145</th>\n",
       "      <td>WINSTON</td>\n",
       "      <td>DUNSTON</td>\n",
       "      <td>1</td>\n",
       "      <td>winston</td>\n",
       "      <td>dunston</td>\n",
       "      <td>71</td>\n",
       "      <td>71</td>\n",
       "      <td>71</td>\n",
       "      <td>0.058824</td>\n",
       "      <td>0</td>\n",
       "      <td>...</td>\n",
       "      <td>0.833333</td>\n",
       "      <td>0.785714</td>\n",
       "      <td>0.545455</td>\n",
       "      <td>0.742857</td>\n",
       "      <td>0.809524</td>\n",
       "      <td>0.714286</td>\n",
       "      <td>0.714286</td>\n",
       "      <td>0.858824</td>\n",
       "      <td>0.853659</td>\n",
       "      <td>0.928571</td>\n",
       "    </tr>\n",
       "    <tr>\n",
       "      <th>37</th>\n",
       "      <td>INVESTED. TOGETHER.</td>\n",
       "      <td>GREYBOX</td>\n",
       "      <td>0</td>\n",
       "      <td>investedtogether</td>\n",
       "      <td>greybox</td>\n",
       "      <td>29</td>\n",
       "      <td>17</td>\n",
       "      <td>17</td>\n",
       "      <td>0.411765</td>\n",
       "      <td>0</td>\n",
       "      <td>...</td>\n",
       "      <td>0.000000</td>\n",
       "      <td>0.218750</td>\n",
       "      <td>0.000000</td>\n",
       "      <td>0.381250</td>\n",
       "      <td>0.470238</td>\n",
       "      <td>0.000000</td>\n",
       "      <td>0.125000</td>\n",
       "      <td>0.472549</td>\n",
       "      <td>0.182955</td>\n",
       "      <td>0.391129</td>\n",
       "    </tr>\n",
       "    <tr>\n",
       "      <th>170</th>\n",
       "      <td>Horse of London</td>\n",
       "      <td>WHEALTH HEALTH IS THE REAL WEALTH</td>\n",
       "      <td>0</td>\n",
       "      <td>horseoflondon</td>\n",
       "      <td>whealthhealthistherealwealth</td>\n",
       "      <td>31</td>\n",
       "      <td>20</td>\n",
       "      <td>20</td>\n",
       "      <td>0.705882</td>\n",
       "      <td>0</td>\n",
       "      <td>...</td>\n",
       "      <td>0.000000</td>\n",
       "      <td>0.339286</td>\n",
       "      <td>0.000000</td>\n",
       "      <td>0.419643</td>\n",
       "      <td>0.400183</td>\n",
       "      <td>0.000000</td>\n",
       "      <td>0.107143</td>\n",
       "      <td>0.806863</td>\n",
       "      <td>0.179054</td>\n",
       "      <td>0.421659</td>\n",
       "    </tr>\n",
       "    <tr>\n",
       "      <th>253</th>\n",
       "      <td>DIXIE UNION</td>\n",
       "      <td>DIXY CHICKEN</td>\n",
       "      <td>1</td>\n",
       "      <td>dixieunion</td>\n",
       "      <td>dixychicken</td>\n",
       "      <td>50</td>\n",
       "      <td>57</td>\n",
       "      <td>57</td>\n",
       "      <td>0.205882</td>\n",
       "      <td>0</td>\n",
       "      <td>...</td>\n",
       "      <td>0.000000</td>\n",
       "      <td>0.545455</td>\n",
       "      <td>0.161290</td>\n",
       "      <td>0.618182</td>\n",
       "      <td>0.651515</td>\n",
       "      <td>0.409091</td>\n",
       "      <td>0.454545</td>\n",
       "      <td>0.878431</td>\n",
       "      <td>0.442623</td>\n",
       "      <td>0.781525</td>\n",
       "    </tr>\n",
       "    <tr>\n",
       "      <th>275</th>\n",
       "      <td>MILAN</td>\n",
       "      <td>MILAN SWEETS</td>\n",
       "      <td>1</td>\n",
       "      <td>milan</td>\n",
       "      <td>milansweets</td>\n",
       "      <td>100</td>\n",
       "      <td>62</td>\n",
       "      <td>62</td>\n",
       "      <td>0.176471</td>\n",
       "      <td>0</td>\n",
       "      <td>...</td>\n",
       "      <td>0.000000</td>\n",
       "      <td>0.590909</td>\n",
       "      <td>0.083333</td>\n",
       "      <td>0.645455</td>\n",
       "      <td>0.818182</td>\n",
       "      <td>0.263456</td>\n",
       "      <td>0.454545</td>\n",
       "      <td>0.904902</td>\n",
       "      <td>0.473684</td>\n",
       "      <td>0.454545</td>\n",
       "    </tr>\n",
       "    <tr>\n",
       "      <th>168</th>\n",
       "      <td>Panadol</td>\n",
       "      <td>Fizz Fitness</td>\n",
       "      <td>0</td>\n",
       "      <td>panadol</td>\n",
       "      <td>fizzfitness</td>\n",
       "      <td>14</td>\n",
       "      <td>11</td>\n",
       "      <td>11</td>\n",
       "      <td>0.323529</td>\n",
       "      <td>0</td>\n",
       "      <td>...</td>\n",
       "      <td>0.000000</td>\n",
       "      <td>0.409091</td>\n",
       "      <td>0.000000</td>\n",
       "      <td>0.359091</td>\n",
       "      <td>0.000000</td>\n",
       "      <td>0.000000</td>\n",
       "      <td>0.000000</td>\n",
       "      <td>0.691176</td>\n",
       "      <td>0.243077</td>\n",
       "      <td>0.568915</td>\n",
       "    </tr>\n",
       "    <tr>\n",
       "      <th>198</th>\n",
       "      <td>Nivalin</td>\n",
       "      <td>PAPA</td>\n",
       "      <td>0</td>\n",
       "      <td>nivalin</td>\n",
       "      <td>papa</td>\n",
       "      <td>25</td>\n",
       "      <td>18</td>\n",
       "      <td>18</td>\n",
       "      <td>0.176471</td>\n",
       "      <td>0</td>\n",
       "      <td>...</td>\n",
       "      <td>0.000000</td>\n",
       "      <td>0.285714</td>\n",
       "      <td>0.000000</td>\n",
       "      <td>0.171429</td>\n",
       "      <td>0.464286</td>\n",
       "      <td>0.061905</td>\n",
       "      <td>0.142857</td>\n",
       "      <td>0.765686</td>\n",
       "      <td>0.186486</td>\n",
       "      <td>0.502304</td>\n",
       "    </tr>\n",
       "    <tr>\n",
       "      <th>164</th>\n",
       "      <td>Amberstone</td>\n",
       "      <td>Fizz Fitness</td>\n",
       "      <td>0</td>\n",
       "      <td>amberstone</td>\n",
       "      <td>fizzfitness</td>\n",
       "      <td>30</td>\n",
       "      <td>29</td>\n",
       "      <td>29</td>\n",
       "      <td>0.264706</td>\n",
       "      <td>0</td>\n",
       "      <td>...</td>\n",
       "      <td>0.000000</td>\n",
       "      <td>0.272727</td>\n",
       "      <td>0.000000</td>\n",
       "      <td>0.318182</td>\n",
       "      <td>0.421212</td>\n",
       "      <td>0.242424</td>\n",
       "      <td>0.272727</td>\n",
       "      <td>0.576471</td>\n",
       "      <td>0.398462</td>\n",
       "      <td>0.687683</td>\n",
       "    </tr>\n",
       "    <tr>\n",
       "      <th>64</th>\n",
       "      <td>Hypnotiq</td>\n",
       "      <td>FWDVIEW</td>\n",
       "      <td>0</td>\n",
       "      <td>hypnotiq</td>\n",
       "      <td>fwdview</td>\n",
       "      <td>14</td>\n",
       "      <td>13</td>\n",
       "      <td>13</td>\n",
       "      <td>0.235294</td>\n",
       "      <td>0</td>\n",
       "      <td>...</td>\n",
       "      <td>0.000000</td>\n",
       "      <td>0.187500</td>\n",
       "      <td>0.000000</td>\n",
       "      <td>0.212500</td>\n",
       "      <td>0.422619</td>\n",
       "      <td>0.097222</td>\n",
       "      <td>0.125000</td>\n",
       "      <td>0.835294</td>\n",
       "      <td>0.263636</td>\n",
       "      <td>0.721774</td>\n",
       "    </tr>\n",
       "    <tr>\n",
       "      <th>65</th>\n",
       "      <td>GUSTO</td>\n",
       "      <td>PEAK ROCK CAPITAL</td>\n",
       "      <td>0</td>\n",
       "      <td>gusto</td>\n",
       "      <td>peakrockcapital</td>\n",
       "      <td>20</td>\n",
       "      <td>10</td>\n",
       "      <td>10</td>\n",
       "      <td>0.411765</td>\n",
       "      <td>0</td>\n",
       "      <td>...</td>\n",
       "      <td>0.000000</td>\n",
       "      <td>0.233333</td>\n",
       "      <td>0.000000</td>\n",
       "      <td>0.230000</td>\n",
       "      <td>0.422222</td>\n",
       "      <td>0.000000</td>\n",
       "      <td>0.066667</td>\n",
       "      <td>0.808824</td>\n",
       "      <td>0.228395</td>\n",
       "      <td>0.301075</td>\n",
       "    </tr>\n",
       "    <tr>\n",
       "      <th>48</th>\n",
       "      <td>Nature Research Society</td>\n",
       "      <td>Nature Research</td>\n",
       "      <td>1</td>\n",
       "      <td>natureresearchsociety</td>\n",
       "      <td>natureresearch</td>\n",
       "      <td>100</td>\n",
       "      <td>80</td>\n",
       "      <td>80</td>\n",
       "      <td>0.205882</td>\n",
       "      <td>0</td>\n",
       "      <td>...</td>\n",
       "      <td>0.500000</td>\n",
       "      <td>0.714286</td>\n",
       "      <td>0.507042</td>\n",
       "      <td>0.747619</td>\n",
       "      <td>0.888889</td>\n",
       "      <td>0.606204</td>\n",
       "      <td>0.666667</td>\n",
       "      <td>1.000000</td>\n",
       "      <td>0.691589</td>\n",
       "      <td>0.666667</td>\n",
       "    </tr>\n",
       "    <tr>\n",
       "      <th>345</th>\n",
       "      <td>ECOTINT</td>\n",
       "      <td>DecoTint</td>\n",
       "      <td>0</td>\n",
       "      <td>ecotint</td>\n",
       "      <td>decotint</td>\n",
       "      <td>100</td>\n",
       "      <td>93</td>\n",
       "      <td>93</td>\n",
       "      <td>0.029412</td>\n",
       "      <td>0</td>\n",
       "      <td>...</td>\n",
       "      <td>0.833333</td>\n",
       "      <td>0.875000</td>\n",
       "      <td>0.642857</td>\n",
       "      <td>0.950000</td>\n",
       "      <td>0.958333</td>\n",
       "      <td>0.875000</td>\n",
       "      <td>0.875000</td>\n",
       "      <td>0.749020</td>\n",
       "      <td>0.840909</td>\n",
       "      <td>0.875000</td>\n",
       "    </tr>\n",
       "    <tr>\n",
       "      <th>178</th>\n",
       "      <td>Miltron</td>\n",
       "      <td>Harry’s Bar</td>\n",
       "      <td>0</td>\n",
       "      <td>miltron</td>\n",
       "      <td>harrysbar</td>\n",
       "      <td>14</td>\n",
       "      <td>12</td>\n",
       "      <td>12</td>\n",
       "      <td>0.264706</td>\n",
       "      <td>0</td>\n",
       "      <td>...</td>\n",
       "      <td>0.000000</td>\n",
       "      <td>0.277778</td>\n",
       "      <td>0.000000</td>\n",
       "      <td>0.250000</td>\n",
       "      <td>0.417989</td>\n",
       "      <td>0.063889</td>\n",
       "      <td>0.111111</td>\n",
       "      <td>0.783824</td>\n",
       "      <td>0.231373</td>\n",
       "      <td>0.677419</td>\n",
       "    </tr>\n",
       "    <tr>\n",
       "      <th>355</th>\n",
       "      <td>No Gunk No Junk</td>\n",
       "      <td>No Gunk Just Funk</td>\n",
       "      <td>0</td>\n",
       "      <td>nogunknojunk</td>\n",
       "      <td>nogunkjustfunk</td>\n",
       "      <td>67</td>\n",
       "      <td>77</td>\n",
       "      <td>77</td>\n",
       "      <td>0.147059</td>\n",
       "      <td>0</td>\n",
       "      <td>...</td>\n",
       "      <td>0.833333</td>\n",
       "      <td>0.678571</td>\n",
       "      <td>0.469388</td>\n",
       "      <td>0.700000</td>\n",
       "      <td>0.815873</td>\n",
       "      <td>0.637363</td>\n",
       "      <td>0.714286</td>\n",
       "      <td>0.995588</td>\n",
       "      <td>0.713415</td>\n",
       "      <td>0.808756</td>\n",
       "    </tr>\n",
       "    <tr>\n",
       "      <th>315</th>\n",
       "      <td>Amigos</td>\n",
       "      <td>CASAMIGOS</td>\n",
       "      <td>0</td>\n",
       "      <td>amigos</td>\n",
       "      <td>casamigos</td>\n",
       "      <td>100</td>\n",
       "      <td>80</td>\n",
       "      <td>80</td>\n",
       "      <td>0.088235</td>\n",
       "      <td>0</td>\n",
       "      <td>...</td>\n",
       "      <td>0.666667</td>\n",
       "      <td>0.666667</td>\n",
       "      <td>0.275862</td>\n",
       "      <td>0.733333</td>\n",
       "      <td>0.777778</td>\n",
       "      <td>0.621032</td>\n",
       "      <td>0.666667</td>\n",
       "      <td>0.821569</td>\n",
       "      <td>0.638298</td>\n",
       "      <td>0.666667</td>\n",
       "    </tr>\n",
       "    <tr>\n",
       "      <th>158</th>\n",
       "      <td>EPOLENE</td>\n",
       "      <td>Reprolene</td>\n",
       "      <td>1</td>\n",
       "      <td>epolene</td>\n",
       "      <td>reprolene</td>\n",
       "      <td>86</td>\n",
       "      <td>88</td>\n",
       "      <td>88</td>\n",
       "      <td>0.058824</td>\n",
       "      <td>0</td>\n",
       "      <td>...</td>\n",
       "      <td>0.666667</td>\n",
       "      <td>0.777778</td>\n",
       "      <td>0.310345</td>\n",
       "      <td>0.788889</td>\n",
       "      <td>0.925926</td>\n",
       "      <td>0.763889</td>\n",
       "      <td>0.777778</td>\n",
       "      <td>0.773529</td>\n",
       "      <td>0.659574</td>\n",
       "      <td>0.777778</td>\n",
       "    </tr>\n",
       "    <tr>\n",
       "      <th>106</th>\n",
       "      <td>RAW AUTOMATIVE</td>\n",
       "      <td>LOCO</td>\n",
       "      <td>0</td>\n",
       "      <td>rawautomative</td>\n",
       "      <td>loco</td>\n",
       "      <td>25</td>\n",
       "      <td>12</td>\n",
       "      <td>12</td>\n",
       "      <td>0.352941</td>\n",
       "      <td>0</td>\n",
       "      <td>...</td>\n",
       "      <td>0.000000</td>\n",
       "      <td>0.230769</td>\n",
       "      <td>0.000000</td>\n",
       "      <td>0.242308</td>\n",
       "      <td>0.442308</td>\n",
       "      <td>0.000000</td>\n",
       "      <td>0.076923</td>\n",
       "      <td>0.868137</td>\n",
       "      <td>0.194915</td>\n",
       "      <td>0.284119</td>\n",
       "    </tr>\n",
       "    <tr>\n",
       "      <th>10</th>\n",
       "      <td>WOODMAN</td>\n",
       "      <td>TRINSIC</td>\n",
       "      <td>0</td>\n",
       "      <td>woodman</td>\n",
       "      <td>trinsic</td>\n",
       "      <td>14</td>\n",
       "      <td>14</td>\n",
       "      <td>14</td>\n",
       "      <td>0.205882</td>\n",
       "      <td>0</td>\n",
       "      <td>...</td>\n",
       "      <td>0.000000</td>\n",
       "      <td>0.142857</td>\n",
       "      <td>0.000000</td>\n",
       "      <td>0.128571</td>\n",
       "      <td>0.000000</td>\n",
       "      <td>0.027778</td>\n",
       "      <td>0.142857</td>\n",
       "      <td>0.740196</td>\n",
       "      <td>0.241463</td>\n",
       "      <td>0.739631</td>\n",
       "    </tr>\n",
       "    <tr>\n",
       "      <th>161</th>\n",
       "      <td>DG’S</td>\n",
       "      <td>DG FASHION</td>\n",
       "      <td>1</td>\n",
       "      <td>dgs</td>\n",
       "      <td>dgfashion</td>\n",
       "      <td>67</td>\n",
       "      <td>50</td>\n",
       "      <td>50</td>\n",
       "      <td>0.176471</td>\n",
       "      <td>0</td>\n",
       "      <td>...</td>\n",
       "      <td>0.000000</td>\n",
       "      <td>0.444444</td>\n",
       "      <td>0.068966</td>\n",
       "      <td>0.405556</td>\n",
       "      <td>0.777778</td>\n",
       "      <td>0.004365</td>\n",
       "      <td>0.333333</td>\n",
       "      <td>0.924510</td>\n",
       "      <td>0.396078</td>\n",
       "      <td>0.333333</td>\n",
       "    </tr>\n",
       "  </tbody>\n",
       "</table>\n",
       "<p>20 rows × 30 columns</p>\n",
       "</div>"
      ],
      "text/plain": [
       "                           a                                  b  target  \\\n",
       "88                 RedInside                             Inside       1   \n",
       "145                  WINSTON                            DUNSTON       1   \n",
       "37       INVESTED. TOGETHER.                            GREYBOX       0   \n",
       "170          Horse of London  WHEALTH HEALTH IS THE REAL WEALTH       0   \n",
       "253              DIXIE UNION                       DIXY CHICKEN       1   \n",
       "275                    MILAN                       MILAN SWEETS       1   \n",
       "168                  Panadol                      Fizz Fitness        0   \n",
       "198                  Nivalin                               PAPA       0   \n",
       "164               Amberstone                      Fizz Fitness        0   \n",
       "64                  Hypnotiq                            FWDVIEW       0   \n",
       "65                     GUSTO                  PEAK ROCK CAPITAL       0   \n",
       "48   Nature Research Society                    Nature Research       1   \n",
       "345                  ECOTINT                           DecoTint       0   \n",
       "178                  Miltron                        Harry’s Bar       0   \n",
       "355          No Gunk No Junk                  No Gunk Just Funk       0   \n",
       "315                   Amigos                          CASAMIGOS       0   \n",
       "158                  EPOLENE                          Reprolene       1   \n",
       "106           RAW AUTOMATIVE                               LOCO       0   \n",
       "10                   WOODMAN                            TRINSIC       0   \n",
       "161                     DG’S                         DG FASHION       1   \n",
       "\n",
       "                      TM_A                          TM_B  partial  tkn_sort  \\\n",
       "88               redinside                        inside      100        80   \n",
       "145                winston                       dunston       71        71   \n",
       "37        investedtogether                       greybox       29        17   \n",
       "170          horseoflondon  whealthhealthistherealwealth       31        20   \n",
       "253             dixieunion                   dixychicken       50        57   \n",
       "275                  milan                   milansweets      100        62   \n",
       "168                panadol                   fizzfitness       14        11   \n",
       "198                nivalin                          papa       25        18   \n",
       "164             amberstone                   fizzfitness       30        29   \n",
       "64                hypnotiq                       fwdview       14        13   \n",
       "65                   gusto               peakrockcapital       20        10   \n",
       "48   natureresearchsociety                natureresearch      100        80   \n",
       "345                ecotint                      decotint      100        93   \n",
       "178                miltron                     harrysbar       14        12   \n",
       "355           nogunknojunk                nogunkjustfunk       67        77   \n",
       "315                 amigos                     casamigos      100        80   \n",
       "158                epolene                     reprolene       86        88   \n",
       "106          rawautomative                          loco       25        12   \n",
       "10                 woodman                       trinsic       14        14   \n",
       "161                    dgs                     dgfashion       67        50   \n",
       "\n",
       "     tkn_set  levenshtein  metaphone  ...       mra    editex      saps  \\\n",
       "88        80     0.088235          0  ...  0.666667  0.666667  0.275862   \n",
       "145       71     0.058824          0  ...  0.833333  0.785714  0.545455   \n",
       "37        17     0.411765          0  ...  0.000000  0.218750  0.000000   \n",
       "170       20     0.705882          0  ...  0.000000  0.339286  0.000000   \n",
       "253       57     0.205882          0  ...  0.000000  0.545455  0.161290   \n",
       "275       62     0.176471          0  ...  0.000000  0.590909  0.083333   \n",
       "168       11     0.323529          0  ...  0.000000  0.409091  0.000000   \n",
       "198       18     0.176471          0  ...  0.000000  0.285714  0.000000   \n",
       "164       29     0.264706          0  ...  0.000000  0.272727  0.000000   \n",
       "64        13     0.235294          0  ...  0.000000  0.187500  0.000000   \n",
       "65        10     0.411765          0  ...  0.000000  0.233333  0.000000   \n",
       "48        80     0.205882          0  ...  0.500000  0.714286  0.507042   \n",
       "345       93     0.029412          0  ...  0.833333  0.875000  0.642857   \n",
       "178       12     0.264706          0  ...  0.000000  0.277778  0.000000   \n",
       "355       77     0.147059          0  ...  0.833333  0.678571  0.469388   \n",
       "315       80     0.088235          0  ...  0.666667  0.666667  0.275862   \n",
       "158       88     0.058824          0  ...  0.666667  0.777778  0.310345   \n",
       "106       12     0.352941          0  ...  0.000000  0.230769  0.000000   \n",
       "10        14     0.205882          0  ...  0.000000  0.142857  0.000000   \n",
       "161       50     0.176471          0  ...  0.000000  0.444444  0.068966   \n",
       "\n",
       "     flexmetric      jaro  higueramico     sift4     eudex     aline  \\\n",
       "88     0.794444  0.777778     0.621032  0.666667  0.676471  0.638298   \n",
       "145    0.742857  0.809524     0.714286  0.714286  0.858824  0.853659   \n",
       "37     0.381250  0.470238     0.000000  0.125000  0.472549  0.182955   \n",
       "170    0.419643  0.400183     0.000000  0.107143  0.806863  0.179054   \n",
       "253    0.618182  0.651515     0.409091  0.454545  0.878431  0.442623   \n",
       "275    0.645455  0.818182     0.263456  0.454545  0.904902  0.473684   \n",
       "168    0.359091  0.000000     0.000000  0.000000  0.691176  0.243077   \n",
       "198    0.171429  0.464286     0.061905  0.142857  0.765686  0.186486   \n",
       "164    0.318182  0.421212     0.242424  0.272727  0.576471  0.398462   \n",
       "64     0.212500  0.422619     0.097222  0.125000  0.835294  0.263636   \n",
       "65     0.230000  0.422222     0.000000  0.066667  0.808824  0.228395   \n",
       "48     0.747619  0.888889     0.606204  0.666667  1.000000  0.691589   \n",
       "345    0.950000  0.958333     0.875000  0.875000  0.749020  0.840909   \n",
       "178    0.250000  0.417989     0.063889  0.111111  0.783824  0.231373   \n",
       "355    0.700000  0.815873     0.637363  0.714286  0.995588  0.713415   \n",
       "315    0.733333  0.777778     0.621032  0.666667  0.821569  0.638298   \n",
       "158    0.788889  0.925926     0.763889  0.777778  0.773529  0.659574   \n",
       "106    0.242308  0.442308     0.000000  0.076923  0.868137  0.194915   \n",
       "10     0.128571  0.000000     0.027778  0.142857  0.740196  0.241463   \n",
       "161    0.405556  0.777778     0.004365  0.333333  0.924510  0.396078   \n",
       "\n",
       "     phoneticeditdistance  \n",
       "88               0.666667  \n",
       "145              0.928571  \n",
       "37               0.391129  \n",
       "170              0.421659  \n",
       "253              0.781525  \n",
       "275              0.454545  \n",
       "168              0.568915  \n",
       "198              0.502304  \n",
       "164              0.687683  \n",
       "64               0.721774  \n",
       "65               0.301075  \n",
       "48               0.666667  \n",
       "345              0.875000  \n",
       "178              0.677419  \n",
       "355              0.808756  \n",
       "315              0.666667  \n",
       "158              0.777778  \n",
       "106              0.284119  \n",
       "10               0.739631  \n",
       "161              0.333333  \n",
       "\n",
       "[20 rows x 30 columns]"
      ]
     },
     "execution_count": 50,
     "metadata": {},
     "output_type": "execute_result"
    }
   ],
   "source": [
    "from tqdm.autonotebook import tqdm\n",
    "tqdm.pandas()\n",
    "\n",
    "df = featurize(class_balanced)\n",
    "df.sample(20)"
   ]
  },
  {
   "cell_type": "markdown",
   "metadata": {},
   "source": [
    "#### Export clean data to csv"
   ]
  },
  {
   "cell_type": "code",
   "execution_count": null,
   "metadata": {},
   "outputs": [],
   "source": [
    "# df.to_csv('Data.nosync/TM_features.csv', index=False)  "
   ]
  },
  {
   "cell_type": "code",
   "execution_count": 51,
   "metadata": {},
   "outputs": [],
   "source": [
    "y = df.target\n",
    "X = df.drop(columns = 'target')"
   ]
  },
  {
   "cell_type": "code",
   "execution_count": 52,
   "metadata": {},
   "outputs": [],
   "source": [
    "from sklearn.model_selection import train_test_split"
   ]
  },
  {
   "cell_type": "code",
   "execution_count": 53,
   "metadata": {},
   "outputs": [],
   "source": [
    "X_train, X_test, y_train, y_test = train_test_split(X, y, test_size=0.20, random_state=42)"
   ]
  },
  {
   "cell_type": "markdown",
   "metadata": {},
   "source": [
    "## TPOT AutoML pipeline"
   ]
  },
  {
   "cell_type": "code",
   "execution_count": null,
   "metadata": {},
   "outputs": [],
   "source": [
    "from tpot import TPOTClassifier"
   ]
  },
  {
   "cell_type": "code",
   "execution_count": null,
   "metadata": {},
   "outputs": [],
   "source": [
    "# pipeline_optimizer = TPOTClassifier(\n",
    "#         scoring = 'f1', \n",
    "#         generations=100,\n",
    "#         verbosity=2,\n",
    "#         n_jobs=-1   # Utilizes all available CPU cores\n",
    "#         ) \n",
    "# pipeline_optimizer.fit(X_train.drop(['a', 'b', 'TM_A', 'TM_B'],1), y_train)"
   ]
  },
  {
   "cell_type": "code",
   "execution_count": null,
   "metadata": {},
   "outputs": [],
   "source": [
    "# print(pipeline_optimizer.score(X_test.drop(['a', 'b', 'TM_A', 'TM_B'], 1), y_test))"
   ]
  },
  {
   "cell_type": "markdown",
   "metadata": {},
   "source": [
    "### Export TPOT pipeline"
   ]
  },
  {
   "cell_type": "code",
   "execution_count": null,
   "metadata": {},
   "outputs": [],
   "source": [
    "# pipeline_optimizer.export('tpot_exported_calssifier_pipeline.py')"
   ]
  },
  {
   "cell_type": "markdown",
   "metadata": {},
   "source": [
    "### Load TPOT pipeline"
   ]
  },
  {
   "cell_type": "code",
   "execution_count": 54,
   "metadata": {},
   "outputs": [
    {
     "data": {
      "text/html": [
       "<div>\n",
       "<style scoped>\n",
       "    .dataframe tbody tr th:only-of-type {\n",
       "        vertical-align: middle;\n",
       "    }\n",
       "\n",
       "    .dataframe tbody tr th {\n",
       "        vertical-align: top;\n",
       "    }\n",
       "\n",
       "    .dataframe thead th {\n",
       "        text-align: right;\n",
       "    }\n",
       "</style>\n",
       "<table border=\"1\" class=\"dataframe\">\n",
       "  <thead>\n",
       "    <tr style=\"text-align: right;\">\n",
       "      <th></th>\n",
       "      <th>target</th>\n",
       "      <th>partial</th>\n",
       "      <th>tkn_sort</th>\n",
       "      <th>tkn_set</th>\n",
       "      <th>levenshtein</th>\n",
       "      <th>metaphone</th>\n",
       "      <th>nysiis</th>\n",
       "      <th>mtch_rtng_cdx</th>\n",
       "      <th>pshp_soundex_first</th>\n",
       "      <th>iterativesubstring</th>\n",
       "      <th>...</th>\n",
       "      <th>mra</th>\n",
       "      <th>editex</th>\n",
       "      <th>saps</th>\n",
       "      <th>flexmetric</th>\n",
       "      <th>jaro</th>\n",
       "      <th>higueramico</th>\n",
       "      <th>sift4</th>\n",
       "      <th>eudex</th>\n",
       "      <th>aline</th>\n",
       "      <th>phoneticeditdistance</th>\n",
       "    </tr>\n",
       "  </thead>\n",
       "  <tbody>\n",
       "    <tr>\n",
       "      <th>0</th>\n",
       "      <td>1</td>\n",
       "      <td>57</td>\n",
       "      <td>50</td>\n",
       "      <td>50</td>\n",
       "      <td>0.147059</td>\n",
       "      <td>0</td>\n",
       "      <td>0</td>\n",
       "      <td>0</td>\n",
       "      <td>0</td>\n",
       "      <td>0.485480</td>\n",
       "      <td>...</td>\n",
       "      <td>0.666667</td>\n",
       "      <td>0.555556</td>\n",
       "      <td>0.137931</td>\n",
       "      <td>0.566667</td>\n",
       "      <td>0.671958</td>\n",
       "      <td>0.430556</td>\n",
       "      <td>0.444444</td>\n",
       "      <td>0.654902</td>\n",
       "      <td>0.602128</td>\n",
       "      <td>0.727599</td>\n",
       "    </tr>\n",
       "    <tr>\n",
       "      <th>1</th>\n",
       "      <td>1</td>\n",
       "      <td>38</td>\n",
       "      <td>38</td>\n",
       "      <td>38</td>\n",
       "      <td>0.147059</td>\n",
       "      <td>0</td>\n",
       "      <td>0</td>\n",
       "      <td>0</td>\n",
       "      <td>0</td>\n",
       "      <td>0.050000</td>\n",
       "      <td>...</td>\n",
       "      <td>0.500000</td>\n",
       "      <td>0.500000</td>\n",
       "      <td>0.304348</td>\n",
       "      <td>0.400000</td>\n",
       "      <td>0.583333</td>\n",
       "      <td>0.375000</td>\n",
       "      <td>0.375000</td>\n",
       "      <td>0.916667</td>\n",
       "      <td>0.545455</td>\n",
       "      <td>0.897177</td>\n",
       "    </tr>\n",
       "    <tr>\n",
       "      <th>2</th>\n",
       "      <td>1</td>\n",
       "      <td>89</td>\n",
       "      <td>73</td>\n",
       "      <td>73</td>\n",
       "      <td>0.088235</td>\n",
       "      <td>0</td>\n",
       "      <td>0</td>\n",
       "      <td>0</td>\n",
       "      <td>0</td>\n",
       "      <td>0.821263</td>\n",
       "      <td>...</td>\n",
       "      <td>0.833333</td>\n",
       "      <td>0.500000</td>\n",
       "      <td>0.428571</td>\n",
       "      <td>0.600000</td>\n",
       "      <td>0.822222</td>\n",
       "      <td>0.547619</td>\n",
       "      <td>0.666667</td>\n",
       "      <td>0.786275</td>\n",
       "      <td>0.705882</td>\n",
       "      <td>0.634409</td>\n",
       "    </tr>\n",
       "    <tr>\n",
       "      <th>3</th>\n",
       "      <td>1</td>\n",
       "      <td>83</td>\n",
       "      <td>83</td>\n",
       "      <td>83</td>\n",
       "      <td>0.088235</td>\n",
       "      <td>0</td>\n",
       "      <td>0</td>\n",
       "      <td>0</td>\n",
       "      <td>1</td>\n",
       "      <td>0.884677</td>\n",
       "      <td>...</td>\n",
       "      <td>0.500000</td>\n",
       "      <td>0.833333</td>\n",
       "      <td>0.666667</td>\n",
       "      <td>0.833333</td>\n",
       "      <td>0.888889</td>\n",
       "      <td>0.769231</td>\n",
       "      <td>0.833333</td>\n",
       "      <td>1.000000</td>\n",
       "      <td>0.873529</td>\n",
       "      <td>0.913978</td>\n",
       "    </tr>\n",
       "    <tr>\n",
       "      <th>4</th>\n",
       "      <td>1</td>\n",
       "      <td>74</td>\n",
       "      <td>65</td>\n",
       "      <td>65</td>\n",
       "      <td>0.264706</td>\n",
       "      <td>0</td>\n",
       "      <td>0</td>\n",
       "      <td>0</td>\n",
       "      <td>0</td>\n",
       "      <td>0.951613</td>\n",
       "      <td>...</td>\n",
       "      <td>0.000000</td>\n",
       "      <td>0.588235</td>\n",
       "      <td>0.319149</td>\n",
       "      <td>0.538235</td>\n",
       "      <td>0.687675</td>\n",
       "      <td>0.490372</td>\n",
       "      <td>0.588235</td>\n",
       "      <td>0.463725</td>\n",
       "      <td>0.589655</td>\n",
       "      <td>0.646110</td>\n",
       "    </tr>\n",
       "    <tr>\n",
       "      <th>...</th>\n",
       "      <td>...</td>\n",
       "      <td>...</td>\n",
       "      <td>...</td>\n",
       "      <td>...</td>\n",
       "      <td>...</td>\n",
       "      <td>...</td>\n",
       "      <td>...</td>\n",
       "      <td>...</td>\n",
       "      <td>...</td>\n",
       "      <td>...</td>\n",
       "      <td>...</td>\n",
       "      <td>...</td>\n",
       "      <td>...</td>\n",
       "      <td>...</td>\n",
       "      <td>...</td>\n",
       "      <td>...</td>\n",
       "      <td>...</td>\n",
       "      <td>...</td>\n",
       "      <td>...</td>\n",
       "      <td>...</td>\n",
       "      <td>...</td>\n",
       "    </tr>\n",
       "    <tr>\n",
       "      <th>352</th>\n",
       "      <td>0</td>\n",
       "      <td>83</td>\n",
       "      <td>83</td>\n",
       "      <td>83</td>\n",
       "      <td>0.029412</td>\n",
       "      <td>0</td>\n",
       "      <td>0</td>\n",
       "      <td>0</td>\n",
       "      <td>0</td>\n",
       "      <td>0.897436</td>\n",
       "      <td>...</td>\n",
       "      <td>0.833333</td>\n",
       "      <td>0.833333</td>\n",
       "      <td>0.500000</td>\n",
       "      <td>0.833333</td>\n",
       "      <td>0.822222</td>\n",
       "      <td>0.833333</td>\n",
       "      <td>0.833333</td>\n",
       "      <td>0.866667</td>\n",
       "      <td>0.823529</td>\n",
       "      <td>0.943548</td>\n",
       "    </tr>\n",
       "    <tr>\n",
       "      <th>353</th>\n",
       "      <td>0</td>\n",
       "      <td>75</td>\n",
       "      <td>75</td>\n",
       "      <td>75</td>\n",
       "      <td>0.058824</td>\n",
       "      <td>0</td>\n",
       "      <td>0</td>\n",
       "      <td>0</td>\n",
       "      <td>1</td>\n",
       "      <td>0.804167</td>\n",
       "      <td>...</td>\n",
       "      <td>0.833333</td>\n",
       "      <td>0.812500</td>\n",
       "      <td>0.565217</td>\n",
       "      <td>0.787500</td>\n",
       "      <td>0.833333</td>\n",
       "      <td>0.750000</td>\n",
       "      <td>0.750000</td>\n",
       "      <td>0.997549</td>\n",
       "      <td>0.937500</td>\n",
       "      <td>0.973790</td>\n",
       "    </tr>\n",
       "    <tr>\n",
       "      <th>354</th>\n",
       "      <td>0</td>\n",
       "      <td>80</td>\n",
       "      <td>71</td>\n",
       "      <td>71</td>\n",
       "      <td>0.117647</td>\n",
       "      <td>0</td>\n",
       "      <td>0</td>\n",
       "      <td>0</td>\n",
       "      <td>0</td>\n",
       "      <td>0.800858</td>\n",
       "      <td>...</td>\n",
       "      <td>0.666667</td>\n",
       "      <td>0.666667</td>\n",
       "      <td>0.310345</td>\n",
       "      <td>0.666667</td>\n",
       "      <td>0.741402</td>\n",
       "      <td>0.588889</td>\n",
       "      <td>0.666667</td>\n",
       "      <td>0.784804</td>\n",
       "      <td>0.705882</td>\n",
       "      <td>0.655914</td>\n",
       "    </tr>\n",
       "    <tr>\n",
       "      <th>355</th>\n",
       "      <td>0</td>\n",
       "      <td>67</td>\n",
       "      <td>77</td>\n",
       "      <td>77</td>\n",
       "      <td>0.147059</td>\n",
       "      <td>0</td>\n",
       "      <td>0</td>\n",
       "      <td>0</td>\n",
       "      <td>1</td>\n",
       "      <td>0.852383</td>\n",
       "      <td>...</td>\n",
       "      <td>0.833333</td>\n",
       "      <td>0.678571</td>\n",
       "      <td>0.469388</td>\n",
       "      <td>0.700000</td>\n",
       "      <td>0.815873</td>\n",
       "      <td>0.637363</td>\n",
       "      <td>0.714286</td>\n",
       "      <td>0.995588</td>\n",
       "      <td>0.713415</td>\n",
       "      <td>0.808756</td>\n",
       "    </tr>\n",
       "    <tr>\n",
       "      <th>356</th>\n",
       "      <td>0</td>\n",
       "      <td>86</td>\n",
       "      <td>67</td>\n",
       "      <td>67</td>\n",
       "      <td>0.147059</td>\n",
       "      <td>0</td>\n",
       "      <td>0</td>\n",
       "      <td>0</td>\n",
       "      <td>0</td>\n",
       "      <td>0.793397</td>\n",
       "      <td>...</td>\n",
       "      <td>0.500000</td>\n",
       "      <td>0.636364</td>\n",
       "      <td>0.166667</td>\n",
       "      <td>0.663636</td>\n",
       "      <td>0.689755</td>\n",
       "      <td>0.482071</td>\n",
       "      <td>0.363636</td>\n",
       "      <td>0.775490</td>\n",
       "      <td>0.491803</td>\n",
       "      <td>0.633431</td>\n",
       "    </tr>\n",
       "  </tbody>\n",
       "</table>\n",
       "<p>557 rows × 26 columns</p>\n",
       "</div>"
      ],
      "text/plain": [
       "     target  partial  tkn_sort  tkn_set  levenshtein  metaphone  nysiis  \\\n",
       "0         1       57        50       50     0.147059          0       0   \n",
       "1         1       38        38       38     0.147059          0       0   \n",
       "2         1       89        73       73     0.088235          0       0   \n",
       "3         1       83        83       83     0.088235          0       0   \n",
       "4         1       74        65       65     0.264706          0       0   \n",
       "..      ...      ...       ...      ...          ...        ...     ...   \n",
       "352       0       83        83       83     0.029412          0       0   \n",
       "353       0       75        75       75     0.058824          0       0   \n",
       "354       0       80        71       71     0.117647          0       0   \n",
       "355       0       67        77       77     0.147059          0       0   \n",
       "356       0       86        67       67     0.147059          0       0   \n",
       "\n",
       "     mtch_rtng_cdx  pshp_soundex_first  iterativesubstring  ...       mra  \\\n",
       "0                0                   0            0.485480  ...  0.666667   \n",
       "1                0                   0            0.050000  ...  0.500000   \n",
       "2                0                   0            0.821263  ...  0.833333   \n",
       "3                0                   1            0.884677  ...  0.500000   \n",
       "4                0                   0            0.951613  ...  0.000000   \n",
       "..             ...                 ...                 ...  ...       ...   \n",
       "352              0                   0            0.897436  ...  0.833333   \n",
       "353              0                   1            0.804167  ...  0.833333   \n",
       "354              0                   0            0.800858  ...  0.666667   \n",
       "355              0                   1            0.852383  ...  0.833333   \n",
       "356              0                   0            0.793397  ...  0.500000   \n",
       "\n",
       "       editex      saps  flexmetric      jaro  higueramico     sift4  \\\n",
       "0    0.555556  0.137931    0.566667  0.671958     0.430556  0.444444   \n",
       "1    0.500000  0.304348    0.400000  0.583333     0.375000  0.375000   \n",
       "2    0.500000  0.428571    0.600000  0.822222     0.547619  0.666667   \n",
       "3    0.833333  0.666667    0.833333  0.888889     0.769231  0.833333   \n",
       "4    0.588235  0.319149    0.538235  0.687675     0.490372  0.588235   \n",
       "..        ...       ...         ...       ...          ...       ...   \n",
       "352  0.833333  0.500000    0.833333  0.822222     0.833333  0.833333   \n",
       "353  0.812500  0.565217    0.787500  0.833333     0.750000  0.750000   \n",
       "354  0.666667  0.310345    0.666667  0.741402     0.588889  0.666667   \n",
       "355  0.678571  0.469388    0.700000  0.815873     0.637363  0.714286   \n",
       "356  0.636364  0.166667    0.663636  0.689755     0.482071  0.363636   \n",
       "\n",
       "        eudex     aline  phoneticeditdistance  \n",
       "0    0.654902  0.602128              0.727599  \n",
       "1    0.916667  0.545455              0.897177  \n",
       "2    0.786275  0.705882              0.634409  \n",
       "3    1.000000  0.873529              0.913978  \n",
       "4    0.463725  0.589655              0.646110  \n",
       "..        ...       ...                   ...  \n",
       "352  0.866667  0.823529              0.943548  \n",
       "353  0.997549  0.937500              0.973790  \n",
       "354  0.784804  0.705882              0.655914  \n",
       "355  0.995588  0.713415              0.808756  \n",
       "356  0.775490  0.491803              0.633431  \n",
       "\n",
       "[557 rows x 26 columns]"
      ]
     },
     "execution_count": 54,
     "metadata": {},
     "output_type": "execute_result"
    }
   ],
   "source": [
    "df_TPOT = df.drop(columns = ['a','b','TM_A','TM_B'])\n",
    "df_TPOT"
   ]
  },
  {
   "cell_type": "code",
   "execution_count": 55,
   "metadata": {},
   "outputs": [],
   "source": [
    "import numpy as np\n",
    "import pandas as pd\n",
    "from sklearn.ensemble import GradientBoostingClassifier\n",
    "from sklearn.model_selection import train_test_split\n",
    "from sklearn.pipeline import make_pipeline, make_union\n",
    "from tpot.builtins import StackingEstimator\n",
    "from sklearn.preprocessing import FunctionTransformer\n",
    "from copy import copy"
   ]
  },
  {
   "cell_type": "code",
   "execution_count": 56,
   "metadata": {},
   "outputs": [
    {
     "name": "stdout",
     "output_type": "stream",
     "text": [
      "[1 0 1 1 1 0 0 1 1 1 1 1 0 1 1 1 1 1 1 0 1 1 1 1 1 1 0 0 1 0 1 0 0 1 1 1 1\n",
      " 1 1 1 1 1 1 1 1 1 1 1 1 1 0 0 0 1 1 1 1 1 1 0 1 0 0 1 1 1 1 1 1 0 0 1 1 1\n",
      " 1 0 1 1 1 1 1 1 1 1 0 1 0 0 1 1 1 1 0 1 1 0 1 0 0 1 1 0 0 1 1 1 1 1 0 1 0\n",
      " 0]\n"
     ]
    }
   ],
   "source": [
    "# NOTE: Make sure that the outcome column is labeled 'target' in the data file\n",
    "# X_train, X_test, y_train, y_test = train_test_split(X, y, test_size=0.20, random_state=42)\n",
    "# Average CV score on the training set was: 0.8945711361541637\n",
    "exported_pipeline = make_pipeline(\n",
    "    GradientBoostingClassifier(learning_rate=0.01, max_depth=3, max_features=0.5, min_samples_leaf=10,\n",
    "                               min_samples_split=3, n_estimators=100, subsample=0.9500000000000001)\n",
    ")\n",
    "\n",
    "exported_pipeline.fit(X_train.drop(['a', 'b', 'TM_A', 'TM_B'],1), y_train)\n",
    "results = exported_pipeline.predict(X_test.drop(['a', 'b', 'TM_A', 'TM_B'], 1))\n",
    "\n",
    "print(results)"
   ]
  },
  {
   "cell_type": "code",
   "execution_count": 57,
   "metadata": {},
   "outputs": [],
   "source": [
    "import numpy as np\n",
    "import pandas as pd\n",
    "from sklearn.ensemble import GradientBoostingClassifier\n",
    "from sklearn.model_selection import train_test_split\n",
    "from sklearn.pipeline import make_pipeline, make_union\n",
    "from tpot.builtins import StackingEstimator\n",
    "from sklearn.preprocessing import FunctionTransformer\n",
    "from copy import copy\n",
    "\n",
    "# NOTE: Make sure that the outcome column is labeled 'target' in the data file\n",
    "tpot_data = df_TPOT\n",
    "features = tpot_data.drop('target', axis=1)\n",
    "training_features, testing_features, training_target, testing_target = \\\n",
    "            train_test_split(features, tpot_data['target'], random_state=None)\n",
    "\n",
    "# Average CV score on the training set was: 0.8945711361541637\n",
    "exported_pipeline = make_pipeline(\n",
    "    make_union(\n",
    "        FunctionTransformer(copy),\n",
    "        FunctionTransformer(copy)\n",
    "    ),\n",
    "    GradientBoostingClassifier(learning_rate=0.01, max_depth=3, max_features=0.5, min_samples_leaf=10, min_samples_split=3, n_estimators=100, subsample=0.9500000000000001)\n",
    ")\n",
    "\n",
    "exported_pipeline.fit(training_features, training_target)\n",
    "results = exported_pipeline.predict(testing_features)"
   ]
  },
  {
   "cell_type": "code",
   "execution_count": 58,
   "metadata": {},
   "outputs": [],
   "source": [
    "def base_model_1(X_train, y_train, X_test, export = False) :\n",
    "    exported_pipeline = make_pipeline(\n",
    "    GradientBoostingClassifier(\n",
    "        learning_rate=0.01, \n",
    "        max_depth=3, max_features=0.5,\n",
    "        min_samples_leaf=10, min_samples_split=3, \n",
    "        n_estimators=100, subsample=0.9500000000000001)\n",
    "    )\n",
    "\n",
    "    exported_pipeline.fit(X_train, y_train)\n",
    "    if export==True:\n",
    "        return exported_pipeline\n",
    "    else:\n",
    "        y_pred = exported_pipeline.predict_proba(X_test)\n",
    "        return [p[1] for p in y_pred]"
   ]
  },
  {
   "cell_type": "code",
   "execution_count": 59,
   "metadata": {},
   "outputs": [
    {
     "data": {
      "text/plain": [
       "[0.7069017697558038,\n",
       " 0.1893016682775248,\n",
       " 0.6899157015859401,\n",
       " 0.657969928782682,\n",
       " 0.7276388834438425,\n",
       " 0.18721021632905702,\n",
       " 0.22790955120512332,\n",
       " 0.7409692654604867,\n",
       " 0.7403735492636494,\n",
       " 0.6664559609158602,\n",
       " 0.7582887349118884,\n",
       " 0.7127580369607229,\n",
       " 0.1865387736673108,\n",
       " 0.7203506857966585,\n",
       " 0.6501550746656481,\n",
       " 0.714133130229465,\n",
       " 0.6336771474178828,\n",
       " 0.6551698387063519,\n",
       " 0.666998413476144,\n",
       " 0.1865387736673108,\n",
       " 0.7078174614599473,\n",
       " 0.6944310883618859,\n",
       " 0.6902173627868277,\n",
       " 0.7022752288648767,\n",
       " 0.6962117627676679,\n",
       " 0.6201078848252889,\n",
       " 0.1865387736673108,\n",
       " 0.23946521129402148,\n",
       " 0.6639297129614886,\n",
       " 0.2757878180437188,\n",
       " 0.7010621683533614,\n",
       " 0.18721021632905702,\n",
       " 0.4177546807685363,\n",
       " 0.6732056908585328,\n",
       " 0.6994374000784123,\n",
       " 0.5035306524428051,\n",
       " 0.7405049406733901,\n",
       " 0.6829060163115299,\n",
       " 0.6740126259180926,\n",
       " 0.7717472979892662,\n",
       " 0.7344594955207592,\n",
       " 0.6866400193960941,\n",
       " 0.6649298778075543,\n",
       " 0.7398309088886101,\n",
       " 0.6797832934186846,\n",
       " 0.6772148494250324,\n",
       " 0.7387250745541272,\n",
       " 0.6878100427374548,\n",
       " 0.7093865019347896,\n",
       " 0.7137593481704125,\n",
       " 0.24879988084467056,\n",
       " 0.3043169437241421,\n",
       " 0.27728049114163394,\n",
       " 0.641956997966375,\n",
       " 0.6904181614451281,\n",
       " 0.6603184549031952,\n",
       " 0.4867182248919814,\n",
       " 0.772733421808871,\n",
       " 0.6962117627676679,\n",
       " 0.19192729917496032,\n",
       " 0.6013877971168125,\n",
       " 0.18862446526839127,\n",
       " 0.18610210504423091,\n",
       " 0.7221604383571395,\n",
       " 0.6848520776634616,\n",
       " 0.6225248281078231,\n",
       " 0.7024468587762082,\n",
       " 0.7627326133374304,\n",
       " 0.6779883970088636,\n",
       " 0.18774277541367057,\n",
       " 0.18906663169773988,\n",
       " 0.6781999923852652,\n",
       " 0.6969430214994479,\n",
       " 0.7016125780340468,\n",
       " 0.6952772856550349,\n",
       " 0.19363498996346468,\n",
       " 0.6829060163115299,\n",
       " 0.6988185921651696,\n",
       " 0.7383112144548712,\n",
       " 0.7715450043964849,\n",
       " 0.7753030865633094,\n",
       " 0.7203537118727221,\n",
       " 0.6867162647267916,\n",
       " 0.6694467431010268,\n",
       " 0.1898387873301072,\n",
       " 0.7203506857966585,\n",
       " 0.18610210504423091,\n",
       " 0.19071533525869805,\n",
       " 0.7491193123215795,\n",
       " 0.6857836820602808,\n",
       " 0.7306599209739328,\n",
       " 0.6962117627676679,\n",
       " 0.1881840437306808,\n",
       " 0.7096466429972786,\n",
       " 0.6654618636032792,\n",
       " 0.1865387736673108,\n",
       " 0.6451742650441966,\n",
       " 0.4927231233423012,\n",
       " 0.28905050695968243,\n",
       " 0.6756654105858758,\n",
       " 0.7403735492636494,\n",
       " 0.1865387736673108,\n",
       " 0.1865387736673108,\n",
       " 0.6829060163115299,\n",
       " 0.6940430023441785,\n",
       " 0.7075981313447727,\n",
       " 0.6439694119581061,\n",
       " 0.7546341029178857,\n",
       " 0.18774277541367057,\n",
       " 0.6962117627676679,\n",
       " 0.38168379649384804,\n",
       " 0.1865387736673108]"
      ]
     },
     "execution_count": 59,
     "metadata": {},
     "output_type": "execute_result"
    }
   ],
   "source": [
    "base_model_1(X_train.drop(['a', 'b', 'TM_A', 'TM_B'],1), y_train, X_test.drop(['a', 'b', 'TM_A', 'TM_B'], 1))"
   ]
  },
  {
   "cell_type": "markdown",
   "metadata": {},
   "source": [
    "## K-fold cross validation"
   ]
  },
  {
   "cell_type": "code",
   "execution_count": 60,
   "metadata": {},
   "outputs": [],
   "source": [
    "from sklearn.model_selection import StratifiedKFold"
   ]
  },
  {
   "cell_type": "code",
   "execution_count": 61,
   "metadata": {},
   "outputs": [
    {
     "name": "stderr",
     "output_type": "stream",
     "text": [
      "<ipython-input-61-7ed514384f19>:13: SettingWithCopyWarning: \n",
      "A value is trying to be set on a copy of a slice from a DataFrame.\n",
      "Try using .loc[row_indexer,col_indexer] = value instead\n",
      "\n",
      "See the caveats in the documentation: https://pandas.pydata.org/pandas-docs/stable/user_guide/indexing.html#returning-a-view-versus-a-copy\n",
      "  oof_pred['predict_proba'] = base_model_1(X_train.drop(['a', 'b', 'TM_A', 'TM_B'], 1),\n",
      "<ipython-input-61-7ed514384f19>:21: SettingWithCopyWarning: \n",
      "A value is trying to be set on a copy of a slice from a DataFrame.\n",
      "Try using .loc[row_indexer,col_indexer] = value instead\n",
      "\n",
      "See the caveats in the documentation: https://pandas.pydata.org/pandas-docs/stable/user_guide/indexing.html#returning-a-view-versus-a-copy\n",
      "  oof_pred['target'] = y_test.tolist()\n",
      "<ipython-input-61-7ed514384f19>:13: SettingWithCopyWarning: \n",
      "A value is trying to be set on a copy of a slice from a DataFrame.\n",
      "Try using .loc[row_indexer,col_indexer] = value instead\n",
      "\n",
      "See the caveats in the documentation: https://pandas.pydata.org/pandas-docs/stable/user_guide/indexing.html#returning-a-view-versus-a-copy\n",
      "  oof_pred['predict_proba'] = base_model_1(X_train.drop(['a', 'b', 'TM_A', 'TM_B'], 1),\n",
      "<ipython-input-61-7ed514384f19>:21: SettingWithCopyWarning: \n",
      "A value is trying to be set on a copy of a slice from a DataFrame.\n",
      "Try using .loc[row_indexer,col_indexer] = value instead\n",
      "\n",
      "See the caveats in the documentation: https://pandas.pydata.org/pandas-docs/stable/user_guide/indexing.html#returning-a-view-versus-a-copy\n",
      "  oof_pred['target'] = y_test.tolist()\n"
     ]
    },
    {
     "name": "stdout",
     "output_type": "stream",
     "text": [
      "completed fold 1 of 10\n",
      "completed fold 2 of 10\n"
     ]
    },
    {
     "name": "stderr",
     "output_type": "stream",
     "text": [
      "<ipython-input-61-7ed514384f19>:13: SettingWithCopyWarning: \n",
      "A value is trying to be set on a copy of a slice from a DataFrame.\n",
      "Try using .loc[row_indexer,col_indexer] = value instead\n",
      "\n",
      "See the caveats in the documentation: https://pandas.pydata.org/pandas-docs/stable/user_guide/indexing.html#returning-a-view-versus-a-copy\n",
      "  oof_pred['predict_proba'] = base_model_1(X_train.drop(['a', 'b', 'TM_A', 'TM_B'], 1),\n",
      "<ipython-input-61-7ed514384f19>:21: SettingWithCopyWarning: \n",
      "A value is trying to be set on a copy of a slice from a DataFrame.\n",
      "Try using .loc[row_indexer,col_indexer] = value instead\n",
      "\n",
      "See the caveats in the documentation: https://pandas.pydata.org/pandas-docs/stable/user_guide/indexing.html#returning-a-view-versus-a-copy\n",
      "  oof_pred['target'] = y_test.tolist()\n",
      "<ipython-input-61-7ed514384f19>:13: SettingWithCopyWarning: \n",
      "A value is trying to be set on a copy of a slice from a DataFrame.\n",
      "Try using .loc[row_indexer,col_indexer] = value instead\n",
      "\n",
      "See the caveats in the documentation: https://pandas.pydata.org/pandas-docs/stable/user_guide/indexing.html#returning-a-view-versus-a-copy\n",
      "  oof_pred['predict_proba'] = base_model_1(X_train.drop(['a', 'b', 'TM_A', 'TM_B'], 1),\n",
      "<ipython-input-61-7ed514384f19>:21: SettingWithCopyWarning: \n",
      "A value is trying to be set on a copy of a slice from a DataFrame.\n",
      "Try using .loc[row_indexer,col_indexer] = value instead\n",
      "\n",
      "See the caveats in the documentation: https://pandas.pydata.org/pandas-docs/stable/user_guide/indexing.html#returning-a-view-versus-a-copy\n",
      "  oof_pred['target'] = y_test.tolist()\n"
     ]
    },
    {
     "name": "stdout",
     "output_type": "stream",
     "text": [
      "completed fold 3 of 10\n",
      "completed fold 4 of 10\n"
     ]
    },
    {
     "name": "stderr",
     "output_type": "stream",
     "text": [
      "<ipython-input-61-7ed514384f19>:13: SettingWithCopyWarning: \n",
      "A value is trying to be set on a copy of a slice from a DataFrame.\n",
      "Try using .loc[row_indexer,col_indexer] = value instead\n",
      "\n",
      "See the caveats in the documentation: https://pandas.pydata.org/pandas-docs/stable/user_guide/indexing.html#returning-a-view-versus-a-copy\n",
      "  oof_pred['predict_proba'] = base_model_1(X_train.drop(['a', 'b', 'TM_A', 'TM_B'], 1),\n",
      "<ipython-input-61-7ed514384f19>:21: SettingWithCopyWarning: \n",
      "A value is trying to be set on a copy of a slice from a DataFrame.\n",
      "Try using .loc[row_indexer,col_indexer] = value instead\n",
      "\n",
      "See the caveats in the documentation: https://pandas.pydata.org/pandas-docs/stable/user_guide/indexing.html#returning-a-view-versus-a-copy\n",
      "  oof_pred['target'] = y_test.tolist()\n",
      "<ipython-input-61-7ed514384f19>:13: SettingWithCopyWarning: \n",
      "A value is trying to be set on a copy of a slice from a DataFrame.\n",
      "Try using .loc[row_indexer,col_indexer] = value instead\n",
      "\n",
      "See the caveats in the documentation: https://pandas.pydata.org/pandas-docs/stable/user_guide/indexing.html#returning-a-view-versus-a-copy\n",
      "  oof_pred['predict_proba'] = base_model_1(X_train.drop(['a', 'b', 'TM_A', 'TM_B'], 1),\n",
      "<ipython-input-61-7ed514384f19>:21: SettingWithCopyWarning: \n",
      "A value is trying to be set on a copy of a slice from a DataFrame.\n",
      "Try using .loc[row_indexer,col_indexer] = value instead\n",
      "\n",
      "See the caveats in the documentation: https://pandas.pydata.org/pandas-docs/stable/user_guide/indexing.html#returning-a-view-versus-a-copy\n",
      "  oof_pred['target'] = y_test.tolist()\n"
     ]
    },
    {
     "name": "stdout",
     "output_type": "stream",
     "text": [
      "completed fold 5 of 10\n",
      "completed fold 6 of 10\n"
     ]
    },
    {
     "name": "stderr",
     "output_type": "stream",
     "text": [
      "<ipython-input-61-7ed514384f19>:13: SettingWithCopyWarning: \n",
      "A value is trying to be set on a copy of a slice from a DataFrame.\n",
      "Try using .loc[row_indexer,col_indexer] = value instead\n",
      "\n",
      "See the caveats in the documentation: https://pandas.pydata.org/pandas-docs/stable/user_guide/indexing.html#returning-a-view-versus-a-copy\n",
      "  oof_pred['predict_proba'] = base_model_1(X_train.drop(['a', 'b', 'TM_A', 'TM_B'], 1),\n",
      "<ipython-input-61-7ed514384f19>:21: SettingWithCopyWarning: \n",
      "A value is trying to be set on a copy of a slice from a DataFrame.\n",
      "Try using .loc[row_indexer,col_indexer] = value instead\n",
      "\n",
      "See the caveats in the documentation: https://pandas.pydata.org/pandas-docs/stable/user_guide/indexing.html#returning-a-view-versus-a-copy\n",
      "  oof_pred['target'] = y_test.tolist()\n",
      "<ipython-input-61-7ed514384f19>:13: SettingWithCopyWarning: \n",
      "A value is trying to be set on a copy of a slice from a DataFrame.\n",
      "Try using .loc[row_indexer,col_indexer] = value instead\n",
      "\n",
      "See the caveats in the documentation: https://pandas.pydata.org/pandas-docs/stable/user_guide/indexing.html#returning-a-view-versus-a-copy\n",
      "  oof_pred['predict_proba'] = base_model_1(X_train.drop(['a', 'b', 'TM_A', 'TM_B'], 1),\n",
      "<ipython-input-61-7ed514384f19>:21: SettingWithCopyWarning: \n",
      "A value is trying to be set on a copy of a slice from a DataFrame.\n",
      "Try using .loc[row_indexer,col_indexer] = value instead\n",
      "\n",
      "See the caveats in the documentation: https://pandas.pydata.org/pandas-docs/stable/user_guide/indexing.html#returning-a-view-versus-a-copy\n",
      "  oof_pred['target'] = y_test.tolist()\n"
     ]
    },
    {
     "name": "stdout",
     "output_type": "stream",
     "text": [
      "completed fold 7 of 10\n",
      "completed fold 8 of 10\n",
      "completed fold 9 of 10\n",
      "completed fold 10 of 10\n"
     ]
    },
    {
     "name": "stderr",
     "output_type": "stream",
     "text": [
      "<ipython-input-61-7ed514384f19>:13: SettingWithCopyWarning: \n",
      "A value is trying to be set on a copy of a slice from a DataFrame.\n",
      "Try using .loc[row_indexer,col_indexer] = value instead\n",
      "\n",
      "See the caveats in the documentation: https://pandas.pydata.org/pandas-docs/stable/user_guide/indexing.html#returning-a-view-versus-a-copy\n",
      "  oof_pred['predict_proba'] = base_model_1(X_train.drop(['a', 'b', 'TM_A', 'TM_B'], 1),\n",
      "<ipython-input-61-7ed514384f19>:21: SettingWithCopyWarning: \n",
      "A value is trying to be set on a copy of a slice from a DataFrame.\n",
      "Try using .loc[row_indexer,col_indexer] = value instead\n",
      "\n",
      "See the caveats in the documentation: https://pandas.pydata.org/pandas-docs/stable/user_guide/indexing.html#returning-a-view-versus-a-copy\n",
      "  oof_pred['target'] = y_test.tolist()\n",
      "<ipython-input-61-7ed514384f19>:13: SettingWithCopyWarning: \n",
      "A value is trying to be set on a copy of a slice from a DataFrame.\n",
      "Try using .loc[row_indexer,col_indexer] = value instead\n",
      "\n",
      "See the caveats in the documentation: https://pandas.pydata.org/pandas-docs/stable/user_guide/indexing.html#returning-a-view-versus-a-copy\n",
      "  oof_pred['predict_proba'] = base_model_1(X_train.drop(['a', 'b', 'TM_A', 'TM_B'], 1),\n",
      "<ipython-input-61-7ed514384f19>:21: SettingWithCopyWarning: \n",
      "A value is trying to be set on a copy of a slice from a DataFrame.\n",
      "Try using .loc[row_indexer,col_indexer] = value instead\n",
      "\n",
      "See the caveats in the documentation: https://pandas.pydata.org/pandas-docs/stable/user_guide/indexing.html#returning-a-view-versus-a-copy\n",
      "  oof_pred['target'] = y_test.tolist()\n"
     ]
    }
   ],
   "source": [
    "# Stratified K-Folds cross-validator\n",
    "meta_training = pd.DataFrame()\n",
    "\n",
    "stratified_kfold = StratifiedKFold(n_splits=10, shuffle=True, random_state=1)\n",
    "\n",
    "fold = 1\n",
    "for train_index, test_index in stratified_kfold.split(X, y):\n",
    "    X_train, X_test = X.iloc[train_index], X.iloc[test_index]\n",
    "    y_train, y_test = y.iloc[train_index], y.iloc[test_index]\n",
    "    \n",
    "    oof_pred = X_test[['TM_A', 'TM_B']]\n",
    "    \n",
    "    oof_pred['predict_proba'] = base_model_1(X_train.drop(['a', 'b', 'TM_A', 'TM_B'], 1),\n",
    "                                      y_train,\n",
    "                                      X_test.drop(['a', 'b', 'TM_A', 'TM_B'], 1))\n",
    "\n",
    "#     oof_pred['siamese_sim'] = base_model_2(X_train[['name_a', 'name_b']],\n",
    "#                                       y_train,\n",
    "#                                       X_test[['name_a', 'name_b']])\n",
    "    \n",
    "    oof_pred['target'] = y_test.tolist()\n",
    "    \n",
    "    print('completed fold {} of 10'.format(fold))\n",
    "    fold += 1\n",
    "\n",
    "    meta_training = meta_training.append(oof_pred)"
   ]
  },
  {
   "cell_type": "code",
   "execution_count": 92,
   "metadata": {},
   "outputs": [
    {
     "data": {
      "text/html": [
       "<div>\n",
       "<style scoped>\n",
       "    .dataframe tbody tr th:only-of-type {\n",
       "        vertical-align: middle;\n",
       "    }\n",
       "\n",
       "    .dataframe tbody tr th {\n",
       "        vertical-align: top;\n",
       "    }\n",
       "\n",
       "    .dataframe thead th {\n",
       "        text-align: right;\n",
       "    }\n",
       "</style>\n",
       "<table border=\"1\" class=\"dataframe\">\n",
       "  <thead>\n",
       "    <tr style=\"text-align: right;\">\n",
       "      <th></th>\n",
       "      <th>TM_A</th>\n",
       "      <th>TM_B</th>\n",
       "      <th>predict_proba</th>\n",
       "      <th>target</th>\n",
       "    </tr>\n",
       "  </thead>\n",
       "  <tbody>\n",
       "    <tr>\n",
       "      <th>319</th>\n",
       "      <td>giftobay</td>\n",
       "      <td>ebay</td>\n",
       "      <td>0.705537</td>\n",
       "      <td>0</td>\n",
       "    </tr>\n",
       "    <tr>\n",
       "      <th>133</th>\n",
       "      <td>dermaveel</td>\n",
       "      <td>dermawell</td>\n",
       "      <td>0.727301</td>\n",
       "      <td>1</td>\n",
       "    </tr>\n",
       "    <tr>\n",
       "      <th>327</th>\n",
       "      <td>ooohfudge</td>\n",
       "      <td>oohchocolata</td>\n",
       "      <td>0.491571</td>\n",
       "      <td>0</td>\n",
       "    </tr>\n",
       "    <tr>\n",
       "      <th>328</th>\n",
       "      <td>mobe</td>\n",
       "      <td>mobicard</td>\n",
       "      <td>0.673090</td>\n",
       "      <td>0</td>\n",
       "    </tr>\n",
       "    <tr>\n",
       "      <th>71</th>\n",
       "      <td>vype</td>\n",
       "      <td>mideltone</td>\n",
       "      <td>0.194714</td>\n",
       "      <td>0</td>\n",
       "    </tr>\n",
       "    <tr>\n",
       "      <th>81</th>\n",
       "      <td>woodybrownale</td>\n",
       "      <td>fab</td>\n",
       "      <td>0.244852</td>\n",
       "      <td>0</td>\n",
       "    </tr>\n",
       "    <tr>\n",
       "      <th>42</th>\n",
       "      <td>londonresi</td>\n",
       "      <td>biobooster</td>\n",
       "      <td>0.211906</td>\n",
       "      <td>0</td>\n",
       "    </tr>\n",
       "    <tr>\n",
       "      <th>19</th>\n",
       "      <td>groundtruth</td>\n",
       "      <td>imperialreserva</td>\n",
       "      <td>0.200449</td>\n",
       "      <td>0</td>\n",
       "    </tr>\n",
       "    <tr>\n",
       "      <th>346</th>\n",
       "      <td>go</td>\n",
       "      <td>shellgo</td>\n",
       "      <td>0.626098</td>\n",
       "      <td>0</td>\n",
       "    </tr>\n",
       "    <tr>\n",
       "      <th>113</th>\n",
       "      <td>elysium</td>\n",
       "      <td>gorilla</td>\n",
       "      <td>0.195731</td>\n",
       "      <td>0</td>\n",
       "    </tr>\n",
       "    <tr>\n",
       "      <th>40</th>\n",
       "      <td>thescienceofstoke</td>\n",
       "      <td>stoke</td>\n",
       "      <td>0.640507</td>\n",
       "      <td>1</td>\n",
       "    </tr>\n",
       "    <tr>\n",
       "      <th>217</th>\n",
       "      <td>alexanderofparis</td>\n",
       "      <td>alexandredeparis</td>\n",
       "      <td>0.721592</td>\n",
       "      <td>1</td>\n",
       "    </tr>\n",
       "    <tr>\n",
       "      <th>88</th>\n",
       "      <td>redinside</td>\n",
       "      <td>inside</td>\n",
       "      <td>0.673593</td>\n",
       "      <td>1</td>\n",
       "    </tr>\n",
       "    <tr>\n",
       "      <th>99</th>\n",
       "      <td>karex</td>\n",
       "      <td>carexy</td>\n",
       "      <td>0.698357</td>\n",
       "      <td>1</td>\n",
       "    </tr>\n",
       "    <tr>\n",
       "      <th>37</th>\n",
       "      <td>investedtogether</td>\n",
       "      <td>greybox</td>\n",
       "      <td>0.194362</td>\n",
       "      <td>0</td>\n",
       "    </tr>\n",
       "    <tr>\n",
       "      <th>174</th>\n",
       "      <td>grey</td>\n",
       "      <td>booboo</td>\n",
       "      <td>0.229365</td>\n",
       "      <td>0</td>\n",
       "    </tr>\n",
       "    <tr>\n",
       "      <th>58</th>\n",
       "      <td>fashiontan</td>\n",
       "      <td>entelec</td>\n",
       "      <td>0.202606</td>\n",
       "      <td>0</td>\n",
       "    </tr>\n",
       "    <tr>\n",
       "      <th>16</th>\n",
       "      <td>kozo</td>\n",
       "      <td>higain</td>\n",
       "      <td>0.201127</td>\n",
       "      <td>0</td>\n",
       "    </tr>\n",
       "    <tr>\n",
       "      <th>342</th>\n",
       "      <td>cristaline</td>\n",
       "      <td>krystalnaturesalkalinewater</td>\n",
       "      <td>0.537338</td>\n",
       "      <td>0</td>\n",
       "    </tr>\n",
       "    <tr>\n",
       "      <th>21</th>\n",
       "      <td>trucool</td>\n",
       "      <td>turcool</td>\n",
       "      <td>0.708946</td>\n",
       "      <td>1</td>\n",
       "    </tr>\n",
       "  </tbody>\n",
       "</table>\n",
       "</div>"
      ],
      "text/plain": [
       "                  TM_A                         TM_B  predict_proba  target\n",
       "319           giftobay                         ebay       0.705537       0\n",
       "133          dermaveel                    dermawell       0.727301       1\n",
       "327          ooohfudge                 oohchocolata       0.491571       0\n",
       "328               mobe                     mobicard       0.673090       0\n",
       "71                vype                    mideltone       0.194714       0\n",
       "81       woodybrownale                          fab       0.244852       0\n",
       "42          londonresi                   biobooster       0.211906       0\n",
       "19         groundtruth              imperialreserva       0.200449       0\n",
       "346                 go                      shellgo       0.626098       0\n",
       "113            elysium                      gorilla       0.195731       0\n",
       "40   thescienceofstoke                        stoke       0.640507       1\n",
       "217   alexanderofparis             alexandredeparis       0.721592       1\n",
       "88           redinside                       inside       0.673593       1\n",
       "99               karex                       carexy       0.698357       1\n",
       "37    investedtogether                      greybox       0.194362       0\n",
       "174               grey                       booboo       0.229365       0\n",
       "58          fashiontan                      entelec       0.202606       0\n",
       "16                kozo                       higain       0.201127       0\n",
       "342         cristaline  krystalnaturesalkalinewater       0.537338       0\n",
       "21             trucool                      turcool       0.708946       1"
      ]
     },
     "execution_count": 92,
     "metadata": {},
     "output_type": "execute_result"
    }
   ],
   "source": [
    "meta_training.sample(20)\n"
   ]
  },
  {
   "cell_type": "markdown",
   "metadata": {},
   "source": [
    "### Meta-Model: Logistic Regression"
   ]
  },
  {
   "cell_type": "code",
   "execution_count": 63,
   "metadata": {},
   "outputs": [
    {
     "data": {
      "application/vnd.jupyter.widget-view+json": {
       "model_id": "ee66767d75dd468a93dadb7a0beb2f34",
       "version_major": 2,
       "version_minor": 0
      },
      "text/plain": [
       "HBox(children=(FloatProgress(value=0.0, max=557.0), HTML(value='')))"
      ]
     },
     "metadata": {},
     "output_type": "display_data"
    },
    {
     "name": "stdout",
     "output_type": "stream",
     "text": [
      "\n"
     ]
    },
    {
     "data": {
      "application/vnd.jupyter.widget-view+json": {
       "model_id": "a6a0f9ed587c448a92858101cadfe177",
       "version_major": 2,
       "version_minor": 0
      },
      "text/plain": [
       "HBox(children=(FloatProgress(value=0.0, max=557.0), HTML(value='')))"
      ]
     },
     "metadata": {},
     "output_type": "display_data"
    },
    {
     "name": "stdout",
     "output_type": "stream",
     "text": [
      "\n"
     ]
    },
    {
     "data": {
      "application/vnd.jupyter.widget-view+json": {
       "model_id": "f0019b63198640308d27fdcb291be3aa",
       "version_major": 2,
       "version_minor": 0
      },
      "text/plain": [
       "HBox(children=(FloatProgress(value=0.0, max=557.0), HTML(value='')))"
      ]
     },
     "metadata": {},
     "output_type": "display_data"
    },
    {
     "name": "stdout",
     "output_type": "stream",
     "text": [
      "\n"
     ]
    },
    {
     "data": {
      "application/vnd.jupyter.widget-view+json": {
       "model_id": "2cd1263ae9aa4a1494f64f26fac94059",
       "version_major": 2,
       "version_minor": 0
      },
      "text/plain": [
       "HBox(children=(FloatProgress(value=0.0, max=557.0), HTML(value='')))"
      ]
     },
     "metadata": {},
     "output_type": "display_data"
    },
    {
     "name": "stdout",
     "output_type": "stream",
     "text": [
      "\n"
     ]
    },
    {
     "data": {
      "application/vnd.jupyter.widget-view+json": {
       "model_id": "efe3bbc1aa044eb398220f2d09a29a16",
       "version_major": 2,
       "version_minor": 0
      },
      "text/plain": [
       "HBox(children=(FloatProgress(value=0.0, max=557.0), HTML(value='')))"
      ]
     },
     "metadata": {},
     "output_type": "display_data"
    },
    {
     "name": "stdout",
     "output_type": "stream",
     "text": [
      "\n"
     ]
    },
    {
     "data": {
      "application/vnd.jupyter.widget-view+json": {
       "model_id": "f2a8801a7d174dcb89e74e8d3341927d",
       "version_major": 2,
       "version_minor": 0
      },
      "text/plain": [
       "HBox(children=(FloatProgress(value=0.0, max=557.0), HTML(value='')))"
      ]
     },
     "metadata": {},
     "output_type": "display_data"
    },
    {
     "name": "stdout",
     "output_type": "stream",
     "text": [
      "\n"
     ]
    },
    {
     "data": {
      "application/vnd.jupyter.widget-view+json": {
       "model_id": "1113e92a5b7a42689a08044e30b2424d",
       "version_major": 2,
       "version_minor": 0
      },
      "text/plain": [
       "HBox(children=(FloatProgress(value=0.0, max=557.0), HTML(value='')))"
      ]
     },
     "metadata": {},
     "output_type": "display_data"
    },
    {
     "name": "stdout",
     "output_type": "stream",
     "text": [
      "\n"
     ]
    },
    {
     "data": {
      "application/vnd.jupyter.widget-view+json": {
       "model_id": "3448097e97f844a4be33f8ec4df90ee8",
       "version_major": 2,
       "version_minor": 0
      },
      "text/plain": [
       "HBox(children=(FloatProgress(value=0.0, max=557.0), HTML(value='')))"
      ]
     },
     "metadata": {},
     "output_type": "display_data"
    },
    {
     "name": "stdout",
     "output_type": "stream",
     "text": [
      "\n"
     ]
    },
    {
     "data": {
      "application/vnd.jupyter.widget-view+json": {
       "model_id": "774f1cca3d35442492964df65f9040c5",
       "version_major": 2,
       "version_minor": 0
      },
      "text/plain": [
       "HBox(children=(FloatProgress(value=0.0, max=557.0), HTML(value='')))"
      ]
     },
     "metadata": {},
     "output_type": "display_data"
    },
    {
     "name": "stdout",
     "output_type": "stream",
     "text": [
      "\n"
     ]
    },
    {
     "data": {
      "application/vnd.jupyter.widget-view+json": {
       "model_id": "640281676e5c42528029ce56eda73a53",
       "version_major": 2,
       "version_minor": 0
      },
      "text/plain": [
       "HBox(children=(FloatProgress(value=0.0, max=557.0), HTML(value='')))"
      ]
     },
     "metadata": {},
     "output_type": "display_data"
    },
    {
     "name": "stdout",
     "output_type": "stream",
     "text": [
      "\n"
     ]
    },
    {
     "data": {
      "application/vnd.jupyter.widget-view+json": {
       "model_id": "0a1a25274a8e4eb9bdf07001f2766303",
       "version_major": 2,
       "version_minor": 0
      },
      "text/plain": [
       "HBox(children=(FloatProgress(value=0.0, max=557.0), HTML(value='')))"
      ]
     },
     "metadata": {},
     "output_type": "display_data"
    },
    {
     "name": "stdout",
     "output_type": "stream",
     "text": [
      "\n"
     ]
    },
    {
     "data": {
      "application/vnd.jupyter.widget-view+json": {
       "model_id": "fc0c81bf9bc14fb799e12b47777fdf8e",
       "version_major": 2,
       "version_minor": 0
      },
      "text/plain": [
       "HBox(children=(FloatProgress(value=0.0, max=557.0), HTML(value='')))"
      ]
     },
     "metadata": {},
     "output_type": "display_data"
    },
    {
     "name": "stdout",
     "output_type": "stream",
     "text": [
      "\n"
     ]
    },
    {
     "data": {
      "application/vnd.jupyter.widget-view+json": {
       "model_id": "851b5e131fdb4f688b0b08b98d076dd5",
       "version_major": 2,
       "version_minor": 0
      },
      "text/plain": [
       "HBox(children=(FloatProgress(value=0.0, max=557.0), HTML(value='')))"
      ]
     },
     "metadata": {},
     "output_type": "display_data"
    },
    {
     "name": "stdout",
     "output_type": "stream",
     "text": [
      "\n"
     ]
    },
    {
     "data": {
      "application/vnd.jupyter.widget-view+json": {
       "model_id": "d9178b74208241b5bef0615f515cb6d9",
       "version_major": 2,
       "version_minor": 0
      },
      "text/plain": [
       "HBox(children=(FloatProgress(value=0.0, max=557.0), HTML(value='')))"
      ]
     },
     "metadata": {},
     "output_type": "display_data"
    },
    {
     "name": "stdout",
     "output_type": "stream",
     "text": [
      "\n"
     ]
    },
    {
     "data": {
      "application/vnd.jupyter.widget-view+json": {
       "model_id": "e2d6818071174d71abf99cd45c296520",
       "version_major": 2,
       "version_minor": 0
      },
      "text/plain": [
       "HBox(children=(FloatProgress(value=0.0, max=557.0), HTML(value='')))"
      ]
     },
     "metadata": {},
     "output_type": "display_data"
    },
    {
     "name": "stdout",
     "output_type": "stream",
     "text": [
      "\n"
     ]
    },
    {
     "data": {
      "application/vnd.jupyter.widget-view+json": {
       "model_id": "f7537eb647df40e29e49040b617c280f",
       "version_major": 2,
       "version_minor": 0
      },
      "text/plain": [
       "HBox(children=(FloatProgress(value=0.0, max=557.0), HTML(value='')))"
      ]
     },
     "metadata": {},
     "output_type": "display_data"
    },
    {
     "name": "stdout",
     "output_type": "stream",
     "text": [
      "\n"
     ]
    },
    {
     "data": {
      "application/vnd.jupyter.widget-view+json": {
       "model_id": "bf272e0681e94e58b32d650821f7cd28",
       "version_major": 2,
       "version_minor": 0
      },
      "text/plain": [
       "HBox(children=(FloatProgress(value=0.0, max=557.0), HTML(value='')))"
      ]
     },
     "metadata": {},
     "output_type": "display_data"
    },
    {
     "name": "stdout",
     "output_type": "stream",
     "text": [
      "\n"
     ]
    }
   ],
   "source": [
    "df=featurize(meta_training)"
   ]
  },
  {
   "cell_type": "code",
   "execution_count": 85,
   "metadata": {},
   "outputs": [
    {
     "data": {
      "text/html": [
       "<div>\n",
       "<style scoped>\n",
       "    .dataframe tbody tr th:only-of-type {\n",
       "        vertical-align: middle;\n",
       "    }\n",
       "\n",
       "    .dataframe tbody tr th {\n",
       "        vertical-align: top;\n",
       "    }\n",
       "\n",
       "    .dataframe thead th {\n",
       "        text-align: right;\n",
       "    }\n",
       "</style>\n",
       "<table border=\"1\" class=\"dataframe\">\n",
       "  <thead>\n",
       "    <tr style=\"text-align: right;\">\n",
       "      <th></th>\n",
       "      <th>a</th>\n",
       "      <th>b</th>\n",
       "      <th>predict_proba</th>\n",
       "      <th>target</th>\n",
       "      <th>TM_A</th>\n",
       "      <th>TM_B</th>\n",
       "      <th>partial</th>\n",
       "      <th>tkn_sort</th>\n",
       "      <th>tkn_set</th>\n",
       "      <th>levenshtein</th>\n",
       "      <th>...</th>\n",
       "      <th>mra</th>\n",
       "      <th>editex</th>\n",
       "      <th>saps</th>\n",
       "      <th>flexmetric</th>\n",
       "      <th>jaro</th>\n",
       "      <th>higueramico</th>\n",
       "      <th>sift4</th>\n",
       "      <th>eudex</th>\n",
       "      <th>aline</th>\n",
       "      <th>phoneticeditdistance</th>\n",
       "    </tr>\n",
       "  </thead>\n",
       "  <tbody>\n",
       "    <tr>\n",
       "      <th>292</th>\n",
       "      <td>eezeevet</td>\n",
       "      <td>easipetcarelowcostvetswhocare</td>\n",
       "      <td>0.381372</td>\n",
       "      <td>0</td>\n",
       "      <td>eezeevet</td>\n",
       "      <td>easipetcarelowcostvetswhocare</td>\n",
       "      <td>38</td>\n",
       "      <td>32</td>\n",
       "      <td>32</td>\n",
       "      <td>0.676471</td>\n",
       "      <td>...</td>\n",
       "      <td>0.000000</td>\n",
       "      <td>0.293103</td>\n",
       "      <td>0.000000</td>\n",
       "      <td>0.408621</td>\n",
       "      <td>0.541188</td>\n",
       "      <td>0.000000</td>\n",
       "      <td>0.172414</td>\n",
       "      <td>0.914706</td>\n",
       "      <td>0.167347</td>\n",
       "      <td>0.271413</td>\n",
       "    </tr>\n",
       "    <tr>\n",
       "      <th>118</th>\n",
       "      <td>greybox</td>\n",
       "      <td>grey</td>\n",
       "      <td>0.756781</td>\n",
       "      <td>1</td>\n",
       "      <td>greybox</td>\n",
       "      <td>grey</td>\n",
       "      <td>100</td>\n",
       "      <td>73</td>\n",
       "      <td>73</td>\n",
       "      <td>0.088235</td>\n",
       "      <td>...</td>\n",
       "      <td>0.666667</td>\n",
       "      <td>0.571429</td>\n",
       "      <td>0.409091</td>\n",
       "      <td>0.571429</td>\n",
       "      <td>0.857143</td>\n",
       "      <td>0.490476</td>\n",
       "      <td>0.571429</td>\n",
       "      <td>0.968627</td>\n",
       "      <td>0.540541</td>\n",
       "      <td>0.571429</td>\n",
       "    </tr>\n",
       "    <tr>\n",
       "      <th>102</th>\n",
       "      <td>shortlyster</td>\n",
       "      <td>shortlister</td>\n",
       "      <td>0.728391</td>\n",
       "      <td>1</td>\n",
       "      <td>shortlyster</td>\n",
       "      <td>shortlister</td>\n",
       "      <td>91</td>\n",
       "      <td>91</td>\n",
       "      <td>91</td>\n",
       "      <td>0.029412</td>\n",
       "      <td>...</td>\n",
       "      <td>1.000000</td>\n",
       "      <td>0.954545</td>\n",
       "      <td>0.944444</td>\n",
       "      <td>0.990909</td>\n",
       "      <td>0.939394</td>\n",
       "      <td>0.909091</td>\n",
       "      <td>0.909091</td>\n",
       "      <td>1.000000</td>\n",
       "      <td>0.984615</td>\n",
       "      <td>0.997067</td>\n",
       "    </tr>\n",
       "    <tr>\n",
       "      <th>152</th>\n",
       "      <td>nextdealshop</td>\n",
       "      <td>seven</td>\n",
       "      <td>0.199776</td>\n",
       "      <td>0</td>\n",
       "      <td>nextdealshop</td>\n",
       "      <td>seven</td>\n",
       "      <td>20</td>\n",
       "      <td>24</td>\n",
       "      <td>24</td>\n",
       "      <td>0.294118</td>\n",
       "      <td>...</td>\n",
       "      <td>0.000000</td>\n",
       "      <td>0.291667</td>\n",
       "      <td>0.000000</td>\n",
       "      <td>0.345833</td>\n",
       "      <td>0.505556</td>\n",
       "      <td>0.000000</td>\n",
       "      <td>0.166667</td>\n",
       "      <td>0.795098</td>\n",
       "      <td>0.150000</td>\n",
       "      <td>0.376344</td>\n",
       "    </tr>\n",
       "    <tr>\n",
       "      <th>122</th>\n",
       "      <td>tata</td>\n",
       "      <td>camcap</td>\n",
       "      <td>0.334406</td>\n",
       "      <td>0</td>\n",
       "      <td>tata</td>\n",
       "      <td>camcap</td>\n",
       "      <td>50</td>\n",
       "      <td>40</td>\n",
       "      <td>40</td>\n",
       "      <td>0.117647</td>\n",
       "      <td>...</td>\n",
       "      <td>0.000000</td>\n",
       "      <td>0.333333</td>\n",
       "      <td>0.000000</td>\n",
       "      <td>0.475000</td>\n",
       "      <td>0.611111</td>\n",
       "      <td>0.300000</td>\n",
       "      <td>0.333333</td>\n",
       "      <td>0.924020</td>\n",
       "      <td>0.470588</td>\n",
       "      <td>0.607527</td>\n",
       "    </tr>\n",
       "    <tr>\n",
       "      <th>176</th>\n",
       "      <td>classview</td>\n",
       "      <td>seven</td>\n",
       "      <td>0.243328</td>\n",
       "      <td>0</td>\n",
       "      <td>classview</td>\n",
       "      <td>seven</td>\n",
       "      <td>60</td>\n",
       "      <td>43</td>\n",
       "      <td>43</td>\n",
       "      <td>0.176471</td>\n",
       "      <td>...</td>\n",
       "      <td>0.500000</td>\n",
       "      <td>0.388889</td>\n",
       "      <td>0.068966</td>\n",
       "      <td>0.455556</td>\n",
       "      <td>0.540741</td>\n",
       "      <td>0.232143</td>\n",
       "      <td>0.333333</td>\n",
       "      <td>0.848529</td>\n",
       "      <td>0.372340</td>\n",
       "      <td>0.482079</td>\n",
       "    </tr>\n",
       "    <tr>\n",
       "      <th>67</th>\n",
       "      <td>gideonsuk</td>\n",
       "      <td>gideon</td>\n",
       "      <td>0.717324</td>\n",
       "      <td>1</td>\n",
       "      <td>gideonsuk</td>\n",
       "      <td>gideon</td>\n",
       "      <td>100</td>\n",
       "      <td>80</td>\n",
       "      <td>80</td>\n",
       "      <td>0.088235</td>\n",
       "      <td>...</td>\n",
       "      <td>0.666667</td>\n",
       "      <td>0.666667</td>\n",
       "      <td>0.458333</td>\n",
       "      <td>0.677778</td>\n",
       "      <td>0.888889</td>\n",
       "      <td>0.621032</td>\n",
       "      <td>0.666667</td>\n",
       "      <td>0.918627</td>\n",
       "      <td>0.638298</td>\n",
       "      <td>0.666667</td>\n",
       "    </tr>\n",
       "    <tr>\n",
       "      <th>309</th>\n",
       "      <td>mcq</td>\n",
       "      <td>ukmq</td>\n",
       "      <td>0.425037</td>\n",
       "      <td>0</td>\n",
       "      <td>mcq</td>\n",
       "      <td>ukmq</td>\n",
       "      <td>67</td>\n",
       "      <td>57</td>\n",
       "      <td>57</td>\n",
       "      <td>0.088235</td>\n",
       "      <td>...</td>\n",
       "      <td>0.000000</td>\n",
       "      <td>0.375000</td>\n",
       "      <td>0.263158</td>\n",
       "      <td>0.475000</td>\n",
       "      <td>0.527778</td>\n",
       "      <td>0.350000</td>\n",
       "      <td>0.500000</td>\n",
       "      <td>0.742157</td>\n",
       "      <td>0.500000</td>\n",
       "      <td>0.649194</td>\n",
       "    </tr>\n",
       "    <tr>\n",
       "      <th>232</th>\n",
       "      <td>urbaneat</td>\n",
       "      <td>urbanstreet</td>\n",
       "      <td>0.713551</td>\n",
       "      <td>1</td>\n",
       "      <td>urbaneat</td>\n",
       "      <td>urbanstreet</td>\n",
       "      <td>75</td>\n",
       "      <td>74</td>\n",
       "      <td>74</td>\n",
       "      <td>0.117647</td>\n",
       "      <td>...</td>\n",
       "      <td>0.666667</td>\n",
       "      <td>0.681818</td>\n",
       "      <td>0.166667</td>\n",
       "      <td>0.736364</td>\n",
       "      <td>0.789502</td>\n",
       "      <td>0.607071</td>\n",
       "      <td>0.545455</td>\n",
       "      <td>0.793627</td>\n",
       "      <td>0.540984</td>\n",
       "      <td>0.718475</td>\n",
       "    </tr>\n",
       "    <tr>\n",
       "      <th>142</th>\n",
       "      <td>greyfamouslyeffective</td>\n",
       "      <td>beautifuleffective</td>\n",
       "      <td>0.685398</td>\n",
       "      <td>1</td>\n",
       "      <td>greyfamouslyeffective</td>\n",
       "      <td>beautifuleffective</td>\n",
       "      <td>67</td>\n",
       "      <td>67</td>\n",
       "      <td>67</td>\n",
       "      <td>0.264706</td>\n",
       "      <td>...</td>\n",
       "      <td>0.500000</td>\n",
       "      <td>0.595238</td>\n",
       "      <td>0.344262</td>\n",
       "      <td>0.578571</td>\n",
       "      <td>0.791005</td>\n",
       "      <td>0.564035</td>\n",
       "      <td>0.619048</td>\n",
       "      <td>0.742157</td>\n",
       "      <td>0.661682</td>\n",
       "      <td>0.794163</td>\n",
       "    </tr>\n",
       "    <tr>\n",
       "      <th>159</th>\n",
       "      <td>truetraveler</td>\n",
       "      <td>trucool</td>\n",
       "      <td>0.527570</td>\n",
       "      <td>0</td>\n",
       "      <td>truetraveler</td>\n",
       "      <td>trucool</td>\n",
       "      <td>43</td>\n",
       "      <td>42</td>\n",
       "      <td>42</td>\n",
       "      <td>0.235294</td>\n",
       "      <td>...</td>\n",
       "      <td>0.000000</td>\n",
       "      <td>0.458333</td>\n",
       "      <td>0.000000</td>\n",
       "      <td>0.545833</td>\n",
       "      <td>0.634921</td>\n",
       "      <td>0.239646</td>\n",
       "      <td>0.333333</td>\n",
       "      <td>0.835294</td>\n",
       "      <td>0.429688</td>\n",
       "      <td>0.544355</td>\n",
       "    </tr>\n",
       "    <tr>\n",
       "      <th>349</th>\n",
       "      <td>vapo</td>\n",
       "      <td>vapods</td>\n",
       "      <td>0.749880</td>\n",
       "      <td>0</td>\n",
       "      <td>vapo</td>\n",
       "      <td>vapods</td>\n",
       "      <td>100</td>\n",
       "      <td>80</td>\n",
       "      <td>80</td>\n",
       "      <td>0.058824</td>\n",
       "      <td>...</td>\n",
       "      <td>0.666667</td>\n",
       "      <td>0.666667</td>\n",
       "      <td>0.476190</td>\n",
       "      <td>0.766667</td>\n",
       "      <td>0.888889</td>\n",
       "      <td>0.633333</td>\n",
       "      <td>0.666667</td>\n",
       "      <td>0.984314</td>\n",
       "      <td>0.588235</td>\n",
       "      <td>0.666667</td>\n",
       "    </tr>\n",
       "    <tr>\n",
       "      <th>211</th>\n",
       "      <td>vapeco</td>\n",
       "      <td>vapeco</td>\n",
       "      <td>0.691132</td>\n",
       "      <td>1</td>\n",
       "      <td>vapeco</td>\n",
       "      <td>vapeco</td>\n",
       "      <td>100</td>\n",
       "      <td>100</td>\n",
       "      <td>100</td>\n",
       "      <td>0.000000</td>\n",
       "      <td>...</td>\n",
       "      <td>1.000000</td>\n",
       "      <td>1.000000</td>\n",
       "      <td>1.000000</td>\n",
       "      <td>1.000000</td>\n",
       "      <td>1.000000</td>\n",
       "      <td>1.000000</td>\n",
       "      <td>1.000000</td>\n",
       "      <td>1.000000</td>\n",
       "      <td>1.000000</td>\n",
       "      <td>1.000000</td>\n",
       "    </tr>\n",
       "    <tr>\n",
       "      <th>246</th>\n",
       "      <td>horizon</td>\n",
       "      <td>horizonrisksolutions</td>\n",
       "      <td>0.767766</td>\n",
       "      <td>1</td>\n",
       "      <td>horizon</td>\n",
       "      <td>horizonrisksolutions</td>\n",
       "      <td>100</td>\n",
       "      <td>52</td>\n",
       "      <td>52</td>\n",
       "      <td>0.382353</td>\n",
       "      <td>...</td>\n",
       "      <td>0.500000</td>\n",
       "      <td>0.375000</td>\n",
       "      <td>0.000000</td>\n",
       "      <td>0.390000</td>\n",
       "      <td>0.783333</td>\n",
       "      <td>0.000000</td>\n",
       "      <td>0.350000</td>\n",
       "      <td>0.911275</td>\n",
       "      <td>0.342593</td>\n",
       "      <td>0.350000</td>\n",
       "    </tr>\n",
       "    <tr>\n",
       "      <th>133</th>\n",
       "      <td>wago</td>\n",
       "      <td>suismanshapiro</td>\n",
       "      <td>0.209786</td>\n",
       "      <td>0</td>\n",
       "      <td>wago</td>\n",
       "      <td>suismanshapiro</td>\n",
       "      <td>25</td>\n",
       "      <td>22</td>\n",
       "      <td>22</td>\n",
       "      <td>0.352941</td>\n",
       "      <td>...</td>\n",
       "      <td>0.000000</td>\n",
       "      <td>0.214286</td>\n",
       "      <td>0.000000</td>\n",
       "      <td>0.239286</td>\n",
       "      <td>0.440476</td>\n",
       "      <td>0.000000</td>\n",
       "      <td>0.071429</td>\n",
       "      <td>0.796569</td>\n",
       "      <td>0.085135</td>\n",
       "      <td>0.261521</td>\n",
       "    </tr>\n",
       "    <tr>\n",
       "      <th>154</th>\n",
       "      <td>postit</td>\n",
       "      <td>vapouriz</td>\n",
       "      <td>0.330232</td>\n",
       "      <td>0</td>\n",
       "      <td>postit</td>\n",
       "      <td>vapouriz</td>\n",
       "      <td>50</td>\n",
       "      <td>43</td>\n",
       "      <td>43</td>\n",
       "      <td>0.147059</td>\n",
       "      <td>...</td>\n",
       "      <td>0.000000</td>\n",
       "      <td>0.375000</td>\n",
       "      <td>0.000000</td>\n",
       "      <td>0.375000</td>\n",
       "      <td>0.625000</td>\n",
       "      <td>0.357143</td>\n",
       "      <td>0.375000</td>\n",
       "      <td>0.831863</td>\n",
       "      <td>0.402500</td>\n",
       "      <td>0.665323</td>\n",
       "    </tr>\n",
       "    <tr>\n",
       "      <th>116</th>\n",
       "      <td>shortlyster</td>\n",
       "      <td>jobzgenie</td>\n",
       "      <td>0.198275</td>\n",
       "      <td>0</td>\n",
       "      <td>shortlyster</td>\n",
       "      <td>jobzgenie</td>\n",
       "      <td>22</td>\n",
       "      <td>20</td>\n",
       "      <td>20</td>\n",
       "      <td>0.264706</td>\n",
       "      <td>...</td>\n",
       "      <td>0.000000</td>\n",
       "      <td>0.227273</td>\n",
       "      <td>0.000000</td>\n",
       "      <td>0.250000</td>\n",
       "      <td>0.468013</td>\n",
       "      <td>0.172727</td>\n",
       "      <td>0.181818</td>\n",
       "      <td>0.760294</td>\n",
       "      <td>0.227692</td>\n",
       "      <td>0.678886</td>\n",
       "    </tr>\n",
       "    <tr>\n",
       "      <th>342</th>\n",
       "      <td>cristaline</td>\n",
       "      <td>krystalnaturesalkalinewater</td>\n",
       "      <td>0.537338</td>\n",
       "      <td>0</td>\n",
       "      <td>cristaline</td>\n",
       "      <td>krystalnaturesalkalinewater</td>\n",
       "      <td>60</td>\n",
       "      <td>43</td>\n",
       "      <td>43</td>\n",
       "      <td>0.558824</td>\n",
       "      <td>...</td>\n",
       "      <td>0.000000</td>\n",
       "      <td>0.351852</td>\n",
       "      <td>0.000000</td>\n",
       "      <td>0.453704</td>\n",
       "      <td>0.657099</td>\n",
       "      <td>0.000000</td>\n",
       "      <td>0.259259</td>\n",
       "      <td>0.873039</td>\n",
       "      <td>0.312057</td>\n",
       "      <td>0.367981</td>\n",
       "    </tr>\n",
       "    <tr>\n",
       "      <th>95</th>\n",
       "      <td>fwd</td>\n",
       "      <td>affinityleasing</td>\n",
       "      <td>0.249897</td>\n",
       "      <td>0</td>\n",
       "      <td>fwd</td>\n",
       "      <td>affinityleasing</td>\n",
       "      <td>33</td>\n",
       "      <td>11</td>\n",
       "      <td>11</td>\n",
       "      <td>0.411765</td>\n",
       "      <td>...</td>\n",
       "      <td>0.000000</td>\n",
       "      <td>0.200000</td>\n",
       "      <td>0.000000</td>\n",
       "      <td>0.233333</td>\n",
       "      <td>0.466667</td>\n",
       "      <td>0.000000</td>\n",
       "      <td>0.066667</td>\n",
       "      <td>0.640196</td>\n",
       "      <td>0.207792</td>\n",
       "      <td>0.182796</td>\n",
       "    </tr>\n",
       "    <tr>\n",
       "      <th>328</th>\n",
       "      <td>mobe</td>\n",
       "      <td>mobicard</td>\n",
       "      <td>0.673090</td>\n",
       "      <td>0</td>\n",
       "      <td>mobe</td>\n",
       "      <td>mobicard</td>\n",
       "      <td>75</td>\n",
       "      <td>50</td>\n",
       "      <td>50</td>\n",
       "      <td>0.147059</td>\n",
       "      <td>...</td>\n",
       "      <td>0.000000</td>\n",
       "      <td>0.437500</td>\n",
       "      <td>0.142857</td>\n",
       "      <td>0.543750</td>\n",
       "      <td>0.708333</td>\n",
       "      <td>0.240476</td>\n",
       "      <td>0.375000</td>\n",
       "      <td>0.947059</td>\n",
       "      <td>0.420455</td>\n",
       "      <td>0.495968</td>\n",
       "    </tr>\n",
       "  </tbody>\n",
       "</table>\n",
       "<p>20 rows × 31 columns</p>\n",
       "</div>"
      ],
      "text/plain": [
       "                         a                              b  predict_proba  \\\n",
       "292               eezeevet  easipetcarelowcostvetswhocare       0.381372   \n",
       "118                greybox                           grey       0.756781   \n",
       "102            shortlyster                    shortlister       0.728391   \n",
       "152           nextdealshop                          seven       0.199776   \n",
       "122                   tata                         camcap       0.334406   \n",
       "176              classview                          seven       0.243328   \n",
       "67               gideonsuk                         gideon       0.717324   \n",
       "309                    mcq                           ukmq       0.425037   \n",
       "232               urbaneat                    urbanstreet       0.713551   \n",
       "142  greyfamouslyeffective             beautifuleffective       0.685398   \n",
       "159           truetraveler                        trucool       0.527570   \n",
       "349                   vapo                         vapods       0.749880   \n",
       "211                 vapeco                         vapeco       0.691132   \n",
       "246                horizon           horizonrisksolutions       0.767766   \n",
       "133                   wago                 suismanshapiro       0.209786   \n",
       "154                 postit                       vapouriz       0.330232   \n",
       "116            shortlyster                      jobzgenie       0.198275   \n",
       "342             cristaline    krystalnaturesalkalinewater       0.537338   \n",
       "95                     fwd                affinityleasing       0.249897   \n",
       "328                   mobe                       mobicard       0.673090   \n",
       "\n",
       "     target                   TM_A                           TM_B  partial  \\\n",
       "292       0               eezeevet  easipetcarelowcostvetswhocare       38   \n",
       "118       1                greybox                           grey      100   \n",
       "102       1            shortlyster                    shortlister       91   \n",
       "152       0           nextdealshop                          seven       20   \n",
       "122       0                   tata                         camcap       50   \n",
       "176       0              classview                          seven       60   \n",
       "67        1              gideonsuk                         gideon      100   \n",
       "309       0                    mcq                           ukmq       67   \n",
       "232       1               urbaneat                    urbanstreet       75   \n",
       "142       1  greyfamouslyeffective             beautifuleffective       67   \n",
       "159       0           truetraveler                        trucool       43   \n",
       "349       0                   vapo                         vapods      100   \n",
       "211       1                 vapeco                         vapeco      100   \n",
       "246       1                horizon           horizonrisksolutions      100   \n",
       "133       0                   wago                 suismanshapiro       25   \n",
       "154       0                 postit                       vapouriz       50   \n",
       "116       0            shortlyster                      jobzgenie       22   \n",
       "342       0             cristaline    krystalnaturesalkalinewater       60   \n",
       "95        0                    fwd                affinityleasing       33   \n",
       "328       0                   mobe                       mobicard       75   \n",
       "\n",
       "     tkn_sort  tkn_set  levenshtein  ...       mra    editex      saps  \\\n",
       "292        32       32     0.676471  ...  0.000000  0.293103  0.000000   \n",
       "118        73       73     0.088235  ...  0.666667  0.571429  0.409091   \n",
       "102        91       91     0.029412  ...  1.000000  0.954545  0.944444   \n",
       "152        24       24     0.294118  ...  0.000000  0.291667  0.000000   \n",
       "122        40       40     0.117647  ...  0.000000  0.333333  0.000000   \n",
       "176        43       43     0.176471  ...  0.500000  0.388889  0.068966   \n",
       "67         80       80     0.088235  ...  0.666667  0.666667  0.458333   \n",
       "309        57       57     0.088235  ...  0.000000  0.375000  0.263158   \n",
       "232        74       74     0.117647  ...  0.666667  0.681818  0.166667   \n",
       "142        67       67     0.264706  ...  0.500000  0.595238  0.344262   \n",
       "159        42       42     0.235294  ...  0.000000  0.458333  0.000000   \n",
       "349        80       80     0.058824  ...  0.666667  0.666667  0.476190   \n",
       "211       100      100     0.000000  ...  1.000000  1.000000  1.000000   \n",
       "246        52       52     0.382353  ...  0.500000  0.375000  0.000000   \n",
       "133        22       22     0.352941  ...  0.000000  0.214286  0.000000   \n",
       "154        43       43     0.147059  ...  0.000000  0.375000  0.000000   \n",
       "116        20       20     0.264706  ...  0.000000  0.227273  0.000000   \n",
       "342        43       43     0.558824  ...  0.000000  0.351852  0.000000   \n",
       "95         11       11     0.411765  ...  0.000000  0.200000  0.000000   \n",
       "328        50       50     0.147059  ...  0.000000  0.437500  0.142857   \n",
       "\n",
       "     flexmetric      jaro  higueramico     sift4     eudex     aline  \\\n",
       "292    0.408621  0.541188     0.000000  0.172414  0.914706  0.167347   \n",
       "118    0.571429  0.857143     0.490476  0.571429  0.968627  0.540541   \n",
       "102    0.990909  0.939394     0.909091  0.909091  1.000000  0.984615   \n",
       "152    0.345833  0.505556     0.000000  0.166667  0.795098  0.150000   \n",
       "122    0.475000  0.611111     0.300000  0.333333  0.924020  0.470588   \n",
       "176    0.455556  0.540741     0.232143  0.333333  0.848529  0.372340   \n",
       "67     0.677778  0.888889     0.621032  0.666667  0.918627  0.638298   \n",
       "309    0.475000  0.527778     0.350000  0.500000  0.742157  0.500000   \n",
       "232    0.736364  0.789502     0.607071  0.545455  0.793627  0.540984   \n",
       "142    0.578571  0.791005     0.564035  0.619048  0.742157  0.661682   \n",
       "159    0.545833  0.634921     0.239646  0.333333  0.835294  0.429688   \n",
       "349    0.766667  0.888889     0.633333  0.666667  0.984314  0.588235   \n",
       "211    1.000000  1.000000     1.000000  1.000000  1.000000  1.000000   \n",
       "246    0.390000  0.783333     0.000000  0.350000  0.911275  0.342593   \n",
       "133    0.239286  0.440476     0.000000  0.071429  0.796569  0.085135   \n",
       "154    0.375000  0.625000     0.357143  0.375000  0.831863  0.402500   \n",
       "116    0.250000  0.468013     0.172727  0.181818  0.760294  0.227692   \n",
       "342    0.453704  0.657099     0.000000  0.259259  0.873039  0.312057   \n",
       "95     0.233333  0.466667     0.000000  0.066667  0.640196  0.207792   \n",
       "328    0.543750  0.708333     0.240476  0.375000  0.947059  0.420455   \n",
       "\n",
       "     phoneticeditdistance  \n",
       "292              0.271413  \n",
       "118              0.571429  \n",
       "102              0.997067  \n",
       "152              0.376344  \n",
       "122              0.607527  \n",
       "176              0.482079  \n",
       "67               0.666667  \n",
       "309              0.649194  \n",
       "232              0.718475  \n",
       "142              0.794163  \n",
       "159              0.544355  \n",
       "349              0.666667  \n",
       "211              1.000000  \n",
       "246              0.350000  \n",
       "133              0.261521  \n",
       "154              0.665323  \n",
       "116              0.678886  \n",
       "342              0.367981  \n",
       "95               0.182796  \n",
       "328              0.495968  \n",
       "\n",
       "[20 rows x 31 columns]"
      ]
     },
     "execution_count": 85,
     "metadata": {},
     "output_type": "execute_result"
    }
   ],
   "source": [
    "df.sample(20)"
   ]
  },
  {
   "cell_type": "markdown",
   "metadata": {},
   "source": [
    "### Evaluate Gradient Boosting Classifier"
   ]
  },
  {
   "cell_type": "code",
   "execution_count": 73,
   "metadata": {},
   "outputs": [
    {
     "name": "stdout",
     "output_type": "stream",
     "text": [
      "Confusion Matrix:\n",
      "[[22  5]\n",
      " [ 3 25]]\n",
      "Classification Report\n",
      "              precision    recall  f1-score   support\n",
      "\n",
      "           0       0.88      0.81      0.85        27\n",
      "           1       0.83      0.89      0.86        28\n",
      "\n",
      "    accuracy                           0.85        55\n",
      "   macro avg       0.86      0.85      0.85        55\n",
      "weighted avg       0.86      0.85      0.85        55\n",
      "\n"
     ]
    }
   ],
   "source": [
    "from sklearn.metrics import classification_report, confusion_matrix\n",
    "from sklearn.ensemble import GradientBoostingClassifier\n",
    "\n",
    "gb_clf2 = GradientBoostingClassifier(learning_rate=0.01, \n",
    "        max_depth=3, max_features=0.5,\n",
    "        min_samples_leaf=10, min_samples_split=3, \n",
    "        n_estimators=100, subsample=0.9500000000000001)\n",
    "gb_clf2.fit(X_train.drop(['a', 'b', 'TM_A', 'TM_B'], 1), y_train)\n",
    "predictions = gb_clf2.predict(X_test.drop(['a', 'b', 'TM_A', 'TM_B'], 1))\n",
    "\n",
    "print(\"Confusion Matrix:\")\n",
    "print(confusion_matrix(y_test, predictions))\n",
    "\n",
    "print(\"Classification Report\")\n",
    "print(classification_report(y_test, predictions))"
   ]
  },
  {
   "cell_type": "code",
   "execution_count": null,
   "metadata": {},
   "outputs": [],
   "source": [
    "# df_confusion.to_csv('TM_GBC_Confusion_matris.csv')"
   ]
  },
  {
   "cell_type": "code",
   "execution_count": 74,
   "metadata": {},
   "outputs": [],
   "source": [
    "# roc curve and auc\n",
    "from sklearn.metrics import roc_curve\n",
    "from sklearn.metrics import roc_auc_score\n",
    "import matplotlib.pyplot as plt"
   ]
  },
  {
   "cell_type": "code",
   "execution_count": 75,
   "metadata": {},
   "outputs": [
    {
     "ename": "NameError",
     "evalue": "name 'grid_clf2' is not defined",
     "output_type": "error",
     "traceback": [
      "\u001b[0;31m---------------------------------------------------------------------------\u001b[0m",
      "\u001b[0;31mNameError\u001b[0m                                 Traceback (most recent call last)",
      "\u001b[0;32m<ipython-input-75-5032d38574df>\u001b[0m in \u001b[0;36m<module>\u001b[0;34m\u001b[0m\n\u001b[1;32m      3\u001b[0m \u001b[0;34m\u001b[0m\u001b[0m\n\u001b[1;32m      4\u001b[0m \u001b[0;31m# keep probabilities for the positive outcome only\u001b[0m\u001b[0;34m\u001b[0m\u001b[0;34m\u001b[0m\u001b[0;34m\u001b[0m\u001b[0m\n\u001b[0;32m----> 5\u001b[0;31m \u001b[0mprobs\u001b[0m \u001b[0;34m=\u001b[0m \u001b[0mgrid_clf2\u001b[0m\u001b[0;34m.\u001b[0m\u001b[0mpredict_proba\u001b[0m\u001b[0;34m(\u001b[0m\u001b[0mX_test\u001b[0m\u001b[0;34m[\u001b[0m\u001b[0mselected_cols\u001b[0m\u001b[0;34m]\u001b[0m\u001b[0;34m)\u001b[0m\u001b[0;34m\u001b[0m\u001b[0;34m\u001b[0m\u001b[0m\n\u001b[0m\u001b[1;32m      6\u001b[0m \u001b[0mprobs\u001b[0m \u001b[0;34m=\u001b[0m \u001b[0mprobs\u001b[0m\u001b[0;34m[\u001b[0m\u001b[0;34m:\u001b[0m\u001b[0;34m,\u001b[0m \u001b[0;36m1\u001b[0m\u001b[0;34m]\u001b[0m\u001b[0;34m\u001b[0m\u001b[0;34m\u001b[0m\u001b[0m\n\u001b[1;32m      7\u001b[0m \u001b[0;34m\u001b[0m\u001b[0m\n",
      "\u001b[0;31mNameError\u001b[0m: name 'grid_clf2' is not defined"
     ]
    },
    {
     "data": {
      "image/png": "[encoded data removed]",
      "text/plain": [
       "<Figure size 504x504 with 1 Axes>"
      ]
     },
     "metadata": {
      "needs_background": "light"
     },
     "output_type": "display_data"
    }
   ],
   "source": [
    "fig, ax = plt.subplots(1,1, figsize=(7,7))\n",
    "baseline_probs = [0 for _ in range(len(y_test))]\n",
    "\n",
    "# keep probabilities for the positive outcome only\n",
    "probs = grid_clf2.predict_proba(X_test[selected_cols])\n",
    "probs = probs[:, 1]\n",
    "\n",
    "# calculate scores\n",
    "baseline_auc = roc_auc_score(y_test, baseline_probs)\n",
    "auc = roc_auc_score(y_test, probs)\n",
    "auc = ('AUC=%.3f' % (auc))\n",
    "\n",
    "# calculate roc curves\n",
    "baseline_fpr, baseline_tpr, _ = roc_curve(y_test, baseline_probs)\n",
    "fpr, tpr, _ = roc_curve(y_test, probs)\n",
    "\n",
    "# plot the roc curve for the model\n",
    "ax.plot(baseline_fpr, baseline_tpr, color='gray')\n",
    "ax.plot(fpr, tpr, marker='.', color='black')\n",
    "\n",
    "# axis labels\n",
    "ax.set_xlabel('False Positive Rate',fontsize=12)\n",
    "ax.set_ylabel('True Positive Rate',fontsize=12)\n",
    "ax.set_title('Receiver Operating Characteristic', fontsize=16)\n",
    "plt.text(.6, .3, auc, fontsize=13)\n",
    "\n",
    "# plt.savefig('TM_GBC_ROC.png', dpi = 300)"
   ]
  },
  {
   "cell_type": "code",
   "execution_count": 76,
   "metadata": {},
   "outputs": [
    {
     "data": {
      "image/png": "[encoded data removed]",
      "text/plain": [
       "<Figure size 1440x1080 with 2 Axes>"
      ]
     },
     "metadata": {
      "needs_background": "light"
     },
     "output_type": "display_data"
    }
   ],
   "source": [
    "import seaborn as sns\n",
    "\n",
    "corr = df.corr()\n",
    "sns.heatmap(corr, xticklabels=corr.columns.values,\n",
    "            yticklabels=corr.columns.values, annot = True)\n",
    "heat_map=plt.gcf()\n",
    "heat_map.set_size_inches(20,15)\n",
    "plt.xticks(fontsize=10)\n",
    "plt.yticks(fontsize=10)\n",
    "plt.show()"
   ]
  },
  {
   "cell_type": "markdown",
   "metadata": {},
   "source": [
    "# Grid Search   \n",
    "\n",
    "Hyperparameter tuning?"
   ]
  },
  {
   "cell_type": "code",
   "execution_count": 80,
   "metadata": {},
   "outputs": [],
   "source": [
    "cols = [col for col in df.columns if col not in ['a', 'b', 'TM_A', 'TM_B', 'target', 'predict_proba']]\n",
    "comb2 = list(combinations(cols, 2))\n",
    "comb3 = list(combinations(cols, 3))\n",
    "colgrid = [(col,)for col in cols]+comb2+comb3\n"
   ]
  },
  {
   "cell_type": "code",
   "execution_count": 81,
   "metadata": {},
   "outputs": [],
   "source": [
    "from sklearn.model_selection import GridSearchCV\n",
    "from sklearn.linear_model import LogisticRegression\n",
    "from sklearn.metrics import confusion_matrix"
   ]
  },
  {
   "cell_type": "code",
   "execution_count": 82,
   "metadata": {},
   "outputs": [],
   "source": [
    "X_train, X_test, y_train, y_test = train_test_split(df, df.target, test_size=0.2, random_state=42)\n",
    "X_train, X_val, y_train, y_val = train_test_split(X_train, y_train, test_size=0.25, random_state=42)"
   ]
  },
  {
   "cell_type": "code",
   "execution_count": null,
   "metadata": {},
   "outputs": [],
   "source": [
    "clf = LogisticRegression()\n",
    "grid_clf = GridSearchCV(clf, param_grid = {'C':np.logspace(-4, 4, 20)}, scoring = 'precision', verbose=0)\n",
    "\n",
    "scores = []\n",
    "for cols in colgrid:\n",
    "    grid_clf.fit(X_train[['predict_proba']+list(cols)], y_train)\n",
    "    y_pred = grid_clf.predict(X_val[['predict_proba']+list(cols)])\n",
    "    tn, fp, fn, tp = confusion_matrix(y_val, y_pred).ravel()\n",
    "    scores.append([str(cols), tn, fp, fn, tp])"
   ]
  },
  {
   "cell_type": "code",
   "execution_count": 83,
   "metadata": {},
   "outputs": [
    {
     "ename": "NameError",
     "evalue": "name 'scores' is not defined",
     "output_type": "error",
     "traceback": [
      "\u001b[0;31m---------------------------------------------------------------------------\u001b[0m",
      "\u001b[0;31mNameError\u001b[0m                                 Traceback (most recent call last)",
      "\u001b[0;32m<ipython-input-83-46b4b399ab46>\u001b[0m in \u001b[0;36m<module>\u001b[0;34m\u001b[0m\n\u001b[0;32m----> 1\u001b[0;31m \u001b[0mscores_df\u001b[0m \u001b[0;34m=\u001b[0m \u001b[0mpd\u001b[0m\u001b[0;34m.\u001b[0m\u001b[0mDataFrame\u001b[0m\u001b[0;34m(\u001b[0m\u001b[0mscores\u001b[0m\u001b[0;34m)\u001b[0m\u001b[0;34m\u001b[0m\u001b[0;34m\u001b[0m\u001b[0m\n\u001b[0m",
      "\u001b[0;31mNameError\u001b[0m: name 'scores' is not defined"
     ]
    }
   ],
   "source": [
    "scores_df = pd.DataFrame(scores)"
   ]
  },
  {
   "cell_type": "code",
   "execution_count": 84,
   "metadata": {},
   "outputs": [
    {
     "ename": "NameError",
     "evalue": "name 'scores_df' is not defined",
     "output_type": "error",
     "traceback": [
      "\u001b[0;31m---------------------------------------------------------------------------\u001b[0m",
      "\u001b[0;31mNameError\u001b[0m                                 Traceback (most recent call last)",
      "\u001b[0;32m<ipython-input-84-ecb193c844f5>\u001b[0m in \u001b[0;36m<module>\u001b[0;34m\u001b[0m\n\u001b[0;32m----> 1\u001b[0;31m \u001b[0mscores_df\u001b[0m\u001b[0;34m.\u001b[0m\u001b[0mcolumns\u001b[0m \u001b[0;34m=\u001b[0m \u001b[0;34m[\u001b[0m\u001b[0;34m'features'\u001b[0m\u001b[0;34m,\u001b[0m \u001b[0;34m'tn'\u001b[0m\u001b[0;34m,\u001b[0m \u001b[0;34m'fp'\u001b[0m\u001b[0;34m,\u001b[0m \u001b[0;34m'fn'\u001b[0m\u001b[0;34m,\u001b[0m \u001b[0;34m'tp'\u001b[0m\u001b[0;34m]\u001b[0m\u001b[0;34m\u001b[0m\u001b[0;34m\u001b[0m\u001b[0m\n\u001b[0m",
      "\u001b[0;31mNameError\u001b[0m: name 'scores_df' is not defined"
     ]
    }
   ],
   "source": [
    "scores_df.columns = ['features', 'tn', 'fp', 'fn', 'tp']"
   ]
  },
  {
   "cell_type": "code",
   "execution_count": null,
   "metadata": {},
   "outputs": [],
   "source": [
    "scores_df.head()"
   ]
  },
  {
   "cell_type": "code",
   "execution_count": null,
   "metadata": {},
   "outputs": [],
   "source": [
    "scores_df['error'] = scores_df['fp'] + scores_df['fn']"
   ]
  },
  {
   "cell_type": "code",
   "execution_count": null,
   "metadata": {},
   "outputs": [],
   "source": [
    "scores_df = scores_df.sort_values(['error', 'fp'])"
   ]
  },
  {
   "cell_type": "code",
   "execution_count": null,
   "metadata": {},
   "outputs": [],
   "source": [
    "X_train, X_test, y_train, y_test = train_test_split(df, df.target, test_size=0.2, random_state=42)"
   ]
  },
  {
   "cell_type": "code",
   "execution_count": null,
   "metadata": {},
   "outputs": [],
   "source": [
    "selected_cols = ['predict_proba', 'tkn_set', 'iterativesubstring', 'strcmp95']"
   ]
  },
  {
   "cell_type": "code",
   "execution_count": null,
   "metadata": {},
   "outputs": [],
   "source": [
    "clf = LogisticRegression()\n",
    "grid_clf = GridSearchCV(clf, param_grid = {'C':np.logspace(-4, 4, 20)}, scoring='precision')\n",
    "grid_clf.fit(X_train[selected_cols], y_train)\n",
    "y_pred = grid_clf.predict(X_test[selected_cols])"
   ]
  },
  {
   "cell_type": "code",
   "execution_count": null,
   "metadata": {},
   "outputs": [],
   "source": [
    "print(grid_clf.best_params_)"
   ]
  },
  {
   "cell_type": "markdown",
   "metadata": {},
   "source": [
    "## Evaluation"
   ]
  },
  {
   "cell_type": "code",
   "execution_count": 77,
   "metadata": {},
   "outputs": [],
   "source": [
    "from sklearn.metrics import classification_report"
   ]
  },
  {
   "cell_type": "code",
   "execution_count": 78,
   "metadata": {},
   "outputs": [],
   "source": [
    "def evaluate(y_test, y_pred):\n",
    "    cm = confusion_matrix(y_test, y_pred)\n",
    "    conf_matrix = pd.DataFrame(data=cm, columns=['Predicted: 0', 'Predicted: 1'], index=['Actual: 0', 'Actual: 1'])\n",
    "    print(classification_report(y_test, y_pred))\n",
    "    print(conf_matrix)"
   ]
  },
  {
   "cell_type": "code",
   "execution_count": 79,
   "metadata": {},
   "outputs": [
    {
     "ename": "NameError",
     "evalue": "name 'y_pred' is not defined",
     "output_type": "error",
     "traceback": [
      "\u001b[0;31m---------------------------------------------------------------------------\u001b[0m",
      "\u001b[0;31mNameError\u001b[0m                                 Traceback (most recent call last)",
      "\u001b[0;32m<ipython-input-79-1834f6b4e9eb>\u001b[0m in \u001b[0;36m<module>\u001b[0;34m\u001b[0m\n\u001b[0;32m----> 1\u001b[0;31m \u001b[0mevaluate\u001b[0m\u001b[0;34m(\u001b[0m\u001b[0my_test\u001b[0m\u001b[0;34m,\u001b[0m \u001b[0my_pred\u001b[0m\u001b[0;34m)\u001b[0m\u001b[0;34m\u001b[0m\u001b[0;34m\u001b[0m\u001b[0m\n\u001b[0m",
      "\u001b[0;31mNameError\u001b[0m: name 'y_pred' is not defined"
     ]
    }
   ],
   "source": [
    "evaluate(y_test, y_pred)"
   ]
  },
  {
   "cell_type": "code",
   "execution_count": null,
   "metadata": {},
   "outputs": [],
   "source": [
    "# roc curve and auc\n",
    "from sklearn.metrics import roc_curve\n",
    "from sklearn.metrics import roc_auc_score\n",
    "import matplotlib.pyplot as plt"
   ]
  },
  {
   "cell_type": "code",
   "execution_count": null,
   "metadata": {},
   "outputs": [],
   "source": [
    "fig, ax = plt.subplots(1,1, figsize=(7,7))\n",
    "baseline_probs = [0 for _ in range(len(y_test))]\n",
    "\n",
    "# keep probabilities for the positive outcome only\n",
    "probs = grid_clf.predict_proba(X_test[selected_cols])\n",
    "probs = probs[:, 1]\n",
    "\n",
    "# calculate scores\n",
    "baseline_auc = roc_auc_score(y_test, baseline_probs)\n",
    "auc = roc_auc_score(y_test, probs)\n",
    "auc = ('AUC=%.3f' % (auc))\n",
    "\n",
    "# calculate roc curves\n",
    "baseline_fpr, baseline_tpr, _ = roc_curve(y_test, baseline_probs)\n",
    "fpr, tpr, _ = roc_curve(y_test, probs)\n",
    "\n",
    "# plot the roc curve for the model\n",
    "ax.plot(baseline_fpr, baseline_tpr, color='gray')\n",
    "ax.plot(fpr, tpr, marker='.', color='black')\n",
    "\n",
    "# axis labels\n",
    "ax.set_xlabel('False Positive Rate',fontsize=12)\n",
    "ax.set_ylabel('True Positive Rate',fontsize=12)\n",
    "ax.set_title('Receiver Operating Characteristic', fontsize=16)\n",
    "plt.text(.6, .3, auc, fontsize=13)"
   ]
  },
  {
   "cell_type": "markdown",
   "metadata": {},
   "source": [
    "### Export Models and Pipeline"
   ]
  },
  {
   "cell_type": "code",
   "execution_count": null,
   "metadata": {},
   "outputs": [],
   "source": [
    "import joblib\n",
    "import json"
   ]
  },
  {
   "cell_type": "code",
   "execution_count": null,
   "metadata": {},
   "outputs": [],
   "source": [
    "base_1 = base_model_1(X.drop(['a', 'b', 'TM_A', 'TM_B'], 1), y, X_test=None, export=True)\n",
    "joblib.dump(base_1, filename='Data.nosync/TM_Gradient_boost_base_model.pkl')"
   ]
  },
  {
   "cell_type": "code",
   "execution_count": null,
   "metadata": {},
   "outputs": [],
   "source": [
    "# base_model_2(X[['name_a', 'name_b']], y, X_test=None, export=True)"
   ]
  },
  {
   "cell_type": "code",
   "execution_count": null,
   "metadata": {},
   "outputs": [],
   "source": [
    "joblib.dump(grid_clf.best_estimator_, filename='Data.nosync/TM_meta_model.pkl')"
   ]
  },
  {
   "cell_type": "code",
   "execution_count": null,
   "metadata": {},
   "outputs": [],
   "source": []
  },
  {
   "cell_type": "markdown",
   "metadata": {},
   "source": [
    "### TPOT AutoML Regression"
   ]
  },
  {
   "cell_type": "code",
   "execution_count": null,
   "metadata": {},
   "outputs": [],
   "source": [
    "from tpot import TPOTRegressor\n",
    "\n",
    "pipeline_optimizer = TPOTRegressor(\n",
    "        scoring = 'f1', \n",
    "        generations=100,\n",
    "        verbosity=2,\n",
    "        n_jobs=-1   # Utilizes all available CPU cores\n",
    "        ) \n",
    "pipeline_optimizer.fit(X_train.drop(['a', 'b', 'TM_A', 'TM_B'],1), y_train)\n",
    "\n",
    "exported_pipeline = make_pipeline("
   ]
  }
 ],
 "metadata": {
  "kernelspec": {
   "display_name": "Python 3",
   "language": "python",
   "name": "python3"
  },
  "language_info": {
   "codemirror_mode": {
    "name": "ipython",
    "version": 3
   },
   "file_extension": ".py",
   "mimetype": "text/x-python",
   "name": "python",
   "nbconvert_exporter": "python",
   "pygments_lexer": "ipython3",
   "version": "3.8.3"
  }
 },
 "nbformat": 4,
 "nbformat_minor": 4
}
