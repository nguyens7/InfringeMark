{
 "cells": [
  {
   "cell_type": "markdown",
   "metadata": {},
   "source": [
    "# Modeling"
   ]
  },
  {
   "cell_type": "code",
   "execution_count": 1,
   "metadata": {},
   "outputs": [],
   "source": [
    "import pandas as pd\n",
    "import numpy as np\n",
    "import matplotlib as plt\n",
    "from sklearn.linear_model import LogisticRegression"
   ]
  },
  {
   "cell_type": "code",
   "execution_count": 2,
   "metadata": {},
   "outputs": [
    {
     "data": {
      "text/html": [
       "<div>\n",
       "<style scoped>\n",
       "    .dataframe tbody tr th:only-of-type {\n",
       "        vertical-align: middle;\n",
       "    }\n",
       "\n",
       "    .dataframe tbody tr th {\n",
       "        vertical-align: top;\n",
       "    }\n",
       "\n",
       "    .dataframe thead th {\n",
       "        text-align: right;\n",
       "    }\n",
       "</style>\n",
       "<table border=\"1\" class=\"dataframe\">\n",
       "  <thead>\n",
       "    <tr style=\"text-align: right;\">\n",
       "      <th></th>\n",
       "      <th>TM_A</th>\n",
       "      <th>TM_B</th>\n",
       "      <th>target</th>\n",
       "    </tr>\n",
       "  </thead>\n",
       "  <tbody>\n",
       "    <tr>\n",
       "      <th>0</th>\n",
       "      <td>Simoniz</td>\n",
       "      <td>Permanize</td>\n",
       "      <td>1</td>\n",
       "    </tr>\n",
       "    <tr>\n",
       "      <th>1</th>\n",
       "      <td>Magnavoc</td>\n",
       "      <td>Multivox</td>\n",
       "      <td>1</td>\n",
       "    </tr>\n",
       "    <tr>\n",
       "      <th>2</th>\n",
       "      <td>Zirco</td>\n",
       "      <td>Cozirc</td>\n",
       "      <td>1</td>\n",
       "    </tr>\n",
       "    <tr>\n",
       "      <th>3</th>\n",
       "      <td>Platinum Puff</td>\n",
       "      <td>Platinum Plus</td>\n",
       "      <td>1</td>\n",
       "    </tr>\n",
       "    <tr>\n",
       "      <th>4</th>\n",
       "      <td>Maternity Yours</td>\n",
       "      <td>Your Maternity Shop</td>\n",
       "      <td>1</td>\n",
       "    </tr>\n",
       "    <tr>\n",
       "      <th>5</th>\n",
       "      <td>Flossies</td>\n",
       "      <td>Flossbone</td>\n",
       "      <td>1</td>\n",
       "    </tr>\n",
       "    <tr>\n",
       "      <th>6</th>\n",
       "      <td>Hypnotiq</td>\n",
       "      <td>Hopnotic</td>\n",
       "      <td>1</td>\n",
       "    </tr>\n",
       "    <tr>\n",
       "      <th>7</th>\n",
       "      <td>Woody Stout</td>\n",
       "      <td>Woody Brown Ale</td>\n",
       "      <td>1</td>\n",
       "    </tr>\n",
       "    <tr>\n",
       "      <th>8</th>\n",
       "      <td>Frickin’ Chicken</td>\n",
       "      <td>Flip’n Chicken</td>\n",
       "      <td>1</td>\n",
       "    </tr>\n",
       "    <tr>\n",
       "      <th>9</th>\n",
       "      <td>Alair</td>\n",
       "      <td>Holaira</td>\n",
       "      <td>1</td>\n",
       "    </tr>\n",
       "    <tr>\n",
       "      <th>10</th>\n",
       "      <td>Seiko</td>\n",
       "      <td>Seycos</td>\n",
       "      <td>1</td>\n",
       "    </tr>\n",
       "    <tr>\n",
       "      <th>11</th>\n",
       "      <td>Can</td>\n",
       "      <td>Canya</td>\n",
       "      <td>1</td>\n",
       "    </tr>\n",
       "    <tr>\n",
       "      <th>12</th>\n",
       "      <td>Kresco</td>\n",
       "      <td>Cresco</td>\n",
       "      <td>1</td>\n",
       "    </tr>\n",
       "    <tr>\n",
       "      <th>13</th>\n",
       "      <td>Intelect</td>\n",
       "      <td>Entelec</td>\n",
       "      <td>1</td>\n",
       "    </tr>\n",
       "    <tr>\n",
       "      <th>14</th>\n",
       "      <td>Starbucks</td>\n",
       "      <td>Sambucks</td>\n",
       "      <td>1</td>\n",
       "    </tr>\n",
       "    <tr>\n",
       "      <th>15</th>\n",
       "      <td>Microsoft</td>\n",
       "      <td>MikeRoweSoft</td>\n",
       "      <td>1</td>\n",
       "    </tr>\n",
       "    <tr>\n",
       "      <th>16</th>\n",
       "      <td>Tailored T</td>\n",
       "      <td>Tailor-Tee</td>\n",
       "      <td>1</td>\n",
       "    </tr>\n",
       "    <tr>\n",
       "      <th>17</th>\n",
       "      <td>Point</td>\n",
       "      <td>Poynt</td>\n",
       "      <td>1</td>\n",
       "    </tr>\n",
       "    <tr>\n",
       "      <th>18</th>\n",
       "      <td>K-9</td>\n",
       "      <td>Canine</td>\n",
       "      <td>1</td>\n",
       "    </tr>\n",
       "    <tr>\n",
       "      <th>19</th>\n",
       "      <td>Kuf’N Kolar</td>\n",
       "      <td>Cuff &amp; Collar Cleaner</td>\n",
       "      <td>1</td>\n",
       "    </tr>\n",
       "  </tbody>\n",
       "</table>\n",
       "</div>"
      ],
      "text/plain": [
       "                TM_A                   TM_B  target\n",
       "0            Simoniz              Permanize       1\n",
       "1           Magnavoc               Multivox       1\n",
       "2              Zirco                 Cozirc       1\n",
       "3      Platinum Puff          Platinum Plus       1\n",
       "4    Maternity Yours    Your Maternity Shop       1\n",
       "5           Flossies              Flossbone       1\n",
       "6           Hypnotiq               Hopnotic       1\n",
       "7        Woody Stout        Woody Brown Ale       1\n",
       "8   Frickin’ Chicken         Flip’n Chicken       1\n",
       "9              Alair                Holaira       1\n",
       "10             Seiko                 Seycos       1\n",
       "11               Can                  Canya       1\n",
       "12            Kresco                 Cresco       1\n",
       "13          Intelect                Entelec       1\n",
       "14         Starbucks               Sambucks       1\n",
       "15         Microsoft           MikeRoweSoft       1\n",
       "16        Tailored T             Tailor-Tee       1\n",
       "17             Point                  Poynt       1\n",
       "18               K-9                 Canine       1\n",
       "19       Kuf’N Kolar  Cuff & Collar Cleaner       1"
      ]
     },
     "execution_count": 2,
     "metadata": {},
     "output_type": "execute_result"
    }
   ],
   "source": [
    "cases = pd.read_csv('Data.nosync/Similar_TM.csv')\n",
    "cases.head(20)"
   ]
  },
  {
   "cell_type": "code",
   "execution_count": 3,
   "metadata": {},
   "outputs": [],
   "source": [
    "import unidecode\n",
    "from fuzzywuzzy import fuzz\n",
    "import jellyfish\n",
    "\n",
    "from abydos.distance import (IterativeSubString, BISIM, DiscountedLevenshtein, Prefix, LCSstr, MLIPNS, Strcmp95,\n",
    "MRA, Editex, SAPS, FlexMetric, JaroWinkler, HigueraMico, Sift4, Eudex, ALINE, PhoneticEditDistance)\n",
    "\n",
    "from abydos.phonetic import PSHPSoundexFirst, Ainsworth\n",
    "pshp_soundex_first = PSHPSoundexFirst()\n",
    "pe = Ainsworth()"
   ]
  },
  {
   "cell_type": "code",
   "execution_count": 4,
   "metadata": {},
   "outputs": [],
   "source": [
    "iss = IterativeSubString()\n",
    "bisim = BISIM()\n",
    "dlev = DiscountedLevenshtein()\n",
    "prefix = Prefix()\n",
    "lcs = LCSstr()\n",
    "mlipns = MLIPNS()\n",
    "strcmp95 = Strcmp95()\n",
    "mra = MRA()\n",
    "editex = Editex()\n",
    "saps = SAPS()\n",
    "flexmetric = FlexMetric()\n",
    "jaro = JaroWinkler(mode='Jaro')\n",
    "higuera_mico = HigueraMico()\n",
    "sift4 = Sift4()\n",
    "eudex = Eudex()\n",
    "aline = ALINE()\n",
    "phonetic_edit = PhoneticEditDistance()"
   ]
  },
  {
   "cell_type": "code",
   "execution_count": 5,
   "metadata": {},
   "outputs": [],
   "source": [
    "algos = [iss, bisim, dlev, prefix, lcs, mlipns, strcmp95, mra, editex, saps, flexmetric, jaro, higuera_mico, sift4, eudex,\n",
    "         aline, phonetic_edit]\n",
    "\n",
    "algo_names = ['iterativesubstring', 'bisim', 'discountedlevenshtein', 'prefix', 'lcsstr', 'mlipns', 'strcmp95', 'mra',\n",
    "              'editex', 'saps', 'flexmetric', 'jaro', 'higueramico', 'sift4', 'eudex', 'aline',\n",
    "              'phoneticeditdistance']"
   ]
  },
  {
   "cell_type": "code",
   "execution_count": 6,
   "metadata": {},
   "outputs": [],
   "source": [
    "from abydos.phones import *"
   ]
  },
  {
   "cell_type": "code",
   "execution_count": 7,
   "metadata": {},
   "outputs": [],
   "source": [
    "def sum_ipa(name_a, name_b):\n",
    "    feat1 = ipa_to_features(pe.encode(name_a))\n",
    "    feat2 = ipa_to_features(pe.encode(name_b))\n",
    "    score = sum(cmp_features(f1, f2) for f1, f2 in zip(feat1, feat2))/len(feat1)\n",
    "    return score"
   ]
  },
  {
   "cell_type": "code",
   "execution_count": 8,
   "metadata": {},
   "outputs": [],
   "source": [
    "import re"
   ]
  },
  {
   "cell_type": "code",
   "execution_count": 9,
   "metadata": {},
   "outputs": [],
   "source": [
    "from tqdm import tqdm\n",
    "from sklearn.preprocessing import MinMaxScaler\n",
    "\n",
    "def featurize(df):\n",
    "    if len(df.columns)==3:\n",
    "        df.columns=['a', 'b', 'target']\n",
    "    elif len(df.columns)==2:\n",
    "        df.columns=['a', 'b']\n",
    "    else:\n",
    "        df = df.rename(columns={df.columns[0]: 'a', df.columns[1]: 'b' })\n",
    "        \n",
    "    df['TM_A'] = df.apply(lambda row: re.sub(\n",
    "        '[^a-zA-Z]+', '', unidecode.unidecode(row['a']).lower()), axis=1)\n",
    "    df['TM_B'] = df.apply(lambda row: re.sub(\n",
    "        '[^a-zA-Z]+', '', unidecode.unidecode(row['b']).lower()), axis=1)\n",
    "    \n",
    "\n",
    "    df['partial'] = df.apply(lambda row: fuzz.partial_ratio(row.TM_A,row.TM_B), axis=1)\n",
    "    df['tkn_sort'] = df.apply(lambda row: fuzz.token_sort_ratio(row.TM_A,row.TM_B), axis=1)\n",
    "    df['tkn_set'] = df.apply(lambda row: fuzz.token_set_ratio(row.TM_A,row.TM_B), axis=1)\n",
    "    \n",
    "#     df['sum_ipa'] = df.apply(lambda row: sum_ipa(row.TM_A,row.TM_B), axis=1)\n",
    "    \n",
    "    # Jellyfish levenshtein\n",
    "    df['levenshtein']= df.apply(lambda row: jellyfish.levenshtein_distance(row.TM_A,row.TM_B), axis=1)\n",
    "    # Scale Levenshtein column\n",
    "    scaler = MinMaxScaler()\n",
    "    df['levenshtein'] = scaler.fit_transform(df['levenshtein'].values.reshape(-1,1))\n",
    "\n",
    "    # Jellyfish phoneme\n",
    "    df['metaphone'] = df.apply(\n",
    "        lambda row: 1 if jellyfish.metaphone(row.TM_A)==jellyfish.metaphone(row.TM_B) else 0, axis=1)\n",
    "    df['nysiis'] = df.apply(\n",
    "        lambda row: 1 if jellyfish.nysiis(row.TM_A)==jellyfish.nysiis(row.TM_B) else 0, axis=1)\n",
    "    df['mtch_rtng_cdx'] = df.apply(\n",
    "        lambda row: 1 if jellyfish.match_rating_codex(row.TM_A)==jellyfish.match_rating_codex(row.TM_B) else 0, axis=1)\n",
    "    \n",
    "    df['pshp_soundex_first'] = df.apply(\n",
    "        lambda row: 1 if pshp_soundex_first.encode(row.TM_A)==pshp_soundex_first.encode(row.TM_B) else 0, axis=1)\n",
    "    \n",
    "    for i, algo in enumerate(algos):\n",
    "            df[algo_names[i]] = df.progress_apply(lambda row: algo.sim(row.TM_A, row.TM_B), axis=1)\n",
    "\n",
    "    \n",
    "    return df"
   ]
  },
  {
   "cell_type": "code",
   "execution_count": null,
   "metadata": {
    "scrolled": true
   },
   "outputs": [],
   "source": [
    "\n",
    "\n",
    "# featurize(cases)"
   ]
  },
  {
   "cell_type": "markdown",
   "metadata": {},
   "source": [
    "### Class Balancing  \n",
    "We can see that the classes are imbalanced, there are more instances of trademark invalidation than are dismissals."
   ]
  },
  {
   "cell_type": "code",
   "execution_count": 10,
   "metadata": {},
   "outputs": [
    {
     "data": {
      "text/plain": [
       "<matplotlib.axes._subplots.AxesSubplot at 0x7fa949a3e4c0>"
      ]
     },
     "execution_count": 10,
     "metadata": {},
     "output_type": "execute_result"
    },
    {
     "data": {
      "image/png": "[encoded data removed]",
      "text/plain": [
       "<Figure size 432x288 with 1 Axes>"
      ]
     },
     "metadata": {
      "needs_background": "light"
     },
     "output_type": "display_data"
    }
   ],
   "source": [
    "cases['target'].value_counts()[:2].plot(kind='bar')\n",
    "\n",
    "# plt.savefig('TM_Unbalanced.png', dpi = 300)"
   ]
  },
  {
   "cell_type": "code",
   "execution_count": 11,
   "metadata": {},
   "outputs": [],
   "source": [
    "from itertools import combinations\n",
    "import random\n",
    "random.seed(42)\n"
   ]
  },
  {
   "cell_type": "code",
   "execution_count": 89,
   "metadata": {},
   "outputs": [
    {
     "data": {
      "text/html": [
       "<div>\n",
       "<style scoped>\n",
       "    .dataframe tbody tr th:only-of-type {\n",
       "        vertical-align: middle;\n",
       "    }\n",
       "\n",
       "    .dataframe tbody tr th {\n",
       "        vertical-align: top;\n",
       "    }\n",
       "\n",
       "    .dataframe thead th {\n",
       "        text-align: right;\n",
       "    }\n",
       "</style>\n",
       "<table border=\"1\" class=\"dataframe\">\n",
       "  <thead>\n",
       "    <tr style=\"text-align: right;\">\n",
       "      <th></th>\n",
       "      <th>TM_A</th>\n",
       "      <th>TM_B</th>\n",
       "    </tr>\n",
       "  </thead>\n",
       "  <tbody>\n",
       "    <tr>\n",
       "      <th>0</th>\n",
       "      <td>Inside</td>\n",
       "      <td>RAWPIXEL</td>\n",
       "    </tr>\n",
       "    <tr>\n",
       "      <th>1</th>\n",
       "      <td>Sambucks</td>\n",
       "      <td>SAVVY</td>\n",
       "    </tr>\n",
       "    <tr>\n",
       "      <th>2</th>\n",
       "      <td>Next Deal Shop</td>\n",
       "      <td>MONSTER ENERGY</td>\n",
       "    </tr>\n",
       "    <tr>\n",
       "      <th>3</th>\n",
       "      <td>PURE IPR</td>\n",
       "      <td>Camel Capa</td>\n",
       "    </tr>\n",
       "    <tr>\n",
       "      <th>4</th>\n",
       "      <td>WHOLE FOODS MARKET</td>\n",
       "      <td>ADVANTAGE HOLIDAYS BY ADVANTAGE</td>\n",
       "    </tr>\n",
       "    <tr>\n",
       "      <th>...</th>\n",
       "      <td>...</td>\n",
       "      <td>...</td>\n",
       "    </tr>\n",
       "    <tr>\n",
       "      <th>295</th>\n",
       "      <td>POWERING THE WORLD OF WORK</td>\n",
       "      <td>Together for Better</td>\n",
       "    </tr>\n",
       "    <tr>\n",
       "      <th>296</th>\n",
       "      <td>FOX</td>\n",
       "      <td>IBM</td>\n",
       "    </tr>\n",
       "    <tr>\n",
       "      <th>297</th>\n",
       "      <td>Cuff &amp; Collar Cleaner</td>\n",
       "      <td>DG’S</td>\n",
       "    </tr>\n",
       "    <tr>\n",
       "      <th>298</th>\n",
       "      <td>GAZIANTEPLILER PASTANESI</td>\n",
       "      <td>Ldnr</td>\n",
       "    </tr>\n",
       "    <tr>\n",
       "      <th>299</th>\n",
       "      <td>MARNI</td>\n",
       "      <td>FIS</td>\n",
       "    </tr>\n",
       "  </tbody>\n",
       "</table>\n",
       "<p>300 rows × 2 columns</p>\n",
       "</div>"
      ],
      "text/plain": [
       "                           TM_A                             TM_B\n",
       "0                        Inside                         RAWPIXEL\n",
       "1                      Sambucks                            SAVVY\n",
       "2                Next Deal Shop                   MONSTER ENERGY\n",
       "3                      PURE IPR                       Camel Capa\n",
       "4            WHOLE FOODS MARKET  ADVANTAGE HOLIDAYS BY ADVANTAGE\n",
       "..                          ...                              ...\n",
       "295  POWERING THE WORLD OF WORK              Together for Better\n",
       "296                         FOX                              IBM\n",
       "297       Cuff & Collar Cleaner                             DG’S\n",
       "298    GAZIANTEPLILER PASTANESI                             Ldnr\n",
       "299                       MARNI                              FIS\n",
       "\n",
       "[300 rows x 2 columns]"
      ]
     },
     "execution_count": 89,
     "metadata": {},
     "output_type": "execute_result"
    }
   ],
   "source": [
    "# Use combinatorics to generate negative class\n",
    "pos_cases = cases[cases['target'] == 1]\n",
    "\n",
    "case_names = pos_cases.loc[:, 'TM_A':'TM_B'].values.tolist()\n",
    "unique_cases = list(set([item for items in case_names for item in items]))\n",
    "alt_pairs = list(zip(pos_cases.TM_A, pos_cases.TM_B))+ list(zip(pos_cases.TM_B, pos_cases.TM_A))\n",
    "comb = list(combinations(unique_cases, 2))\n",
    "nonmatch_cases = list(set(comb) - set(alt_pairs))\n",
    "# Undersample the negative class for 1:4 class imbalance instead of 1:1000 extreme class imbalance\n",
    "nonmatch_cases = pd.DataFrame(random.choices(nonmatch_cases, k=300), columns=['TM_A', 'TM_B']) # Originally was 1200\n",
    "\n",
    "nonmatch_cases"
   ]
  },
  {
   "cell_type": "code",
   "execution_count": 90,
   "metadata": {},
   "outputs": [
    {
     "name": "stdout",
     "output_type": "stream",
     "text": [
      "positive class ratio 1:1\n"
     ]
    }
   ],
   "source": [
    "print('positive class ratio 1:{}'.format(int(len(nonmatch_cases)/len(pos_cases))))"
   ]
  },
  {
   "cell_type": "code",
   "execution_count": 91,
   "metadata": {},
   "outputs": [
    {
     "data": {
      "text/html": [
       "<div>\n",
       "<style scoped>\n",
       "    .dataframe tbody tr th:only-of-type {\n",
       "        vertical-align: middle;\n",
       "    }\n",
       "\n",
       "    .dataframe tbody tr th {\n",
       "        vertical-align: top;\n",
       "    }\n",
       "\n",
       "    .dataframe thead th {\n",
       "        text-align: right;\n",
       "    }\n",
       "</style>\n",
       "<table border=\"1\" class=\"dataframe\">\n",
       "  <thead>\n",
       "    <tr style=\"text-align: right;\">\n",
       "      <th></th>\n",
       "      <th>TM_A</th>\n",
       "      <th>TM_B</th>\n",
       "    </tr>\n",
       "  </thead>\n",
       "  <tbody>\n",
       "    <tr>\n",
       "      <th>51</th>\n",
       "      <td>Kuf’N Kolar</td>\n",
       "      <td>HALCYON EFFECT</td>\n",
       "    </tr>\n",
       "    <tr>\n",
       "      <th>81</th>\n",
       "      <td>House of Silk</td>\n",
       "      <td>ADDICTION</td>\n",
       "    </tr>\n",
       "    <tr>\n",
       "      <th>49</th>\n",
       "      <td>BEATRICE PERRY</td>\n",
       "      <td>Maternity Yours</td>\n",
       "    </tr>\n",
       "    <tr>\n",
       "      <th>134</th>\n",
       "      <td>WOMO</td>\n",
       "      <td>WECASABLANCA</td>\n",
       "    </tr>\n",
       "    <tr>\n",
       "      <th>281</th>\n",
       "      <td>Glenfield</td>\n",
       "      <td>GURU</td>\n",
       "    </tr>\n",
       "    <tr>\n",
       "      <th>183</th>\n",
       "      <td>Kuf’N Kolar</td>\n",
       "      <td>Camel activ</td>\n",
       "    </tr>\n",
       "    <tr>\n",
       "      <th>283</th>\n",
       "      <td>FWDVIEW</td>\n",
       "      <td>AADVANTAGE</td>\n",
       "    </tr>\n",
       "    <tr>\n",
       "      <th>144</th>\n",
       "      <td>Wolf</td>\n",
       "      <td>RAWPIXEL</td>\n",
       "    </tr>\n",
       "    <tr>\n",
       "      <th>68</th>\n",
       "      <td>CANDEY</td>\n",
       "      <td>HORIZON RISK SOLUTIONS</td>\n",
       "    </tr>\n",
       "    <tr>\n",
       "      <th>286</th>\n",
       "      <td>WELLBLOCKS</td>\n",
       "      <td>DG FASHION</td>\n",
       "    </tr>\n",
       "    <tr>\n",
       "      <th>203</th>\n",
       "      <td>LNDR</td>\n",
       "      <td>TREADSTONE</td>\n",
       "    </tr>\n",
       "    <tr>\n",
       "      <th>247</th>\n",
       "      <td>Zirco</td>\n",
       "      <td>CALLA</td>\n",
       "    </tr>\n",
       "    <tr>\n",
       "      <th>146</th>\n",
       "      <td>Illumina</td>\n",
       "      <td>SIMPLICITY</td>\n",
       "    </tr>\n",
       "    <tr>\n",
       "      <th>178</th>\n",
       "      <td>AMCAP</td>\n",
       "      <td>Shortlister</td>\n",
       "    </tr>\n",
       "    <tr>\n",
       "      <th>292</th>\n",
       "      <td>Curve</td>\n",
       "      <td>HALCYON EFFECT</td>\n",
       "    </tr>\n",
       "    <tr>\n",
       "      <th>63</th>\n",
       "      <td>Woodman’s Business Services</td>\n",
       "      <td>VEYPE</td>\n",
       "    </tr>\n",
       "    <tr>\n",
       "      <th>250</th>\n",
       "      <td>Organised Mum</td>\n",
       "      <td>Gaziantep Pastanesi</td>\n",
       "    </tr>\n",
       "    <tr>\n",
       "      <th>248</th>\n",
       "      <td>SUB2</td>\n",
       "      <td>BE</td>\n",
       "    </tr>\n",
       "    <tr>\n",
       "      <th>171</th>\n",
       "      <td>Harry Gordon’s Bar</td>\n",
       "      <td>AE</td>\n",
       "    </tr>\n",
       "    <tr>\n",
       "      <th>22</th>\n",
       "      <td>Candey Parker</td>\n",
       "      <td>Panadol</td>\n",
       "    </tr>\n",
       "  </tbody>\n",
       "</table>\n",
       "</div>"
      ],
      "text/plain": [
       "                            TM_A                    TM_B\n",
       "51                   Kuf’N Kolar          HALCYON EFFECT\n",
       "81                 House of Silk               ADDICTION\n",
       "49                BEATRICE PERRY         Maternity Yours\n",
       "134                         WOMO            WECASABLANCA\n",
       "281                    Glenfield                    GURU\n",
       "183                  Kuf’N Kolar             Camel activ\n",
       "283                      FWDVIEW              AADVANTAGE\n",
       "144                         Wolf                RAWPIXEL\n",
       "68                        CANDEY  HORIZON RISK SOLUTIONS\n",
       "286                   WELLBLOCKS              DG FASHION\n",
       "203                         LNDR              TREADSTONE\n",
       "247                        Zirco                   CALLA\n",
       "146                     Illumina              SIMPLICITY\n",
       "178                        AMCAP             Shortlister\n",
       "292                        Curve          HALCYON EFFECT\n",
       "63   Woodman’s Business Services                   VEYPE\n",
       "250                Organised Mum     Gaziantep Pastanesi\n",
       "248                         SUB2                      BE\n",
       "171           Harry Gordon’s Bar                      AE\n",
       "22                 Candey Parker                 Panadol"
      ]
     },
     "execution_count": 91,
     "metadata": {},
     "output_type": "execute_result"
    }
   ],
   "source": [
    "nonmatch_cases.sample(20)"
   ]
  },
  {
   "cell_type": "code",
   "execution_count": 92,
   "metadata": {},
   "outputs": [
    {
     "data": {
      "text/html": [
       "<div>\n",
       "<style scoped>\n",
       "    .dataframe tbody tr th:only-of-type {\n",
       "        vertical-align: middle;\n",
       "    }\n",
       "\n",
       "    .dataframe tbody tr th {\n",
       "        vertical-align: top;\n",
       "    }\n",
       "\n",
       "    .dataframe thead th {\n",
       "        text-align: right;\n",
       "    }\n",
       "</style>\n",
       "<table border=\"1\" class=\"dataframe\">\n",
       "  <thead>\n",
       "    <tr style=\"text-align: right;\">\n",
       "      <th></th>\n",
       "      <th>TM_A</th>\n",
       "      <th>TM_B</th>\n",
       "      <th>target</th>\n",
       "    </tr>\n",
       "  </thead>\n",
       "  <tbody>\n",
       "    <tr>\n",
       "      <th>0</th>\n",
       "      <td>Simoniz</td>\n",
       "      <td>Permanize</td>\n",
       "      <td>1</td>\n",
       "    </tr>\n",
       "    <tr>\n",
       "      <th>1</th>\n",
       "      <td>Magnavoc</td>\n",
       "      <td>Multivox</td>\n",
       "      <td>1</td>\n",
       "    </tr>\n",
       "    <tr>\n",
       "      <th>2</th>\n",
       "      <td>Zirco</td>\n",
       "      <td>Cozirc</td>\n",
       "      <td>1</td>\n",
       "    </tr>\n",
       "    <tr>\n",
       "      <th>3</th>\n",
       "      <td>Platinum Puff</td>\n",
       "      <td>Platinum Plus</td>\n",
       "      <td>1</td>\n",
       "    </tr>\n",
       "    <tr>\n",
       "      <th>4</th>\n",
       "      <td>Maternity Yours</td>\n",
       "      <td>Your Maternity Shop</td>\n",
       "      <td>1</td>\n",
       "    </tr>\n",
       "    <tr>\n",
       "      <th>...</th>\n",
       "      <td>...</td>\n",
       "      <td>...</td>\n",
       "      <td>...</td>\n",
       "    </tr>\n",
       "    <tr>\n",
       "      <th>352</th>\n",
       "      <td>Lilton</td>\n",
       "      <td>Wilton</td>\n",
       "      <td>0</td>\n",
       "    </tr>\n",
       "    <tr>\n",
       "      <th>353</th>\n",
       "      <td>Nutricia</td>\n",
       "      <td>Nutritea</td>\n",
       "      <td>0</td>\n",
       "    </tr>\n",
       "    <tr>\n",
       "      <th>354</th>\n",
       "      <td>Glenreidh</td>\n",
       "      <td>An Reidhe</td>\n",
       "      <td>0</td>\n",
       "    </tr>\n",
       "    <tr>\n",
       "      <th>355</th>\n",
       "      <td>No Gunk No Junk</td>\n",
       "      <td>No Gunk Just Funk</td>\n",
       "      <td>0</td>\n",
       "    </tr>\n",
       "    <tr>\n",
       "      <th>356</th>\n",
       "      <td>e-Relief</td>\n",
       "      <td>LIGHT RELIEF</td>\n",
       "      <td>0</td>\n",
       "    </tr>\n",
       "  </tbody>\n",
       "</table>\n",
       "<p>657 rows × 3 columns</p>\n",
       "</div>"
      ],
      "text/plain": [
       "                TM_A                 TM_B  target\n",
       "0            Simoniz            Permanize       1\n",
       "1           Magnavoc             Multivox       1\n",
       "2              Zirco               Cozirc       1\n",
       "3      Platinum Puff        Platinum Plus       1\n",
       "4    Maternity Yours  Your Maternity Shop       1\n",
       "..               ...                  ...     ...\n",
       "352           Lilton               Wilton       0\n",
       "353         Nutricia             Nutritea       0\n",
       "354        Glenreidh            An Reidhe       0\n",
       "355  No Gunk No Junk    No Gunk Just Funk       0\n",
       "356         e-Relief         LIGHT RELIEF       0\n",
       "\n",
       "[657 rows x 3 columns]"
      ]
     },
     "execution_count": 92,
     "metadata": {},
     "output_type": "execute_result"
    }
   ],
   "source": [
    "# Negative Class\n",
    "nonmatch_cases['target'] = 0\n",
    "df = pd.concat([pos_cases, nonmatch_cases])\n",
    "# non_match_cases = None\n",
    "# pos_cases = None\n",
    "\n",
    "# Add true negatives\n",
    "neg_cases = cases[cases['target'] == 0]\n",
    "class_balanced = pd.concat([df, neg_cases])\n",
    "\n",
    "class_balanced.sample(20)\n",
    "\n",
    "class_balanced\n",
    "\n",
    "# class_balanced[class_balanced['TM_B'].str.len()!=0]\n"
   ]
  },
  {
   "cell_type": "code",
   "execution_count": 93,
   "metadata": {},
   "outputs": [
    {
     "data": {
      "text/plain": [
       "<matplotlib.axes._subplots.AxesSubplot at 0x7fa94e9f05b0>"
      ]
     },
     "execution_count": 93,
     "metadata": {},
     "output_type": "execute_result"
    },
    {
     "data": {
      "image/png": "[encoded data removed]",
      "text/plain": [
       "<Figure size 432x288 with 1 Axes>"
      ]
     },
     "metadata": {
      "needs_background": "light"
     },
     "output_type": "display_data"
    }
   ],
   "source": [
    "class_balanced['target'].value_counts()[:2].plot(kind='bar')\n",
    "\n",
    "# plt.savefig('TM_Balanced.png', dpi = 300)"
   ]
  },
  {
   "cell_type": "code",
   "execution_count": 94,
   "metadata": {},
   "outputs": [
    {
     "name": "stderr",
     "output_type": "stream",
     "text": [
      "/Users/seannguyen/opt/anaconda3/lib/python3.8/site-packages/tqdm/std.py:668: FutureWarning: The Panel class is removed from pandas. Accessing it from the top-level namespace will also be removed in the next version\n",
      "  from pandas import Panel\n"
     ]
    },
    {
     "data": {
      "application/vnd.jupyter.widget-view+json": {
       "model_id": "2f7bd74535f14c3fab4e5c5aa4e82410",
       "version_major": 2,
       "version_minor": 0
      },
      "text/plain": [
       "HBox(children=(FloatProgress(value=0.0, max=657.0), HTML(value='')))"
      ]
     },
     "metadata": {},
     "output_type": "display_data"
    },
    {
     "name": "stdout",
     "output_type": "stream",
     "text": [
      "\n"
     ]
    },
    {
     "data": {
      "application/vnd.jupyter.widget-view+json": {
       "model_id": "c6f71f9e2cb947a5a315397a86a85108",
       "version_major": 2,
       "version_minor": 0
      },
      "text/plain": [
       "HBox(children=(FloatProgress(value=0.0, max=657.0), HTML(value='')))"
      ]
     },
     "metadata": {},
     "output_type": "display_data"
    },
    {
     "name": "stdout",
     "output_type": "stream",
     "text": [
      "\n"
     ]
    },
    {
     "data": {
      "application/vnd.jupyter.widget-view+json": {
       "model_id": "32ae3a04cef44797b116dd6ba69250ee",
       "version_major": 2,
       "version_minor": 0
      },
      "text/plain": [
       "HBox(children=(FloatProgress(value=0.0, max=657.0), HTML(value='')))"
      ]
     },
     "metadata": {},
     "output_type": "display_data"
    },
    {
     "name": "stdout",
     "output_type": "stream",
     "text": [
      "\n"
     ]
    },
    {
     "data": {
      "application/vnd.jupyter.widget-view+json": {
       "model_id": "da2c1e1f73d14d21bfca71bc2a5c99b9",
       "version_major": 2,
       "version_minor": 0
      },
      "text/plain": [
       "HBox(children=(FloatProgress(value=0.0, max=657.0), HTML(value='')))"
      ]
     },
     "metadata": {},
     "output_type": "display_data"
    },
    {
     "name": "stdout",
     "output_type": "stream",
     "text": [
      "\n"
     ]
    },
    {
     "data": {
      "application/vnd.jupyter.widget-view+json": {
       "model_id": "8bae4331404c422a871b82a449cdfb8f",
       "version_major": 2,
       "version_minor": 0
      },
      "text/plain": [
       "HBox(children=(FloatProgress(value=0.0, max=657.0), HTML(value='')))"
      ]
     },
     "metadata": {},
     "output_type": "display_data"
    },
    {
     "name": "stdout",
     "output_type": "stream",
     "text": [
      "\n"
     ]
    },
    {
     "data": {
      "application/vnd.jupyter.widget-view+json": {
       "model_id": "cd6fa018436748289f1fa46871141621",
       "version_major": 2,
       "version_minor": 0
      },
      "text/plain": [
       "HBox(children=(FloatProgress(value=0.0, max=657.0), HTML(value='')))"
      ]
     },
     "metadata": {},
     "output_type": "display_data"
    },
    {
     "name": "stdout",
     "output_type": "stream",
     "text": [
      "\n"
     ]
    },
    {
     "data": {
      "application/vnd.jupyter.widget-view+json": {
       "model_id": "cfb8fa3bc988440e8b94aaaa904c0024",
       "version_major": 2,
       "version_minor": 0
      },
      "text/plain": [
       "HBox(children=(FloatProgress(value=0.0, max=657.0), HTML(value='')))"
      ]
     },
     "metadata": {},
     "output_type": "display_data"
    },
    {
     "name": "stdout",
     "output_type": "stream",
     "text": [
      "\n"
     ]
    },
    {
     "data": {
      "application/vnd.jupyter.widget-view+json": {
       "model_id": "957b60e70f3349b3935bd80845a8fa4e",
       "version_major": 2,
       "version_minor": 0
      },
      "text/plain": [
       "HBox(children=(FloatProgress(value=0.0, max=657.0), HTML(value='')))"
      ]
     },
     "metadata": {},
     "output_type": "display_data"
    },
    {
     "name": "stdout",
     "output_type": "stream",
     "text": [
      "\n"
     ]
    },
    {
     "data": {
      "application/vnd.jupyter.widget-view+json": {
       "model_id": "cdc3ae3308374b7498a872316be7a925",
       "version_major": 2,
       "version_minor": 0
      },
      "text/plain": [
       "HBox(children=(FloatProgress(value=0.0, max=657.0), HTML(value='')))"
      ]
     },
     "metadata": {},
     "output_type": "display_data"
    },
    {
     "name": "stdout",
     "output_type": "stream",
     "text": [
      "\n"
     ]
    },
    {
     "data": {
      "application/vnd.jupyter.widget-view+json": {
       "model_id": "4f23ffda9cd34439b4c90246f53532c9",
       "version_major": 2,
       "version_minor": 0
      },
      "text/plain": [
       "HBox(children=(FloatProgress(value=0.0, max=657.0), HTML(value='')))"
      ]
     },
     "metadata": {},
     "output_type": "display_data"
    },
    {
     "name": "stdout",
     "output_type": "stream",
     "text": [
      "\n"
     ]
    },
    {
     "data": {
      "application/vnd.jupyter.widget-view+json": {
       "model_id": "cdfbe9381bc44f8db8cb88c143263c16",
       "version_major": 2,
       "version_minor": 0
      },
      "text/plain": [
       "HBox(children=(FloatProgress(value=0.0, max=657.0), HTML(value='')))"
      ]
     },
     "metadata": {},
     "output_type": "display_data"
    },
    {
     "name": "stdout",
     "output_type": "stream",
     "text": [
      "\n"
     ]
    },
    {
     "data": {
      "application/vnd.jupyter.widget-view+json": {
       "model_id": "84fdc942e18444339942885afcc1b685",
       "version_major": 2,
       "version_minor": 0
      },
      "text/plain": [
       "HBox(children=(FloatProgress(value=0.0, max=657.0), HTML(value='')))"
      ]
     },
     "metadata": {},
     "output_type": "display_data"
    },
    {
     "name": "stdout",
     "output_type": "stream",
     "text": [
      "\n"
     ]
    },
    {
     "data": {
      "application/vnd.jupyter.widget-view+json": {
       "model_id": "de84ee9a46aa400a9ed59c98dd538654",
       "version_major": 2,
       "version_minor": 0
      },
      "text/plain": [
       "HBox(children=(FloatProgress(value=0.0, max=657.0), HTML(value='')))"
      ]
     },
     "metadata": {},
     "output_type": "display_data"
    },
    {
     "name": "stdout",
     "output_type": "stream",
     "text": [
      "\n"
     ]
    },
    {
     "data": {
      "application/vnd.jupyter.widget-view+json": {
       "model_id": "d88356d19e3e4b2182b57d2c4c7c9c70",
       "version_major": 2,
       "version_minor": 0
      },
      "text/plain": [
       "HBox(children=(FloatProgress(value=0.0, max=657.0), HTML(value='')))"
      ]
     },
     "metadata": {},
     "output_type": "display_data"
    },
    {
     "name": "stdout",
     "output_type": "stream",
     "text": [
      "\n"
     ]
    },
    {
     "data": {
      "application/vnd.jupyter.widget-view+json": {
       "model_id": "cb63d801a5f843a691c27415315536fa",
       "version_major": 2,
       "version_minor": 0
      },
      "text/plain": [
       "HBox(children=(FloatProgress(value=0.0, max=657.0), HTML(value='')))"
      ]
     },
     "metadata": {},
     "output_type": "display_data"
    },
    {
     "name": "stdout",
     "output_type": "stream",
     "text": [
      "\n"
     ]
    },
    {
     "data": {
      "application/vnd.jupyter.widget-view+json": {
       "model_id": "55ac00f8b93e43c7ac0e38e422d7238b",
       "version_major": 2,
       "version_minor": 0
      },
      "text/plain": [
       "HBox(children=(FloatProgress(value=0.0, max=657.0), HTML(value='')))"
      ]
     },
     "metadata": {},
     "output_type": "display_data"
    },
    {
     "name": "stdout",
     "output_type": "stream",
     "text": [
      "\n"
     ]
    },
    {
     "data": {
      "application/vnd.jupyter.widget-view+json": {
       "model_id": "bf6fab1ff23d4a1d908736730201c6a7",
       "version_major": 2,
       "version_minor": 0
      },
      "text/plain": [
       "HBox(children=(FloatProgress(value=0.0, max=657.0), HTML(value='')))"
      ]
     },
     "metadata": {},
     "output_type": "display_data"
    },
    {
     "name": "stdout",
     "output_type": "stream",
     "text": [
      "\n"
     ]
    },
    {
     "data": {
      "text/html": [
       "<div>\n",
       "<style scoped>\n",
       "    .dataframe tbody tr th:only-of-type {\n",
       "        vertical-align: middle;\n",
       "    }\n",
       "\n",
       "    .dataframe tbody tr th {\n",
       "        vertical-align: top;\n",
       "    }\n",
       "\n",
       "    .dataframe thead th {\n",
       "        text-align: right;\n",
       "    }\n",
       "</style>\n",
       "<table border=\"1\" class=\"dataframe\">\n",
       "  <thead>\n",
       "    <tr style=\"text-align: right;\">\n",
       "      <th></th>\n",
       "      <th>a</th>\n",
       "      <th>b</th>\n",
       "      <th>target</th>\n",
       "      <th>TM_A</th>\n",
       "      <th>TM_B</th>\n",
       "      <th>partial</th>\n",
       "      <th>tkn_sort</th>\n",
       "      <th>tkn_set</th>\n",
       "      <th>levenshtein</th>\n",
       "      <th>metaphone</th>\n",
       "      <th>...</th>\n",
       "      <th>mra</th>\n",
       "      <th>editex</th>\n",
       "      <th>saps</th>\n",
       "      <th>flexmetric</th>\n",
       "      <th>jaro</th>\n",
       "      <th>higueramico</th>\n",
       "      <th>sift4</th>\n",
       "      <th>eudex</th>\n",
       "      <th>aline</th>\n",
       "      <th>phoneticeditdistance</th>\n",
       "    </tr>\n",
       "  </thead>\n",
       "  <tbody>\n",
       "    <tr>\n",
       "      <th>117</th>\n",
       "      <td>Tatadoo</td>\n",
       "      <td>Potters</td>\n",
       "      <td>0</td>\n",
       "      <td>tatadoo</td>\n",
       "      <td>potters</td>\n",
       "      <td>29</td>\n",
       "      <td>29</td>\n",
       "      <td>29</td>\n",
       "      <td>0.193548</td>\n",
       "      <td>0</td>\n",
       "      <td>...</td>\n",
       "      <td>0.000000</td>\n",
       "      <td>0.428571</td>\n",
       "      <td>0.000000</td>\n",
       "      <td>0.314286</td>\n",
       "      <td>0.523810</td>\n",
       "      <td>0.194444</td>\n",
       "      <td>0.142857</td>\n",
       "      <td>0.743137</td>\n",
       "      <td>0.458537</td>\n",
       "      <td>0.658986</td>\n",
       "    </tr>\n",
       "    <tr>\n",
       "      <th>187</th>\n",
       "      <td>GENIE</td>\n",
       "      <td>JOBZGENIE</td>\n",
       "      <td>1</td>\n",
       "      <td>genie</td>\n",
       "      <td>jobzgenie</td>\n",
       "      <td>100</td>\n",
       "      <td>71</td>\n",
       "      <td>71</td>\n",
       "      <td>0.129032</td>\n",
       "      <td>0</td>\n",
       "      <td>...</td>\n",
       "      <td>0.000000</td>\n",
       "      <td>0.555556</td>\n",
       "      <td>0.241379</td>\n",
       "      <td>0.555556</td>\n",
       "      <td>0.437037</td>\n",
       "      <td>0.454365</td>\n",
       "      <td>0.555556</td>\n",
       "      <td>0.752941</td>\n",
       "      <td>0.489362</td>\n",
       "      <td>0.555556</td>\n",
       "    </tr>\n",
       "    <tr>\n",
       "      <th>31</th>\n",
       "      <td>ANGEL’S ENVY</td>\n",
       "      <td>+ Class View</td>\n",
       "      <td>0</td>\n",
       "      <td>angelsenvy</td>\n",
       "      <td>classview</td>\n",
       "      <td>33</td>\n",
       "      <td>32</td>\n",
       "      <td>32</td>\n",
       "      <td>0.290323</td>\n",
       "      <td>0</td>\n",
       "      <td>...</td>\n",
       "      <td>0.000000</td>\n",
       "      <td>0.150000</td>\n",
       "      <td>0.000000</td>\n",
       "      <td>0.250000</td>\n",
       "      <td>0.551852</td>\n",
       "      <td>0.166900</td>\n",
       "      <td>0.300000</td>\n",
       "      <td>0.768137</td>\n",
       "      <td>0.398148</td>\n",
       "      <td>0.679032</td>\n",
       "    </tr>\n",
       "    <tr>\n",
       "      <th>105</th>\n",
       "      <td>Snakeman</td>\n",
       "      <td>BOOHOO</td>\n",
       "      <td>0</td>\n",
       "      <td>snakeman</td>\n",
       "      <td>boohoo</td>\n",
       "      <td>0</td>\n",
       "      <td>0</td>\n",
       "      <td>0</td>\n",
       "      <td>0.258065</td>\n",
       "      <td>0</td>\n",
       "      <td>...</td>\n",
       "      <td>0.000000</td>\n",
       "      <td>0.187500</td>\n",
       "      <td>0.000000</td>\n",
       "      <td>0.137500</td>\n",
       "      <td>0.000000</td>\n",
       "      <td>0.000000</td>\n",
       "      <td>0.000000</td>\n",
       "      <td>0.666667</td>\n",
       "      <td>0.154545</td>\n",
       "      <td>0.572581</td>\n",
       "    </tr>\n",
       "    <tr>\n",
       "      <th>332</th>\n",
       "      <td>WOOLLY AND TIG</td>\n",
       "      <td>WOOZLE &amp; PIP</td>\n",
       "      <td>0</td>\n",
       "      <td>woollyandtig</td>\n",
       "      <td>woozlepip</td>\n",
       "      <td>44</td>\n",
       "      <td>48</td>\n",
       "      <td>48</td>\n",
       "      <td>0.225806</td>\n",
       "      <td>0</td>\n",
       "      <td>...</td>\n",
       "      <td>0.000000</td>\n",
       "      <td>0.541667</td>\n",
       "      <td>0.156250</td>\n",
       "      <td>0.529167</td>\n",
       "      <td>0.657407</td>\n",
       "      <td>0.392424</td>\n",
       "      <td>0.416667</td>\n",
       "      <td>0.828431</td>\n",
       "      <td>0.502479</td>\n",
       "      <td>0.700269</td>\n",
       "    </tr>\n",
       "    <tr>\n",
       "      <th>3</th>\n",
       "      <td>PURE IPR</td>\n",
       "      <td>Camel Capa</td>\n",
       "      <td>0</td>\n",
       "      <td>pureipr</td>\n",
       "      <td>camelcapa</td>\n",
       "      <td>29</td>\n",
       "      <td>25</td>\n",
       "      <td>25</td>\n",
       "      <td>0.225806</td>\n",
       "      <td>0</td>\n",
       "      <td>...</td>\n",
       "      <td>0.000000</td>\n",
       "      <td>0.333333</td>\n",
       "      <td>0.000000</td>\n",
       "      <td>0.311111</td>\n",
       "      <td>0.502646</td>\n",
       "      <td>0.208333</td>\n",
       "      <td>0.222222</td>\n",
       "      <td>0.775490</td>\n",
       "      <td>0.268085</td>\n",
       "      <td>0.641577</td>\n",
       "    </tr>\n",
       "    <tr>\n",
       "      <th>119</th>\n",
       "      <td>Tatadoo</td>\n",
       "      <td>TATA</td>\n",
       "      <td>1</td>\n",
       "      <td>tatadoo</td>\n",
       "      <td>tata</td>\n",
       "      <td>100</td>\n",
       "      <td>73</td>\n",
       "      <td>73</td>\n",
       "      <td>0.096774</td>\n",
       "      <td>0</td>\n",
       "      <td>...</td>\n",
       "      <td>0.833333</td>\n",
       "      <td>0.714286</td>\n",
       "      <td>0.409091</td>\n",
       "      <td>0.800000</td>\n",
       "      <td>0.857143</td>\n",
       "      <td>0.490476</td>\n",
       "      <td>0.571429</td>\n",
       "      <td>0.982353</td>\n",
       "      <td>0.606061</td>\n",
       "      <td>0.571429</td>\n",
       "    </tr>\n",
       "    <tr>\n",
       "      <th>266</th>\n",
       "      <td>WILDWOOD KITCHEN</td>\n",
       "      <td>WILD AND WOOD COFFEE HOUSE</td>\n",
       "      <td>1</td>\n",
       "      <td>wildwoodkitchen</td>\n",
       "      <td>wildandwoodcoffeehouse</td>\n",
       "      <td>60</td>\n",
       "      <td>59</td>\n",
       "      <td>59</td>\n",
       "      <td>0.419355</td>\n",
       "      <td>0</td>\n",
       "      <td>...</td>\n",
       "      <td>0.666667</td>\n",
       "      <td>0.590909</td>\n",
       "      <td>0.209677</td>\n",
       "      <td>0.643182</td>\n",
       "      <td>0.698485</td>\n",
       "      <td>0.366546</td>\n",
       "      <td>0.454545</td>\n",
       "      <td>0.986275</td>\n",
       "      <td>0.487324</td>\n",
       "      <td>0.642962</td>\n",
       "    </tr>\n",
       "    <tr>\n",
       "      <th>164</th>\n",
       "      <td>SKYRIZI</td>\n",
       "      <td>THE POWER OF SIMPLICITY</td>\n",
       "      <td>0</td>\n",
       "      <td>skyrizi</td>\n",
       "      <td>thepowerofsimplicity</td>\n",
       "      <td>43</td>\n",
       "      <td>22</td>\n",
       "      <td>22</td>\n",
       "      <td>0.548387</td>\n",
       "      <td>0</td>\n",
       "      <td>...</td>\n",
       "      <td>0.000000</td>\n",
       "      <td>0.225000</td>\n",
       "      <td>0.000000</td>\n",
       "      <td>0.342500</td>\n",
       "      <td>0.526190</td>\n",
       "      <td>0.000000</td>\n",
       "      <td>0.050000</td>\n",
       "      <td>0.838725</td>\n",
       "      <td>0.201923</td>\n",
       "      <td>0.328226</td>\n",
       "    </tr>\n",
       "    <tr>\n",
       "      <th>34</th>\n",
       "      <td>POST-IT</td>\n",
       "      <td>Hajdu Halloumi</td>\n",
       "      <td>0</td>\n",
       "      <td>postit</td>\n",
       "      <td>hajduhalloumi</td>\n",
       "      <td>36</td>\n",
       "      <td>21</td>\n",
       "      <td>21</td>\n",
       "      <td>0.387097</td>\n",
       "      <td>0</td>\n",
       "      <td>...</td>\n",
       "      <td>0.000000</td>\n",
       "      <td>0.269231</td>\n",
       "      <td>0.000000</td>\n",
       "      <td>0.346154</td>\n",
       "      <td>0.000000</td>\n",
       "      <td>0.000000</td>\n",
       "      <td>0.000000</td>\n",
       "      <td>0.680392</td>\n",
       "      <td>0.179104</td>\n",
       "      <td>0.397022</td>\n",
       "    </tr>\n",
       "    <tr>\n",
       "      <th>108</th>\n",
       "      <td>DWELL</td>\n",
       "      <td>DWELL STUDENT</td>\n",
       "      <td>1</td>\n",
       "      <td>dwell</td>\n",
       "      <td>dwellstudent</td>\n",
       "      <td>100</td>\n",
       "      <td>59</td>\n",
       "      <td>59</td>\n",
       "      <td>0.225806</td>\n",
       "      <td>0</td>\n",
       "      <td>...</td>\n",
       "      <td>0.000000</td>\n",
       "      <td>0.416667</td>\n",
       "      <td>0.106383</td>\n",
       "      <td>0.620833</td>\n",
       "      <td>0.805556</td>\n",
       "      <td>0.180123</td>\n",
       "      <td>0.416667</td>\n",
       "      <td>0.932353</td>\n",
       "      <td>0.397059</td>\n",
       "      <td>0.416667</td>\n",
       "    </tr>\n",
       "    <tr>\n",
       "      <th>195</th>\n",
       "      <td>TIFFINS</td>\n",
       "      <td>THE TIFFIN TIN</td>\n",
       "      <td>1</td>\n",
       "      <td>tiffins</td>\n",
       "      <td>thetiffintin</td>\n",
       "      <td>86</td>\n",
       "      <td>63</td>\n",
       "      <td>63</td>\n",
       "      <td>0.193548</td>\n",
       "      <td>0</td>\n",
       "      <td>...</td>\n",
       "      <td>0.000000</td>\n",
       "      <td>0.541667</td>\n",
       "      <td>0.135135</td>\n",
       "      <td>0.695833</td>\n",
       "      <td>0.785714</td>\n",
       "      <td>0.406313</td>\n",
       "      <td>0.500000</td>\n",
       "      <td>0.923529</td>\n",
       "      <td>0.573529</td>\n",
       "      <td>0.577957</td>\n",
       "    </tr>\n",
       "    <tr>\n",
       "      <th>344</th>\n",
       "      <td>QUILT</td>\n",
       "      <td>QUIT</td>\n",
       "      <td>0</td>\n",
       "      <td>quilt</td>\n",
       "      <td>quit</td>\n",
       "      <td>75</td>\n",
       "      <td>89</td>\n",
       "      <td>89</td>\n",
       "      <td>0.032258</td>\n",
       "      <td>0</td>\n",
       "      <td>...</td>\n",
       "      <td>0.833333</td>\n",
       "      <td>0.800000</td>\n",
       "      <td>0.266667</td>\n",
       "      <td>0.800000</td>\n",
       "      <td>0.933333</td>\n",
       "      <td>0.800000</td>\n",
       "      <td>0.800000</td>\n",
       "      <td>0.995098</td>\n",
       "      <td>0.666667</td>\n",
       "      <td>0.800000</td>\n",
       "    </tr>\n",
       "    <tr>\n",
       "      <th>168</th>\n",
       "      <td>PAPA</td>\n",
       "      <td>DG FASHION</td>\n",
       "      <td>0</td>\n",
       "      <td>papa</td>\n",
       "      <td>dgfashion</td>\n",
       "      <td>25</td>\n",
       "      <td>15</td>\n",
       "      <td>15</td>\n",
       "      <td>0.258065</td>\n",
       "      <td>0</td>\n",
       "      <td>...</td>\n",
       "      <td>0.000000</td>\n",
       "      <td>0.277778</td>\n",
       "      <td>0.000000</td>\n",
       "      <td>0.261111</td>\n",
       "      <td>0.453704</td>\n",
       "      <td>0.000000</td>\n",
       "      <td>0.111111</td>\n",
       "      <td>0.736275</td>\n",
       "      <td>0.223529</td>\n",
       "      <td>0.405018</td>\n",
       "    </tr>\n",
       "    <tr>\n",
       "      <th>253</th>\n",
       "      <td>TIAMA</td>\n",
       "      <td>NERO EXPRESS</td>\n",
       "      <td>0</td>\n",
       "      <td>tiama</td>\n",
       "      <td>neroexpress</td>\n",
       "      <td>0</td>\n",
       "      <td>0</td>\n",
       "      <td>0</td>\n",
       "      <td>0.354839</td>\n",
       "      <td>0</td>\n",
       "      <td>...</td>\n",
       "      <td>0.000000</td>\n",
       "      <td>0.272727</td>\n",
       "      <td>0.000000</td>\n",
       "      <td>0.300000</td>\n",
       "      <td>0.000000</td>\n",
       "      <td>0.000000</td>\n",
       "      <td>0.000000</td>\n",
       "      <td>0.749020</td>\n",
       "      <td>0.127869</td>\n",
       "      <td>0.416422</td>\n",
       "    </tr>\n",
       "    <tr>\n",
       "      <th>275</th>\n",
       "      <td>MILAN</td>\n",
       "      <td>MILAN SWEETS</td>\n",
       "      <td>1</td>\n",
       "      <td>milan</td>\n",
       "      <td>milansweets</td>\n",
       "      <td>100</td>\n",
       "      <td>62</td>\n",
       "      <td>62</td>\n",
       "      <td>0.193548</td>\n",
       "      <td>0</td>\n",
       "      <td>...</td>\n",
       "      <td>0.000000</td>\n",
       "      <td>0.590909</td>\n",
       "      <td>0.083333</td>\n",
       "      <td>0.645455</td>\n",
       "      <td>0.818182</td>\n",
       "      <td>0.263456</td>\n",
       "      <td>0.454545</td>\n",
       "      <td>0.904902</td>\n",
       "      <td>0.473684</td>\n",
       "      <td>0.454545</td>\n",
       "    </tr>\n",
       "    <tr>\n",
       "      <th>224</th>\n",
       "      <td>CANDEY</td>\n",
       "      <td>Candey Parker</td>\n",
       "      <td>1</td>\n",
       "      <td>candey</td>\n",
       "      <td>candeyparker</td>\n",
       "      <td>100</td>\n",
       "      <td>67</td>\n",
       "      <td>67</td>\n",
       "      <td>0.193548</td>\n",
       "      <td>0</td>\n",
       "      <td>...</td>\n",
       "      <td>0.500000</td>\n",
       "      <td>0.500000</td>\n",
       "      <td>0.187500</td>\n",
       "      <td>0.554167</td>\n",
       "      <td>0.833333</td>\n",
       "      <td>0.346789</td>\n",
       "      <td>0.500000</td>\n",
       "      <td>0.939706</td>\n",
       "      <td>0.468750</td>\n",
       "      <td>0.500000</td>\n",
       "    </tr>\n",
       "    <tr>\n",
       "      <th>255</th>\n",
       "      <td>PEAK ROCK CAPITAL</td>\n",
       "      <td>PEAK CAPITAL</td>\n",
       "      <td>1</td>\n",
       "      <td>peakrockcapital</td>\n",
       "      <td>peakcapital</td>\n",
       "      <td>73</td>\n",
       "      <td>85</td>\n",
       "      <td>85</td>\n",
       "      <td>0.129032</td>\n",
       "      <td>0</td>\n",
       "      <td>...</td>\n",
       "      <td>0.833333</td>\n",
       "      <td>0.800000</td>\n",
       "      <td>0.511111</td>\n",
       "      <td>0.810000</td>\n",
       "      <td>0.911111</td>\n",
       "      <td>0.701648</td>\n",
       "      <td>0.733333</td>\n",
       "      <td>0.952941</td>\n",
       "      <td>0.629630</td>\n",
       "      <td>0.733333</td>\n",
       "    </tr>\n",
       "    <tr>\n",
       "      <th>275</th>\n",
       "      <td>WELLBOX</td>\n",
       "      <td>Vpro</td>\n",
       "      <td>0</td>\n",
       "      <td>wellbox</td>\n",
       "      <td>vpro</td>\n",
       "      <td>25</td>\n",
       "      <td>18</td>\n",
       "      <td>18</td>\n",
       "      <td>0.193548</td>\n",
       "      <td>0</td>\n",
       "      <td>...</td>\n",
       "      <td>0.000000</td>\n",
       "      <td>0.357143</td>\n",
       "      <td>0.000000</td>\n",
       "      <td>0.357143</td>\n",
       "      <td>0.464286</td>\n",
       "      <td>0.061905</td>\n",
       "      <td>0.142857</td>\n",
       "      <td>0.798039</td>\n",
       "      <td>0.194595</td>\n",
       "      <td>0.472350</td>\n",
       "    </tr>\n",
       "    <tr>\n",
       "      <th>21</th>\n",
       "      <td>Thirty forty fifty</td>\n",
       "      <td>Maternity Yours</td>\n",
       "      <td>0</td>\n",
       "      <td>thirtyfortyfifty</td>\n",
       "      <td>maternityyours</td>\n",
       "      <td>36</td>\n",
       "      <td>40</td>\n",
       "      <td>40</td>\n",
       "      <td>0.419355</td>\n",
       "      <td>0</td>\n",
       "      <td>...</td>\n",
       "      <td>0.000000</td>\n",
       "      <td>0.281250</td>\n",
       "      <td>0.000000</td>\n",
       "      <td>0.312500</td>\n",
       "      <td>0.607143</td>\n",
       "      <td>0.198717</td>\n",
       "      <td>0.250000</td>\n",
       "      <td>0.619118</td>\n",
       "      <td>0.409091</td>\n",
       "      <td>0.674395</td>\n",
       "    </tr>\n",
       "  </tbody>\n",
       "</table>\n",
       "<p>20 rows × 30 columns</p>\n",
       "</div>"
      ],
      "text/plain": [
       "                      a                           b  target              TM_A  \\\n",
       "117             Tatadoo                     Potters       0           tatadoo   \n",
       "187               GENIE                   JOBZGENIE       1             genie   \n",
       "31         ANGEL’S ENVY                + Class View       0        angelsenvy   \n",
       "105            Snakeman                      BOOHOO       0          snakeman   \n",
       "332      WOOLLY AND TIG                WOOZLE & PIP       0      woollyandtig   \n",
       "3              PURE IPR                  Camel Capa       0           pureipr   \n",
       "119             Tatadoo                        TATA       1           tatadoo   \n",
       "266    WILDWOOD KITCHEN  WILD AND WOOD COFFEE HOUSE       1   wildwoodkitchen   \n",
       "164             SKYRIZI     THE POWER OF SIMPLICITY       0           skyrizi   \n",
       "34              POST-IT              Hajdu Halloumi       0            postit   \n",
       "108               DWELL               DWELL STUDENT       1             dwell   \n",
       "195             TIFFINS              THE TIFFIN TIN       1           tiffins   \n",
       "344               QUILT                        QUIT       0             quilt   \n",
       "168                PAPA                  DG FASHION       0              papa   \n",
       "253               TIAMA                NERO EXPRESS       0             tiama   \n",
       "275               MILAN                MILAN SWEETS       1             milan   \n",
       "224              CANDEY               Candey Parker       1            candey   \n",
       "255   PEAK ROCK CAPITAL                PEAK CAPITAL       1   peakrockcapital   \n",
       "275             WELLBOX                        Vpro       0           wellbox   \n",
       "21   Thirty forty fifty             Maternity Yours       0  thirtyfortyfifty   \n",
       "\n",
       "                       TM_B  partial  tkn_sort  tkn_set  levenshtein  \\\n",
       "117                 potters       29        29       29     0.193548   \n",
       "187               jobzgenie      100        71       71     0.129032   \n",
       "31                classview       33        32       32     0.290323   \n",
       "105                  boohoo        0         0        0     0.258065   \n",
       "332               woozlepip       44        48       48     0.225806   \n",
       "3                 camelcapa       29        25       25     0.225806   \n",
       "119                    tata      100        73       73     0.096774   \n",
       "266  wildandwoodcoffeehouse       60        59       59     0.419355   \n",
       "164    thepowerofsimplicity       43        22       22     0.548387   \n",
       "34            hajduhalloumi       36        21       21     0.387097   \n",
       "108            dwellstudent      100        59       59     0.225806   \n",
       "195            thetiffintin       86        63       63     0.193548   \n",
       "344                    quit       75        89       89     0.032258   \n",
       "168               dgfashion       25        15       15     0.258065   \n",
       "253             neroexpress        0         0        0     0.354839   \n",
       "275             milansweets      100        62       62     0.193548   \n",
       "224            candeyparker      100        67       67     0.193548   \n",
       "255             peakcapital       73        85       85     0.129032   \n",
       "275                    vpro       25        18       18     0.193548   \n",
       "21           maternityyours       36        40       40     0.419355   \n",
       "\n",
       "     metaphone  ...       mra    editex      saps  flexmetric      jaro  \\\n",
       "117          0  ...  0.000000  0.428571  0.000000    0.314286  0.523810   \n",
       "187          0  ...  0.000000  0.555556  0.241379    0.555556  0.437037   \n",
       "31           0  ...  0.000000  0.150000  0.000000    0.250000  0.551852   \n",
       "105          0  ...  0.000000  0.187500  0.000000    0.137500  0.000000   \n",
       "332          0  ...  0.000000  0.541667  0.156250    0.529167  0.657407   \n",
       "3            0  ...  0.000000  0.333333  0.000000    0.311111  0.502646   \n",
       "119          0  ...  0.833333  0.714286  0.409091    0.800000  0.857143   \n",
       "266          0  ...  0.666667  0.590909  0.209677    0.643182  0.698485   \n",
       "164          0  ...  0.000000  0.225000  0.000000    0.342500  0.526190   \n",
       "34           0  ...  0.000000  0.269231  0.000000    0.346154  0.000000   \n",
       "108          0  ...  0.000000  0.416667  0.106383    0.620833  0.805556   \n",
       "195          0  ...  0.000000  0.541667  0.135135    0.695833  0.785714   \n",
       "344          0  ...  0.833333  0.800000  0.266667    0.800000  0.933333   \n",
       "168          0  ...  0.000000  0.277778  0.000000    0.261111  0.453704   \n",
       "253          0  ...  0.000000  0.272727  0.000000    0.300000  0.000000   \n",
       "275          0  ...  0.000000  0.590909  0.083333    0.645455  0.818182   \n",
       "224          0  ...  0.500000  0.500000  0.187500    0.554167  0.833333   \n",
       "255          0  ...  0.833333  0.800000  0.511111    0.810000  0.911111   \n",
       "275          0  ...  0.000000  0.357143  0.000000    0.357143  0.464286   \n",
       "21           0  ...  0.000000  0.281250  0.000000    0.312500  0.607143   \n",
       "\n",
       "     higueramico     sift4     eudex     aline  phoneticeditdistance  \n",
       "117     0.194444  0.142857  0.743137  0.458537              0.658986  \n",
       "187     0.454365  0.555556  0.752941  0.489362              0.555556  \n",
       "31      0.166900  0.300000  0.768137  0.398148              0.679032  \n",
       "105     0.000000  0.000000  0.666667  0.154545              0.572581  \n",
       "332     0.392424  0.416667  0.828431  0.502479              0.700269  \n",
       "3       0.208333  0.222222  0.775490  0.268085              0.641577  \n",
       "119     0.490476  0.571429  0.982353  0.606061              0.571429  \n",
       "266     0.366546  0.454545  0.986275  0.487324              0.642962  \n",
       "164     0.000000  0.050000  0.838725  0.201923              0.328226  \n",
       "34      0.000000  0.000000  0.680392  0.179104              0.397022  \n",
       "108     0.180123  0.416667  0.932353  0.397059              0.416667  \n",
       "195     0.406313  0.500000  0.923529  0.573529              0.577957  \n",
       "344     0.800000  0.800000  0.995098  0.666667              0.800000  \n",
       "168     0.000000  0.111111  0.736275  0.223529              0.405018  \n",
       "253     0.000000  0.000000  0.749020  0.127869              0.416422  \n",
       "275     0.263456  0.454545  0.904902  0.473684              0.454545  \n",
       "224     0.346789  0.500000  0.939706  0.468750              0.500000  \n",
       "255     0.701648  0.733333  0.952941  0.629630              0.733333  \n",
       "275     0.061905  0.142857  0.798039  0.194595              0.472350  \n",
       "21      0.198717  0.250000  0.619118  0.409091              0.674395  \n",
       "\n",
       "[20 rows x 30 columns]"
      ]
     },
     "execution_count": 94,
     "metadata": {},
     "output_type": "execute_result"
    }
   ],
   "source": [
    "from tqdm.autonotebook import tqdm\n",
    "tqdm.pandas()\n",
    "\n",
    "df = featurize(class_balanced)\n",
    "df.sample(20)"
   ]
  },
  {
   "cell_type": "markdown",
   "metadata": {},
   "source": [
    "#### Export clean data to csv"
   ]
  },
  {
   "cell_type": "code",
   "execution_count": null,
   "metadata": {},
   "outputs": [],
   "source": [
    "# df.to_csv('Data.nosync/TM_features.csv', index=False)  "
   ]
  },
  {
   "cell_type": "code",
   "execution_count": 95,
   "metadata": {},
   "outputs": [],
   "source": [
    "y = df.target\n",
    "X = df.drop(columns = 'target')"
   ]
  },
  {
   "cell_type": "code",
   "execution_count": 96,
   "metadata": {},
   "outputs": [],
   "source": [
    "from sklearn.model_selection import train_test_split"
   ]
  },
  {
   "cell_type": "code",
   "execution_count": 97,
   "metadata": {},
   "outputs": [],
   "source": [
    "X_train, X_test, y_train, y_test = train_test_split(X, y, test_size=0.20, random_state=42)"
   ]
  },
  {
   "cell_type": "code",
   "execution_count": 98,
   "metadata": {},
   "outputs": [],
   "source": [
    "#X_train.drop(['a', 'b', 'TM_A', 'TM_B'],1)"
   ]
  },
  {
   "cell_type": "markdown",
   "metadata": {},
   "source": [
    "## TPOT AutoML pipeline"
   ]
  },
  {
   "cell_type": "code",
   "execution_count": null,
   "metadata": {},
   "outputs": [],
   "source": [
    "from tpot import TPOTClassifier"
   ]
  },
  {
   "cell_type": "code",
   "execution_count": null,
   "metadata": {},
   "outputs": [],
   "source": [
    "# pipeline_optimizer = TPOTClassifier(\n",
    "#         scoring = 'f1', \n",
    "#         generations=100,\n",
    "#         verbosity=2,\n",
    "#         n_jobs=-1   # Utilizes all available CPU cores\n",
    "#         ) \n",
    "# pipeline_optimizer.fit(X_train.drop(['a', 'b', 'TM_A', 'TM_B'],1), y_train)"
   ]
  },
  {
   "cell_type": "code",
   "execution_count": null,
   "metadata": {},
   "outputs": [],
   "source": [
    "# print(pipeline_optimizer.score(X_test.drop(['a', 'b', 'TM_A', 'TM_B'], 1), y_test))"
   ]
  },
  {
   "cell_type": "markdown",
   "metadata": {},
   "source": [
    "### Export TPOT pipeline"
   ]
  },
  {
   "cell_type": "code",
   "execution_count": null,
   "metadata": {},
   "outputs": [],
   "source": [
    "# pipeline_optimizer.export('tpot_exported_calssifier_pipeline.py')"
   ]
  },
  {
   "cell_type": "markdown",
   "metadata": {},
   "source": [
    "### Load TPOT pipeline"
   ]
  },
  {
   "cell_type": "code",
   "execution_count": 99,
   "metadata": {},
   "outputs": [
    {
     "data": {
      "text/html": [
       "<div>\n",
       "<style scoped>\n",
       "    .dataframe tbody tr th:only-of-type {\n",
       "        vertical-align: middle;\n",
       "    }\n",
       "\n",
       "    .dataframe tbody tr th {\n",
       "        vertical-align: top;\n",
       "    }\n",
       "\n",
       "    .dataframe thead th {\n",
       "        text-align: right;\n",
       "    }\n",
       "</style>\n",
       "<table border=\"1\" class=\"dataframe\">\n",
       "  <thead>\n",
       "    <tr style=\"text-align: right;\">\n",
       "      <th></th>\n",
       "      <th>target</th>\n",
       "      <th>partial</th>\n",
       "      <th>tkn_sort</th>\n",
       "      <th>tkn_set</th>\n",
       "      <th>levenshtein</th>\n",
       "      <th>metaphone</th>\n",
       "      <th>nysiis</th>\n",
       "      <th>mtch_rtng_cdx</th>\n",
       "      <th>pshp_soundex_first</th>\n",
       "      <th>iterativesubstring</th>\n",
       "      <th>...</th>\n",
       "      <th>mra</th>\n",
       "      <th>editex</th>\n",
       "      <th>saps</th>\n",
       "      <th>flexmetric</th>\n",
       "      <th>jaro</th>\n",
       "      <th>higueramico</th>\n",
       "      <th>sift4</th>\n",
       "      <th>eudex</th>\n",
       "      <th>aline</th>\n",
       "      <th>phoneticeditdistance</th>\n",
       "    </tr>\n",
       "  </thead>\n",
       "  <tbody>\n",
       "    <tr>\n",
       "      <th>0</th>\n",
       "      <td>1</td>\n",
       "      <td>57</td>\n",
       "      <td>50</td>\n",
       "      <td>50</td>\n",
       "      <td>0.161290</td>\n",
       "      <td>0</td>\n",
       "      <td>0</td>\n",
       "      <td>0</td>\n",
       "      <td>0</td>\n",
       "      <td>0.485480</td>\n",
       "      <td>...</td>\n",
       "      <td>0.666667</td>\n",
       "      <td>0.555556</td>\n",
       "      <td>0.137931</td>\n",
       "      <td>0.566667</td>\n",
       "      <td>0.671958</td>\n",
       "      <td>0.430556</td>\n",
       "      <td>0.444444</td>\n",
       "      <td>0.654902</td>\n",
       "      <td>0.602128</td>\n",
       "      <td>0.727599</td>\n",
       "    </tr>\n",
       "    <tr>\n",
       "      <th>1</th>\n",
       "      <td>1</td>\n",
       "      <td>38</td>\n",
       "      <td>38</td>\n",
       "      <td>38</td>\n",
       "      <td>0.161290</td>\n",
       "      <td>0</td>\n",
       "      <td>0</td>\n",
       "      <td>0</td>\n",
       "      <td>0</td>\n",
       "      <td>0.050000</td>\n",
       "      <td>...</td>\n",
       "      <td>0.500000</td>\n",
       "      <td>0.500000</td>\n",
       "      <td>0.304348</td>\n",
       "      <td>0.400000</td>\n",
       "      <td>0.583333</td>\n",
       "      <td>0.375000</td>\n",
       "      <td>0.375000</td>\n",
       "      <td>0.916667</td>\n",
       "      <td>0.545455</td>\n",
       "      <td>0.897177</td>\n",
       "    </tr>\n",
       "    <tr>\n",
       "      <th>2</th>\n",
       "      <td>1</td>\n",
       "      <td>89</td>\n",
       "      <td>73</td>\n",
       "      <td>73</td>\n",
       "      <td>0.096774</td>\n",
       "      <td>0</td>\n",
       "      <td>0</td>\n",
       "      <td>0</td>\n",
       "      <td>0</td>\n",
       "      <td>0.821263</td>\n",
       "      <td>...</td>\n",
       "      <td>0.833333</td>\n",
       "      <td>0.500000</td>\n",
       "      <td>0.428571</td>\n",
       "      <td>0.600000</td>\n",
       "      <td>0.822222</td>\n",
       "      <td>0.547619</td>\n",
       "      <td>0.666667</td>\n",
       "      <td>0.786275</td>\n",
       "      <td>0.705882</td>\n",
       "      <td>0.634409</td>\n",
       "    </tr>\n",
       "    <tr>\n",
       "      <th>3</th>\n",
       "      <td>1</td>\n",
       "      <td>83</td>\n",
       "      <td>83</td>\n",
       "      <td>83</td>\n",
       "      <td>0.096774</td>\n",
       "      <td>0</td>\n",
       "      <td>0</td>\n",
       "      <td>0</td>\n",
       "      <td>1</td>\n",
       "      <td>0.884677</td>\n",
       "      <td>...</td>\n",
       "      <td>0.500000</td>\n",
       "      <td>0.833333</td>\n",
       "      <td>0.666667</td>\n",
       "      <td>0.833333</td>\n",
       "      <td>0.888889</td>\n",
       "      <td>0.769231</td>\n",
       "      <td>0.833333</td>\n",
       "      <td>1.000000</td>\n",
       "      <td>0.873529</td>\n",
       "      <td>0.913978</td>\n",
       "    </tr>\n",
       "    <tr>\n",
       "      <th>4</th>\n",
       "      <td>1</td>\n",
       "      <td>74</td>\n",
       "      <td>65</td>\n",
       "      <td>65</td>\n",
       "      <td>0.290323</td>\n",
       "      <td>0</td>\n",
       "      <td>0</td>\n",
       "      <td>0</td>\n",
       "      <td>0</td>\n",
       "      <td>0.951613</td>\n",
       "      <td>...</td>\n",
       "      <td>0.000000</td>\n",
       "      <td>0.588235</td>\n",
       "      <td>0.319149</td>\n",
       "      <td>0.538235</td>\n",
       "      <td>0.687675</td>\n",
       "      <td>0.490372</td>\n",
       "      <td>0.588235</td>\n",
       "      <td>0.463725</td>\n",
       "      <td>0.589655</td>\n",
       "      <td>0.646110</td>\n",
       "    </tr>\n",
       "    <tr>\n",
       "      <th>...</th>\n",
       "      <td>...</td>\n",
       "      <td>...</td>\n",
       "      <td>...</td>\n",
       "      <td>...</td>\n",
       "      <td>...</td>\n",
       "      <td>...</td>\n",
       "      <td>...</td>\n",
       "      <td>...</td>\n",
       "      <td>...</td>\n",
       "      <td>...</td>\n",
       "      <td>...</td>\n",
       "      <td>...</td>\n",
       "      <td>...</td>\n",
       "      <td>...</td>\n",
       "      <td>...</td>\n",
       "      <td>...</td>\n",
       "      <td>...</td>\n",
       "      <td>...</td>\n",
       "      <td>...</td>\n",
       "      <td>...</td>\n",
       "      <td>...</td>\n",
       "    </tr>\n",
       "    <tr>\n",
       "      <th>352</th>\n",
       "      <td>0</td>\n",
       "      <td>83</td>\n",
       "      <td>83</td>\n",
       "      <td>83</td>\n",
       "      <td>0.032258</td>\n",
       "      <td>0</td>\n",
       "      <td>0</td>\n",
       "      <td>0</td>\n",
       "      <td>0</td>\n",
       "      <td>0.897436</td>\n",
       "      <td>...</td>\n",
       "      <td>0.833333</td>\n",
       "      <td>0.833333</td>\n",
       "      <td>0.500000</td>\n",
       "      <td>0.833333</td>\n",
       "      <td>0.822222</td>\n",
       "      <td>0.833333</td>\n",
       "      <td>0.833333</td>\n",
       "      <td>0.866667</td>\n",
       "      <td>0.823529</td>\n",
       "      <td>0.943548</td>\n",
       "    </tr>\n",
       "    <tr>\n",
       "      <th>353</th>\n",
       "      <td>0</td>\n",
       "      <td>75</td>\n",
       "      <td>75</td>\n",
       "      <td>75</td>\n",
       "      <td>0.064516</td>\n",
       "      <td>0</td>\n",
       "      <td>0</td>\n",
       "      <td>0</td>\n",
       "      <td>1</td>\n",
       "      <td>0.804167</td>\n",
       "      <td>...</td>\n",
       "      <td>0.833333</td>\n",
       "      <td>0.812500</td>\n",
       "      <td>0.565217</td>\n",
       "      <td>0.787500</td>\n",
       "      <td>0.833333</td>\n",
       "      <td>0.750000</td>\n",
       "      <td>0.750000</td>\n",
       "      <td>0.997549</td>\n",
       "      <td>0.937500</td>\n",
       "      <td>0.973790</td>\n",
       "    </tr>\n",
       "    <tr>\n",
       "      <th>354</th>\n",
       "      <td>0</td>\n",
       "      <td>80</td>\n",
       "      <td>71</td>\n",
       "      <td>71</td>\n",
       "      <td>0.129032</td>\n",
       "      <td>0</td>\n",
       "      <td>0</td>\n",
       "      <td>0</td>\n",
       "      <td>0</td>\n",
       "      <td>0.800858</td>\n",
       "      <td>...</td>\n",
       "      <td>0.666667</td>\n",
       "      <td>0.666667</td>\n",
       "      <td>0.310345</td>\n",
       "      <td>0.666667</td>\n",
       "      <td>0.741402</td>\n",
       "      <td>0.588889</td>\n",
       "      <td>0.666667</td>\n",
       "      <td>0.784804</td>\n",
       "      <td>0.705882</td>\n",
       "      <td>0.655914</td>\n",
       "    </tr>\n",
       "    <tr>\n",
       "      <th>355</th>\n",
       "      <td>0</td>\n",
       "      <td>67</td>\n",
       "      <td>77</td>\n",
       "      <td>77</td>\n",
       "      <td>0.161290</td>\n",
       "      <td>0</td>\n",
       "      <td>0</td>\n",
       "      <td>0</td>\n",
       "      <td>1</td>\n",
       "      <td>0.852383</td>\n",
       "      <td>...</td>\n",
       "      <td>0.833333</td>\n",
       "      <td>0.678571</td>\n",
       "      <td>0.469388</td>\n",
       "      <td>0.700000</td>\n",
       "      <td>0.815873</td>\n",
       "      <td>0.637363</td>\n",
       "      <td>0.714286</td>\n",
       "      <td>0.995588</td>\n",
       "      <td>0.713415</td>\n",
       "      <td>0.808756</td>\n",
       "    </tr>\n",
       "    <tr>\n",
       "      <th>356</th>\n",
       "      <td>0</td>\n",
       "      <td>86</td>\n",
       "      <td>67</td>\n",
       "      <td>67</td>\n",
       "      <td>0.161290</td>\n",
       "      <td>0</td>\n",
       "      <td>0</td>\n",
       "      <td>0</td>\n",
       "      <td>0</td>\n",
       "      <td>0.793397</td>\n",
       "      <td>...</td>\n",
       "      <td>0.500000</td>\n",
       "      <td>0.636364</td>\n",
       "      <td>0.166667</td>\n",
       "      <td>0.663636</td>\n",
       "      <td>0.689755</td>\n",
       "      <td>0.482071</td>\n",
       "      <td>0.363636</td>\n",
       "      <td>0.775490</td>\n",
       "      <td>0.491803</td>\n",
       "      <td>0.633431</td>\n",
       "    </tr>\n",
       "  </tbody>\n",
       "</table>\n",
       "<p>657 rows × 26 columns</p>\n",
       "</div>"
      ],
      "text/plain": [
       "     target  partial  tkn_sort  tkn_set  levenshtein  metaphone  nysiis  \\\n",
       "0         1       57        50       50     0.161290          0       0   \n",
       "1         1       38        38       38     0.161290          0       0   \n",
       "2         1       89        73       73     0.096774          0       0   \n",
       "3         1       83        83       83     0.096774          0       0   \n",
       "4         1       74        65       65     0.290323          0       0   \n",
       "..      ...      ...       ...      ...          ...        ...     ...   \n",
       "352       0       83        83       83     0.032258          0       0   \n",
       "353       0       75        75       75     0.064516          0       0   \n",
       "354       0       80        71       71     0.129032          0       0   \n",
       "355       0       67        77       77     0.161290          0       0   \n",
       "356       0       86        67       67     0.161290          0       0   \n",
       "\n",
       "     mtch_rtng_cdx  pshp_soundex_first  iterativesubstring  ...       mra  \\\n",
       "0                0                   0            0.485480  ...  0.666667   \n",
       "1                0                   0            0.050000  ...  0.500000   \n",
       "2                0                   0            0.821263  ...  0.833333   \n",
       "3                0                   1            0.884677  ...  0.500000   \n",
       "4                0                   0            0.951613  ...  0.000000   \n",
       "..             ...                 ...                 ...  ...       ...   \n",
       "352              0                   0            0.897436  ...  0.833333   \n",
       "353              0                   1            0.804167  ...  0.833333   \n",
       "354              0                   0            0.800858  ...  0.666667   \n",
       "355              0                   1            0.852383  ...  0.833333   \n",
       "356              0                   0            0.793397  ...  0.500000   \n",
       "\n",
       "       editex      saps  flexmetric      jaro  higueramico     sift4  \\\n",
       "0    0.555556  0.137931    0.566667  0.671958     0.430556  0.444444   \n",
       "1    0.500000  0.304348    0.400000  0.583333     0.375000  0.375000   \n",
       "2    0.500000  0.428571    0.600000  0.822222     0.547619  0.666667   \n",
       "3    0.833333  0.666667    0.833333  0.888889     0.769231  0.833333   \n",
       "4    0.588235  0.319149    0.538235  0.687675     0.490372  0.588235   \n",
       "..        ...       ...         ...       ...          ...       ...   \n",
       "352  0.833333  0.500000    0.833333  0.822222     0.833333  0.833333   \n",
       "353  0.812500  0.565217    0.787500  0.833333     0.750000  0.750000   \n",
       "354  0.666667  0.310345    0.666667  0.741402     0.588889  0.666667   \n",
       "355  0.678571  0.469388    0.700000  0.815873     0.637363  0.714286   \n",
       "356  0.636364  0.166667    0.663636  0.689755     0.482071  0.363636   \n",
       "\n",
       "        eudex     aline  phoneticeditdistance  \n",
       "0    0.654902  0.602128              0.727599  \n",
       "1    0.916667  0.545455              0.897177  \n",
       "2    0.786275  0.705882              0.634409  \n",
       "3    1.000000  0.873529              0.913978  \n",
       "4    0.463725  0.589655              0.646110  \n",
       "..        ...       ...                   ...  \n",
       "352  0.866667  0.823529              0.943548  \n",
       "353  0.997549  0.937500              0.973790  \n",
       "354  0.784804  0.705882              0.655914  \n",
       "355  0.995588  0.713415              0.808756  \n",
       "356  0.775490  0.491803              0.633431  \n",
       "\n",
       "[657 rows x 26 columns]"
      ]
     },
     "execution_count": 99,
     "metadata": {},
     "output_type": "execute_result"
    }
   ],
   "source": [
    "df_TPOT = df.drop(columns = ['a','b','TM_A','TM_B'])\n",
    "df_TPOT"
   ]
  },
  {
   "cell_type": "code",
   "execution_count": 100,
   "metadata": {},
   "outputs": [
    {
     "data": {
      "text/plain": [
       "array([1, 0, 0, 1, 0, 0, 1, 0, 1, 1, 0, 1, 1, 1, 1, 1, 0, 0, 0, 1, 1, 1,\n",
       "       0, 1, 1, 1, 0, 1, 0, 1, 1, 1, 0, 1, 1, 0, 0, 0, 1, 1, 0, 0, 1, 0,\n",
       "       0, 1, 0, 0, 1, 1, 0, 0, 1, 1, 0, 0, 0, 0, 0, 1, 0, 1, 0, 1, 0, 0,\n",
       "       0, 1, 1, 0, 0, 1, 1, 1, 1, 1, 0, 1, 0, 0, 1, 0, 1, 1, 1, 1, 1, 1,\n",
       "       1, 0, 0, 0, 1, 1, 0, 0, 0, 1, 1, 1, 0, 0, 1, 0, 0, 1, 1, 1, 0, 1,\n",
       "       0, 0, 0, 0, 0, 1, 0, 0, 0, 0, 0, 1, 1, 0, 0, 0, 0, 0, 0, 1, 0, 0,\n",
       "       1, 0, 0, 0, 1, 1, 0, 1, 0, 1, 0, 1, 1, 1, 1, 1, 0, 1, 1, 0, 1, 1,\n",
       "       0, 1, 0, 1, 0, 0, 0, 1, 1, 1, 1])"
      ]
     },
     "execution_count": 100,
     "metadata": {},
     "output_type": "execute_result"
    }
   ],
   "source": [
    "import numpy as np\n",
    "import pandas as pd\n",
    "from sklearn.ensemble import GradientBoostingClassifier\n",
    "from sklearn.model_selection import train_test_split\n",
    "from sklearn.pipeline import make_pipeline, make_union\n",
    "from tpot.builtins import StackingEstimator\n",
    "from sklearn.preprocessing import FunctionTransformer\n",
    "from copy import copy\n",
    "\n",
    "# NOTE: Make sure that the outcome column is labeled 'target' in the data file\n",
    "tpot_data = df_TPOT\n",
    "features = tpot_data.drop('target', axis=1)\n",
    "training_features, testing_features, training_target, testing_target = \\\n",
    "            train_test_split(features, tpot_data['target'], random_state=None)\n",
    "\n",
    "# Average CV score on the training set was: 0.8945711361541637\n",
    "exported_pipeline = make_pipeline(\n",
    "    make_union(\n",
    "        FunctionTransformer(copy),\n",
    "        FunctionTransformer(copy)\n",
    "    ),\n",
    "    GradientBoostingClassifier(learning_rate=0.01, max_depth=3, max_features=0.5, min_samples_leaf=10, min_samples_split=3, n_estimators=100, subsample=0.9500000000000001)\n",
    ")\n",
    "\n",
    "exported_pipeline.fit(training_features, training_target)\n",
    "results = exported_pipeline.predict(testing_features)\n",
    "\n",
    "results"
   ]
  },
  {
   "cell_type": "code",
   "execution_count": 101,
   "metadata": {},
   "outputs": [],
   "source": [
    "def base_model_1(X_train, y_train, X_test, export = False) :\n",
    "    exported_pipeline = make_pipeline(\n",
    "    GradientBoostingClassifier(\n",
    "        learning_rate=0.01, \n",
    "        max_depth=3, max_features=0.5,\n",
    "        min_samples_leaf=10, min_samples_split=3, \n",
    "        n_estimators=100, subsample=0.9500000000000001)\n",
    "    )\n",
    "\n",
    "    exported_pipeline.fit(X_train, y_train)\n",
    "    if export==True:\n",
    "        return exported_pipeline\n",
    "    else:\n",
    "        y_pred = exported_pipeline.predict_proba(X_test)\n",
    "        return [p[1] for p in y_pred]"
   ]
  },
  {
   "cell_type": "code",
   "execution_count": 102,
   "metadata": {},
   "outputs": [
    {
     "data": {
      "text/plain": [
       "[0.4089902361858951,\n",
       " 0.6726908376534118,\n",
       " 0.17926659941704104,\n",
       " 0.6237662730355311,\n",
       " 0.1624292949400227,\n",
       " 0.6533745010838848,\n",
       " 0.7053568149928229,\n",
       " 0.19721103221563815,\n",
       " 0.6844220144519545,\n",
       " 0.7051811813740526,\n",
       " 0.19233820083879552,\n",
       " 0.6415761572625466,\n",
       " 0.6752755076780786,\n",
       " 0.16608351082129122,\n",
       " 0.1631516321269136,\n",
       " 0.1624292949400227,\n",
       " 0.1624292949400227,\n",
       " 0.1624292949400227,\n",
       " 0.7062679096451815,\n",
       " 0.672661906178391,\n",
       " 0.6619663804272805,\n",
       " 0.6589482767213394,\n",
       " 0.7558882810480432,\n",
       " 0.16653056350728176,\n",
       " 0.1624292949400227,\n",
       " 0.26666303490524484,\n",
       " 0.6661517270998943,\n",
       " 0.1624292949400227,\n",
       " 0.1624292949400227,\n",
       " 0.2019901905660703,\n",
       " 0.7446927136532752,\n",
       " 0.7263645547527621,\n",
       " 0.1624292949400227,\n",
       " 0.5947997406762089,\n",
       " 0.7431125585457435,\n",
       " 0.5498630468906165,\n",
       " 0.6560179947328721,\n",
       " 0.5744052109550669,\n",
       " 0.7462823303822262,\n",
       " 0.6337225012752975,\n",
       " 0.28987623915169686,\n",
       " 0.1624292949400227,\n",
       " 0.7444835361486578,\n",
       " 0.1624292949400227,\n",
       " 0.7095829397539226,\n",
       " 0.287543153545327,\n",
       " 0.6962882422191421,\n",
       " 0.740130657999741,\n",
       " 0.6550671171902624,\n",
       " 0.752897976090609,\n",
       " 0.1624292949400227,\n",
       " 0.7204478509586001,\n",
       " 0.7479756459448852,\n",
       " 0.1798003225468503,\n",
       " 0.7016101978625524,\n",
       " 0.6770993544539949,\n",
       " 0.16338701274559236,\n",
       " 0.6736953487887621,\n",
       " 0.6534598297967656,\n",
       " 0.1624292949400227,\n",
       " 0.20141242692447003,\n",
       " 0.1781125242282469,\n",
       " 0.662543831361709,\n",
       " 0.7183382093673277,\n",
       " 0.6649186220484067,\n",
       " 0.6296861645056988,\n",
       " 0.6811126081025392,\n",
       " 0.7023559870072418,\n",
       " 0.7097176835449595,\n",
       " 0.1624292949400227,\n",
       " 0.1624292949400227,\n",
       " 0.6821680845516697,\n",
       " 0.6353109879138745,\n",
       " 0.1624292949400227,\n",
       " 0.20562910776478133,\n",
       " 0.25432124105099313,\n",
       " 0.17089796884250316,\n",
       " 0.6613673425160839,\n",
       " 0.6871619903159932,\n",
       " 0.7058389182178203,\n",
       " 0.6513565627864065,\n",
       " 0.1624292949400227,\n",
       " 0.6127188396326371,\n",
       " 0.6108105633942587,\n",
       " 0.1624292949400227,\n",
       " 0.6724076101577477,\n",
       " 0.1624292949400227,\n",
       " 0.7044522459564334,\n",
       " 0.6564933422311868,\n",
       " 0.1624292949400227,\n",
       " 0.6607859035644497,\n",
       " 0.6723484895359626,\n",
       " 0.1624292949400227,\n",
       " 0.6918567513971529,\n",
       " 0.1624292949400227,\n",
       " 0.7028669991844742,\n",
       " 0.5620567094091925,\n",
       " 0.6847927134947589,\n",
       " 0.6616033870032773,\n",
       " 0.6268896958704152,\n",
       " 0.1624292949400227,\n",
       " 0.7042611699282559,\n",
       " 0.6516903573062968,\n",
       " 0.6883905843418695,\n",
       " 0.757842077787287,\n",
       " 0.706028984333943,\n",
       " 0.6916171893122942,\n",
       " 0.703683313324053,\n",
       " 0.1624292949400227,\n",
       " 0.2933274896943595,\n",
       " 0.1624292949400227,\n",
       " 0.1624292949400227,\n",
       " 0.1624292949400227,\n",
       " 0.6869295184594294,\n",
       " 0.6528692209798289,\n",
       " 0.637548178848065,\n",
       " 0.7204478509586001,\n",
       " 0.19966192302038432,\n",
       " 0.7030906897327979,\n",
       " 0.7476319262419249,\n",
       " 0.6928842187988513,\n",
       " 0.1624292949400227,\n",
       " 0.7369872009144023,\n",
       " 0.16413778436754203,\n",
       " 0.18071440603496067,\n",
       " 0.7263116087558247,\n",
       " 0.1624292949400227,\n",
       " 0.664658606896349,\n",
       " 0.18568127917384983,\n",
       " 0.1687991686977974,\n",
       " 0.1624292949400227,\n",
       " 0.16499731832343006]"
      ]
     },
     "execution_count": 102,
     "metadata": {},
     "output_type": "execute_result"
    }
   ],
   "source": [
    "base_model_1(X_train.drop(['a', 'b', 'TM_A', 'TM_B'],1), \n",
    "             y_train, X_test.drop(['a', 'b', 'TM_A', 'TM_B'], 1))"
   ]
  },
  {
   "cell_type": "markdown",
   "metadata": {},
   "source": [
    "## K-fold cross validation"
   ]
  },
  {
   "cell_type": "code",
   "execution_count": 103,
   "metadata": {},
   "outputs": [],
   "source": [
    "from sklearn.model_selection import StratifiedKFold"
   ]
  },
  {
   "cell_type": "code",
   "execution_count": 104,
   "metadata": {},
   "outputs": [
    {
     "name": "stderr",
     "output_type": "stream",
     "text": [
      "<ipython-input-104-7ed514384f19>:13: SettingWithCopyWarning: \n",
      "A value is trying to be set on a copy of a slice from a DataFrame.\n",
      "Try using .loc[row_indexer,col_indexer] = value instead\n",
      "\n",
      "See the caveats in the documentation: https://pandas.pydata.org/pandas-docs/stable/user_guide/indexing.html#returning-a-view-versus-a-copy\n",
      "  oof_pred['predict_proba'] = base_model_1(X_train.drop(['a', 'b', 'TM_A', 'TM_B'], 1),\n",
      "<ipython-input-104-7ed514384f19>:21: SettingWithCopyWarning: \n",
      "A value is trying to be set on a copy of a slice from a DataFrame.\n",
      "Try using .loc[row_indexer,col_indexer] = value instead\n",
      "\n",
      "See the caveats in the documentation: https://pandas.pydata.org/pandas-docs/stable/user_guide/indexing.html#returning-a-view-versus-a-copy\n",
      "  oof_pred['target'] = y_test.tolist()\n",
      "<ipython-input-104-7ed514384f19>:13: SettingWithCopyWarning: \n",
      "A value is trying to be set on a copy of a slice from a DataFrame.\n",
      "Try using .loc[row_indexer,col_indexer] = value instead\n",
      "\n",
      "See the caveats in the documentation: https://pandas.pydata.org/pandas-docs/stable/user_guide/indexing.html#returning-a-view-versus-a-copy\n",
      "  oof_pred['predict_proba'] = base_model_1(X_train.drop(['a', 'b', 'TM_A', 'TM_B'], 1),\n",
      "<ipython-input-104-7ed514384f19>:21: SettingWithCopyWarning: \n",
      "A value is trying to be set on a copy of a slice from a DataFrame.\n",
      "Try using .loc[row_indexer,col_indexer] = value instead\n",
      "\n",
      "See the caveats in the documentation: https://pandas.pydata.org/pandas-docs/stable/user_guide/indexing.html#returning-a-view-versus-a-copy\n",
      "  oof_pred['target'] = y_test.tolist()\n"
     ]
    },
    {
     "name": "stdout",
     "output_type": "stream",
     "text": [
      "completed fold 1 of 10\n",
      "completed fold 2 of 10\n"
     ]
    },
    {
     "name": "stderr",
     "output_type": "stream",
     "text": [
      "<ipython-input-104-7ed514384f19>:13: SettingWithCopyWarning: \n",
      "A value is trying to be set on a copy of a slice from a DataFrame.\n",
      "Try using .loc[row_indexer,col_indexer] = value instead\n",
      "\n",
      "See the caveats in the documentation: https://pandas.pydata.org/pandas-docs/stable/user_guide/indexing.html#returning-a-view-versus-a-copy\n",
      "  oof_pred['predict_proba'] = base_model_1(X_train.drop(['a', 'b', 'TM_A', 'TM_B'], 1),\n",
      "<ipython-input-104-7ed514384f19>:21: SettingWithCopyWarning: \n",
      "A value is trying to be set on a copy of a slice from a DataFrame.\n",
      "Try using .loc[row_indexer,col_indexer] = value instead\n",
      "\n",
      "See the caveats in the documentation: https://pandas.pydata.org/pandas-docs/stable/user_guide/indexing.html#returning-a-view-versus-a-copy\n",
      "  oof_pred['target'] = y_test.tolist()\n",
      "<ipython-input-104-7ed514384f19>:13: SettingWithCopyWarning: \n",
      "A value is trying to be set on a copy of a slice from a DataFrame.\n",
      "Try using .loc[row_indexer,col_indexer] = value instead\n",
      "\n",
      "See the caveats in the documentation: https://pandas.pydata.org/pandas-docs/stable/user_guide/indexing.html#returning-a-view-versus-a-copy\n",
      "  oof_pred['predict_proba'] = base_model_1(X_train.drop(['a', 'b', 'TM_A', 'TM_B'], 1),\n",
      "<ipython-input-104-7ed514384f19>:21: SettingWithCopyWarning: \n",
      "A value is trying to be set on a copy of a slice from a DataFrame.\n",
      "Try using .loc[row_indexer,col_indexer] = value instead\n",
      "\n",
      "See the caveats in the documentation: https://pandas.pydata.org/pandas-docs/stable/user_guide/indexing.html#returning-a-view-versus-a-copy\n",
      "  oof_pred['target'] = y_test.tolist()\n"
     ]
    },
    {
     "name": "stdout",
     "output_type": "stream",
     "text": [
      "completed fold 3 of 10\n",
      "completed fold 4 of 10\n"
     ]
    },
    {
     "name": "stderr",
     "output_type": "stream",
     "text": [
      "<ipython-input-104-7ed514384f19>:13: SettingWithCopyWarning: \n",
      "A value is trying to be set on a copy of a slice from a DataFrame.\n",
      "Try using .loc[row_indexer,col_indexer] = value instead\n",
      "\n",
      "See the caveats in the documentation: https://pandas.pydata.org/pandas-docs/stable/user_guide/indexing.html#returning-a-view-versus-a-copy\n",
      "  oof_pred['predict_proba'] = base_model_1(X_train.drop(['a', 'b', 'TM_A', 'TM_B'], 1),\n",
      "<ipython-input-104-7ed514384f19>:21: SettingWithCopyWarning: \n",
      "A value is trying to be set on a copy of a slice from a DataFrame.\n",
      "Try using .loc[row_indexer,col_indexer] = value instead\n",
      "\n",
      "See the caveats in the documentation: https://pandas.pydata.org/pandas-docs/stable/user_guide/indexing.html#returning-a-view-versus-a-copy\n",
      "  oof_pred['target'] = y_test.tolist()\n",
      "<ipython-input-104-7ed514384f19>:13: SettingWithCopyWarning: \n",
      "A value is trying to be set on a copy of a slice from a DataFrame.\n",
      "Try using .loc[row_indexer,col_indexer] = value instead\n",
      "\n",
      "See the caveats in the documentation: https://pandas.pydata.org/pandas-docs/stable/user_guide/indexing.html#returning-a-view-versus-a-copy\n",
      "  oof_pred['predict_proba'] = base_model_1(X_train.drop(['a', 'b', 'TM_A', 'TM_B'], 1),\n",
      "<ipython-input-104-7ed514384f19>:21: SettingWithCopyWarning: \n",
      "A value is trying to be set on a copy of a slice from a DataFrame.\n",
      "Try using .loc[row_indexer,col_indexer] = value instead\n",
      "\n",
      "See the caveats in the documentation: https://pandas.pydata.org/pandas-docs/stable/user_guide/indexing.html#returning-a-view-versus-a-copy\n",
      "  oof_pred['target'] = y_test.tolist()\n"
     ]
    },
    {
     "name": "stdout",
     "output_type": "stream",
     "text": [
      "completed fold 5 of 10\n",
      "completed fold 6 of 10\n"
     ]
    },
    {
     "name": "stderr",
     "output_type": "stream",
     "text": [
      "<ipython-input-104-7ed514384f19>:13: SettingWithCopyWarning: \n",
      "A value is trying to be set on a copy of a slice from a DataFrame.\n",
      "Try using .loc[row_indexer,col_indexer] = value instead\n",
      "\n",
      "See the caveats in the documentation: https://pandas.pydata.org/pandas-docs/stable/user_guide/indexing.html#returning-a-view-versus-a-copy\n",
      "  oof_pred['predict_proba'] = base_model_1(X_train.drop(['a', 'b', 'TM_A', 'TM_B'], 1),\n",
      "<ipython-input-104-7ed514384f19>:21: SettingWithCopyWarning: \n",
      "A value is trying to be set on a copy of a slice from a DataFrame.\n",
      "Try using .loc[row_indexer,col_indexer] = value instead\n",
      "\n",
      "See the caveats in the documentation: https://pandas.pydata.org/pandas-docs/stable/user_guide/indexing.html#returning-a-view-versus-a-copy\n",
      "  oof_pred['target'] = y_test.tolist()\n",
      "<ipython-input-104-7ed514384f19>:13: SettingWithCopyWarning: \n",
      "A value is trying to be set on a copy of a slice from a DataFrame.\n",
      "Try using .loc[row_indexer,col_indexer] = value instead\n",
      "\n",
      "See the caveats in the documentation: https://pandas.pydata.org/pandas-docs/stable/user_guide/indexing.html#returning-a-view-versus-a-copy\n",
      "  oof_pred['predict_proba'] = base_model_1(X_train.drop(['a', 'b', 'TM_A', 'TM_B'], 1),\n",
      "<ipython-input-104-7ed514384f19>:21: SettingWithCopyWarning: \n",
      "A value is trying to be set on a copy of a slice from a DataFrame.\n",
      "Try using .loc[row_indexer,col_indexer] = value instead\n",
      "\n",
      "See the caveats in the documentation: https://pandas.pydata.org/pandas-docs/stable/user_guide/indexing.html#returning-a-view-versus-a-copy\n",
      "  oof_pred['target'] = y_test.tolist()\n"
     ]
    },
    {
     "name": "stdout",
     "output_type": "stream",
     "text": [
      "completed fold 7 of 10\n",
      "completed fold 8 of 10\n",
      "completed fold 9 of 10\n",
      "completed fold 10 of 10\n"
     ]
    },
    {
     "name": "stderr",
     "output_type": "stream",
     "text": [
      "<ipython-input-104-7ed514384f19>:13: SettingWithCopyWarning: \n",
      "A value is trying to be set on a copy of a slice from a DataFrame.\n",
      "Try using .loc[row_indexer,col_indexer] = value instead\n",
      "\n",
      "See the caveats in the documentation: https://pandas.pydata.org/pandas-docs/stable/user_guide/indexing.html#returning-a-view-versus-a-copy\n",
      "  oof_pred['predict_proba'] = base_model_1(X_train.drop(['a', 'b', 'TM_A', 'TM_B'], 1),\n",
      "<ipython-input-104-7ed514384f19>:21: SettingWithCopyWarning: \n",
      "A value is trying to be set on a copy of a slice from a DataFrame.\n",
      "Try using .loc[row_indexer,col_indexer] = value instead\n",
      "\n",
      "See the caveats in the documentation: https://pandas.pydata.org/pandas-docs/stable/user_guide/indexing.html#returning-a-view-versus-a-copy\n",
      "  oof_pred['target'] = y_test.tolist()\n",
      "<ipython-input-104-7ed514384f19>:13: SettingWithCopyWarning: \n",
      "A value is trying to be set on a copy of a slice from a DataFrame.\n",
      "Try using .loc[row_indexer,col_indexer] = value instead\n",
      "\n",
      "See the caveats in the documentation: https://pandas.pydata.org/pandas-docs/stable/user_guide/indexing.html#returning-a-view-versus-a-copy\n",
      "  oof_pred['predict_proba'] = base_model_1(X_train.drop(['a', 'b', 'TM_A', 'TM_B'], 1),\n",
      "<ipython-input-104-7ed514384f19>:21: SettingWithCopyWarning: \n",
      "A value is trying to be set on a copy of a slice from a DataFrame.\n",
      "Try using .loc[row_indexer,col_indexer] = value instead\n",
      "\n",
      "See the caveats in the documentation: https://pandas.pydata.org/pandas-docs/stable/user_guide/indexing.html#returning-a-view-versus-a-copy\n",
      "  oof_pred['target'] = y_test.tolist()\n"
     ]
    }
   ],
   "source": [
    "# Stratified K-Folds cross-validator\n",
    "meta_training = pd.DataFrame()\n",
    "\n",
    "stratified_kfold = StratifiedKFold(n_splits=10, shuffle=True, random_state=1)\n",
    "\n",
    "fold = 1\n",
    "for train_index, test_index in stratified_kfold.split(X, y):\n",
    "    X_train, X_test = X.iloc[train_index], X.iloc[test_index]\n",
    "    y_train, y_test = y.iloc[train_index], y.iloc[test_index]\n",
    "    \n",
    "    oof_pred = X_test[['TM_A', 'TM_B']]\n",
    "    \n",
    "    oof_pred['predict_proba'] = base_model_1(X_train.drop(['a', 'b', 'TM_A', 'TM_B'], 1),\n",
    "                                      y_train,\n",
    "                                      X_test.drop(['a', 'b', 'TM_A', 'TM_B'], 1))\n",
    "\n",
    "#     oof_pred['siamese_sim'] = base_model_2(X_train[['name_a', 'name_b']],\n",
    "#                                       y_train,\n",
    "#                                       X_test[['name_a', 'name_b']])\n",
    "    \n",
    "    oof_pred['target'] = y_test.tolist()\n",
    "    \n",
    "    print('completed fold {} of 10'.format(fold))\n",
    "    fold += 1\n",
    "\n",
    "    meta_training = meta_training.append(oof_pred)"
   ]
  },
  {
   "cell_type": "code",
   "execution_count": 105,
   "metadata": {},
   "outputs": [
    {
     "data": {
      "text/html": [
       "<div>\n",
       "<style scoped>\n",
       "    .dataframe tbody tr th:only-of-type {\n",
       "        vertical-align: middle;\n",
       "    }\n",
       "\n",
       "    .dataframe tbody tr th {\n",
       "        vertical-align: top;\n",
       "    }\n",
       "\n",
       "    .dataframe thead th {\n",
       "        text-align: right;\n",
       "    }\n",
       "</style>\n",
       "<table border=\"1\" class=\"dataframe\">\n",
       "  <thead>\n",
       "    <tr style=\"text-align: right;\">\n",
       "      <th></th>\n",
       "      <th>TM_A</th>\n",
       "      <th>TM_B</th>\n",
       "      <th>predict_proba</th>\n",
       "      <th>target</th>\n",
       "    </tr>\n",
       "  </thead>\n",
       "  <tbody>\n",
       "    <tr>\n",
       "      <th>105</th>\n",
       "      <td>snakeman</td>\n",
       "      <td>boohoo</td>\n",
       "      <td>0.169931</td>\n",
       "      <td>0</td>\n",
       "    </tr>\n",
       "    <tr>\n",
       "      <th>131</th>\n",
       "      <td>eponim</td>\n",
       "      <td>tlclive</td>\n",
       "      <td>0.164691</td>\n",
       "      <td>0</td>\n",
       "    </tr>\n",
       "    <tr>\n",
       "      <th>213</th>\n",
       "      <td>silarom</td>\n",
       "      <td>symarom</td>\n",
       "      <td>0.690551</td>\n",
       "      <td>1</td>\n",
       "    </tr>\n",
       "    <tr>\n",
       "      <th>135</th>\n",
       "      <td>leciphol</td>\n",
       "      <td>lepicol</td>\n",
       "      <td>0.660384</td>\n",
       "      <td>1</td>\n",
       "    </tr>\n",
       "    <tr>\n",
       "      <th>269</th>\n",
       "      <td>hardcoresafetyfootwear</td>\n",
       "      <td>hardcore</td>\n",
       "      <td>0.727665</td>\n",
       "      <td>1</td>\n",
       "    </tr>\n",
       "    <tr>\n",
       "      <th>60</th>\n",
       "      <td>kerv</td>\n",
       "      <td>sky</td>\n",
       "      <td>0.170187</td>\n",
       "      <td>0</td>\n",
       "    </tr>\n",
       "    <tr>\n",
       "      <th>58</th>\n",
       "      <td>bubblefinance</td>\n",
       "      <td>bubble</td>\n",
       "      <td>0.756705</td>\n",
       "      <td>1</td>\n",
       "    </tr>\n",
       "    <tr>\n",
       "      <th>159</th>\n",
       "      <td>multivox</td>\n",
       "      <td>reddragon</td>\n",
       "      <td>0.168561</td>\n",
       "      <td>0</td>\n",
       "    </tr>\n",
       "    <tr>\n",
       "      <th>297</th>\n",
       "      <td>cuffcollarcleaner</td>\n",
       "      <td>dgs</td>\n",
       "      <td>0.209460</td>\n",
       "      <td>0</td>\n",
       "    </tr>\n",
       "    <tr>\n",
       "      <th>117</th>\n",
       "      <td>cambridge</td>\n",
       "      <td>cambridgeneurotech</td>\n",
       "      <td>0.749047</td>\n",
       "      <td>1</td>\n",
       "    </tr>\n",
       "    <tr>\n",
       "      <th>214</th>\n",
       "      <td>tailortee</td>\n",
       "      <td>dankvapes</td>\n",
       "      <td>0.174071</td>\n",
       "      <td>0</td>\n",
       "    </tr>\n",
       "    <tr>\n",
       "      <th>41</th>\n",
       "      <td>potters</td>\n",
       "      <td>pottersherbals</td>\n",
       "      <td>0.756659</td>\n",
       "      <td>1</td>\n",
       "    </tr>\n",
       "    <tr>\n",
       "      <th>66</th>\n",
       "      <td>tlclive</td>\n",
       "      <td>tlctraining</td>\n",
       "      <td>0.584509</td>\n",
       "      <td>1</td>\n",
       "    </tr>\n",
       "    <tr>\n",
       "      <th>253</th>\n",
       "      <td>dixieunion</td>\n",
       "      <td>dixychicken</td>\n",
       "      <td>0.560713</td>\n",
       "      <td>1</td>\n",
       "    </tr>\n",
       "    <tr>\n",
       "      <th>292</th>\n",
       "      <td>eezeevet</td>\n",
       "      <td>easipetcarelowcostvetswhocare</td>\n",
       "      <td>0.208913</td>\n",
       "      <td>0</td>\n",
       "    </tr>\n",
       "    <tr>\n",
       "      <th>216</th>\n",
       "      <td>dyflex</td>\n",
       "      <td>cephalon</td>\n",
       "      <td>0.166650</td>\n",
       "      <td>0</td>\n",
       "    </tr>\n",
       "    <tr>\n",
       "      <th>36</th>\n",
       "      <td>platinumpuff</td>\n",
       "      <td>tommyheritage</td>\n",
       "      <td>0.168294</td>\n",
       "      <td>0</td>\n",
       "    </tr>\n",
       "    <tr>\n",
       "      <th>330</th>\n",
       "      <td>cem</td>\n",
       "      <td>cem</td>\n",
       "      <td>0.680513</td>\n",
       "      <td>0</td>\n",
       "    </tr>\n",
       "    <tr>\n",
       "      <th>265</th>\n",
       "      <td>greenbritishgas</td>\n",
       "      <td>dermawell</td>\n",
       "      <td>0.168670</td>\n",
       "      <td>0</td>\n",
       "    </tr>\n",
       "    <tr>\n",
       "      <th>25</th>\n",
       "      <td>mrclean</td>\n",
       "      <td>mrrust</td>\n",
       "      <td>0.405811</td>\n",
       "      <td>1</td>\n",
       "    </tr>\n",
       "  </tbody>\n",
       "</table>\n",
       "</div>"
      ],
      "text/plain": [
       "                       TM_A                           TM_B  predict_proba  \\\n",
       "105                snakeman                         boohoo       0.169931   \n",
       "131                  eponim                        tlclive       0.164691   \n",
       "213                 silarom                        symarom       0.690551   \n",
       "135                leciphol                        lepicol       0.660384   \n",
       "269  hardcoresafetyfootwear                       hardcore       0.727665   \n",
       "60                     kerv                            sky       0.170187   \n",
       "58            bubblefinance                         bubble       0.756705   \n",
       "159                multivox                      reddragon       0.168561   \n",
       "297       cuffcollarcleaner                            dgs       0.209460   \n",
       "117               cambridge             cambridgeneurotech       0.749047   \n",
       "214               tailortee                      dankvapes       0.174071   \n",
       "41                  potters                 pottersherbals       0.756659   \n",
       "66                  tlclive                    tlctraining       0.584509   \n",
       "253              dixieunion                    dixychicken       0.560713   \n",
       "292                eezeevet  easipetcarelowcostvetswhocare       0.208913   \n",
       "216                  dyflex                       cephalon       0.166650   \n",
       "36             platinumpuff                  tommyheritage       0.168294   \n",
       "330                     cem                            cem       0.680513   \n",
       "265         greenbritishgas                      dermawell       0.168670   \n",
       "25                  mrclean                         mrrust       0.405811   \n",
       "\n",
       "     target  \n",
       "105       0  \n",
       "131       0  \n",
       "213       1  \n",
       "135       1  \n",
       "269       1  \n",
       "60        0  \n",
       "58        1  \n",
       "159       0  \n",
       "297       0  \n",
       "117       1  \n",
       "214       0  \n",
       "41        1  \n",
       "66        1  \n",
       "253       1  \n",
       "292       0  \n",
       "216       0  \n",
       "36        0  \n",
       "330       0  \n",
       "265       0  \n",
       "25        1  "
      ]
     },
     "execution_count": 105,
     "metadata": {},
     "output_type": "execute_result"
    }
   ],
   "source": [
    "meta_training.sample(20)\n"
   ]
  },
  {
   "cell_type": "markdown",
   "metadata": {},
   "source": [
    "### Meta-Model: Logistic Regression"
   ]
  },
  {
   "cell_type": "code",
   "execution_count": 106,
   "metadata": {},
   "outputs": [
    {
     "data": {
      "application/vnd.jupyter.widget-view+json": {
       "model_id": "3a9db1f48980447ca748c5f9c5b6afd5",
       "version_major": 2,
       "version_minor": 0
      },
      "text/plain": [
       "HBox(children=(FloatProgress(value=0.0, max=657.0), HTML(value='')))"
      ]
     },
     "metadata": {},
     "output_type": "display_data"
    },
    {
     "name": "stdout",
     "output_type": "stream",
     "text": [
      "\n"
     ]
    },
    {
     "data": {
      "application/vnd.jupyter.widget-view+json": {
       "model_id": "5c865f28d6834639b9e7146ab394eba1",
       "version_major": 2,
       "version_minor": 0
      },
      "text/plain": [
       "HBox(children=(FloatProgress(value=0.0, max=657.0), HTML(value='')))"
      ]
     },
     "metadata": {},
     "output_type": "display_data"
    },
    {
     "name": "stdout",
     "output_type": "stream",
     "text": [
      "\n"
     ]
    },
    {
     "data": {
      "application/vnd.jupyter.widget-view+json": {
       "model_id": "01b5f4c7a43941d983eb1112e1511efe",
       "version_major": 2,
       "version_minor": 0
      },
      "text/plain": [
       "HBox(children=(FloatProgress(value=0.0, max=657.0), HTML(value='')))"
      ]
     },
     "metadata": {},
     "output_type": "display_data"
    },
    {
     "name": "stdout",
     "output_type": "stream",
     "text": [
      "\n"
     ]
    },
    {
     "data": {
      "application/vnd.jupyter.widget-view+json": {
       "model_id": "a3c1ffeaef75434490c47a04c54b240e",
       "version_major": 2,
       "version_minor": 0
      },
      "text/plain": [
       "HBox(children=(FloatProgress(value=0.0, max=657.0), HTML(value='')))"
      ]
     },
     "metadata": {},
     "output_type": "display_data"
    },
    {
     "name": "stdout",
     "output_type": "stream",
     "text": [
      "\n"
     ]
    },
    {
     "data": {
      "application/vnd.jupyter.widget-view+json": {
       "model_id": "493092af338046ba81e47f0c7d0824e9",
       "version_major": 2,
       "version_minor": 0
      },
      "text/plain": [
       "HBox(children=(FloatProgress(value=0.0, max=657.0), HTML(value='')))"
      ]
     },
     "metadata": {},
     "output_type": "display_data"
    },
    {
     "name": "stdout",
     "output_type": "stream",
     "text": [
      "\n"
     ]
    },
    {
     "data": {
      "application/vnd.jupyter.widget-view+json": {
       "model_id": "201bef6a70f84594ba910713fc1a6a79",
       "version_major": 2,
       "version_minor": 0
      },
      "text/plain": [
       "HBox(children=(FloatProgress(value=0.0, max=657.0), HTML(value='')))"
      ]
     },
     "metadata": {},
     "output_type": "display_data"
    },
    {
     "name": "stdout",
     "output_type": "stream",
     "text": [
      "\n"
     ]
    },
    {
     "data": {
      "application/vnd.jupyter.widget-view+json": {
       "model_id": "f96ba1104bd64b2fa8e47590db8f243c",
       "version_major": 2,
       "version_minor": 0
      },
      "text/plain": [
       "HBox(children=(FloatProgress(value=0.0, max=657.0), HTML(value='')))"
      ]
     },
     "metadata": {},
     "output_type": "display_data"
    },
    {
     "name": "stdout",
     "output_type": "stream",
     "text": [
      "\n"
     ]
    },
    {
     "data": {
      "application/vnd.jupyter.widget-view+json": {
       "model_id": "bfd2863b98344c079790aa1c4049e5f0",
       "version_major": 2,
       "version_minor": 0
      },
      "text/plain": [
       "HBox(children=(FloatProgress(value=0.0, max=657.0), HTML(value='')))"
      ]
     },
     "metadata": {},
     "output_type": "display_data"
    },
    {
     "name": "stdout",
     "output_type": "stream",
     "text": [
      "\n"
     ]
    },
    {
     "data": {
      "application/vnd.jupyter.widget-view+json": {
       "model_id": "c27c289278814998ba4ea148a4649223",
       "version_major": 2,
       "version_minor": 0
      },
      "text/plain": [
       "HBox(children=(FloatProgress(value=0.0, max=657.0), HTML(value='')))"
      ]
     },
     "metadata": {},
     "output_type": "display_data"
    },
    {
     "name": "stdout",
     "output_type": "stream",
     "text": [
      "\n"
     ]
    },
    {
     "data": {
      "application/vnd.jupyter.widget-view+json": {
       "model_id": "0174c4944e7541668e7e79765b3cfa65",
       "version_major": 2,
       "version_minor": 0
      },
      "text/plain": [
       "HBox(children=(FloatProgress(value=0.0, max=657.0), HTML(value='')))"
      ]
     },
     "metadata": {},
     "output_type": "display_data"
    },
    {
     "name": "stdout",
     "output_type": "stream",
     "text": [
      "\n"
     ]
    },
    {
     "data": {
      "application/vnd.jupyter.widget-view+json": {
       "model_id": "47d73321e04e4896b9baac24dffe13bf",
       "version_major": 2,
       "version_minor": 0
      },
      "text/plain": [
       "HBox(children=(FloatProgress(value=0.0, max=657.0), HTML(value='')))"
      ]
     },
     "metadata": {},
     "output_type": "display_data"
    },
    {
     "name": "stdout",
     "output_type": "stream",
     "text": [
      "\n"
     ]
    },
    {
     "data": {
      "application/vnd.jupyter.widget-view+json": {
       "model_id": "0cca2001183c4d69b4e9c9f716451bb8",
       "version_major": 2,
       "version_minor": 0
      },
      "text/plain": [
       "HBox(children=(FloatProgress(value=0.0, max=657.0), HTML(value='')))"
      ]
     },
     "metadata": {},
     "output_type": "display_data"
    },
    {
     "name": "stdout",
     "output_type": "stream",
     "text": [
      "\n"
     ]
    },
    {
     "data": {
      "application/vnd.jupyter.widget-view+json": {
       "model_id": "bc91494ada4343d5b5c810a0ac06de9c",
       "version_major": 2,
       "version_minor": 0
      },
      "text/plain": [
       "HBox(children=(FloatProgress(value=0.0, max=657.0), HTML(value='')))"
      ]
     },
     "metadata": {},
     "output_type": "display_data"
    },
    {
     "name": "stdout",
     "output_type": "stream",
     "text": [
      "\n"
     ]
    },
    {
     "data": {
      "application/vnd.jupyter.widget-view+json": {
       "model_id": "ffcaab0ec06142eebabc8af9eec75d5c",
       "version_major": 2,
       "version_minor": 0
      },
      "text/plain": [
       "HBox(children=(FloatProgress(value=0.0, max=657.0), HTML(value='')))"
      ]
     },
     "metadata": {},
     "output_type": "display_data"
    },
    {
     "name": "stdout",
     "output_type": "stream",
     "text": [
      "\n"
     ]
    },
    {
     "data": {
      "application/vnd.jupyter.widget-view+json": {
       "model_id": "eafb6adf45ca43f58fcccc33920c9f4c",
       "version_major": 2,
       "version_minor": 0
      },
      "text/plain": [
       "HBox(children=(FloatProgress(value=0.0, max=657.0), HTML(value='')))"
      ]
     },
     "metadata": {},
     "output_type": "display_data"
    },
    {
     "name": "stdout",
     "output_type": "stream",
     "text": [
      "\n"
     ]
    },
    {
     "data": {
      "application/vnd.jupyter.widget-view+json": {
       "model_id": "c90ab9c3cb0c4849b7a59268f2ce4ddc",
       "version_major": 2,
       "version_minor": 0
      },
      "text/plain": [
       "HBox(children=(FloatProgress(value=0.0, max=657.0), HTML(value='')))"
      ]
     },
     "metadata": {},
     "output_type": "display_data"
    },
    {
     "name": "stdout",
     "output_type": "stream",
     "text": [
      "\n"
     ]
    },
    {
     "data": {
      "application/vnd.jupyter.widget-view+json": {
       "model_id": "d0a9dab6a7384d1398eae415712da595",
       "version_major": 2,
       "version_minor": 0
      },
      "text/plain": [
       "HBox(children=(FloatProgress(value=0.0, max=657.0), HTML(value='')))"
      ]
     },
     "metadata": {},
     "output_type": "display_data"
    },
    {
     "name": "stdout",
     "output_type": "stream",
     "text": [
      "\n"
     ]
    }
   ],
   "source": [
    "df=featurize(meta_training)"
   ]
  },
  {
   "cell_type": "code",
   "execution_count": 107,
   "metadata": {},
   "outputs": [
    {
     "data": {
      "text/html": [
       "<div>\n",
       "<style scoped>\n",
       "    .dataframe tbody tr th:only-of-type {\n",
       "        vertical-align: middle;\n",
       "    }\n",
       "\n",
       "    .dataframe tbody tr th {\n",
       "        vertical-align: top;\n",
       "    }\n",
       "\n",
       "    .dataframe thead th {\n",
       "        text-align: right;\n",
       "    }\n",
       "</style>\n",
       "<table border=\"1\" class=\"dataframe\">\n",
       "  <thead>\n",
       "    <tr style=\"text-align: right;\">\n",
       "      <th></th>\n",
       "      <th>a</th>\n",
       "      <th>b</th>\n",
       "      <th>predict_proba</th>\n",
       "      <th>target</th>\n",
       "      <th>TM_A</th>\n",
       "      <th>TM_B</th>\n",
       "      <th>partial</th>\n",
       "      <th>tkn_sort</th>\n",
       "      <th>tkn_set</th>\n",
       "      <th>levenshtein</th>\n",
       "      <th>...</th>\n",
       "      <th>mra</th>\n",
       "      <th>editex</th>\n",
       "      <th>saps</th>\n",
       "      <th>flexmetric</th>\n",
       "      <th>jaro</th>\n",
       "      <th>higueramico</th>\n",
       "      <th>sift4</th>\n",
       "      <th>eudex</th>\n",
       "      <th>aline</th>\n",
       "      <th>phoneticeditdistance</th>\n",
       "    </tr>\n",
       "  </thead>\n",
       "  <tbody>\n",
       "    <tr>\n",
       "      <th>93</th>\n",
       "      <td>snakeman</td>\n",
       "      <td>whealthhealthistherealwealth</td>\n",
       "      <td>0.168415</td>\n",
       "      <td>0</td>\n",
       "      <td>snakeman</td>\n",
       "      <td>whealthhealthistherealwealth</td>\n",
       "      <td>38</td>\n",
       "      <td>22</td>\n",
       "      <td>22</td>\n",
       "      <td>0.806452</td>\n",
       "      <td>...</td>\n",
       "      <td>0.000000</td>\n",
       "      <td>0.303571</td>\n",
       "      <td>0.000000</td>\n",
       "      <td>0.408929</td>\n",
       "      <td>0.382937</td>\n",
       "      <td>0.000000</td>\n",
       "      <td>0.035714</td>\n",
       "      <td>0.727451</td>\n",
       "      <td>0.090541</td>\n",
       "      <td>0.260945</td>\n",
       "    </tr>\n",
       "    <tr>\n",
       "      <th>349</th>\n",
       "      <td>vapo</td>\n",
       "      <td>vapods</td>\n",
       "      <td>0.729639</td>\n",
       "      <td>0</td>\n",
       "      <td>vapo</td>\n",
       "      <td>vapods</td>\n",
       "      <td>100</td>\n",
       "      <td>80</td>\n",
       "      <td>80</td>\n",
       "      <td>0.064516</td>\n",
       "      <td>...</td>\n",
       "      <td>0.666667</td>\n",
       "      <td>0.666667</td>\n",
       "      <td>0.476190</td>\n",
       "      <td>0.766667</td>\n",
       "      <td>0.888889</td>\n",
       "      <td>0.633333</td>\n",
       "      <td>0.666667</td>\n",
       "      <td>0.984314</td>\n",
       "      <td>0.588235</td>\n",
       "      <td>0.666667</td>\n",
       "    </tr>\n",
       "    <tr>\n",
       "      <th>169</th>\n",
       "      <td>drwolff</td>\n",
       "      <td>multibus</td>\n",
       "      <td>0.167642</td>\n",
       "      <td>0</td>\n",
       "      <td>drwolff</td>\n",
       "      <td>multibus</td>\n",
       "      <td>14</td>\n",
       "      <td>13</td>\n",
       "      <td>13</td>\n",
       "      <td>0.258065</td>\n",
       "      <td>...</td>\n",
       "      <td>0.000000</td>\n",
       "      <td>0.125000</td>\n",
       "      <td>0.000000</td>\n",
       "      <td>0.125000</td>\n",
       "      <td>0.422619</td>\n",
       "      <td>0.052778</td>\n",
       "      <td>0.125000</td>\n",
       "      <td>0.733333</td>\n",
       "      <td>0.411364</td>\n",
       "      <td>0.653226</td>\n",
       "    </tr>\n",
       "    <tr>\n",
       "      <th>74</th>\n",
       "      <td>harleyacademy</td>\n",
       "      <td>harleyclinic</td>\n",
       "      <td>0.606308</td>\n",
       "      <td>1</td>\n",
       "      <td>harleyacademy</td>\n",
       "      <td>harleyclinic</td>\n",
       "      <td>58</td>\n",
       "      <td>56</td>\n",
       "      <td>56</td>\n",
       "      <td>0.193548</td>\n",
       "      <td>...</td>\n",
       "      <td>0.500000</td>\n",
       "      <td>0.615385</td>\n",
       "      <td>0.131579</td>\n",
       "      <td>0.630769</td>\n",
       "      <td>0.707265</td>\n",
       "      <td>0.538462</td>\n",
       "      <td>0.538462</td>\n",
       "      <td>0.992157</td>\n",
       "      <td>0.715625</td>\n",
       "      <td>0.821340</td>\n",
       "    </tr>\n",
       "    <tr>\n",
       "      <th>263</th>\n",
       "      <td>fizzfitness</td>\n",
       "      <td>tlctraining</td>\n",
       "      <td>0.169907</td>\n",
       "      <td>0</td>\n",
       "      <td>fizzfitness</td>\n",
       "      <td>tlctraining</td>\n",
       "      <td>27</td>\n",
       "      <td>27</td>\n",
       "      <td>27</td>\n",
       "      <td>0.322581</td>\n",
       "      <td>...</td>\n",
       "      <td>0.000000</td>\n",
       "      <td>0.181818</td>\n",
       "      <td>0.000000</td>\n",
       "      <td>0.300000</td>\n",
       "      <td>0.404040</td>\n",
       "      <td>0.166667</td>\n",
       "      <td>0.181818</td>\n",
       "      <td>0.623039</td>\n",
       "      <td>0.344615</td>\n",
       "      <td>0.782991</td>\n",
       "    </tr>\n",
       "    <tr>\n",
       "      <th>17</th>\n",
       "      <td>hcp</td>\n",
       "      <td>ae</td>\n",
       "      <td>0.170636</td>\n",
       "      <td>0</td>\n",
       "      <td>hcp</td>\n",
       "      <td>ae</td>\n",
       "      <td>0</td>\n",
       "      <td>0</td>\n",
       "      <td>0</td>\n",
       "      <td>0.096774</td>\n",
       "      <td>...</td>\n",
       "      <td>0.000000</td>\n",
       "      <td>0.166667</td>\n",
       "      <td>0.000000</td>\n",
       "      <td>0.233333</td>\n",
       "      <td>0.000000</td>\n",
       "      <td>0.000000</td>\n",
       "      <td>0.000000</td>\n",
       "      <td>0.808333</td>\n",
       "      <td>0.000000</td>\n",
       "      <td>0.392473</td>\n",
       "    </tr>\n",
       "    <tr>\n",
       "      <th>72</th>\n",
       "      <td>dylan</td>\n",
       "      <td>greyfamouslyeffective</td>\n",
       "      <td>0.167762</td>\n",
       "      <td>0</td>\n",
       "      <td>dylan</td>\n",
       "      <td>greyfamouslyeffective</td>\n",
       "      <td>40</td>\n",
       "      <td>15</td>\n",
       "      <td>15</td>\n",
       "      <td>0.612903</td>\n",
       "      <td>...</td>\n",
       "      <td>0.000000</td>\n",
       "      <td>0.214286</td>\n",
       "      <td>0.000000</td>\n",
       "      <td>0.307143</td>\n",
       "      <td>0.469841</td>\n",
       "      <td>0.000000</td>\n",
       "      <td>0.095238</td>\n",
       "      <td>0.816667</td>\n",
       "      <td>0.154206</td>\n",
       "      <td>0.227343</td>\n",
       "    </tr>\n",
       "    <tr>\n",
       "      <th>248</th>\n",
       "      <td>sub</td>\n",
       "      <td>be</td>\n",
       "      <td>0.271224</td>\n",
       "      <td>0</td>\n",
       "      <td>sub</td>\n",
       "      <td>be</td>\n",
       "      <td>50</td>\n",
       "      <td>40</td>\n",
       "      <td>40</td>\n",
       "      <td>0.096774</td>\n",
       "      <td>...</td>\n",
       "      <td>0.833333</td>\n",
       "      <td>0.166667</td>\n",
       "      <td>0.000000</td>\n",
       "      <td>0.200000</td>\n",
       "      <td>0.000000</td>\n",
       "      <td>0.166667</td>\n",
       "      <td>0.333333</td>\n",
       "      <td>0.747059</td>\n",
       "      <td>0.411765</td>\n",
       "      <td>0.537634</td>\n",
       "    </tr>\n",
       "    <tr>\n",
       "      <th>207</th>\n",
       "      <td>searchsavvypr</td>\n",
       "      <td>permanize</td>\n",
       "      <td>0.180918</td>\n",
       "      <td>0</td>\n",
       "      <td>searchsavvypr</td>\n",
       "      <td>permanize</td>\n",
       "      <td>33</td>\n",
       "      <td>27</td>\n",
       "      <td>27</td>\n",
       "      <td>0.322581</td>\n",
       "      <td>...</td>\n",
       "      <td>0.000000</td>\n",
       "      <td>0.423077</td>\n",
       "      <td>0.000000</td>\n",
       "      <td>0.469231</td>\n",
       "      <td>0.410256</td>\n",
       "      <td>0.187296</td>\n",
       "      <td>0.230769</td>\n",
       "      <td>0.651961</td>\n",
       "      <td>0.286667</td>\n",
       "      <td>0.576923</td>\n",
       "    </tr>\n",
       "    <tr>\n",
       "      <th>171</th>\n",
       "      <td>togetherforbetter</td>\n",
       "      <td>alltogetherbetter</td>\n",
       "      <td>0.705764</td>\n",
       "      <td>1</td>\n",
       "      <td>togetherforbetter</td>\n",
       "      <td>alltogetherbetter</td>\n",
       "      <td>90</td>\n",
       "      <td>82</td>\n",
       "      <td>82</td>\n",
       "      <td>0.193548</td>\n",
       "      <td>...</td>\n",
       "      <td>0.666667</td>\n",
       "      <td>0.705882</td>\n",
       "      <td>0.519231</td>\n",
       "      <td>0.726471</td>\n",
       "      <td>0.834734</td>\n",
       "      <td>0.683626</td>\n",
       "      <td>0.823529</td>\n",
       "      <td>0.682353</td>\n",
       "      <td>0.757895</td>\n",
       "      <td>0.833017</td>\n",
       "    </tr>\n",
       "    <tr>\n",
       "      <th>28</th>\n",
       "      <td>fizzfitness</td>\n",
       "      <td>dgfashion</td>\n",
       "      <td>0.166210</td>\n",
       "      <td>0</td>\n",
       "      <td>fizzfitness</td>\n",
       "      <td>dgfashion</td>\n",
       "      <td>33</td>\n",
       "      <td>30</td>\n",
       "      <td>30</td>\n",
       "      <td>0.322581</td>\n",
       "      <td>...</td>\n",
       "      <td>0.000000</td>\n",
       "      <td>0.363636</td>\n",
       "      <td>0.000000</td>\n",
       "      <td>0.463636</td>\n",
       "      <td>0.535354</td>\n",
       "      <td>0.180886</td>\n",
       "      <td>0.272727</td>\n",
       "      <td>0.601961</td>\n",
       "      <td>0.330769</td>\n",
       "      <td>0.686217</td>\n",
       "    </tr>\n",
       "    <tr>\n",
       "      <th>223</th>\n",
       "      <td>iibm</td>\n",
       "      <td>ibm</td>\n",
       "      <td>0.658847</td>\n",
       "      <td>1</td>\n",
       "      <td>iibm</td>\n",
       "      <td>ibm</td>\n",
       "      <td>100</td>\n",
       "      <td>86</td>\n",
       "      <td>86</td>\n",
       "      <td>0.032258</td>\n",
       "      <td>...</td>\n",
       "      <td>1.000000</td>\n",
       "      <td>1.000000</td>\n",
       "      <td>0.857143</td>\n",
       "      <td>1.000000</td>\n",
       "      <td>0.916667</td>\n",
       "      <td>0.750000</td>\n",
       "      <td>0.750000</td>\n",
       "      <td>0.998039</td>\n",
       "      <td>0.950000</td>\n",
       "      <td>0.750000</td>\n",
       "    </tr>\n",
       "    <tr>\n",
       "      <th>14</th>\n",
       "      <td>pingperfect</td>\n",
       "      <td>celuu</td>\n",
       "      <td>0.166439</td>\n",
       "      <td>0</td>\n",
       "      <td>pingperfect</td>\n",
       "      <td>celuu</td>\n",
       "      <td>20</td>\n",
       "      <td>12</td>\n",
       "      <td>12</td>\n",
       "      <td>0.322581</td>\n",
       "      <td>...</td>\n",
       "      <td>0.000000</td>\n",
       "      <td>0.181818</td>\n",
       "      <td>0.000000</td>\n",
       "      <td>0.259091</td>\n",
       "      <td>0.430303</td>\n",
       "      <td>0.000000</td>\n",
       "      <td>0.090909</td>\n",
       "      <td>0.726961</td>\n",
       "      <td>0.160000</td>\n",
       "      <td>0.397361</td>\n",
       "    </tr>\n",
       "    <tr>\n",
       "      <th>210</th>\n",
       "      <td>aeg</td>\n",
       "      <td>aeggroup</td>\n",
       "      <td>0.674473</td>\n",
       "      <td>1</td>\n",
       "      <td>aeg</td>\n",
       "      <td>aeggroup</td>\n",
       "      <td>100</td>\n",
       "      <td>55</td>\n",
       "      <td>55</td>\n",
       "      <td>0.161290</td>\n",
       "      <td>...</td>\n",
       "      <td>0.666667</td>\n",
       "      <td>0.562500</td>\n",
       "      <td>0.000000</td>\n",
       "      <td>0.525000</td>\n",
       "      <td>0.791667</td>\n",
       "      <td>0.115476</td>\n",
       "      <td>0.375000</td>\n",
       "      <td>0.989216</td>\n",
       "      <td>0.375000</td>\n",
       "      <td>0.375000</td>\n",
       "    </tr>\n",
       "    <tr>\n",
       "      <th>312</th>\n",
       "      <td>gte</td>\n",
       "      <td>gtf</td>\n",
       "      <td>0.641154</td>\n",
       "      <td>0</td>\n",
       "      <td>gte</td>\n",
       "      <td>gtf</td>\n",
       "      <td>67</td>\n",
       "      <td>67</td>\n",
       "      <td>67</td>\n",
       "      <td>0.032258</td>\n",
       "      <td>...</td>\n",
       "      <td>0.833333</td>\n",
       "      <td>0.666667</td>\n",
       "      <td>0.444444</td>\n",
       "      <td>0.666667</td>\n",
       "      <td>0.777778</td>\n",
       "      <td>0.666667</td>\n",
       "      <td>0.666667</td>\n",
       "      <td>0.999020</td>\n",
       "      <td>0.666667</td>\n",
       "      <td>0.876344</td>\n",
       "    </tr>\n",
       "    <tr>\n",
       "      <th>151</th>\n",
       "      <td>helloenergy</td>\n",
       "      <td>hellodiet</td>\n",
       "      <td>0.605591</td>\n",
       "      <td>1</td>\n",
       "      <td>helloenergy</td>\n",
       "      <td>hellodiet</td>\n",
       "      <td>67</td>\n",
       "      <td>60</td>\n",
       "      <td>60</td>\n",
       "      <td>0.161290</td>\n",
       "      <td>...</td>\n",
       "      <td>0.000000</td>\n",
       "      <td>0.545455</td>\n",
       "      <td>0.225806</td>\n",
       "      <td>0.559091</td>\n",
       "      <td>0.737374</td>\n",
       "      <td>0.536364</td>\n",
       "      <td>0.545455</td>\n",
       "      <td>0.937745</td>\n",
       "      <td>0.640351</td>\n",
       "      <td>0.747801</td>\n",
       "    </tr>\n",
       "    <tr>\n",
       "      <th>9</th>\n",
       "      <td>alair</td>\n",
       "      <td>holaira</td>\n",
       "      <td>0.687819</td>\n",
       "      <td>1</td>\n",
       "      <td>alair</td>\n",
       "      <td>holaira</td>\n",
       "      <td>80</td>\n",
       "      <td>67</td>\n",
       "      <td>67</td>\n",
       "      <td>0.096774</td>\n",
       "      <td>...</td>\n",
       "      <td>0.833333</td>\n",
       "      <td>0.642857</td>\n",
       "      <td>0.045455</td>\n",
       "      <td>0.671429</td>\n",
       "      <td>0.790476</td>\n",
       "      <td>0.547619</td>\n",
       "      <td>0.571429</td>\n",
       "      <td>0.795588</td>\n",
       "      <td>0.636364</td>\n",
       "      <td>0.686636</td>\n",
       "    </tr>\n",
       "    <tr>\n",
       "      <th>241</th>\n",
       "      <td>ukwago</td>\n",
       "      <td>wago</td>\n",
       "      <td>0.699362</td>\n",
       "      <td>1</td>\n",
       "      <td>ukwago</td>\n",
       "      <td>wago</td>\n",
       "      <td>100</td>\n",
       "      <td>80</td>\n",
       "      <td>80</td>\n",
       "      <td>0.064516</td>\n",
       "      <td>...</td>\n",
       "      <td>0.666667</td>\n",
       "      <td>0.666667</td>\n",
       "      <td>0.476190</td>\n",
       "      <td>0.683333</td>\n",
       "      <td>0.888889</td>\n",
       "      <td>0.633333</td>\n",
       "      <td>0.666667</td>\n",
       "      <td>0.803922</td>\n",
       "      <td>0.615385</td>\n",
       "      <td>0.666667</td>\n",
       "    </tr>\n",
       "    <tr>\n",
       "      <th>231</th>\n",
       "      <td>wholefoodsmarket</td>\n",
       "      <td>ovo</td>\n",
       "      <td>0.200836</td>\n",
       "      <td>0</td>\n",
       "      <td>wholefoodsmarket</td>\n",
       "      <td>ovo</td>\n",
       "      <td>33</td>\n",
       "      <td>21</td>\n",
       "      <td>21</td>\n",
       "      <td>0.451613</td>\n",
       "      <td>...</td>\n",
       "      <td>0.000000</td>\n",
       "      <td>0.250000</td>\n",
       "      <td>0.000000</td>\n",
       "      <td>0.421875</td>\n",
       "      <td>0.597222</td>\n",
       "      <td>0.000000</td>\n",
       "      <td>0.062500</td>\n",
       "      <td>0.756863</td>\n",
       "      <td>0.119048</td>\n",
       "      <td>0.185484</td>\n",
       "    </tr>\n",
       "    <tr>\n",
       "      <th>241</th>\n",
       "      <td>pureideas</td>\n",
       "      <td>eponim</td>\n",
       "      <td>0.166439</td>\n",
       "      <td>0</td>\n",
       "      <td>pureideas</td>\n",
       "      <td>eponim</td>\n",
       "      <td>33</td>\n",
       "      <td>27</td>\n",
       "      <td>27</td>\n",
       "      <td>0.258065</td>\n",
       "      <td>...</td>\n",
       "      <td>0.000000</td>\n",
       "      <td>0.277778</td>\n",
       "      <td>0.000000</td>\n",
       "      <td>0.366667</td>\n",
       "      <td>0.500000</td>\n",
       "      <td>0.121032</td>\n",
       "      <td>0.222222</td>\n",
       "      <td>0.507353</td>\n",
       "      <td>0.358140</td>\n",
       "      <td>0.569892</td>\n",
       "    </tr>\n",
       "  </tbody>\n",
       "</table>\n",
       "<p>20 rows × 31 columns</p>\n",
       "</div>"
      ],
      "text/plain": [
       "                     a                             b  predict_proba  target  \\\n",
       "93            snakeman  whealthhealthistherealwealth       0.168415       0   \n",
       "349               vapo                        vapods       0.729639       0   \n",
       "169            drwolff                      multibus       0.167642       0   \n",
       "74       harleyacademy                  harleyclinic       0.606308       1   \n",
       "263        fizzfitness                   tlctraining       0.169907       0   \n",
       "17                 hcp                            ae       0.170636       0   \n",
       "72               dylan         greyfamouslyeffective       0.167762       0   \n",
       "248                sub                            be       0.271224       0   \n",
       "207      searchsavvypr                     permanize       0.180918       0   \n",
       "171  togetherforbetter             alltogetherbetter       0.705764       1   \n",
       "28         fizzfitness                     dgfashion       0.166210       0   \n",
       "223               iibm                           ibm       0.658847       1   \n",
       "14         pingperfect                         celuu       0.166439       0   \n",
       "210                aeg                      aeggroup       0.674473       1   \n",
       "312                gte                           gtf       0.641154       0   \n",
       "151        helloenergy                     hellodiet       0.605591       1   \n",
       "9                alair                       holaira       0.687819       1   \n",
       "241             ukwago                          wago       0.699362       1   \n",
       "231   wholefoodsmarket                           ovo       0.200836       0   \n",
       "241          pureideas                        eponim       0.166439       0   \n",
       "\n",
       "                  TM_A                          TM_B  partial  tkn_sort  \\\n",
       "93            snakeman  whealthhealthistherealwealth       38        22   \n",
       "349               vapo                        vapods      100        80   \n",
       "169            drwolff                      multibus       14        13   \n",
       "74       harleyacademy                  harleyclinic       58        56   \n",
       "263        fizzfitness                   tlctraining       27        27   \n",
       "17                 hcp                            ae        0         0   \n",
       "72               dylan         greyfamouslyeffective       40        15   \n",
       "248                sub                            be       50        40   \n",
       "207      searchsavvypr                     permanize       33        27   \n",
       "171  togetherforbetter             alltogetherbetter       90        82   \n",
       "28         fizzfitness                     dgfashion       33        30   \n",
       "223               iibm                           ibm      100        86   \n",
       "14         pingperfect                         celuu       20        12   \n",
       "210                aeg                      aeggroup      100        55   \n",
       "312                gte                           gtf       67        67   \n",
       "151        helloenergy                     hellodiet       67        60   \n",
       "9                alair                       holaira       80        67   \n",
       "241             ukwago                          wago      100        80   \n",
       "231   wholefoodsmarket                           ovo       33        21   \n",
       "241          pureideas                        eponim       33        27   \n",
       "\n",
       "     tkn_set  levenshtein  ...       mra    editex      saps  flexmetric  \\\n",
       "93        22     0.806452  ...  0.000000  0.303571  0.000000    0.408929   \n",
       "349       80     0.064516  ...  0.666667  0.666667  0.476190    0.766667   \n",
       "169       13     0.258065  ...  0.000000  0.125000  0.000000    0.125000   \n",
       "74        56     0.193548  ...  0.500000  0.615385  0.131579    0.630769   \n",
       "263       27     0.322581  ...  0.000000  0.181818  0.000000    0.300000   \n",
       "17         0     0.096774  ...  0.000000  0.166667  0.000000    0.233333   \n",
       "72        15     0.612903  ...  0.000000  0.214286  0.000000    0.307143   \n",
       "248       40     0.096774  ...  0.833333  0.166667  0.000000    0.200000   \n",
       "207       27     0.322581  ...  0.000000  0.423077  0.000000    0.469231   \n",
       "171       82     0.193548  ...  0.666667  0.705882  0.519231    0.726471   \n",
       "28        30     0.322581  ...  0.000000  0.363636  0.000000    0.463636   \n",
       "223       86     0.032258  ...  1.000000  1.000000  0.857143    1.000000   \n",
       "14        12     0.322581  ...  0.000000  0.181818  0.000000    0.259091   \n",
       "210       55     0.161290  ...  0.666667  0.562500  0.000000    0.525000   \n",
       "312       67     0.032258  ...  0.833333  0.666667  0.444444    0.666667   \n",
       "151       60     0.161290  ...  0.000000  0.545455  0.225806    0.559091   \n",
       "9         67     0.096774  ...  0.833333  0.642857  0.045455    0.671429   \n",
       "241       80     0.064516  ...  0.666667  0.666667  0.476190    0.683333   \n",
       "231       21     0.451613  ...  0.000000  0.250000  0.000000    0.421875   \n",
       "241       27     0.258065  ...  0.000000  0.277778  0.000000    0.366667   \n",
       "\n",
       "         jaro  higueramico     sift4     eudex     aline  phoneticeditdistance  \n",
       "93   0.382937     0.000000  0.035714  0.727451  0.090541              0.260945  \n",
       "349  0.888889     0.633333  0.666667  0.984314  0.588235              0.666667  \n",
       "169  0.422619     0.052778  0.125000  0.733333  0.411364              0.653226  \n",
       "74   0.707265     0.538462  0.538462  0.992157  0.715625              0.821340  \n",
       "263  0.404040     0.166667  0.181818  0.623039  0.344615              0.782991  \n",
       "17   0.000000     0.000000  0.000000  0.808333  0.000000              0.392473  \n",
       "72   0.469841     0.000000  0.095238  0.816667  0.154206              0.227343  \n",
       "248  0.000000     0.166667  0.333333  0.747059  0.411765              0.537634  \n",
       "207  0.410256     0.187296  0.230769  0.651961  0.286667              0.576923  \n",
       "171  0.834734     0.683626  0.823529  0.682353  0.757895              0.833017  \n",
       "28   0.535354     0.180886  0.272727  0.601961  0.330769              0.686217  \n",
       "223  0.916667     0.750000  0.750000  0.998039  0.950000              0.750000  \n",
       "14   0.430303     0.000000  0.090909  0.726961  0.160000              0.397361  \n",
       "210  0.791667     0.115476  0.375000  0.989216  0.375000              0.375000  \n",
       "312  0.777778     0.666667  0.666667  0.999020  0.666667              0.876344  \n",
       "151  0.737374     0.536364  0.545455  0.937745  0.640351              0.747801  \n",
       "9    0.790476     0.547619  0.571429  0.795588  0.636364              0.686636  \n",
       "241  0.888889     0.633333  0.666667  0.803922  0.615385              0.666667  \n",
       "231  0.597222     0.000000  0.062500  0.756863  0.119048              0.185484  \n",
       "241  0.500000     0.121032  0.222222  0.507353  0.358140              0.569892  \n",
       "\n",
       "[20 rows x 31 columns]"
      ]
     },
     "execution_count": 107,
     "metadata": {},
     "output_type": "execute_result"
    }
   ],
   "source": [
    "df.sample(20)"
   ]
  },
  {
   "cell_type": "markdown",
   "metadata": {},
   "source": [
    "### Evaluate Gradient Boosting Classifier"
   ]
  },
  {
   "cell_type": "code",
   "execution_count": 113,
   "metadata": {},
   "outputs": [
    {
     "name": "stdout",
     "output_type": "stream",
     "text": [
      "Confusion Matrix:\n",
      "[[33  4]\n",
      " [ 4 24]]\n",
      "Classification Report\n",
      "              precision    recall  f1-score   support\n",
      "\n",
      "           0       0.89      0.89      0.89        37\n",
      "           1       0.86      0.86      0.86        28\n",
      "\n",
      "    accuracy                           0.88        65\n",
      "   macro avg       0.87      0.87      0.87        65\n",
      "weighted avg       0.88      0.88      0.88        65\n",
      "\n"
     ]
    }
   ],
   "source": [
    "from sklearn.metrics import classification_report, confusion_matrix\n",
    "from sklearn.ensemble import GradientBoostingClassifier\n",
    "\n",
    "gb_clf2 = GradientBoostingClassifier(learning_rate=0.01, \n",
    "        max_depth=3, max_features=0.5,\n",
    "        min_samples_leaf=10, min_samples_split=3, \n",
    "        n_estimators=100, subsample=0.9500000000000001)\n",
    "gb_clf2.fit(X_train.drop(['a', 'b', 'TM_A', 'TM_B'], 1), y_train)\n",
    "predictions = gb_clf2.predict(X_test.drop(['a', 'b', 'TM_A', 'TM_B'], 1))\n",
    "\n",
    "print(\"Confusion Matrix:\")\n",
    "print(confusion_matrix(y_test, predictions))\n",
    "\n",
    "print(\"Classification Report\")\n",
    "print(classification_report(y_test, predictions))"
   ]
  },
  {
   "cell_type": "code",
   "execution_count": 109,
   "metadata": {},
   "outputs": [],
   "source": [
    "# df_confusion.to_csv('TM_GBC_Confusion_matris.csv')"
   ]
  },
  {
   "cell_type": "code",
   "execution_count": 114,
   "metadata": {},
   "outputs": [],
   "source": [
    "# roc curve and auc\n",
    "from sklearn.metrics import roc_curve\n",
    "from sklearn.metrics import roc_auc_score\n",
    "import matplotlib.pyplot as plt"
   ]
  },
  {
   "cell_type": "code",
   "execution_count": 115,
   "metadata": {},
   "outputs": [
    {
     "data": {
      "text/plain": [
       "Text(0.6, 0.3, 'AUC=0.926')"
      ]
     },
     "execution_count": 115,
     "metadata": {},
     "output_type": "execute_result"
    },
    {
     "data": {
      "image/png": "[encoded data removed]",
      "text/plain": [
       "<Figure size 504x504 with 1 Axes>"
      ]
     },
     "metadata": {
      "needs_background": "light"
     },
     "output_type": "display_data"
    }
   ],
   "source": [
    "fig, ax = plt.subplots(1,1, figsize=(7,7))\n",
    "baseline_probs = [0 for _ in range(len(y_test))]\n",
    "\n",
    "# keep probabilities for the positive outcome only\n",
    "probs = gb_clf2.predict_proba(X_test.drop(['a', 'b', 'TM_A', 'TM_B'], 1))\n",
    "probs = probs[:, 1]\n",
    "\n",
    "# calculate scores\n",
    "baseline_auc = roc_auc_score(y_test, baseline_probs)\n",
    "auc = roc_auc_score(y_test, probs)\n",
    "auc = ('AUC=%.3f' % (auc))\n",
    "\n",
    "# calculate roc curves\n",
    "baseline_fpr, baseline_tpr, _ = roc_curve(y_test, baseline_probs)\n",
    "fpr, tpr, _ = roc_curve(y_test, probs)\n",
    "\n",
    "# plot the roc curve for the model\n",
    "ax.plot(baseline_fpr, baseline_tpr, color='gray')\n",
    "ax.plot(fpr, tpr, marker='.', color='black')\n",
    "\n",
    "# axis labels\n",
    "ax.set_xlabel('False Positive Rate',fontsize=12)\n",
    "ax.set_ylabel('True Positive Rate',fontsize=12)\n",
    "ax.set_title('Receiver Operating Characteristic', fontsize=16)\n",
    "plt.text(.6, .3, auc, fontsize=13)\n",
    "\n",
    "# plt.savefig('TM_GBC_ROC.png', dpi = 300)"
   ]
  },
  {
   "cell_type": "code",
   "execution_count": 116,
   "metadata": {},
   "outputs": [
    {
     "data": {
      "image/png": "[encoded data removed]",
      "text/plain": [
       "<Figure size 1440x1080 with 2 Axes>"
      ]
     },
     "metadata": {
      "needs_background": "light"
     },
     "output_type": "display_data"
    }
   ],
   "source": [
    "import seaborn as sns\n",
    "\n",
    "corr = df.corr()\n",
    "sns.heatmap(corr, xticklabels=corr.columns.values,\n",
    "            yticklabels=corr.columns.values, annot = True,\n",
    "            cmap=\"YlGnBu_r\")\n",
    "heat_map=plt.gcf()\n",
    "heat_map.set_size_inches(20,15)\n",
    "plt.xticks(fontsize=10)\n",
    "plt.yticks(fontsize=10)\n",
    "plt.show()"
   ]
  },
  {
   "cell_type": "markdown",
   "metadata": {},
   "source": [
    "# Grid Search   \n",
    "\n",
    "Hyperparameter tuning?"
   ]
  },
  {
   "cell_type": "code",
   "execution_count": null,
   "metadata": {},
   "outputs": [],
   "source": [
    "cols = [col for col in df.columns if col not in ['a', 'b', 'TM_A', 'TM_B', 'target', 'predict_proba']]\n",
    "comb2 = list(combinations(cols, 2))\n",
    "comb3 = list(combinations(cols, 3))\n",
    "colgrid = [(col,)for col in cols]+comb2+comb3\n"
   ]
  },
  {
   "cell_type": "code",
   "execution_count": null,
   "metadata": {},
   "outputs": [],
   "source": [
    "from sklearn.model_selection import GridSearchCV\n",
    "from sklearn.linear_model import LogisticRegression\n",
    "from sklearn.metrics import confusion_matrix"
   ]
  },
  {
   "cell_type": "code",
   "execution_count": null,
   "metadata": {},
   "outputs": [],
   "source": [
    "X_train, X_test, y_train, y_test = train_test_split(df, df.target, test_size=0.2, random_state=42)\n",
    "X_train, X_val, y_train, y_val = train_test_split(X_train, y_train, test_size=0.25, random_state=42)"
   ]
  },
  {
   "cell_type": "code",
   "execution_count": null,
   "metadata": {},
   "outputs": [],
   "source": [
    "clf = LogisticRegression()\n",
    "grid_clf = GridSearchCV(clf, param_grid = {'C':np.logspace(-4, 4, 20)}, scoring = 'precision', verbose=0)\n",
    "\n",
    "scores = []\n",
    "for cols in colgrid:\n",
    "    grid_clf.fit(X_train[['predict_proba']+list(cols)], y_train)\n",
    "    y_pred = grid_clf.predict(X_val[['predict_proba']+list(cols)])\n",
    "    tn, fp, fn, tp = confusion_matrix(y_val, y_pred).ravel()\n",
    "    scores.append([str(cols), tn, fp, fn, tp])"
   ]
  },
  {
   "cell_type": "code",
   "execution_count": null,
   "metadata": {},
   "outputs": [],
   "source": [
    "scores_df = pd.DataFrame(scores)"
   ]
  },
  {
   "cell_type": "code",
   "execution_count": null,
   "metadata": {},
   "outputs": [],
   "source": [
    "scores_df.columns = ['features', 'tn', 'fp', 'fn', 'tp']"
   ]
  },
  {
   "cell_type": "code",
   "execution_count": null,
   "metadata": {},
   "outputs": [],
   "source": [
    "scores_df.head()"
   ]
  },
  {
   "cell_type": "code",
   "execution_count": null,
   "metadata": {},
   "outputs": [],
   "source": [
    "scores_df['error'] = scores_df['fp'] + scores_df['fn']"
   ]
  },
  {
   "cell_type": "code",
   "execution_count": null,
   "metadata": {},
   "outputs": [],
   "source": [
    "scores_df = scores_df.sort_values(['error', 'fp'])"
   ]
  },
  {
   "cell_type": "code",
   "execution_count": null,
   "metadata": {},
   "outputs": [],
   "source": [
    "X_train, X_test, y_train, y_test = train_test_split(df, df.target, test_size=0.2, random_state=42)"
   ]
  },
  {
   "cell_type": "code",
   "execution_count": null,
   "metadata": {},
   "outputs": [],
   "source": [
    "selected_cols = ['predict_proba', 'tkn_set', 'iterativesubstring', 'strcmp95']"
   ]
  },
  {
   "cell_type": "code",
   "execution_count": null,
   "metadata": {},
   "outputs": [],
   "source": [
    "clf = LogisticRegression()\n",
    "grid_clf = GridSearchCV(clf, param_grid = {'C':np.logspace(-4, 4, 20)}, scoring='precision')\n",
    "grid_clf.fit(X_train[selected_cols], y_train)\n",
    "y_pred = grid_clf.predict(X_test[selected_cols])"
   ]
  },
  {
   "cell_type": "code",
   "execution_count": null,
   "metadata": {},
   "outputs": [],
   "source": [
    "print(grid_clf.best_params_)"
   ]
  },
  {
   "cell_type": "markdown",
   "metadata": {},
   "source": [
    "## Evaluation"
   ]
  },
  {
   "cell_type": "code",
   "execution_count": null,
   "metadata": {},
   "outputs": [],
   "source": [
    "from sklearn.metrics import classification_report"
   ]
  },
  {
   "cell_type": "code",
   "execution_count": null,
   "metadata": {},
   "outputs": [],
   "source": [
    "def evaluate(y_test, y_pred):\n",
    "    cm = confusion_matrix(y_test, y_pred)\n",
    "    conf_matrix = pd.DataFrame(data=cm, columns=['Predicted: 0', 'Predicted: 1'], index=['Actual: 0', 'Actual: 1'])\n",
    "    print(classification_report(y_test, y_pred))\n",
    "    print(conf_matrix)"
   ]
  },
  {
   "cell_type": "code",
   "execution_count": null,
   "metadata": {},
   "outputs": [],
   "source": [
    "evaluate(y_test, y_pred)"
   ]
  },
  {
   "cell_type": "code",
   "execution_count": null,
   "metadata": {},
   "outputs": [],
   "source": [
    "# roc curve and auc\n",
    "from sklearn.metrics import roc_curve\n",
    "from sklearn.metrics import roc_auc_score\n",
    "import matplotlib.pyplot as plt"
   ]
  },
  {
   "cell_type": "code",
   "execution_count": null,
   "metadata": {},
   "outputs": [],
   "source": [
    "fig, ax = plt.subplots(1,1, figsize=(7,7))\n",
    "baseline_probs = [0 for _ in range(len(y_test))]\n",
    "\n",
    "# keep probabilities for the positive outcome only\n",
    "probs = grid_clf.predict_proba(X_test[selected_cols])\n",
    "probs = probs[:, 1]\n",
    "\n",
    "# calculate scores\n",
    "baseline_auc = roc_auc_score(y_test, baseline_probs)\n",
    "auc = roc_auc_score(y_test, probs)\n",
    "auc = ('AUC=%.3f' % (auc))\n",
    "\n",
    "# calculate roc curves\n",
    "baseline_fpr, baseline_tpr, _ = roc_curve(y_test, baseline_probs)\n",
    "fpr, tpr, _ = roc_curve(y_test, probs)\n",
    "\n",
    "# plot the roc curve for the model\n",
    "ax.plot(baseline_fpr, baseline_tpr, color='gray')\n",
    "ax.plot(fpr, tpr, marker='.', color='black')\n",
    "\n",
    "# axis labels\n",
    "ax.set_xlabel('False Positive Rate',fontsize=12)\n",
    "ax.set_ylabel('True Positive Rate',fontsize=12)\n",
    "ax.set_title('Receiver Operating Characteristic', fontsize=16)\n",
    "plt.text(.6, .3, auc, fontsize=13)"
   ]
  },
  {
   "cell_type": "markdown",
   "metadata": {},
   "source": [
    "### Export Models and Pipeline"
   ]
  },
  {
   "cell_type": "code",
   "execution_count": null,
   "metadata": {},
   "outputs": [],
   "source": [
    "import joblib\n",
    "import json"
   ]
  },
  {
   "cell_type": "code",
   "execution_count": null,
   "metadata": {},
   "outputs": [],
   "source": [
    "base_1 = base_model_1(X.drop(['a', 'b', 'TM_A', 'TM_B'], 1), y, X_test=None, export=True)\n",
    "joblib.dump(base_1, filename='Data.nosync/TM_Gradient_boost_base_model.pkl')"
   ]
  },
  {
   "cell_type": "code",
   "execution_count": null,
   "metadata": {},
   "outputs": [],
   "source": [
    "# base_model_2(X[['name_a', 'name_b']], y, X_test=None, export=True)"
   ]
  },
  {
   "cell_type": "code",
   "execution_count": null,
   "metadata": {},
   "outputs": [],
   "source": [
    "joblib.dump(grid_clf.best_estimator_, filename='Data.nosync/TM_meta_model.pkl')"
   ]
  },
  {
   "cell_type": "code",
   "execution_count": null,
   "metadata": {},
   "outputs": [],
   "source": []
  },
  {
   "cell_type": "markdown",
   "metadata": {},
   "source": [
    "### TPOT AutoML Regression"
   ]
  },
  {
   "cell_type": "code",
   "execution_count": null,
   "metadata": {},
   "outputs": [],
   "source": [
    "from tpot import TPOTRegressor\n",
    "\n",
    "pipeline_optimizer = TPOTRegressor(\n",
    "        scoring = 'f1', \n",
    "        generations=100,\n",
    "        verbosity=2,\n",
    "        n_jobs=-1   # Utilizes all available CPU cores\n",
    "        ) \n",
    "pipeline_optimizer.fit(X_train.drop(['a', 'b', 'TM_A', 'TM_B'],1), y_train)\n",
    "\n",
    "exported_pipeline = make_pipeline("
   ]
  }
 ],
 "metadata": {
  "kernelspec": {
   "display_name": "Python 3",
   "language": "python",
   "name": "python3"
  },
  "language_info": {
   "codemirror_mode": {
    "name": "ipython",
    "version": 3
   },
   "file_extension": ".py",
   "mimetype": "text/x-python",
   "name": "python",
   "nbconvert_exporter": "python",
   "pygments_lexer": "ipython3",
   "version": "3.8.3"
  }
 },
 "nbformat": 4,
 "nbformat_minor": 4
}
