{
 "cells": [
  {
   "cell_type": "markdown",
   "metadata": {},
   "source": [
    "# Modeling"
   ]
  },
  {
   "cell_type": "code",
   "execution_count": 1,
   "metadata": {},
   "outputs": [],
   "source": [
    "import pandas as pd\n",
    "import numpy as np\n",
    "import matplotlib as plt\n",
    "from sklearn.linear_model import LogisticRegression"
   ]
  },
  {
   "cell_type": "code",
   "execution_count": 2,
   "metadata": {},
   "outputs": [
    {
     "data": {
      "text/html": [
       "<div>\n",
       "<style scoped>\n",
       "    .dataframe tbody tr th:only-of-type {\n",
       "        vertical-align: middle;\n",
       "    }\n",
       "\n",
       "    .dataframe tbody tr th {\n",
       "        vertical-align: top;\n",
       "    }\n",
       "\n",
       "    .dataframe thead th {\n",
       "        text-align: right;\n",
       "    }\n",
       "</style>\n",
       "<table border=\"1\" class=\"dataframe\">\n",
       "  <thead>\n",
       "    <tr style=\"text-align: right;\">\n",
       "      <th></th>\n",
       "      <th>TM_A</th>\n",
       "      <th>TM_B</th>\n",
       "      <th>target</th>\n",
       "    </tr>\n",
       "  </thead>\n",
       "  <tbody>\n",
       "    <tr>\n",
       "      <th>0</th>\n",
       "      <td>Simoniz</td>\n",
       "      <td>Permanize</td>\n",
       "      <td>1</td>\n",
       "    </tr>\n",
       "    <tr>\n",
       "      <th>1</th>\n",
       "      <td>Magnavoc</td>\n",
       "      <td>Multivox</td>\n",
       "      <td>1</td>\n",
       "    </tr>\n",
       "    <tr>\n",
       "      <th>2</th>\n",
       "      <td>Zirco</td>\n",
       "      <td>Cozirc</td>\n",
       "      <td>1</td>\n",
       "    </tr>\n",
       "    <tr>\n",
       "      <th>3</th>\n",
       "      <td>Platinum Puff</td>\n",
       "      <td>Platinum Plus</td>\n",
       "      <td>1</td>\n",
       "    </tr>\n",
       "    <tr>\n",
       "      <th>4</th>\n",
       "      <td>Maternity Yours</td>\n",
       "      <td>Your Maternity Shop</td>\n",
       "      <td>1</td>\n",
       "    </tr>\n",
       "    <tr>\n",
       "      <th>5</th>\n",
       "      <td>Flossies</td>\n",
       "      <td>Flossbone</td>\n",
       "      <td>1</td>\n",
       "    </tr>\n",
       "    <tr>\n",
       "      <th>6</th>\n",
       "      <td>Hypnotiq</td>\n",
       "      <td>Hopnotic</td>\n",
       "      <td>1</td>\n",
       "    </tr>\n",
       "    <tr>\n",
       "      <th>7</th>\n",
       "      <td>Woody Stout</td>\n",
       "      <td>Woody Brown Ale</td>\n",
       "      <td>1</td>\n",
       "    </tr>\n",
       "    <tr>\n",
       "      <th>8</th>\n",
       "      <td>Frickin’ Chicken</td>\n",
       "      <td>Flip’n Chicken</td>\n",
       "      <td>1</td>\n",
       "    </tr>\n",
       "    <tr>\n",
       "      <th>9</th>\n",
       "      <td>Alair</td>\n",
       "      <td>Holaira</td>\n",
       "      <td>1</td>\n",
       "    </tr>\n",
       "    <tr>\n",
       "      <th>10</th>\n",
       "      <td>Seiko</td>\n",
       "      <td>Seycos</td>\n",
       "      <td>1</td>\n",
       "    </tr>\n",
       "    <tr>\n",
       "      <th>11</th>\n",
       "      <td>Can</td>\n",
       "      <td>Canya</td>\n",
       "      <td>1</td>\n",
       "    </tr>\n",
       "    <tr>\n",
       "      <th>12</th>\n",
       "      <td>Kresco</td>\n",
       "      <td>Cresco</td>\n",
       "      <td>1</td>\n",
       "    </tr>\n",
       "    <tr>\n",
       "      <th>13</th>\n",
       "      <td>Intelect</td>\n",
       "      <td>Entelec</td>\n",
       "      <td>1</td>\n",
       "    </tr>\n",
       "    <tr>\n",
       "      <th>14</th>\n",
       "      <td>Starbucks</td>\n",
       "      <td>Sambucks</td>\n",
       "      <td>1</td>\n",
       "    </tr>\n",
       "    <tr>\n",
       "      <th>15</th>\n",
       "      <td>Microsoft</td>\n",
       "      <td>MikeRoweSoft</td>\n",
       "      <td>1</td>\n",
       "    </tr>\n",
       "    <tr>\n",
       "      <th>16</th>\n",
       "      <td>Tailored T</td>\n",
       "      <td>Tailor-Tee</td>\n",
       "      <td>1</td>\n",
       "    </tr>\n",
       "    <tr>\n",
       "      <th>17</th>\n",
       "      <td>Point</td>\n",
       "      <td>Poynt</td>\n",
       "      <td>1</td>\n",
       "    </tr>\n",
       "    <tr>\n",
       "      <th>18</th>\n",
       "      <td>K-9</td>\n",
       "      <td>Canine</td>\n",
       "      <td>1</td>\n",
       "    </tr>\n",
       "    <tr>\n",
       "      <th>19</th>\n",
       "      <td>Kuf’N Kolar</td>\n",
       "      <td>Cuff &amp; Collar Cleaner</td>\n",
       "      <td>1</td>\n",
       "    </tr>\n",
       "  </tbody>\n",
       "</table>\n",
       "</div>"
      ],
      "text/plain": [
       "                TM_A                   TM_B  target\n",
       "0            Simoniz              Permanize       1\n",
       "1           Magnavoc               Multivox       1\n",
       "2              Zirco                 Cozirc       1\n",
       "3      Platinum Puff          Platinum Plus       1\n",
       "4    Maternity Yours    Your Maternity Shop       1\n",
       "5           Flossies              Flossbone       1\n",
       "6           Hypnotiq               Hopnotic       1\n",
       "7        Woody Stout        Woody Brown Ale       1\n",
       "8   Frickin’ Chicken         Flip’n Chicken       1\n",
       "9              Alair                Holaira       1\n",
       "10             Seiko                 Seycos       1\n",
       "11               Can                  Canya       1\n",
       "12            Kresco                 Cresco       1\n",
       "13          Intelect                Entelec       1\n",
       "14         Starbucks               Sambucks       1\n",
       "15         Microsoft           MikeRoweSoft       1\n",
       "16        Tailored T             Tailor-Tee       1\n",
       "17             Point                  Poynt       1\n",
       "18               K-9                 Canine       1\n",
       "19       Kuf’N Kolar  Cuff & Collar Cleaner       1"
      ]
     },
     "execution_count": 2,
     "metadata": {},
     "output_type": "execute_result"
    }
   ],
   "source": [
    "cases = pd.read_csv('Data.nosync/Similar_TM.csv')\n",
    "cases.head(20)"
   ]
  },
  {
   "cell_type": "code",
   "execution_count": 3,
   "metadata": {},
   "outputs": [],
   "source": [
    "import unidecode\n",
    "from fuzzywuzzy import fuzz\n",
    "import jellyfish\n",
    "\n",
    "from abydos.distance import (IterativeSubString, BISIM, DiscountedLevenshtein, Prefix, LCSstr, MLIPNS, Strcmp95,\n",
    "MRA, Editex, SAPS, FlexMetric, JaroWinkler, HigueraMico, Sift4, Eudex, ALINE, PhoneticEditDistance)\n",
    "\n",
    "from abydos.phonetic import PSHPSoundexFirst, Ainsworth\n",
    "pshp_soundex_first = PSHPSoundexFirst()\n",
    "pe = Ainsworth()"
   ]
  },
  {
   "cell_type": "code",
   "execution_count": 4,
   "metadata": {},
   "outputs": [],
   "source": [
    "iss = IterativeSubString()\n",
    "bisim = BISIM()\n",
    "dlev = DiscountedLevenshtein()\n",
    "prefix = Prefix()\n",
    "lcs = LCSstr()\n",
    "mlipns = MLIPNS()\n",
    "strcmp95 = Strcmp95()\n",
    "mra = MRA()\n",
    "editex = Editex()\n",
    "saps = SAPS()\n",
    "flexmetric = FlexMetric()\n",
    "jaro = JaroWinkler(mode='Jaro')\n",
    "higuera_mico = HigueraMico()\n",
    "sift4 = Sift4()\n",
    "eudex = Eudex()\n",
    "aline = ALINE()\n",
    "phonetic_edit = PhoneticEditDistance()"
   ]
  },
  {
   "cell_type": "code",
   "execution_count": 5,
   "metadata": {},
   "outputs": [],
   "source": [
    "algos = [iss, bisim, dlev, prefix, lcs, mlipns, strcmp95, mra, editex, saps, flexmetric, jaro, higuera_mico, sift4, eudex,\n",
    "         aline, phonetic_edit]\n",
    "\n",
    "algo_names = ['iterativesubstring', 'bisim', 'discountedlevenshtein', 'prefix', 'lcsstr', 'mlipns', 'strcmp95', 'mra',\n",
    "              'editex', 'saps', 'flexmetric', 'jaro', 'higueramico', 'sift4', 'eudex', 'aline',\n",
    "              'phoneticeditdistance']"
   ]
  },
  {
   "cell_type": "code",
   "execution_count": 6,
   "metadata": {},
   "outputs": [],
   "source": [
    "from abydos.phones import *"
   ]
  },
  {
   "cell_type": "code",
   "execution_count": 7,
   "metadata": {},
   "outputs": [],
   "source": [
    "def sum_ipa(name_a, name_b):\n",
    "    feat1 = ipa_to_features(pe.encode(name_a))\n",
    "    feat2 = ipa_to_features(pe.encode(name_b))\n",
    "    score = sum(cmp_features(f1, f2) for f1, f2 in zip(feat1, feat2))/len(feat1)\n",
    "    return score"
   ]
  },
  {
   "cell_type": "code",
   "execution_count": 8,
   "metadata": {},
   "outputs": [],
   "source": [
    "import re"
   ]
  },
  {
   "cell_type": "code",
   "execution_count": 9,
   "metadata": {},
   "outputs": [],
   "source": [
    "from tqdm import tqdm\n",
    "from sklearn.preprocessing import MinMaxScaler\n",
    "\n",
    "def featurize(df):\n",
    "    if len(df.columns)==3:\n",
    "        df.columns=['a', 'b', 'target']\n",
    "    elif len(df.columns)==2:\n",
    "        df.columns=['a', 'b']\n",
    "    else:\n",
    "        df = df.rename(columns={df.columns[0]: 'a', df.columns[1]: 'b' })\n",
    "        \n",
    "    df['TM_A'] = df.apply(lambda row: re.sub(\n",
    "        '[^a-zA-Z]+', '', unidecode.unidecode(row['a']).lower()), axis=1)\n",
    "    df['TM_B'] = df.apply(lambda row: re.sub(\n",
    "        '[^a-zA-Z]+', '', unidecode.unidecode(row['b']).lower()), axis=1)\n",
    "    \n",
    "\n",
    "    df['partial'] = df.apply(lambda row: fuzz.partial_ratio(row.TM_A,row.TM_B), axis=1)\n",
    "    df['tkn_sort'] = df.apply(lambda row: fuzz.token_sort_ratio(row.TM_A,row.TM_B), axis=1)\n",
    "    df['tkn_set'] = df.apply(lambda row: fuzz.token_set_ratio(row.TM_A,row.TM_B), axis=1)\n",
    "    \n",
    "#     df['sum_ipa'] = df.apply(lambda row: sum_ipa(row.TM_A,row.TM_B), axis=1)\n",
    "    \n",
    "    # Jellyfish levenshtein\n",
    "    df['levenshtein']= df.apply(lambda row: jellyfish.levenshtein_distance(row.TM_A,row.TM_B), axis=1)\n",
    "    # Scale Levenshtein column\n",
    "    scaler = MinMaxScaler()\n",
    "    df['levenshtein'] = scaler.fit_transform(df['levenshtein'].values.reshape(-1,1))\n",
    "\n",
    "    # Jellyfish phoneme\n",
    "    df['metaphone'] = df.apply(\n",
    "        lambda row: 1 if jellyfish.metaphone(row.TM_A)==jellyfish.metaphone(row.TM_B) else 0, axis=1)\n",
    "    df['nysiis'] = df.apply(\n",
    "        lambda row: 1 if jellyfish.nysiis(row.TM_A)==jellyfish.nysiis(row.TM_B) else 0, axis=1)\n",
    "    df['mtch_rtng_cdx'] = df.apply(\n",
    "        lambda row: 1 if jellyfish.match_rating_codex(row.TM_A)==jellyfish.match_rating_codex(row.TM_B) else 0, axis=1)\n",
    "    \n",
    "    df['pshp_soundex_first'] = df.apply(\n",
    "        lambda row: 1 if pshp_soundex_first.encode(row.TM_A)==pshp_soundex_first.encode(row.TM_B) else 0, axis=1)\n",
    "    \n",
    "    for i, algo in enumerate(algos):\n",
    "            df[algo_names[i]] = df.progress_apply(lambda row: algo.sim(row.TM_A, row.TM_B), axis=1)\n",
    "\n",
    "    \n",
    "    return df"
   ]
  },
  {
   "cell_type": "code",
   "execution_count": 10,
   "metadata": {
    "scrolled": true
   },
   "outputs": [],
   "source": [
    "\n",
    "\n",
    "# featurize(cases)"
   ]
  },
  {
   "cell_type": "markdown",
   "metadata": {},
   "source": [
    "### Class Balancing  \n",
    "We can see that the classes are imbalanced, there are more instances of trademark invalidation than are dismissals."
   ]
  },
  {
   "cell_type": "code",
   "execution_count": 11,
   "metadata": {},
   "outputs": [
    {
     "data": {
      "text/plain": [
       "<matplotlib.axes._subplots.AxesSubplot at 0x7fa8b593d4c0>"
      ]
     },
     "execution_count": 11,
     "metadata": {},
     "output_type": "execute_result"
    },
    {
     "data": {
      "image/png": "[encoded data removed]",
      "text/plain": [
       "<Figure size 432x288 with 1 Axes>"
      ]
     },
     "metadata": {
      "needs_background": "light"
     },
     "output_type": "display_data"
    }
   ],
   "source": [
    "cases['target'].value_counts()[:2].plot(kind='bar')\n",
    "\n",
    "# plt.savefig('TM_Unbalanced.png', dpi = 300)"
   ]
  },
  {
   "cell_type": "code",
   "execution_count": 12,
   "metadata": {},
   "outputs": [],
   "source": [
    "from itertools import combinations\n",
    "import random\n",
    "random.seed(42)\n"
   ]
  },
  {
   "cell_type": "code",
   "execution_count": 13,
   "metadata": {},
   "outputs": [
    {
     "data": {
      "text/html": [
       "<div>\n",
       "<style scoped>\n",
       "    .dataframe tbody tr th:only-of-type {\n",
       "        vertical-align: middle;\n",
       "    }\n",
       "\n",
       "    .dataframe tbody tr th {\n",
       "        vertical-align: top;\n",
       "    }\n",
       "\n",
       "    .dataframe thead th {\n",
       "        text-align: right;\n",
       "    }\n",
       "</style>\n",
       "<table border=\"1\" class=\"dataframe\">\n",
       "  <thead>\n",
       "    <tr style=\"text-align: right;\">\n",
       "      <th></th>\n",
       "      <th>TM_A</th>\n",
       "      <th>TM_B</th>\n",
       "    </tr>\n",
       "  </thead>\n",
       "  <tbody>\n",
       "    <tr>\n",
       "      <th>0</th>\n",
       "      <td>60 40 20</td>\n",
       "      <td>OPARUS</td>\n",
       "    </tr>\n",
       "    <tr>\n",
       "      <th>1</th>\n",
       "      <td>Xtreme Makeup</td>\n",
       "      <td>EDOMIGE</td>\n",
       "    </tr>\n",
       "    <tr>\n",
       "      <th>2</th>\n",
       "      <td>SEARCH SAVVY PR</td>\n",
       "      <td>ESSENTRA</td>\n",
       "    </tr>\n",
       "    <tr>\n",
       "      <th>3</th>\n",
       "      <td>The University of Law</td>\n",
       "      <td>Jaded</td>\n",
       "    </tr>\n",
       "    <tr>\n",
       "      <th>4</th>\n",
       "      <td>Shortlyster</td>\n",
       "      <td>CONNECT.COM</td>\n",
       "    </tr>\n",
       "    <tr>\n",
       "      <th>...</th>\n",
       "      <td>...</td>\n",
       "      <td>...</td>\n",
       "    </tr>\n",
       "    <tr>\n",
       "      <th>295</th>\n",
       "      <td>Dylan</td>\n",
       "      <td>Zlide</td>\n",
       "    </tr>\n",
       "    <tr>\n",
       "      <th>296</th>\n",
       "      <td>House of Silk</td>\n",
       "      <td>HiGain</td>\n",
       "    </tr>\n",
       "    <tr>\n",
       "      <th>297</th>\n",
       "      <td>MOSCANY</td>\n",
       "      <td>BIOBOOSTER</td>\n",
       "    </tr>\n",
       "    <tr>\n",
       "      <th>298</th>\n",
       "      <td>Next Deal Shop</td>\n",
       "      <td>PAPA</td>\n",
       "    </tr>\n",
       "    <tr>\n",
       "      <th>299</th>\n",
       "      <td>CAMcap</td>\n",
       "      <td>AADVANTAGE</td>\n",
       "    </tr>\n",
       "  </tbody>\n",
       "</table>\n",
       "<p>300 rows × 2 columns</p>\n",
       "</div>"
      ],
      "text/plain": [
       "                      TM_A         TM_B\n",
       "0                 60 40 20       OPARUS\n",
       "1            Xtreme Makeup      EDOMIGE\n",
       "2          SEARCH SAVVY PR     ESSENTRA\n",
       "3    The University of Law        Jaded\n",
       "4              Shortlyster  CONNECT.COM\n",
       "..                     ...          ...\n",
       "295                  Dylan        Zlide\n",
       "296          House of Silk       HiGain\n",
       "297                MOSCANY   BIOBOOSTER\n",
       "298         Next Deal Shop         PAPA\n",
       "299                 CAMcap   AADVANTAGE\n",
       "\n",
       "[300 rows x 2 columns]"
      ]
     },
     "execution_count": 13,
     "metadata": {},
     "output_type": "execute_result"
    }
   ],
   "source": [
    "# Use combinatorics to generate negative class\n",
    "pos_cases = cases[cases['target'] == 1]\n",
    "\n",
    "case_names = pos_cases.loc[:, 'TM_A':'TM_B'].values.tolist()\n",
    "unique_cases = list(set([item for items in case_names for item in items]))\n",
    "alt_pairs = list(zip(pos_cases.TM_A, pos_cases.TM_B))+ list(zip(pos_cases.TM_B, pos_cases.TM_A))\n",
    "comb = list(combinations(unique_cases, 2))\n",
    "nonmatch_cases = list(set(comb) - set(alt_pairs))\n",
    "# Undersample the negative class for 1:4 class imbalance instead of 1:1000 extreme class imbalance\n",
    "nonmatch_cases = pd.DataFrame(random.choices(nonmatch_cases, k=300), columns=['TM_A', 'TM_B']) # Originally was 1200\n",
    "\n",
    "nonmatch_cases"
   ]
  },
  {
   "cell_type": "code",
   "execution_count": 14,
   "metadata": {},
   "outputs": [
    {
     "name": "stdout",
     "output_type": "stream",
     "text": [
      "positive class ratio 1:1\n"
     ]
    }
   ],
   "source": [
    "print('positive class ratio 1:{}'.format(int(len(nonmatch_cases)/len(pos_cases))))"
   ]
  },
  {
   "cell_type": "code",
   "execution_count": 15,
   "metadata": {},
   "outputs": [
    {
     "data": {
      "text/html": [
       "<div>\n",
       "<style scoped>\n",
       "    .dataframe tbody tr th:only-of-type {\n",
       "        vertical-align: middle;\n",
       "    }\n",
       "\n",
       "    .dataframe tbody tr th {\n",
       "        vertical-align: top;\n",
       "    }\n",
       "\n",
       "    .dataframe thead th {\n",
       "        text-align: right;\n",
       "    }\n",
       "</style>\n",
       "<table border=\"1\" class=\"dataframe\">\n",
       "  <thead>\n",
       "    <tr style=\"text-align: right;\">\n",
       "      <th></th>\n",
       "      <th>TM_A</th>\n",
       "      <th>TM_B</th>\n",
       "    </tr>\n",
       "  </thead>\n",
       "  <tbody>\n",
       "    <tr>\n",
       "      <th>165</th>\n",
       "      <td>FINASTRA</td>\n",
       "      <td>Verve Design</td>\n",
       "    </tr>\n",
       "    <tr>\n",
       "      <th>187</th>\n",
       "      <td>WELLBOX</td>\n",
       "      <td>RED BULL BBQ GRILLS</td>\n",
       "    </tr>\n",
       "    <tr>\n",
       "      <th>289</th>\n",
       "      <td>AMMA</td>\n",
       "      <td>EASYSAIL</td>\n",
       "    </tr>\n",
       "    <tr>\n",
       "      <th>150</th>\n",
       "      <td>No More Tangles</td>\n",
       "      <td>TOMMY HERITAGE</td>\n",
       "    </tr>\n",
       "    <tr>\n",
       "      <th>197</th>\n",
       "      <td>Horse of London</td>\n",
       "      <td>GOGO</td>\n",
       "    </tr>\n",
       "    <tr>\n",
       "      <th>218</th>\n",
       "      <td>Alair</td>\n",
       "      <td>Panda</td>\n",
       "    </tr>\n",
       "    <tr>\n",
       "      <th>185</th>\n",
       "      <td>BLUE.COM</td>\n",
       "      <td>Dank Vapes</td>\n",
       "    </tr>\n",
       "    <tr>\n",
       "      <th>262</th>\n",
       "      <td>Dr. Wolff</td>\n",
       "      <td>Illumina</td>\n",
       "    </tr>\n",
       "    <tr>\n",
       "      <th>56</th>\n",
       "      <td>Eden Pure</td>\n",
       "      <td>VESPER</td>\n",
       "    </tr>\n",
       "    <tr>\n",
       "      <th>282</th>\n",
       "      <td>Thirty forty fifty</td>\n",
       "      <td>BLEPHACARE</td>\n",
       "    </tr>\n",
       "    <tr>\n",
       "      <th>61</th>\n",
       "      <td>Holaira</td>\n",
       "      <td>TREADSTONE</td>\n",
       "    </tr>\n",
       "    <tr>\n",
       "      <th>193</th>\n",
       "      <td>SIMTEC</td>\n",
       "      <td>HARD CORE</td>\n",
       "    </tr>\n",
       "    <tr>\n",
       "      <th>236</th>\n",
       "      <td>F.A.B.</td>\n",
       "      <td>Fashion tan</td>\n",
       "    </tr>\n",
       "    <tr>\n",
       "      <th>107</th>\n",
       "      <td>Starbucks</td>\n",
       "      <td>OFO</td>\n",
       "    </tr>\n",
       "    <tr>\n",
       "      <th>93</th>\n",
       "      <td>QIS</td>\n",
       "      <td>IMPERIAL</td>\n",
       "    </tr>\n",
       "    <tr>\n",
       "      <th>15</th>\n",
       "      <td>Entelec</td>\n",
       "      <td>ALEXANDER OF PARIS</td>\n",
       "    </tr>\n",
       "    <tr>\n",
       "      <th>47</th>\n",
       "      <td>PING</td>\n",
       "      <td>Mideltone</td>\n",
       "    </tr>\n",
       "    <tr>\n",
       "      <th>237</th>\n",
       "      <td>IT’S AN ADDICTION</td>\n",
       "      <td>PONIM</td>\n",
       "    </tr>\n",
       "    <tr>\n",
       "      <th>160</th>\n",
       "      <td>Kool shot</td>\n",
       "      <td>TOMMY HERITAGE</td>\n",
       "    </tr>\n",
       "    <tr>\n",
       "      <th>221</th>\n",
       "      <td>BRITISH GAS</td>\n",
       "      <td>The Science of Stoke</td>\n",
       "    </tr>\n",
       "  </tbody>\n",
       "</table>\n",
       "</div>"
      ],
      "text/plain": [
       "                   TM_A                  TM_B\n",
       "165            FINASTRA          Verve Design\n",
       "187             WELLBOX   RED BULL BBQ GRILLS\n",
       "289                AMMA              EASYSAIL\n",
       "150     No More Tangles        TOMMY HERITAGE\n",
       "197     Horse of London                  GOGO\n",
       "218               Alair                 Panda\n",
       "185            BLUE.COM            Dank Vapes\n",
       "262           Dr. Wolff              Illumina\n",
       "56            Eden Pure                VESPER\n",
       "282  Thirty forty fifty            BLEPHACARE\n",
       "61              Holaira            TREADSTONE\n",
       "193              SIMTEC             HARD CORE\n",
       "236              F.A.B.           Fashion tan\n",
       "107           Starbucks                   OFO\n",
       "93                  QIS              IMPERIAL\n",
       "15              Entelec    ALEXANDER OF PARIS\n",
       "47                 PING             Mideltone\n",
       "237   IT’S AN ADDICTION                 PONIM\n",
       "160           Kool shot        TOMMY HERITAGE\n",
       "221         BRITISH GAS  The Science of Stoke"
      ]
     },
     "execution_count": 15,
     "metadata": {},
     "output_type": "execute_result"
    }
   ],
   "source": [
    "nonmatch_cases.sample(20)"
   ]
  },
  {
   "cell_type": "code",
   "execution_count": 16,
   "metadata": {},
   "outputs": [
    {
     "data": {
      "text/html": [
       "<div>\n",
       "<style scoped>\n",
       "    .dataframe tbody tr th:only-of-type {\n",
       "        vertical-align: middle;\n",
       "    }\n",
       "\n",
       "    .dataframe tbody tr th {\n",
       "        vertical-align: top;\n",
       "    }\n",
       "\n",
       "    .dataframe thead th {\n",
       "        text-align: right;\n",
       "    }\n",
       "</style>\n",
       "<table border=\"1\" class=\"dataframe\">\n",
       "  <thead>\n",
       "    <tr style=\"text-align: right;\">\n",
       "      <th></th>\n",
       "      <th>TM_A</th>\n",
       "      <th>TM_B</th>\n",
       "      <th>target</th>\n",
       "    </tr>\n",
       "  </thead>\n",
       "  <tbody>\n",
       "    <tr>\n",
       "      <th>0</th>\n",
       "      <td>Simoniz</td>\n",
       "      <td>Permanize</td>\n",
       "      <td>1</td>\n",
       "    </tr>\n",
       "    <tr>\n",
       "      <th>1</th>\n",
       "      <td>Magnavoc</td>\n",
       "      <td>Multivox</td>\n",
       "      <td>1</td>\n",
       "    </tr>\n",
       "    <tr>\n",
       "      <th>2</th>\n",
       "      <td>Zirco</td>\n",
       "      <td>Cozirc</td>\n",
       "      <td>1</td>\n",
       "    </tr>\n",
       "    <tr>\n",
       "      <th>3</th>\n",
       "      <td>Platinum Puff</td>\n",
       "      <td>Platinum Plus</td>\n",
       "      <td>1</td>\n",
       "    </tr>\n",
       "    <tr>\n",
       "      <th>4</th>\n",
       "      <td>Maternity Yours</td>\n",
       "      <td>Your Maternity Shop</td>\n",
       "      <td>1</td>\n",
       "    </tr>\n",
       "    <tr>\n",
       "      <th>...</th>\n",
       "      <td>...</td>\n",
       "      <td>...</td>\n",
       "      <td>...</td>\n",
       "    </tr>\n",
       "    <tr>\n",
       "      <th>352</th>\n",
       "      <td>Lilton</td>\n",
       "      <td>Wilton</td>\n",
       "      <td>0</td>\n",
       "    </tr>\n",
       "    <tr>\n",
       "      <th>353</th>\n",
       "      <td>Nutricia</td>\n",
       "      <td>Nutritea</td>\n",
       "      <td>0</td>\n",
       "    </tr>\n",
       "    <tr>\n",
       "      <th>354</th>\n",
       "      <td>Glenreidh</td>\n",
       "      <td>An Reidhe</td>\n",
       "      <td>0</td>\n",
       "    </tr>\n",
       "    <tr>\n",
       "      <th>355</th>\n",
       "      <td>No Gunk No Junk</td>\n",
       "      <td>No Gunk Just Funk</td>\n",
       "      <td>0</td>\n",
       "    </tr>\n",
       "    <tr>\n",
       "      <th>356</th>\n",
       "      <td>e-Relief</td>\n",
       "      <td>LIGHT RELIEF</td>\n",
       "      <td>0</td>\n",
       "    </tr>\n",
       "  </tbody>\n",
       "</table>\n",
       "<p>657 rows × 3 columns</p>\n",
       "</div>"
      ],
      "text/plain": [
       "                TM_A                 TM_B  target\n",
       "0            Simoniz            Permanize       1\n",
       "1           Magnavoc             Multivox       1\n",
       "2              Zirco               Cozirc       1\n",
       "3      Platinum Puff        Platinum Plus       1\n",
       "4    Maternity Yours  Your Maternity Shop       1\n",
       "..               ...                  ...     ...\n",
       "352           Lilton               Wilton       0\n",
       "353         Nutricia             Nutritea       0\n",
       "354        Glenreidh            An Reidhe       0\n",
       "355  No Gunk No Junk    No Gunk Just Funk       0\n",
       "356         e-Relief         LIGHT RELIEF       0\n",
       "\n",
       "[657 rows x 3 columns]"
      ]
     },
     "execution_count": 16,
     "metadata": {},
     "output_type": "execute_result"
    }
   ],
   "source": [
    "# Negative Class\n",
    "nonmatch_cases['target'] = 0\n",
    "df = pd.concat([pos_cases, nonmatch_cases])\n",
    "# non_match_cases = None\n",
    "# pos_cases = None\n",
    "\n",
    "# Add true negatives\n",
    "neg_cases = cases[cases['target'] == 0]\n",
    "class_balanced = pd.concat([df, neg_cases])\n",
    "\n",
    "class_balanced.sample(20)\n",
    "\n",
    "class_balanced\n",
    "\n",
    "# class_balanced[class_balanced['TM_B'].str.len()!=0]\n"
   ]
  },
  {
   "cell_type": "code",
   "execution_count": 17,
   "metadata": {},
   "outputs": [
    {
     "data": {
      "text/plain": [
       "<matplotlib.axes._subplots.AxesSubplot at 0x7fa8b5a13040>"
      ]
     },
     "execution_count": 17,
     "metadata": {},
     "output_type": "execute_result"
    },
    {
     "data": {
      "image/png": "[encoded data removed]",
      "text/plain": [
       "<Figure size 432x288 with 1 Axes>"
      ]
     },
     "metadata": {
      "needs_background": "light"
     },
     "output_type": "display_data"
    }
   ],
   "source": [
    "class_balanced['target'].value_counts()[:2].plot(kind='bar')\n",
    "\n",
    "# plt.savefig('TM_Balanced.png', dpi = 300)"
   ]
  },
  {
   "cell_type": "code",
   "execution_count": 18,
   "metadata": {},
   "outputs": [
    {
     "name": "stderr",
     "output_type": "stream",
     "text": [
      "<ipython-input-18-213a59b7ad7e>:1: TqdmExperimentalWarning: Using `tqdm.autonotebook.tqdm` in notebook mode. Use `tqdm.tqdm` instead to force console mode (e.g. in jupyter console)\n",
      "  from tqdm.autonotebook import tqdm\n",
      "/Users/seannguyen/opt/anaconda3/lib/python3.8/site-packages/tqdm/std.py:668: FutureWarning: The Panel class is removed from pandas. Accessing it from the top-level namespace will also be removed in the next version\n",
      "  from pandas import Panel\n"
     ]
    },
    {
     "data": {
      "application/vnd.jupyter.widget-view+json": {
       "model_id": "12091b1c53394193b871f4bb3c7bf6a0",
       "version_major": 2,
       "version_minor": 0
      },
      "text/plain": [
       "HBox(children=(FloatProgress(value=0.0, max=657.0), HTML(value='')))"
      ]
     },
     "metadata": {},
     "output_type": "display_data"
    },
    {
     "name": "stdout",
     "output_type": "stream",
     "text": [
      "\n"
     ]
    },
    {
     "data": {
      "application/vnd.jupyter.widget-view+json": {
       "model_id": "8ce4582f2a3d4f93ae1ae50a24bf0a9f",
       "version_major": 2,
       "version_minor": 0
      },
      "text/plain": [
       "HBox(children=(FloatProgress(value=0.0, max=657.0), HTML(value='')))"
      ]
     },
     "metadata": {},
     "output_type": "display_data"
    },
    {
     "name": "stdout",
     "output_type": "stream",
     "text": [
      "\n"
     ]
    },
    {
     "data": {
      "application/vnd.jupyter.widget-view+json": {
       "model_id": "8d3f064b69ee42cba7815df68f0e61ea",
       "version_major": 2,
       "version_minor": 0
      },
      "text/plain": [
       "HBox(children=(FloatProgress(value=0.0, max=657.0), HTML(value='')))"
      ]
     },
     "metadata": {},
     "output_type": "display_data"
    },
    {
     "name": "stdout",
     "output_type": "stream",
     "text": [
      "\n"
     ]
    },
    {
     "data": {
      "application/vnd.jupyter.widget-view+json": {
       "model_id": "a328c74052ae42198c6518e65a1fdce9",
       "version_major": 2,
       "version_minor": 0
      },
      "text/plain": [
       "HBox(children=(FloatProgress(value=0.0, max=657.0), HTML(value='')))"
      ]
     },
     "metadata": {},
     "output_type": "display_data"
    },
    {
     "name": "stdout",
     "output_type": "stream",
     "text": [
      "\n"
     ]
    },
    {
     "data": {
      "application/vnd.jupyter.widget-view+json": {
       "model_id": "0a5edb91328f4059843d1373735031d8",
       "version_major": 2,
       "version_minor": 0
      },
      "text/plain": [
       "HBox(children=(FloatProgress(value=0.0, max=657.0), HTML(value='')))"
      ]
     },
     "metadata": {},
     "output_type": "display_data"
    },
    {
     "name": "stdout",
     "output_type": "stream",
     "text": [
      "\n"
     ]
    },
    {
     "data": {
      "application/vnd.jupyter.widget-view+json": {
       "model_id": "1e4adc917aa1408ba46116304ef78853",
       "version_major": 2,
       "version_minor": 0
      },
      "text/plain": [
       "HBox(children=(FloatProgress(value=0.0, max=657.0), HTML(value='')))"
      ]
     },
     "metadata": {},
     "output_type": "display_data"
    },
    {
     "name": "stdout",
     "output_type": "stream",
     "text": [
      "\n"
     ]
    },
    {
     "data": {
      "application/vnd.jupyter.widget-view+json": {
       "model_id": "5f44c9c5a93744488daf39a83047b8d6",
       "version_major": 2,
       "version_minor": 0
      },
      "text/plain": [
       "HBox(children=(FloatProgress(value=0.0, max=657.0), HTML(value='')))"
      ]
     },
     "metadata": {},
     "output_type": "display_data"
    },
    {
     "name": "stdout",
     "output_type": "stream",
     "text": [
      "\n"
     ]
    },
    {
     "data": {
      "application/vnd.jupyter.widget-view+json": {
       "model_id": "9b4000509bed4940847aca8b183d69c9",
       "version_major": 2,
       "version_minor": 0
      },
      "text/plain": [
       "HBox(children=(FloatProgress(value=0.0, max=657.0), HTML(value='')))"
      ]
     },
     "metadata": {},
     "output_type": "display_data"
    },
    {
     "name": "stdout",
     "output_type": "stream",
     "text": [
      "\n"
     ]
    },
    {
     "data": {
      "application/vnd.jupyter.widget-view+json": {
       "model_id": "f80d8f2c47754d86a3ec097c7e352a45",
       "version_major": 2,
       "version_minor": 0
      },
      "text/plain": [
       "HBox(children=(FloatProgress(value=0.0, max=657.0), HTML(value='')))"
      ]
     },
     "metadata": {},
     "output_type": "display_data"
    },
    {
     "name": "stdout",
     "output_type": "stream",
     "text": [
      "\n"
     ]
    },
    {
     "data": {
      "application/vnd.jupyter.widget-view+json": {
       "model_id": "71f54eb9b9f64a23ad9c7b686f6e813b",
       "version_major": 2,
       "version_minor": 0
      },
      "text/plain": [
       "HBox(children=(FloatProgress(value=0.0, max=657.0), HTML(value='')))"
      ]
     },
     "metadata": {},
     "output_type": "display_data"
    },
    {
     "name": "stdout",
     "output_type": "stream",
     "text": [
      "\n"
     ]
    },
    {
     "data": {
      "application/vnd.jupyter.widget-view+json": {
       "model_id": "28abeda3bf5449d697f771958c410486",
       "version_major": 2,
       "version_minor": 0
      },
      "text/plain": [
       "HBox(children=(FloatProgress(value=0.0, max=657.0), HTML(value='')))"
      ]
     },
     "metadata": {},
     "output_type": "display_data"
    },
    {
     "name": "stdout",
     "output_type": "stream",
     "text": [
      "\n"
     ]
    },
    {
     "data": {
      "application/vnd.jupyter.widget-view+json": {
       "model_id": "34e42b805d1c46279eb5999656f746e2",
       "version_major": 2,
       "version_minor": 0
      },
      "text/plain": [
       "HBox(children=(FloatProgress(value=0.0, max=657.0), HTML(value='')))"
      ]
     },
     "metadata": {},
     "output_type": "display_data"
    },
    {
     "name": "stdout",
     "output_type": "stream",
     "text": [
      "\n"
     ]
    },
    {
     "data": {
      "application/vnd.jupyter.widget-view+json": {
       "model_id": "16694287ab704a5e949dc8fd0a955e18",
       "version_major": 2,
       "version_minor": 0
      },
      "text/plain": [
       "HBox(children=(FloatProgress(value=0.0, max=657.0), HTML(value='')))"
      ]
     },
     "metadata": {},
     "output_type": "display_data"
    },
    {
     "name": "stdout",
     "output_type": "stream",
     "text": [
      "\n"
     ]
    },
    {
     "data": {
      "application/vnd.jupyter.widget-view+json": {
       "model_id": "152d303d8ec94adbac66eced149da908",
       "version_major": 2,
       "version_minor": 0
      },
      "text/plain": [
       "HBox(children=(FloatProgress(value=0.0, max=657.0), HTML(value='')))"
      ]
     },
     "metadata": {},
     "output_type": "display_data"
    },
    {
     "name": "stdout",
     "output_type": "stream",
     "text": [
      "\n"
     ]
    },
    {
     "data": {
      "application/vnd.jupyter.widget-view+json": {
       "model_id": "04f27b3e8e9b41c599a855134a7fd814",
       "version_major": 2,
       "version_minor": 0
      },
      "text/plain": [
       "HBox(children=(FloatProgress(value=0.0, max=657.0), HTML(value='')))"
      ]
     },
     "metadata": {},
     "output_type": "display_data"
    },
    {
     "name": "stdout",
     "output_type": "stream",
     "text": [
      "\n"
     ]
    },
    {
     "data": {
      "application/vnd.jupyter.widget-view+json": {
       "model_id": "64a5ac5440464300ba2f005dacd61469",
       "version_major": 2,
       "version_minor": 0
      },
      "text/plain": [
       "HBox(children=(FloatProgress(value=0.0, max=657.0), HTML(value='')))"
      ]
     },
     "metadata": {},
     "output_type": "display_data"
    },
    {
     "name": "stdout",
     "output_type": "stream",
     "text": [
      "\n"
     ]
    },
    {
     "data": {
      "application/vnd.jupyter.widget-view+json": {
       "model_id": "a1ff4de0291a4e278c2f2cab593c4a4f",
       "version_major": 2,
       "version_minor": 0
      },
      "text/plain": [
       "HBox(children=(FloatProgress(value=0.0, max=657.0), HTML(value='')))"
      ]
     },
     "metadata": {},
     "output_type": "display_data"
    },
    {
     "name": "stdout",
     "output_type": "stream",
     "text": [
      "\n"
     ]
    },
    {
     "data": {
      "text/html": [
       "<div>\n",
       "<style scoped>\n",
       "    .dataframe tbody tr th:only-of-type {\n",
       "        vertical-align: middle;\n",
       "    }\n",
       "\n",
       "    .dataframe tbody tr th {\n",
       "        vertical-align: top;\n",
       "    }\n",
       "\n",
       "    .dataframe thead th {\n",
       "        text-align: right;\n",
       "    }\n",
       "</style>\n",
       "<table border=\"1\" class=\"dataframe\">\n",
       "  <thead>\n",
       "    <tr style=\"text-align: right;\">\n",
       "      <th></th>\n",
       "      <th>a</th>\n",
       "      <th>b</th>\n",
       "      <th>target</th>\n",
       "      <th>TM_A</th>\n",
       "      <th>TM_B</th>\n",
       "      <th>partial</th>\n",
       "      <th>tkn_sort</th>\n",
       "      <th>tkn_set</th>\n",
       "      <th>levenshtein</th>\n",
       "      <th>metaphone</th>\n",
       "      <th>...</th>\n",
       "      <th>mra</th>\n",
       "      <th>editex</th>\n",
       "      <th>saps</th>\n",
       "      <th>flexmetric</th>\n",
       "      <th>jaro</th>\n",
       "      <th>higueramico</th>\n",
       "      <th>sift4</th>\n",
       "      <th>eudex</th>\n",
       "      <th>aline</th>\n",
       "      <th>phoneticeditdistance</th>\n",
       "    </tr>\n",
       "  </thead>\n",
       "  <tbody>\n",
       "    <tr>\n",
       "      <th>169</th>\n",
       "      <td>Harry’s Bar</td>\n",
       "      <td>Harry Gordon’s Bar</td>\n",
       "      <td>1</td>\n",
       "      <td>harrysbar</td>\n",
       "      <td>harrygordonsbar</td>\n",
       "      <td>67</td>\n",
       "      <td>75</td>\n",
       "      <td>75</td>\n",
       "      <td>0.171429</td>\n",
       "      <td>0</td>\n",
       "      <td>...</td>\n",
       "      <td>1.000000</td>\n",
       "      <td>0.633333</td>\n",
       "      <td>0.222222</td>\n",
       "      <td>0.650000</td>\n",
       "      <td>0.792593</td>\n",
       "      <td>0.510739</td>\n",
       "      <td>0.400000</td>\n",
       "      <td>0.978922</td>\n",
       "      <td>0.476471</td>\n",
       "      <td>0.600000</td>\n",
       "    </tr>\n",
       "    <tr>\n",
       "      <th>202</th>\n",
       "      <td>DUNSTON</td>\n",
       "      <td>Willow Tree Gin</td>\n",
       "      <td>0</td>\n",
       "      <td>dunston</td>\n",
       "      <td>willowtreegin</td>\n",
       "      <td>29</td>\n",
       "      <td>20</td>\n",
       "      <td>20</td>\n",
       "      <td>0.314286</td>\n",
       "      <td>0</td>\n",
       "      <td>...</td>\n",
       "      <td>0.000000</td>\n",
       "      <td>0.384615</td>\n",
       "      <td>0.000000</td>\n",
       "      <td>0.388462</td>\n",
       "      <td>0.313187</td>\n",
       "      <td>0.028108</td>\n",
       "      <td>0.076923</td>\n",
       "      <td>0.734804</td>\n",
       "      <td>0.263492</td>\n",
       "      <td>0.482630</td>\n",
       "    </tr>\n",
       "    <tr>\n",
       "      <th>109</th>\n",
       "      <td>ELYSIUM</td>\n",
       "      <td>JOBZGENIE</td>\n",
       "      <td>0</td>\n",
       "      <td>elysium</td>\n",
       "      <td>jobzgenie</td>\n",
       "      <td>29</td>\n",
       "      <td>25</td>\n",
       "      <td>25</td>\n",
       "      <td>0.257143</td>\n",
       "      <td>0</td>\n",
       "      <td>...</td>\n",
       "      <td>0.000000</td>\n",
       "      <td>0.222222</td>\n",
       "      <td>0.000000</td>\n",
       "      <td>0.211111</td>\n",
       "      <td>0.417989</td>\n",
       "      <td>0.063889</td>\n",
       "      <td>0.111111</td>\n",
       "      <td>0.552941</td>\n",
       "      <td>0.255319</td>\n",
       "      <td>0.600358</td>\n",
       "    </tr>\n",
       "    <tr>\n",
       "      <th>185</th>\n",
       "      <td>BLUE.COM</td>\n",
       "      <td>Dank Vapes</td>\n",
       "      <td>0</td>\n",
       "      <td>bluecom</td>\n",
       "      <td>dankvapes</td>\n",
       "      <td>14</td>\n",
       "      <td>12</td>\n",
       "      <td>12</td>\n",
       "      <td>0.257143</td>\n",
       "      <td>0</td>\n",
       "      <td>...</td>\n",
       "      <td>0.000000</td>\n",
       "      <td>0.111111</td>\n",
       "      <td>0.000000</td>\n",
       "      <td>0.272222</td>\n",
       "      <td>0.000000</td>\n",
       "      <td>0.018434</td>\n",
       "      <td>0.111111</td>\n",
       "      <td>0.796569</td>\n",
       "      <td>0.225490</td>\n",
       "      <td>0.623656</td>\n",
       "    </tr>\n",
       "    <tr>\n",
       "      <th>17</th>\n",
       "      <td>INVESTED. TOGETHER.</td>\n",
       "      <td>PIC NIC</td>\n",
       "      <td>0</td>\n",
       "      <td>investedtogether</td>\n",
       "      <td>picnic</td>\n",
       "      <td>0</td>\n",
       "      <td>18</td>\n",
       "      <td>18</td>\n",
       "      <td>0.457143</td>\n",
       "      <td>0</td>\n",
       "      <td>...</td>\n",
       "      <td>0.000000</td>\n",
       "      <td>0.156250</td>\n",
       "      <td>0.000000</td>\n",
       "      <td>0.362500</td>\n",
       "      <td>0.486111</td>\n",
       "      <td>0.000000</td>\n",
       "      <td>0.125000</td>\n",
       "      <td>0.488235</td>\n",
       "      <td>0.236364</td>\n",
       "      <td>0.339718</td>\n",
       "    </tr>\n",
       "    <tr>\n",
       "      <th>339</th>\n",
       "      <td>LA MERCI</td>\n",
       "      <td>MERCI</td>\n",
       "      <td>0</td>\n",
       "      <td>lamerci</td>\n",
       "      <td>merci</td>\n",
       "      <td>100</td>\n",
       "      <td>83</td>\n",
       "      <td>83</td>\n",
       "      <td>0.057143</td>\n",
       "      <td>0</td>\n",
       "      <td>...</td>\n",
       "      <td>0.833333</td>\n",
       "      <td>0.714286</td>\n",
       "      <td>0.500000</td>\n",
       "      <td>0.714286</td>\n",
       "      <td>0.904762</td>\n",
       "      <td>0.690476</td>\n",
       "      <td>0.714286</td>\n",
       "      <td>0.803922</td>\n",
       "      <td>0.729730</td>\n",
       "      <td>0.714286</td>\n",
       "    </tr>\n",
       "    <tr>\n",
       "      <th>167</th>\n",
       "      <td>LOCO</td>\n",
       "      <td>LOKA</td>\n",
       "      <td>1</td>\n",
       "      <td>loco</td>\n",
       "      <td>loka</td>\n",
       "      <td>50</td>\n",
       "      <td>50</td>\n",
       "      <td>50</td>\n",
       "      <td>0.057143</td>\n",
       "      <td>1</td>\n",
       "      <td>...</td>\n",
       "      <td>0.833333</td>\n",
       "      <td>0.750000</td>\n",
       "      <td>0.285714</td>\n",
       "      <td>0.750000</td>\n",
       "      <td>0.666667</td>\n",
       "      <td>0.500000</td>\n",
       "      <td>0.500000</td>\n",
       "      <td>0.998039</td>\n",
       "      <td>0.750000</td>\n",
       "      <td>0.943548</td>\n",
       "    </tr>\n",
       "    <tr>\n",
       "      <th>49</th>\n",
       "      <td>PRO GAINS</td>\n",
       "      <td>HAMILTON</td>\n",
       "      <td>0</td>\n",
       "      <td>progains</td>\n",
       "      <td>hamilton</td>\n",
       "      <td>38</td>\n",
       "      <td>38</td>\n",
       "      <td>38</td>\n",
       "      <td>0.228571</td>\n",
       "      <td>0</td>\n",
       "      <td>...</td>\n",
       "      <td>0.000000</td>\n",
       "      <td>0.187500</td>\n",
       "      <td>0.000000</td>\n",
       "      <td>0.100000</td>\n",
       "      <td>0.583333</td>\n",
       "      <td>0.145960</td>\n",
       "      <td>0.375000</td>\n",
       "      <td>0.655882</td>\n",
       "      <td>0.297727</td>\n",
       "      <td>0.618952</td>\n",
       "    </tr>\n",
       "    <tr>\n",
       "      <th>294</th>\n",
       "      <td>INTERCONTEC INFINITE CONNECTIONS\\t</td>\n",
       "      <td>INTERCONNECT SOLUTIONS</td>\n",
       "      <td>0</td>\n",
       "      <td>intercontecinfiniteconnections</td>\n",
       "      <td>interconnectsolutions</td>\n",
       "      <td>71</td>\n",
       "      <td>67</td>\n",
       "      <td>67</td>\n",
       "      <td>0.371429</td>\n",
       "      <td>0</td>\n",
       "      <td>...</td>\n",
       "      <td>1.000000</td>\n",
       "      <td>0.616667</td>\n",
       "      <td>0.311111</td>\n",
       "      <td>0.671667</td>\n",
       "      <td>0.763492</td>\n",
       "      <td>0.517038</td>\n",
       "      <td>0.433333</td>\n",
       "      <td>1.000000</td>\n",
       "      <td>0.550617</td>\n",
       "      <td>0.682796</td>\n",
       "    </tr>\n",
       "    <tr>\n",
       "      <th>34</th>\n",
       "      <td>Camel activ</td>\n",
       "      <td>Camel Capa</td>\n",
       "      <td>1</td>\n",
       "      <td>camelactiv</td>\n",
       "      <td>camelcapa</td>\n",
       "      <td>67</td>\n",
       "      <td>63</td>\n",
       "      <td>63</td>\n",
       "      <td>0.114286</td>\n",
       "      <td>0</td>\n",
       "      <td>...</td>\n",
       "      <td>0.666667</td>\n",
       "      <td>0.600000</td>\n",
       "      <td>0.233333</td>\n",
       "      <td>0.680000</td>\n",
       "      <td>0.778307</td>\n",
       "      <td>0.600000</td>\n",
       "      <td>0.600000</td>\n",
       "      <td>0.992647</td>\n",
       "      <td>0.672222</td>\n",
       "      <td>0.780645</td>\n",
       "    </tr>\n",
       "    <tr>\n",
       "      <th>157</th>\n",
       "      <td>SILENT POOL</td>\n",
       "      <td>Oliver Sweeney</td>\n",
       "      <td>0</td>\n",
       "      <td>silentpool</td>\n",
       "      <td>oliversweeney</td>\n",
       "      <td>30</td>\n",
       "      <td>26</td>\n",
       "      <td>26</td>\n",
       "      <td>0.314286</td>\n",
       "      <td>0</td>\n",
       "      <td>...</td>\n",
       "      <td>0.000000</td>\n",
       "      <td>0.307692</td>\n",
       "      <td>0.000000</td>\n",
       "      <td>0.357692</td>\n",
       "      <td>0.399145</td>\n",
       "      <td>0.133450</td>\n",
       "      <td>0.153846</td>\n",
       "      <td>0.499020</td>\n",
       "      <td>0.322034</td>\n",
       "      <td>0.681141</td>\n",
       "    </tr>\n",
       "    <tr>\n",
       "      <th>254</th>\n",
       "      <td>TRANSICS</td>\n",
       "      <td>TRINSIC</td>\n",
       "      <td>1</td>\n",
       "      <td>transics</td>\n",
       "      <td>trinsic</td>\n",
       "      <td>86</td>\n",
       "      <td>80</td>\n",
       "      <td>80</td>\n",
       "      <td>0.057143</td>\n",
       "      <td>0</td>\n",
       "      <td>...</td>\n",
       "      <td>0.833333</td>\n",
       "      <td>0.812500</td>\n",
       "      <td>0.607143</td>\n",
       "      <td>0.762500</td>\n",
       "      <td>0.813492</td>\n",
       "      <td>0.750000</td>\n",
       "      <td>0.750000</td>\n",
       "      <td>0.817647</td>\n",
       "      <td>0.822917</td>\n",
       "      <td>0.858871</td>\n",
       "    </tr>\n",
       "    <tr>\n",
       "      <th>37</th>\n",
       "      <td>T2</td>\n",
       "      <td>T2A</td>\n",
       "      <td>1</td>\n",
       "      <td>t</td>\n",
       "      <td>ta</td>\n",
       "      <td>100</td>\n",
       "      <td>67</td>\n",
       "      <td>67</td>\n",
       "      <td>0.028571</td>\n",
       "      <td>1</td>\n",
       "      <td>...</td>\n",
       "      <td>1.000000</td>\n",
       "      <td>0.500000</td>\n",
       "      <td>0.714286</td>\n",
       "      <td>0.500000</td>\n",
       "      <td>0.833333</td>\n",
       "      <td>0.500000</td>\n",
       "      <td>0.500000</td>\n",
       "      <td>1.000000</td>\n",
       "      <td>0.700000</td>\n",
       "      <td>0.500000</td>\n",
       "    </tr>\n",
       "    <tr>\n",
       "      <th>9</th>\n",
       "      <td>Alair</td>\n",
       "      <td>Holaira</td>\n",
       "      <td>1</td>\n",
       "      <td>alair</td>\n",
       "      <td>holaira</td>\n",
       "      <td>80</td>\n",
       "      <td>67</td>\n",
       "      <td>67</td>\n",
       "      <td>0.085714</td>\n",
       "      <td>0</td>\n",
       "      <td>...</td>\n",
       "      <td>0.833333</td>\n",
       "      <td>0.642857</td>\n",
       "      <td>0.045455</td>\n",
       "      <td>0.671429</td>\n",
       "      <td>0.790476</td>\n",
       "      <td>0.547619</td>\n",
       "      <td>0.571429</td>\n",
       "      <td>0.795588</td>\n",
       "      <td>0.636364</td>\n",
       "      <td>0.686636</td>\n",
       "    </tr>\n",
       "    <tr>\n",
       "      <th>334</th>\n",
       "      <td>DORCHESTER</td>\n",
       "      <td>ROCHESTER</td>\n",
       "      <td>0</td>\n",
       "      <td>dorchester</td>\n",
       "      <td>rochester</td>\n",
       "      <td>89</td>\n",
       "      <td>84</td>\n",
       "      <td>84</td>\n",
       "      <td>0.057143</td>\n",
       "      <td>0</td>\n",
       "      <td>...</td>\n",
       "      <td>0.500000</td>\n",
       "      <td>0.800000</td>\n",
       "      <td>0.366667</td>\n",
       "      <td>0.805000</td>\n",
       "      <td>0.929630</td>\n",
       "      <td>0.800000</td>\n",
       "      <td>0.800000</td>\n",
       "      <td>0.588235</td>\n",
       "      <td>0.793103</td>\n",
       "      <td>0.896774</td>\n",
       "    </tr>\n",
       "    <tr>\n",
       "      <th>67</th>\n",
       "      <td>GideonsUK</td>\n",
       "      <td>Gideon</td>\n",
       "      <td>1</td>\n",
       "      <td>gideonsuk</td>\n",
       "      <td>gideon</td>\n",
       "      <td>100</td>\n",
       "      <td>80</td>\n",
       "      <td>80</td>\n",
       "      <td>0.085714</td>\n",
       "      <td>0</td>\n",
       "      <td>...</td>\n",
       "      <td>0.666667</td>\n",
       "      <td>0.666667</td>\n",
       "      <td>0.458333</td>\n",
       "      <td>0.677778</td>\n",
       "      <td>0.888889</td>\n",
       "      <td>0.621032</td>\n",
       "      <td>0.666667</td>\n",
       "      <td>0.918627</td>\n",
       "      <td>0.638298</td>\n",
       "      <td>0.666667</td>\n",
       "    </tr>\n",
       "    <tr>\n",
       "      <th>28</th>\n",
       "      <td>UGLY KID CLOTHING UK</td>\n",
       "      <td>KINK</td>\n",
       "      <td>0</td>\n",
       "      <td>uglykidclothinguk</td>\n",
       "      <td>kink</td>\n",
       "      <td>50</td>\n",
       "      <td>38</td>\n",
       "      <td>38</td>\n",
       "      <td>0.371429</td>\n",
       "      <td>0</td>\n",
       "      <td>...</td>\n",
       "      <td>0.000000</td>\n",
       "      <td>0.264706</td>\n",
       "      <td>0.000000</td>\n",
       "      <td>0.388235</td>\n",
       "      <td>0.539216</td>\n",
       "      <td>0.000000</td>\n",
       "      <td>0.117647</td>\n",
       "      <td>0.604902</td>\n",
       "      <td>0.200000</td>\n",
       "      <td>0.235294</td>\n",
       "    </tr>\n",
       "    <tr>\n",
       "      <th>240</th>\n",
       "      <td>PEPE</td>\n",
       "      <td>PEPE’S PIRI PIRI</td>\n",
       "      <td>1</td>\n",
       "      <td>pepe</td>\n",
       "      <td>pepespiripiri</td>\n",
       "      <td>100</td>\n",
       "      <td>47</td>\n",
       "      <td>47</td>\n",
       "      <td>0.257143</td>\n",
       "      <td>0</td>\n",
       "      <td>...</td>\n",
       "      <td>0.000000</td>\n",
       "      <td>0.307692</td>\n",
       "      <td>0.000000</td>\n",
       "      <td>0.323077</td>\n",
       "      <td>0.769231</td>\n",
       "      <td>0.000000</td>\n",
       "      <td>0.307692</td>\n",
       "      <td>0.935784</td>\n",
       "      <td>0.298507</td>\n",
       "      <td>0.307692</td>\n",
       "    </tr>\n",
       "    <tr>\n",
       "      <th>166</th>\n",
       "      <td>Canvas Lifestyle Retirement Living</td>\n",
       "      <td>AMCAP</td>\n",
       "      <td>0</td>\n",
       "      <td>canvaslifestyleretirementliving</td>\n",
       "      <td>amcap</td>\n",
       "      <td>40</td>\n",
       "      <td>11</td>\n",
       "      <td>11</td>\n",
       "      <td>0.828571</td>\n",
       "      <td>0</td>\n",
       "      <td>...</td>\n",
       "      <td>0.000000</td>\n",
       "      <td>0.096774</td>\n",
       "      <td>0.000000</td>\n",
       "      <td>0.248387</td>\n",
       "      <td>0.454480</td>\n",
       "      <td>0.000000</td>\n",
       "      <td>0.064516</td>\n",
       "      <td>0.808824</td>\n",
       "      <td>0.105325</td>\n",
       "      <td>0.148283</td>\n",
       "    </tr>\n",
       "    <tr>\n",
       "      <th>291</th>\n",
       "      <td>SPRAY DRY</td>\n",
       "      <td>SUPER DRY</td>\n",
       "      <td>0</td>\n",
       "      <td>spraydry</td>\n",
       "      <td>superdry</td>\n",
       "      <td>75</td>\n",
       "      <td>75</td>\n",
       "      <td>75</td>\n",
       "      <td>0.114286</td>\n",
       "      <td>1</td>\n",
       "      <td>...</td>\n",
       "      <td>1.000000</td>\n",
       "      <td>0.562500</td>\n",
       "      <td>0.392857</td>\n",
       "      <td>0.575000</td>\n",
       "      <td>0.777778</td>\n",
       "      <td>0.577778</td>\n",
       "      <td>0.750000</td>\n",
       "      <td>0.933333</td>\n",
       "      <td>0.681818</td>\n",
       "      <td>0.850806</td>\n",
       "    </tr>\n",
       "  </tbody>\n",
       "</table>\n",
       "<p>20 rows × 30 columns</p>\n",
       "</div>"
      ],
      "text/plain": [
       "                                      a                       b  target  \\\n",
       "169                         Harry’s Bar      Harry Gordon’s Bar       1   \n",
       "202                             DUNSTON         Willow Tree Gin       0   \n",
       "109                             ELYSIUM               JOBZGENIE       0   \n",
       "185                            BLUE.COM              Dank Vapes       0   \n",
       "17                  INVESTED. TOGETHER.                 PIC NIC       0   \n",
       "339                            LA MERCI                   MERCI       0   \n",
       "167                                LOCO                    LOKA       1   \n",
       "49                            PRO GAINS                HAMILTON       0   \n",
       "294  INTERCONTEC INFINITE CONNECTIONS\\t  INTERCONNECT SOLUTIONS       0   \n",
       "34                          Camel activ              Camel Capa       1   \n",
       "157                         SILENT POOL          Oliver Sweeney       0   \n",
       "254                            TRANSICS                 TRINSIC       1   \n",
       "37                                   T2                     T2A       1   \n",
       "9                                 Alair                 Holaira       1   \n",
       "334                          DORCHESTER               ROCHESTER       0   \n",
       "67                            GideonsUK                  Gideon       1   \n",
       "28                 UGLY KID CLOTHING UK                    KINK       0   \n",
       "240                                PEPE        PEPE’S PIRI PIRI       1   \n",
       "166  Canvas Lifestyle Retirement Living                   AMCAP       0   \n",
       "291                           SPRAY DRY               SUPER DRY       0   \n",
       "\n",
       "                                TM_A                   TM_B  partial  \\\n",
       "169                        harrysbar        harrygordonsbar       67   \n",
       "202                          dunston          willowtreegin       29   \n",
       "109                          elysium              jobzgenie       29   \n",
       "185                          bluecom              dankvapes       14   \n",
       "17                  investedtogether                 picnic        0   \n",
       "339                          lamerci                  merci      100   \n",
       "167                             loco                   loka       50   \n",
       "49                          progains               hamilton       38   \n",
       "294   intercontecinfiniteconnections  interconnectsolutions       71   \n",
       "34                        camelactiv              camelcapa       67   \n",
       "157                       silentpool          oliversweeney       30   \n",
       "254                         transics                trinsic       86   \n",
       "37                                 t                     ta      100   \n",
       "9                              alair                holaira       80   \n",
       "334                       dorchester              rochester       89   \n",
       "67                         gideonsuk                 gideon      100   \n",
       "28                 uglykidclothinguk                   kink       50   \n",
       "240                             pepe          pepespiripiri      100   \n",
       "166  canvaslifestyleretirementliving                  amcap       40   \n",
       "291                         spraydry               superdry       75   \n",
       "\n",
       "     tkn_sort  tkn_set  levenshtein  metaphone  ...       mra    editex  \\\n",
       "169        75       75     0.171429          0  ...  1.000000  0.633333   \n",
       "202        20       20     0.314286          0  ...  0.000000  0.384615   \n",
       "109        25       25     0.257143          0  ...  0.000000  0.222222   \n",
       "185        12       12     0.257143          0  ...  0.000000  0.111111   \n",
       "17         18       18     0.457143          0  ...  0.000000  0.156250   \n",
       "339        83       83     0.057143          0  ...  0.833333  0.714286   \n",
       "167        50       50     0.057143          1  ...  0.833333  0.750000   \n",
       "49         38       38     0.228571          0  ...  0.000000  0.187500   \n",
       "294        67       67     0.371429          0  ...  1.000000  0.616667   \n",
       "34         63       63     0.114286          0  ...  0.666667  0.600000   \n",
       "157        26       26     0.314286          0  ...  0.000000  0.307692   \n",
       "254        80       80     0.057143          0  ...  0.833333  0.812500   \n",
       "37         67       67     0.028571          1  ...  1.000000  0.500000   \n",
       "9          67       67     0.085714          0  ...  0.833333  0.642857   \n",
       "334        84       84     0.057143          0  ...  0.500000  0.800000   \n",
       "67         80       80     0.085714          0  ...  0.666667  0.666667   \n",
       "28         38       38     0.371429          0  ...  0.000000  0.264706   \n",
       "240        47       47     0.257143          0  ...  0.000000  0.307692   \n",
       "166        11       11     0.828571          0  ...  0.000000  0.096774   \n",
       "291        75       75     0.114286          1  ...  1.000000  0.562500   \n",
       "\n",
       "         saps  flexmetric      jaro  higueramico     sift4     eudex  \\\n",
       "169  0.222222    0.650000  0.792593     0.510739  0.400000  0.978922   \n",
       "202  0.000000    0.388462  0.313187     0.028108  0.076923  0.734804   \n",
       "109  0.000000    0.211111  0.417989     0.063889  0.111111  0.552941   \n",
       "185  0.000000    0.272222  0.000000     0.018434  0.111111  0.796569   \n",
       "17   0.000000    0.362500  0.486111     0.000000  0.125000  0.488235   \n",
       "339  0.500000    0.714286  0.904762     0.690476  0.714286  0.803922   \n",
       "167  0.285714    0.750000  0.666667     0.500000  0.500000  0.998039   \n",
       "49   0.000000    0.100000  0.583333     0.145960  0.375000  0.655882   \n",
       "294  0.311111    0.671667  0.763492     0.517038  0.433333  1.000000   \n",
       "34   0.233333    0.680000  0.778307     0.600000  0.600000  0.992647   \n",
       "157  0.000000    0.357692  0.399145     0.133450  0.153846  0.499020   \n",
       "254  0.607143    0.762500  0.813492     0.750000  0.750000  0.817647   \n",
       "37   0.714286    0.500000  0.833333     0.500000  0.500000  1.000000   \n",
       "9    0.045455    0.671429  0.790476     0.547619  0.571429  0.795588   \n",
       "334  0.366667    0.805000  0.929630     0.800000  0.800000  0.588235   \n",
       "67   0.458333    0.677778  0.888889     0.621032  0.666667  0.918627   \n",
       "28   0.000000    0.388235  0.539216     0.000000  0.117647  0.604902   \n",
       "240  0.000000    0.323077  0.769231     0.000000  0.307692  0.935784   \n",
       "166  0.000000    0.248387  0.454480     0.000000  0.064516  0.808824   \n",
       "291  0.392857    0.575000  0.777778     0.577778  0.750000  0.933333   \n",
       "\n",
       "        aline  phoneticeditdistance  \n",
       "169  0.476471              0.600000  \n",
       "202  0.263492              0.482630  \n",
       "109  0.255319              0.600358  \n",
       "185  0.225490              0.623656  \n",
       "17   0.236364              0.339718  \n",
       "339  0.729730              0.714286  \n",
       "167  0.750000              0.943548  \n",
       "49   0.297727              0.618952  \n",
       "294  0.550617              0.682796  \n",
       "34   0.672222              0.780645  \n",
       "157  0.322034              0.681141  \n",
       "254  0.822917              0.858871  \n",
       "37   0.700000              0.500000  \n",
       "9    0.636364              0.686636  \n",
       "334  0.793103              0.896774  \n",
       "67   0.638298              0.666667  \n",
       "28   0.200000              0.235294  \n",
       "240  0.298507              0.307692  \n",
       "166  0.105325              0.148283  \n",
       "291  0.681818              0.850806  \n",
       "\n",
       "[20 rows x 30 columns]"
      ]
     },
     "execution_count": 18,
     "metadata": {},
     "output_type": "execute_result"
    }
   ],
   "source": [
    "from tqdm.autonotebook import tqdm\n",
    "tqdm.pandas()\n",
    "\n",
    "df = featurize(class_balanced)\n",
    "df.sample(20)"
   ]
  },
  {
   "cell_type": "markdown",
   "metadata": {},
   "source": [
    "#### Export clean data to csv"
   ]
  },
  {
   "cell_type": "code",
   "execution_count": 19,
   "metadata": {},
   "outputs": [],
   "source": [
    "# df.to_csv('Data.nosync/TM_features.csv', index=False)  "
   ]
  },
  {
   "cell_type": "code",
   "execution_count": 20,
   "metadata": {},
   "outputs": [],
   "source": [
    "y = df.target\n",
    "X = df.drop(columns = 'target')"
   ]
  },
  {
   "cell_type": "code",
   "execution_count": 21,
   "metadata": {},
   "outputs": [],
   "source": [
    "from sklearn.model_selection import train_test_split"
   ]
  },
  {
   "cell_type": "code",
   "execution_count": 22,
   "metadata": {},
   "outputs": [],
   "source": [
    "X_train, X_test, y_train, y_test = train_test_split(X, y, test_size=0.20, random_state=42)"
   ]
  },
  {
   "cell_type": "code",
   "execution_count": 23,
   "metadata": {},
   "outputs": [],
   "source": [
    "#X_train.drop(['a', 'b', 'TM_A', 'TM_B'],1)"
   ]
  },
  {
   "cell_type": "markdown",
   "metadata": {},
   "source": [
    "## TPOT AutoML pipeline"
   ]
  },
  {
   "cell_type": "code",
   "execution_count": null,
   "metadata": {},
   "outputs": [],
   "source": [
    "from tpot import TPOTClassifier"
   ]
  },
  {
   "cell_type": "code",
   "execution_count": null,
   "metadata": {},
   "outputs": [],
   "source": [
    "# pipeline_optimizer = TPOTClassifier(\n",
    "#         scoring = 'f1', \n",
    "#         generations=100,\n",
    "#         verbosity=2,\n",
    "#         n_jobs=-1   # Utilizes all available CPU cores\n",
    "#         ) \n",
    "# pipeline_optimizer.fit(X_train.drop(['a', 'b', 'TM_A', 'TM_B'],1), y_train)"
   ]
  },
  {
   "cell_type": "code",
   "execution_count": null,
   "metadata": {},
   "outputs": [],
   "source": [
    "# print(pipeline_optimizer.score(X_test.drop(['a', 'b', 'TM_A', 'TM_B'], 1), y_test))"
   ]
  },
  {
   "cell_type": "markdown",
   "metadata": {},
   "source": [
    "### Export TPOT pipeline"
   ]
  },
  {
   "cell_type": "code",
   "execution_count": null,
   "metadata": {},
   "outputs": [],
   "source": [
    "# pipeline_optimizer.export('tpot_exported_calssifier_pipeline.py')"
   ]
  },
  {
   "cell_type": "markdown",
   "metadata": {},
   "source": [
    "### Load TPOT pipeline"
   ]
  },
  {
   "cell_type": "code",
   "execution_count": 24,
   "metadata": {},
   "outputs": [
    {
     "data": {
      "text/html": [
       "<div>\n",
       "<style scoped>\n",
       "    .dataframe tbody tr th:only-of-type {\n",
       "        vertical-align: middle;\n",
       "    }\n",
       "\n",
       "    .dataframe tbody tr th {\n",
       "        vertical-align: top;\n",
       "    }\n",
       "\n",
       "    .dataframe thead th {\n",
       "        text-align: right;\n",
       "    }\n",
       "</style>\n",
       "<table border=\"1\" class=\"dataframe\">\n",
       "  <thead>\n",
       "    <tr style=\"text-align: right;\">\n",
       "      <th></th>\n",
       "      <th>target</th>\n",
       "      <th>partial</th>\n",
       "      <th>tkn_sort</th>\n",
       "      <th>tkn_set</th>\n",
       "      <th>levenshtein</th>\n",
       "      <th>metaphone</th>\n",
       "      <th>nysiis</th>\n",
       "      <th>mtch_rtng_cdx</th>\n",
       "      <th>pshp_soundex_first</th>\n",
       "      <th>iterativesubstring</th>\n",
       "      <th>...</th>\n",
       "      <th>mra</th>\n",
       "      <th>editex</th>\n",
       "      <th>saps</th>\n",
       "      <th>flexmetric</th>\n",
       "      <th>jaro</th>\n",
       "      <th>higueramico</th>\n",
       "      <th>sift4</th>\n",
       "      <th>eudex</th>\n",
       "      <th>aline</th>\n",
       "      <th>phoneticeditdistance</th>\n",
       "    </tr>\n",
       "  </thead>\n",
       "  <tbody>\n",
       "    <tr>\n",
       "      <th>0</th>\n",
       "      <td>1</td>\n",
       "      <td>57</td>\n",
       "      <td>50</td>\n",
       "      <td>50</td>\n",
       "      <td>0.142857</td>\n",
       "      <td>0</td>\n",
       "      <td>0</td>\n",
       "      <td>0</td>\n",
       "      <td>0</td>\n",
       "      <td>0.485480</td>\n",
       "      <td>...</td>\n",
       "      <td>0.666667</td>\n",
       "      <td>0.555556</td>\n",
       "      <td>0.137931</td>\n",
       "      <td>0.566667</td>\n",
       "      <td>0.671958</td>\n",
       "      <td>0.430556</td>\n",
       "      <td>0.444444</td>\n",
       "      <td>0.654902</td>\n",
       "      <td>0.602128</td>\n",
       "      <td>0.727599</td>\n",
       "    </tr>\n",
       "    <tr>\n",
       "      <th>1</th>\n",
       "      <td>1</td>\n",
       "      <td>38</td>\n",
       "      <td>38</td>\n",
       "      <td>38</td>\n",
       "      <td>0.142857</td>\n",
       "      <td>0</td>\n",
       "      <td>0</td>\n",
       "      <td>0</td>\n",
       "      <td>0</td>\n",
       "      <td>0.050000</td>\n",
       "      <td>...</td>\n",
       "      <td>0.500000</td>\n",
       "      <td>0.500000</td>\n",
       "      <td>0.304348</td>\n",
       "      <td>0.400000</td>\n",
       "      <td>0.583333</td>\n",
       "      <td>0.375000</td>\n",
       "      <td>0.375000</td>\n",
       "      <td>0.916667</td>\n",
       "      <td>0.545455</td>\n",
       "      <td>0.897177</td>\n",
       "    </tr>\n",
       "    <tr>\n",
       "      <th>2</th>\n",
       "      <td>1</td>\n",
       "      <td>89</td>\n",
       "      <td>73</td>\n",
       "      <td>73</td>\n",
       "      <td>0.085714</td>\n",
       "      <td>0</td>\n",
       "      <td>0</td>\n",
       "      <td>0</td>\n",
       "      <td>0</td>\n",
       "      <td>0.821263</td>\n",
       "      <td>...</td>\n",
       "      <td>0.833333</td>\n",
       "      <td>0.500000</td>\n",
       "      <td>0.428571</td>\n",
       "      <td>0.600000</td>\n",
       "      <td>0.822222</td>\n",
       "      <td>0.547619</td>\n",
       "      <td>0.666667</td>\n",
       "      <td>0.786275</td>\n",
       "      <td>0.705882</td>\n",
       "      <td>0.634409</td>\n",
       "    </tr>\n",
       "    <tr>\n",
       "      <th>3</th>\n",
       "      <td>1</td>\n",
       "      <td>83</td>\n",
       "      <td>83</td>\n",
       "      <td>83</td>\n",
       "      <td>0.085714</td>\n",
       "      <td>0</td>\n",
       "      <td>0</td>\n",
       "      <td>0</td>\n",
       "      <td>1</td>\n",
       "      <td>0.884677</td>\n",
       "      <td>...</td>\n",
       "      <td>0.500000</td>\n",
       "      <td>0.833333</td>\n",
       "      <td>0.666667</td>\n",
       "      <td>0.833333</td>\n",
       "      <td>0.888889</td>\n",
       "      <td>0.769231</td>\n",
       "      <td>0.833333</td>\n",
       "      <td>1.000000</td>\n",
       "      <td>0.873529</td>\n",
       "      <td>0.913978</td>\n",
       "    </tr>\n",
       "    <tr>\n",
       "      <th>4</th>\n",
       "      <td>1</td>\n",
       "      <td>74</td>\n",
       "      <td>65</td>\n",
       "      <td>65</td>\n",
       "      <td>0.257143</td>\n",
       "      <td>0</td>\n",
       "      <td>0</td>\n",
       "      <td>0</td>\n",
       "      <td>0</td>\n",
       "      <td>0.951613</td>\n",
       "      <td>...</td>\n",
       "      <td>0.000000</td>\n",
       "      <td>0.588235</td>\n",
       "      <td>0.319149</td>\n",
       "      <td>0.538235</td>\n",
       "      <td>0.687675</td>\n",
       "      <td>0.490372</td>\n",
       "      <td>0.588235</td>\n",
       "      <td>0.463725</td>\n",
       "      <td>0.589655</td>\n",
       "      <td>0.646110</td>\n",
       "    </tr>\n",
       "    <tr>\n",
       "      <th>...</th>\n",
       "      <td>...</td>\n",
       "      <td>...</td>\n",
       "      <td>...</td>\n",
       "      <td>...</td>\n",
       "      <td>...</td>\n",
       "      <td>...</td>\n",
       "      <td>...</td>\n",
       "      <td>...</td>\n",
       "      <td>...</td>\n",
       "      <td>...</td>\n",
       "      <td>...</td>\n",
       "      <td>...</td>\n",
       "      <td>...</td>\n",
       "      <td>...</td>\n",
       "      <td>...</td>\n",
       "      <td>...</td>\n",
       "      <td>...</td>\n",
       "      <td>...</td>\n",
       "      <td>...</td>\n",
       "      <td>...</td>\n",
       "      <td>...</td>\n",
       "    </tr>\n",
       "    <tr>\n",
       "      <th>352</th>\n",
       "      <td>0</td>\n",
       "      <td>83</td>\n",
       "      <td>83</td>\n",
       "      <td>83</td>\n",
       "      <td>0.028571</td>\n",
       "      <td>0</td>\n",
       "      <td>0</td>\n",
       "      <td>0</td>\n",
       "      <td>0</td>\n",
       "      <td>0.897436</td>\n",
       "      <td>...</td>\n",
       "      <td>0.833333</td>\n",
       "      <td>0.833333</td>\n",
       "      <td>0.500000</td>\n",
       "      <td>0.833333</td>\n",
       "      <td>0.822222</td>\n",
       "      <td>0.833333</td>\n",
       "      <td>0.833333</td>\n",
       "      <td>0.866667</td>\n",
       "      <td>0.823529</td>\n",
       "      <td>0.943548</td>\n",
       "    </tr>\n",
       "    <tr>\n",
       "      <th>353</th>\n",
       "      <td>0</td>\n",
       "      <td>75</td>\n",
       "      <td>75</td>\n",
       "      <td>75</td>\n",
       "      <td>0.057143</td>\n",
       "      <td>0</td>\n",
       "      <td>0</td>\n",
       "      <td>0</td>\n",
       "      <td>1</td>\n",
       "      <td>0.804167</td>\n",
       "      <td>...</td>\n",
       "      <td>0.833333</td>\n",
       "      <td>0.812500</td>\n",
       "      <td>0.565217</td>\n",
       "      <td>0.787500</td>\n",
       "      <td>0.833333</td>\n",
       "      <td>0.750000</td>\n",
       "      <td>0.750000</td>\n",
       "      <td>0.997549</td>\n",
       "      <td>0.937500</td>\n",
       "      <td>0.973790</td>\n",
       "    </tr>\n",
       "    <tr>\n",
       "      <th>354</th>\n",
       "      <td>0</td>\n",
       "      <td>80</td>\n",
       "      <td>71</td>\n",
       "      <td>71</td>\n",
       "      <td>0.114286</td>\n",
       "      <td>0</td>\n",
       "      <td>0</td>\n",
       "      <td>0</td>\n",
       "      <td>0</td>\n",
       "      <td>0.800858</td>\n",
       "      <td>...</td>\n",
       "      <td>0.666667</td>\n",
       "      <td>0.666667</td>\n",
       "      <td>0.310345</td>\n",
       "      <td>0.666667</td>\n",
       "      <td>0.741402</td>\n",
       "      <td>0.588889</td>\n",
       "      <td>0.666667</td>\n",
       "      <td>0.784804</td>\n",
       "      <td>0.705882</td>\n",
       "      <td>0.655914</td>\n",
       "    </tr>\n",
       "    <tr>\n",
       "      <th>355</th>\n",
       "      <td>0</td>\n",
       "      <td>67</td>\n",
       "      <td>77</td>\n",
       "      <td>77</td>\n",
       "      <td>0.142857</td>\n",
       "      <td>0</td>\n",
       "      <td>0</td>\n",
       "      <td>0</td>\n",
       "      <td>1</td>\n",
       "      <td>0.852383</td>\n",
       "      <td>...</td>\n",
       "      <td>0.833333</td>\n",
       "      <td>0.678571</td>\n",
       "      <td>0.469388</td>\n",
       "      <td>0.700000</td>\n",
       "      <td>0.815873</td>\n",
       "      <td>0.637363</td>\n",
       "      <td>0.714286</td>\n",
       "      <td>0.995588</td>\n",
       "      <td>0.713415</td>\n",
       "      <td>0.808756</td>\n",
       "    </tr>\n",
       "    <tr>\n",
       "      <th>356</th>\n",
       "      <td>0</td>\n",
       "      <td>86</td>\n",
       "      <td>67</td>\n",
       "      <td>67</td>\n",
       "      <td>0.142857</td>\n",
       "      <td>0</td>\n",
       "      <td>0</td>\n",
       "      <td>0</td>\n",
       "      <td>0</td>\n",
       "      <td>0.793397</td>\n",
       "      <td>...</td>\n",
       "      <td>0.500000</td>\n",
       "      <td>0.636364</td>\n",
       "      <td>0.166667</td>\n",
       "      <td>0.663636</td>\n",
       "      <td>0.689755</td>\n",
       "      <td>0.482071</td>\n",
       "      <td>0.363636</td>\n",
       "      <td>0.775490</td>\n",
       "      <td>0.491803</td>\n",
       "      <td>0.633431</td>\n",
       "    </tr>\n",
       "  </tbody>\n",
       "</table>\n",
       "<p>657 rows × 26 columns</p>\n",
       "</div>"
      ],
      "text/plain": [
       "     target  partial  tkn_sort  tkn_set  levenshtein  metaphone  nysiis  \\\n",
       "0         1       57        50       50     0.142857          0       0   \n",
       "1         1       38        38       38     0.142857          0       0   \n",
       "2         1       89        73       73     0.085714          0       0   \n",
       "3         1       83        83       83     0.085714          0       0   \n",
       "4         1       74        65       65     0.257143          0       0   \n",
       "..      ...      ...       ...      ...          ...        ...     ...   \n",
       "352       0       83        83       83     0.028571          0       0   \n",
       "353       0       75        75       75     0.057143          0       0   \n",
       "354       0       80        71       71     0.114286          0       0   \n",
       "355       0       67        77       77     0.142857          0       0   \n",
       "356       0       86        67       67     0.142857          0       0   \n",
       "\n",
       "     mtch_rtng_cdx  pshp_soundex_first  iterativesubstring  ...       mra  \\\n",
       "0                0                   0            0.485480  ...  0.666667   \n",
       "1                0                   0            0.050000  ...  0.500000   \n",
       "2                0                   0            0.821263  ...  0.833333   \n",
       "3                0                   1            0.884677  ...  0.500000   \n",
       "4                0                   0            0.951613  ...  0.000000   \n",
       "..             ...                 ...                 ...  ...       ...   \n",
       "352              0                   0            0.897436  ...  0.833333   \n",
       "353              0                   1            0.804167  ...  0.833333   \n",
       "354              0                   0            0.800858  ...  0.666667   \n",
       "355              0                   1            0.852383  ...  0.833333   \n",
       "356              0                   0            0.793397  ...  0.500000   \n",
       "\n",
       "       editex      saps  flexmetric      jaro  higueramico     sift4  \\\n",
       "0    0.555556  0.137931    0.566667  0.671958     0.430556  0.444444   \n",
       "1    0.500000  0.304348    0.400000  0.583333     0.375000  0.375000   \n",
       "2    0.500000  0.428571    0.600000  0.822222     0.547619  0.666667   \n",
       "3    0.833333  0.666667    0.833333  0.888889     0.769231  0.833333   \n",
       "4    0.588235  0.319149    0.538235  0.687675     0.490372  0.588235   \n",
       "..        ...       ...         ...       ...          ...       ...   \n",
       "352  0.833333  0.500000    0.833333  0.822222     0.833333  0.833333   \n",
       "353  0.812500  0.565217    0.787500  0.833333     0.750000  0.750000   \n",
       "354  0.666667  0.310345    0.666667  0.741402     0.588889  0.666667   \n",
       "355  0.678571  0.469388    0.700000  0.815873     0.637363  0.714286   \n",
       "356  0.636364  0.166667    0.663636  0.689755     0.482071  0.363636   \n",
       "\n",
       "        eudex     aline  phoneticeditdistance  \n",
       "0    0.654902  0.602128              0.727599  \n",
       "1    0.916667  0.545455              0.897177  \n",
       "2    0.786275  0.705882              0.634409  \n",
       "3    1.000000  0.873529              0.913978  \n",
       "4    0.463725  0.589655              0.646110  \n",
       "..        ...       ...                   ...  \n",
       "352  0.866667  0.823529              0.943548  \n",
       "353  0.997549  0.937500              0.973790  \n",
       "354  0.784804  0.705882              0.655914  \n",
       "355  0.995588  0.713415              0.808756  \n",
       "356  0.775490  0.491803              0.633431  \n",
       "\n",
       "[657 rows x 26 columns]"
      ]
     },
     "execution_count": 24,
     "metadata": {},
     "output_type": "execute_result"
    }
   ],
   "source": [
    "df_TPOT = df.drop(columns = ['a','b','TM_A','TM_B'])\n",
    "df_TPOT"
   ]
  },
  {
   "cell_type": "code",
   "execution_count": 25,
   "metadata": {},
   "outputs": [
    {
     "data": {
      "text/plain": [
       "array([1, 0, 0, 0, 1, 1, 1, 0, 1, 1, 1, 0, 0, 1, 1, 1, 0, 1, 0, 1, 0, 1,\n",
       "       0, 1, 1, 0, 0, 1, 0, 1, 0, 1, 0, 0, 1, 1, 0, 1, 0, 1, 1, 1, 0, 1,\n",
       "       0, 1, 1, 0, 0, 0, 1, 1, 1, 1, 0, 0, 0, 0, 0, 1, 0, 0, 0, 1, 1, 0,\n",
       "       0, 0, 1, 1, 0, 1, 1, 1, 0, 0, 1, 1, 1, 1, 0, 1, 1, 1, 0, 1, 0, 1,\n",
       "       1, 1, 1, 0, 1, 0, 1, 1, 0, 1, 1, 1, 1, 1, 0, 1, 0, 0, 1, 0, 0, 1,\n",
       "       1, 1, 1, 1, 0, 0, 0, 1, 0, 0, 0, 0, 1, 1, 1, 0, 1, 0, 1, 0, 0, 1,\n",
       "       1, 0, 0, 0, 0, 0, 1, 0, 0, 0, 0, 1, 1, 1, 0, 0, 0, 1, 1, 1, 1, 1,\n",
       "       1, 1, 0, 0, 1, 1, 0, 1, 1, 0, 0])"
      ]
     },
     "execution_count": 25,
     "metadata": {},
     "output_type": "execute_result"
    }
   ],
   "source": [
    "import numpy as np\n",
    "import pandas as pd\n",
    "from sklearn.ensemble import GradientBoostingClassifier\n",
    "from sklearn.model_selection import train_test_split\n",
    "from sklearn.pipeline import make_pipeline, make_union\n",
    "from tpot.builtins import StackingEstimator\n",
    "from sklearn.preprocessing import FunctionTransformer\n",
    "from copy import copy\n",
    "\n",
    "# NOTE: Make sure that the outcome column is labeled 'target' in the data file\n",
    "tpot_data = df_TPOT\n",
    "features = tpot_data.drop('target', axis=1)\n",
    "training_features, testing_features, training_target, testing_target = \\\n",
    "            train_test_split(features, tpot_data['target'], random_state=None)\n",
    "\n",
    "# Average CV score on the training set was: 0.8945711361541637\n",
    "exported_pipeline = make_pipeline(\n",
    "    make_union(\n",
    "        FunctionTransformer(copy),\n",
    "        FunctionTransformer(copy)\n",
    "    ),\n",
    "    GradientBoostingClassifier(learning_rate=0.01, max_depth=3, max_features=0.5, min_samples_leaf=10, min_samples_split=3, n_estimators=100, subsample=0.9500000000000001)\n",
    ")\n",
    "\n",
    "exported_pipeline.fit(training_features, training_target)\n",
    "results = exported_pipeline.predict(testing_features)\n",
    "\n",
    "results"
   ]
  },
  {
   "cell_type": "code",
   "execution_count": 26,
   "metadata": {},
   "outputs": [],
   "source": [
    "def base_model_1(X_train, y_train, X_test, export = False) :\n",
    "    exported_pipeline = make_pipeline(\n",
    "    GradientBoostingClassifier(\n",
    "        learning_rate=0.01, \n",
    "        max_depth=3, max_features=0.5,\n",
    "        min_samples_leaf=10, min_samples_split=3, \n",
    "        n_estimators=100, subsample=0.9500000000000001)\n",
    "    )\n",
    "\n",
    "    exported_pipeline.fit(X_train, y_train)\n",
    "    if export==True:\n",
    "        return exported_pipeline\n",
    "    else:\n",
    "        y_pred = exported_pipeline.predict_proba(X_test)\n",
    "        return [p[1] for p in y_pred]"
   ]
  },
  {
   "cell_type": "code",
   "execution_count": 27,
   "metadata": {},
   "outputs": [
    {
     "data": {
      "text/plain": [
       "[0.35112025409619513,\n",
       " 0.6702700201918589,\n",
       " 0.16323738118861,\n",
       " 0.6330568226983103,\n",
       " 0.16323738118861,\n",
       " 0.626720196506135,\n",
       " 0.7053552309896098,\n",
       " 0.16323738118861,\n",
       " 0.6874011722938973,\n",
       " 0.7025578206353692,\n",
       " 0.2557027149778569,\n",
       " 0.6737335658025978,\n",
       " 0.671052669720941,\n",
       " 0.16323738118861,\n",
       " 0.16659745609034987,\n",
       " 0.16323738118861,\n",
       " 0.16323738118861,\n",
       " 0.18526761802516206,\n",
       " 0.6995389474924879,\n",
       " 0.6679158647370822,\n",
       " 0.5888994626719004,\n",
       " 0.6593520385548661,\n",
       " 0.7535091640685181,\n",
       " 0.16304445525505942,\n",
       " 0.16323738118861,\n",
       " 0.2549397396300578,\n",
       " 0.6651310331291863,\n",
       " 0.19509117516559993,\n",
       " 0.16323738118861,\n",
       " 0.16390736867760353,\n",
       " 0.7447419348282912,\n",
       " 0.7222551924488118,\n",
       " 0.16323738118861,\n",
       " 0.5622943080171677,\n",
       " 0.7391024446409264,\n",
       " 0.5710079684685267,\n",
       " 0.6234979616189069,\n",
       " 0.5900421681347799,\n",
       " 0.7447419348282912,\n",
       " 0.6591115425354162,\n",
       " 0.33992711741647585,\n",
       " 0.16591865470841616,\n",
       " 0.7430660226586402,\n",
       " 0.16591865470841616,\n",
       " 0.70214526981173,\n",
       " 0.16323738118861,\n",
       " 0.6866767032568911,\n",
       " 0.7430660226586402,\n",
       " 0.6577363923506447,\n",
       " 0.7496576903824551,\n",
       " 0.31335224197618466,\n",
       " 0.6890812692585625,\n",
       " 0.7467665536207613,\n",
       " 0.16323738118861,\n",
       " 0.6984120859122169,\n",
       " 0.668359768196652,\n",
       " 0.16323738118861,\n",
       " 0.6708088163973545,\n",
       " 0.6655902580341899,\n",
       " 0.16591865470841616,\n",
       " 0.16323738118861,\n",
       " 0.16323738118861,\n",
       " 0.6672686910515206,\n",
       " 0.7158080836212587,\n",
       " 0.6271467845675407,\n",
       " 0.6186190033049483,\n",
       " 0.6687790591198652,\n",
       " 0.6993899758981252,\n",
       " 0.7027543984917878,\n",
       " 0.16323738118861,\n",
       " 0.2636327356519036,\n",
       " 0.6799883845355562,\n",
       " 0.5929512801169418,\n",
       " 0.16304445525505942,\n",
       " 0.16323738118861,\n",
       " 0.16323738118861,\n",
       " 0.17387686211223083,\n",
       " 0.663650955240092,\n",
       " 0.6805733405873156,\n",
       " 0.6982595567689206,\n",
       " 0.6659003069241644,\n",
       " 0.17799940954873636,\n",
       " 0.5726697167786771,\n",
       " 0.16323738118861,\n",
       " 0.16323738118861,\n",
       " 0.664031724093067,\n",
       " 0.16323738118861,\n",
       " 0.7254693245569978,\n",
       " 0.6565156018839104,\n",
       " 0.3327771780483858,\n",
       " 0.6576600702482841,\n",
       " 0.6668916853470854,\n",
       " 0.19752328782820255,\n",
       " 0.693915227987695,\n",
       " 0.16323738118861,\n",
       " 0.6975886283011216,\n",
       " 0.5662044327455833,\n",
       " 0.6807820606906285,\n",
       " 0.6538124340419055,\n",
       " 0.57474599971677,\n",
       " 0.18561999913676192,\n",
       " 0.691257988186979,\n",
       " 0.6580759433905009,\n",
       " 0.6751422816475049,\n",
       " 0.7535091640685181,\n",
       " 0.698132047476804,\n",
       " 0.6974791981540862,\n",
       " 0.7013949782301033,\n",
       " 0.16323738118861,\n",
       " 0.16994673934147345,\n",
       " 0.16323738118861,\n",
       " 0.16323738118861,\n",
       " 0.16323738118861,\n",
       " 0.6952555278320091,\n",
       " 0.7137050585355463,\n",
       " 0.5736318436542044,\n",
       " 0.6890812692585625,\n",
       " 0.16323738118861,\n",
       " 0.6982595567689206,\n",
       " 0.7488865215772186,\n",
       " 0.6974611582552831,\n",
       " 0.16385050843843915,\n",
       " 0.7443017724682829,\n",
       " 0.18323890100534534,\n",
       " 0.16323738118861,\n",
       " 0.7157416308325899,\n",
       " 0.17482694929110465,\n",
       " 0.659856302145893,\n",
       " 0.16222399507692659,\n",
       " 0.16323738118861,\n",
       " 0.16304445525505942,\n",
       " 0.16431861968790168]"
      ]
     },
     "execution_count": 27,
     "metadata": {},
     "output_type": "execute_result"
    }
   ],
   "source": [
    "base_model_1(X_train.drop(['a', 'b', 'TM_A', 'TM_B'],1), \n",
    "             y_train, X_test.drop(['a', 'b', 'TM_A', 'TM_B'], 1))"
   ]
  },
  {
   "cell_type": "markdown",
   "metadata": {},
   "source": [
    "## K-fold cross validation"
   ]
  },
  {
   "cell_type": "code",
   "execution_count": 28,
   "metadata": {},
   "outputs": [],
   "source": [
    "from sklearn.model_selection import StratifiedKFold"
   ]
  },
  {
   "cell_type": "code",
   "execution_count": 29,
   "metadata": {},
   "outputs": [
    {
     "name": "stdout",
     "output_type": "stream",
     "text": [
      "completed fold 1 of 10\n",
      "completed fold 2 of 10\n",
      "completed fold 3 of 10\n",
      "completed fold 4 of 10\n",
      "completed fold 5 of 10\n",
      "completed fold 6 of 10\n",
      "completed fold 7 of 10\n",
      "completed fold 8 of 10\n",
      "completed fold 9 of 10\n",
      "completed fold 10 of 10\n"
     ]
    }
   ],
   "source": [
    "pd.options.mode.chained_assignment = None\n",
    "\n",
    "# Stratified K-Folds cross-validator\n",
    "meta_training = pd.DataFrame()\n",
    "\n",
    "stratified_kfold = StratifiedKFold(n_splits=10, shuffle=True, random_state=1)\n",
    "\n",
    "fold = 1\n",
    "for train_index, test_index in stratified_kfold.split(X, y):\n",
    "    X_train, X_test = X.iloc[train_index], X.iloc[test_index]\n",
    "    y_train, y_test = y.iloc[train_index], y.iloc[test_index]\n",
    "    \n",
    "    oof_pred = X_test[['TM_A', 'TM_B']]\n",
    "    \n",
    "    oof_pred['predict_proba'] = base_model_1(X_train.drop(['a', 'b', 'TM_A', 'TM_B'], 1),\n",
    "                                      y_train,\n",
    "                                      X_test.drop(['a', 'b', 'TM_A', 'TM_B'], 1))\n",
    "\n",
    "#     oof_pred['siamese_sim'] = base_model_2(X_train[['name_a', 'name_b']],\n",
    "#                                       y_train,\n",
    "#                                       X_test[['name_a', 'name_b']])\n",
    "    \n",
    "    oof_pred['target'] = y_test.tolist()\n",
    "    \n",
    "    print('completed fold {} of 10'.format(fold))\n",
    "    fold += 1\n",
    "\n",
    "    meta_training = meta_training.append(oof_pred)"
   ]
  },
  {
   "cell_type": "code",
   "execution_count": 30,
   "metadata": {},
   "outputs": [
    {
     "data": {
      "text/html": [
       "<div>\n",
       "<style scoped>\n",
       "    .dataframe tbody tr th:only-of-type {\n",
       "        vertical-align: middle;\n",
       "    }\n",
       "\n",
       "    .dataframe tbody tr th {\n",
       "        vertical-align: top;\n",
       "    }\n",
       "\n",
       "    .dataframe thead th {\n",
       "        text-align: right;\n",
       "    }\n",
       "</style>\n",
       "<table border=\"1\" class=\"dataframe\">\n",
       "  <thead>\n",
       "    <tr style=\"text-align: right;\">\n",
       "      <th></th>\n",
       "      <th>TM_A</th>\n",
       "      <th>TM_B</th>\n",
       "      <th>predict_proba</th>\n",
       "      <th>target</th>\n",
       "    </tr>\n",
       "  </thead>\n",
       "  <tbody>\n",
       "    <tr>\n",
       "      <th>57</th>\n",
       "      <td>upgooats</td>\n",
       "      <td>hardcore</td>\n",
       "      <td>0.169340</td>\n",
       "      <td>0</td>\n",
       "    </tr>\n",
       "    <tr>\n",
       "      <th>128</th>\n",
       "      <td>dialux</td>\n",
       "      <td>dial</td>\n",
       "      <td>0.677585</td>\n",
       "      <td>1</td>\n",
       "    </tr>\n",
       "    <tr>\n",
       "      <th>235</th>\n",
       "      <td>imperialreserva</td>\n",
       "      <td>imperial</td>\n",
       "      <td>0.732702</td>\n",
       "      <td>1</td>\n",
       "    </tr>\n",
       "    <tr>\n",
       "      <th>71</th>\n",
       "      <td>edenpure</td>\n",
       "      <td>edenaesthetics</td>\n",
       "      <td>0.645059</td>\n",
       "      <td>1</td>\n",
       "    </tr>\n",
       "    <tr>\n",
       "      <th>293</th>\n",
       "      <td>eezeevet</td>\n",
       "      <td>easipetcareltd</td>\n",
       "      <td>0.240520</td>\n",
       "      <td>0</td>\n",
       "    </tr>\n",
       "    <tr>\n",
       "      <th>69</th>\n",
       "      <td>naturefarmfood</td>\n",
       "      <td>canvaslifestyle</td>\n",
       "      <td>0.169525</td>\n",
       "      <td>0</td>\n",
       "    </tr>\n",
       "    <tr>\n",
       "      <th>34</th>\n",
       "      <td>camelactiv</td>\n",
       "      <td>camelcapa</td>\n",
       "      <td>0.701682</td>\n",
       "      <td>1</td>\n",
       "    </tr>\n",
       "    <tr>\n",
       "      <th>46</th>\n",
       "      <td>swisse</td>\n",
       "      <td>swisslifeforever</td>\n",
       "      <td>0.681933</td>\n",
       "      <td>1</td>\n",
       "    </tr>\n",
       "    <tr>\n",
       "      <th>141</th>\n",
       "      <td>bodrum</td>\n",
       "      <td>didim</td>\n",
       "      <td>0.201698</td>\n",
       "      <td>1</td>\n",
       "    </tr>\n",
       "    <tr>\n",
       "      <th>95</th>\n",
       "      <td>naturefarmfood</td>\n",
       "      <td>farmnature</td>\n",
       "      <td>0.637390</td>\n",
       "      <td>1</td>\n",
       "    </tr>\n",
       "    <tr>\n",
       "      <th>189</th>\n",
       "      <td>flossbone</td>\n",
       "      <td>tommy</td>\n",
       "      <td>0.169340</td>\n",
       "      <td>0</td>\n",
       "    </tr>\n",
       "    <tr>\n",
       "      <th>285</th>\n",
       "      <td>pepespiripiri</td>\n",
       "      <td>horizonrisksolutions</td>\n",
       "      <td>0.168182</td>\n",
       "      <td>0</td>\n",
       "    </tr>\n",
       "    <tr>\n",
       "      <th>322</th>\n",
       "      <td>stonerez</td>\n",
       "      <td>stonliner</td>\n",
       "      <td>0.709566</td>\n",
       "      <td>0</td>\n",
       "    </tr>\n",
       "    <tr>\n",
       "      <th>98</th>\n",
       "      <td>tatadoo</td>\n",
       "      <td>yourmaternityshop</td>\n",
       "      <td>0.164620</td>\n",
       "      <td>0</td>\n",
       "    </tr>\n",
       "    <tr>\n",
       "      <th>36</th>\n",
       "      <td>wecasablanca</td>\n",
       "      <td>cresco</td>\n",
       "      <td>0.169198</td>\n",
       "      <td>0</td>\n",
       "    </tr>\n",
       "    <tr>\n",
       "      <th>205</th>\n",
       "      <td>logicslide</td>\n",
       "      <td>magnavoc</td>\n",
       "      <td>0.169198</td>\n",
       "      <td>0</td>\n",
       "    </tr>\n",
       "    <tr>\n",
       "      <th>13</th>\n",
       "      <td>savvy</td>\n",
       "      <td>uberjet</td>\n",
       "      <td>0.170487</td>\n",
       "      <td>0</td>\n",
       "    </tr>\n",
       "    <tr>\n",
       "      <th>118</th>\n",
       "      <td>dragon</td>\n",
       "      <td>galaxy</td>\n",
       "      <td>0.173228</td>\n",
       "      <td>0</td>\n",
       "    </tr>\n",
       "    <tr>\n",
       "      <th>221</th>\n",
       "      <td>britishgas</td>\n",
       "      <td>thescienceofstoke</td>\n",
       "      <td>0.169388</td>\n",
       "      <td>0</td>\n",
       "    </tr>\n",
       "    <tr>\n",
       "      <th>110</th>\n",
       "      <td>glenfiddich</td>\n",
       "      <td>glenfield</td>\n",
       "      <td>0.708009</td>\n",
       "      <td>1</td>\n",
       "    </tr>\n",
       "  </tbody>\n",
       "</table>\n",
       "</div>"
      ],
      "text/plain": [
       "                TM_A                  TM_B  predict_proba  target\n",
       "57          upgooats              hardcore       0.169340       0\n",
       "128           dialux                  dial       0.677585       1\n",
       "235  imperialreserva              imperial       0.732702       1\n",
       "71          edenpure        edenaesthetics       0.645059       1\n",
       "293         eezeevet        easipetcareltd       0.240520       0\n",
       "69    naturefarmfood       canvaslifestyle       0.169525       0\n",
       "34        camelactiv             camelcapa       0.701682       1\n",
       "46            swisse      swisslifeforever       0.681933       1\n",
       "141           bodrum                 didim       0.201698       1\n",
       "95    naturefarmfood            farmnature       0.637390       1\n",
       "189        flossbone                 tommy       0.169340       0\n",
       "285    pepespiripiri  horizonrisksolutions       0.168182       0\n",
       "322         stonerez             stonliner       0.709566       0\n",
       "98           tatadoo     yourmaternityshop       0.164620       0\n",
       "36      wecasablanca                cresco       0.169198       0\n",
       "205       logicslide              magnavoc       0.169198       0\n",
       "13             savvy               uberjet       0.170487       0\n",
       "118           dragon                galaxy       0.173228       0\n",
       "221       britishgas     thescienceofstoke       0.169388       0\n",
       "110      glenfiddich             glenfield       0.708009       1"
      ]
     },
     "execution_count": 30,
     "metadata": {},
     "output_type": "execute_result"
    }
   ],
   "source": [
    "meta_training.sample(20)\n"
   ]
  },
  {
   "cell_type": "markdown",
   "metadata": {},
   "source": [
    "### Meta-Model: Logistic Regression"
   ]
  },
  {
   "cell_type": "code",
   "execution_count": 31,
   "metadata": {},
   "outputs": [
    {
     "data": {
      "application/vnd.jupyter.widget-view+json": {
       "model_id": "4c55300b03784f2d9d1f2880c5b13531",
       "version_major": 2,
       "version_minor": 0
      },
      "text/plain": [
       "HBox(children=(FloatProgress(value=0.0, max=657.0), HTML(value='')))"
      ]
     },
     "metadata": {},
     "output_type": "display_data"
    },
    {
     "name": "stdout",
     "output_type": "stream",
     "text": [
      "\n"
     ]
    },
    {
     "data": {
      "application/vnd.jupyter.widget-view+json": {
       "model_id": "067ee4a5db8c4b10953503623bdca4f1",
       "version_major": 2,
       "version_minor": 0
      },
      "text/plain": [
       "HBox(children=(FloatProgress(value=0.0, max=657.0), HTML(value='')))"
      ]
     },
     "metadata": {},
     "output_type": "display_data"
    },
    {
     "name": "stdout",
     "output_type": "stream",
     "text": [
      "\n"
     ]
    },
    {
     "data": {
      "application/vnd.jupyter.widget-view+json": {
       "model_id": "743bdc1a1eba4a138102dd719c25e980",
       "version_major": 2,
       "version_minor": 0
      },
      "text/plain": [
       "HBox(children=(FloatProgress(value=0.0, max=657.0), HTML(value='')))"
      ]
     },
     "metadata": {},
     "output_type": "display_data"
    },
    {
     "name": "stdout",
     "output_type": "stream",
     "text": [
      "\n"
     ]
    },
    {
     "data": {
      "application/vnd.jupyter.widget-view+json": {
       "model_id": "297d231f8b8942399bc124c92c9dcd3d",
       "version_major": 2,
       "version_minor": 0
      },
      "text/plain": [
       "HBox(children=(FloatProgress(value=0.0, max=657.0), HTML(value='')))"
      ]
     },
     "metadata": {},
     "output_type": "display_data"
    },
    {
     "name": "stdout",
     "output_type": "stream",
     "text": [
      "\n"
     ]
    },
    {
     "data": {
      "application/vnd.jupyter.widget-view+json": {
       "model_id": "f31c1c9d5a9c4a1dbfce7a5b941f0e4c",
       "version_major": 2,
       "version_minor": 0
      },
      "text/plain": [
       "HBox(children=(FloatProgress(value=0.0, max=657.0), HTML(value='')))"
      ]
     },
     "metadata": {},
     "output_type": "display_data"
    },
    {
     "name": "stdout",
     "output_type": "stream",
     "text": [
      "\n"
     ]
    },
    {
     "data": {
      "application/vnd.jupyter.widget-view+json": {
       "model_id": "49e4b1f939224f75b32e0b51dabd4127",
       "version_major": 2,
       "version_minor": 0
      },
      "text/plain": [
       "HBox(children=(FloatProgress(value=0.0, max=657.0), HTML(value='')))"
      ]
     },
     "metadata": {},
     "output_type": "display_data"
    },
    {
     "name": "stdout",
     "output_type": "stream",
     "text": [
      "\n"
     ]
    },
    {
     "data": {
      "application/vnd.jupyter.widget-view+json": {
       "model_id": "2c0e192386d3476ab8cc54f1b8d8a908",
       "version_major": 2,
       "version_minor": 0
      },
      "text/plain": [
       "HBox(children=(FloatProgress(value=0.0, max=657.0), HTML(value='')))"
      ]
     },
     "metadata": {},
     "output_type": "display_data"
    },
    {
     "name": "stdout",
     "output_type": "stream",
     "text": [
      "\n"
     ]
    },
    {
     "data": {
      "application/vnd.jupyter.widget-view+json": {
       "model_id": "be59dcf319e14813aacde9f0978ebfa1",
       "version_major": 2,
       "version_minor": 0
      },
      "text/plain": [
       "HBox(children=(FloatProgress(value=0.0, max=657.0), HTML(value='')))"
      ]
     },
     "metadata": {},
     "output_type": "display_data"
    },
    {
     "name": "stdout",
     "output_type": "stream",
     "text": [
      "\n"
     ]
    },
    {
     "data": {
      "application/vnd.jupyter.widget-view+json": {
       "model_id": "9964f351e5e145209f26f1ae29049f1a",
       "version_major": 2,
       "version_minor": 0
      },
      "text/plain": [
       "HBox(children=(FloatProgress(value=0.0, max=657.0), HTML(value='')))"
      ]
     },
     "metadata": {},
     "output_type": "display_data"
    },
    {
     "name": "stdout",
     "output_type": "stream",
     "text": [
      "\n"
     ]
    },
    {
     "data": {
      "application/vnd.jupyter.widget-view+json": {
       "model_id": "dac17c143d0748b5b1ae56a6d85adb5e",
       "version_major": 2,
       "version_minor": 0
      },
      "text/plain": [
       "HBox(children=(FloatProgress(value=0.0, max=657.0), HTML(value='')))"
      ]
     },
     "metadata": {},
     "output_type": "display_data"
    },
    {
     "name": "stdout",
     "output_type": "stream",
     "text": [
      "\n"
     ]
    },
    {
     "data": {
      "application/vnd.jupyter.widget-view+json": {
       "model_id": "118afccbd68448edb7bd91ce3c65e007",
       "version_major": 2,
       "version_minor": 0
      },
      "text/plain": [
       "HBox(children=(FloatProgress(value=0.0, max=657.0), HTML(value='')))"
      ]
     },
     "metadata": {},
     "output_type": "display_data"
    },
    {
     "name": "stdout",
     "output_type": "stream",
     "text": [
      "\n"
     ]
    },
    {
     "data": {
      "application/vnd.jupyter.widget-view+json": {
       "model_id": "211cdd7c74b7400fb76b04e6067aec18",
       "version_major": 2,
       "version_minor": 0
      },
      "text/plain": [
       "HBox(children=(FloatProgress(value=0.0, max=657.0), HTML(value='')))"
      ]
     },
     "metadata": {},
     "output_type": "display_data"
    },
    {
     "name": "stdout",
     "output_type": "stream",
     "text": [
      "\n"
     ]
    },
    {
     "data": {
      "application/vnd.jupyter.widget-view+json": {
       "model_id": "52af95edf323441d84773b23b0aee5a1",
       "version_major": 2,
       "version_minor": 0
      },
      "text/plain": [
       "HBox(children=(FloatProgress(value=0.0, max=657.0), HTML(value='')))"
      ]
     },
     "metadata": {},
     "output_type": "display_data"
    },
    {
     "name": "stdout",
     "output_type": "stream",
     "text": [
      "\n"
     ]
    },
    {
     "data": {
      "application/vnd.jupyter.widget-view+json": {
       "model_id": "e13434d249c94e14bbae30ba5e5f3002",
       "version_major": 2,
       "version_minor": 0
      },
      "text/plain": [
       "HBox(children=(FloatProgress(value=0.0, max=657.0), HTML(value='')))"
      ]
     },
     "metadata": {},
     "output_type": "display_data"
    },
    {
     "name": "stdout",
     "output_type": "stream",
     "text": [
      "\n"
     ]
    },
    {
     "data": {
      "application/vnd.jupyter.widget-view+json": {
       "model_id": "f8adbcddd9a4415c903d62aaaa31c8aa",
       "version_major": 2,
       "version_minor": 0
      },
      "text/plain": [
       "HBox(children=(FloatProgress(value=0.0, max=657.0), HTML(value='')))"
      ]
     },
     "metadata": {},
     "output_type": "display_data"
    },
    {
     "name": "stdout",
     "output_type": "stream",
     "text": [
      "\n"
     ]
    },
    {
     "data": {
      "application/vnd.jupyter.widget-view+json": {
       "model_id": "d69d1b18546943a2a2d5a00192f1ea23",
       "version_major": 2,
       "version_minor": 0
      },
      "text/plain": [
       "HBox(children=(FloatProgress(value=0.0, max=657.0), HTML(value='')))"
      ]
     },
     "metadata": {},
     "output_type": "display_data"
    },
    {
     "name": "stdout",
     "output_type": "stream",
     "text": [
      "\n"
     ]
    },
    {
     "data": {
      "application/vnd.jupyter.widget-view+json": {
       "model_id": "fd12f5caa95640e096fab3ca892d22da",
       "version_major": 2,
       "version_minor": 0
      },
      "text/plain": [
       "HBox(children=(FloatProgress(value=0.0, max=657.0), HTML(value='')))"
      ]
     },
     "metadata": {},
     "output_type": "display_data"
    },
    {
     "name": "stdout",
     "output_type": "stream",
     "text": [
      "\n"
     ]
    }
   ],
   "source": [
    "df=featurize(meta_training)"
   ]
  },
  {
   "cell_type": "code",
   "execution_count": 32,
   "metadata": {},
   "outputs": [
    {
     "data": {
      "text/html": [
       "<div>\n",
       "<style scoped>\n",
       "    .dataframe tbody tr th:only-of-type {\n",
       "        vertical-align: middle;\n",
       "    }\n",
       "\n",
       "    .dataframe tbody tr th {\n",
       "        vertical-align: top;\n",
       "    }\n",
       "\n",
       "    .dataframe thead th {\n",
       "        text-align: right;\n",
       "    }\n",
       "</style>\n",
       "<table border=\"1\" class=\"dataframe\">\n",
       "  <thead>\n",
       "    <tr style=\"text-align: right;\">\n",
       "      <th></th>\n",
       "      <th>a</th>\n",
       "      <th>b</th>\n",
       "      <th>predict_proba</th>\n",
       "      <th>target</th>\n",
       "      <th>TM_A</th>\n",
       "      <th>TM_B</th>\n",
       "      <th>partial</th>\n",
       "      <th>tkn_sort</th>\n",
       "      <th>tkn_set</th>\n",
       "      <th>levenshtein</th>\n",
       "      <th>...</th>\n",
       "      <th>mra</th>\n",
       "      <th>editex</th>\n",
       "      <th>saps</th>\n",
       "      <th>flexmetric</th>\n",
       "      <th>jaro</th>\n",
       "      <th>higueramico</th>\n",
       "      <th>sift4</th>\n",
       "      <th>eudex</th>\n",
       "      <th>aline</th>\n",
       "      <th>phoneticeditdistance</th>\n",
       "    </tr>\n",
       "  </thead>\n",
       "  <tbody>\n",
       "    <tr>\n",
       "      <th>243</th>\n",
       "      <td>lafrancaiseinvestingtogether</td>\n",
       "      <td>thew</td>\n",
       "      <td>0.264621</td>\n",
       "      <td>0</td>\n",
       "      <td>lafrancaiseinvestingtogether</td>\n",
       "      <td>thew</td>\n",
       "      <td>75</td>\n",
       "      <td>19</td>\n",
       "      <td>19</td>\n",
       "      <td>0.714286</td>\n",
       "      <td>...</td>\n",
       "      <td>0.000000</td>\n",
       "      <td>0.142857</td>\n",
       "      <td>0.000000</td>\n",
       "      <td>0.232143</td>\n",
       "      <td>0.428571</td>\n",
       "      <td>0.000000</td>\n",
       "      <td>0.000000</td>\n",
       "      <td>0.626471</td>\n",
       "      <td>0.111842</td>\n",
       "      <td>0.130184</td>\n",
       "    </tr>\n",
       "    <tr>\n",
       "      <th>222</th>\n",
       "      <td>londonhairlab</td>\n",
       "      <td>gameofstones</td>\n",
       "      <td>0.168905</td>\n",
       "      <td>0</td>\n",
       "      <td>londonhairlab</td>\n",
       "      <td>gameofstones</td>\n",
       "      <td>25</td>\n",
       "      <td>24</td>\n",
       "      <td>24</td>\n",
       "      <td>0.342857</td>\n",
       "      <td>...</td>\n",
       "      <td>0.000000</td>\n",
       "      <td>0.269231</td>\n",
       "      <td>0.000000</td>\n",
       "      <td>0.146154</td>\n",
       "      <td>0.493590</td>\n",
       "      <td>0.110122</td>\n",
       "      <td>0.153846</td>\n",
       "      <td>0.765686</td>\n",
       "      <td>0.254930</td>\n",
       "      <td>0.720844</td>\n",
       "    </tr>\n",
       "    <tr>\n",
       "      <th>125</th>\n",
       "      <td>blephaclean</td>\n",
       "      <td>willowtreegin</td>\n",
       "      <td>0.185320</td>\n",
       "      <td>0</td>\n",
       "      <td>blephaclean</td>\n",
       "      <td>willowtreegin</td>\n",
       "      <td>36</td>\n",
       "      <td>33</td>\n",
       "      <td>33</td>\n",
       "      <td>0.285714</td>\n",
       "      <td>...</td>\n",
       "      <td>0.333333</td>\n",
       "      <td>0.423077</td>\n",
       "      <td>0.000000</td>\n",
       "      <td>0.392308</td>\n",
       "      <td>0.557110</td>\n",
       "      <td>0.224359</td>\n",
       "      <td>0.307692</td>\n",
       "      <td>0.832843</td>\n",
       "      <td>0.406349</td>\n",
       "      <td>0.648883</td>\n",
       "    </tr>\n",
       "    <tr>\n",
       "      <th>140</th>\n",
       "      <td>ofo</td>\n",
       "      <td>ovo</td>\n",
       "      <td>0.674461</td>\n",
       "      <td>1</td>\n",
       "      <td>ofo</td>\n",
       "      <td>ovo</td>\n",
       "      <td>67</td>\n",
       "      <td>67</td>\n",
       "      <td>67</td>\n",
       "      <td>0.028571</td>\n",
       "      <td>...</td>\n",
       "      <td>0.833333</td>\n",
       "      <td>0.833333</td>\n",
       "      <td>0.384615</td>\n",
       "      <td>0.966667</td>\n",
       "      <td>0.777778</td>\n",
       "      <td>0.666667</td>\n",
       "      <td>0.666667</td>\n",
       "      <td>0.999020</td>\n",
       "      <td>0.769231</td>\n",
       "      <td>0.989247</td>\n",
       "    </tr>\n",
       "    <tr>\n",
       "      <th>7</th>\n",
       "      <td>woodystout</td>\n",
       "      <td>woodybrownale</td>\n",
       "      <td>0.603822</td>\n",
       "      <td>1</td>\n",
       "      <td>woodystout</td>\n",
       "      <td>woodybrownale</td>\n",
       "      <td>60</td>\n",
       "      <td>52</td>\n",
       "      <td>52</td>\n",
       "      <td>0.200000</td>\n",
       "      <td>...</td>\n",
       "      <td>0.500000</td>\n",
       "      <td>0.538462</td>\n",
       "      <td>0.105263</td>\n",
       "      <td>0.550000</td>\n",
       "      <td>0.687179</td>\n",
       "      <td>0.441142</td>\n",
       "      <td>0.461538</td>\n",
       "      <td>0.835294</td>\n",
       "      <td>0.485714</td>\n",
       "      <td>0.727047</td>\n",
       "    </tr>\n",
       "    <tr>\n",
       "      <th>279</th>\n",
       "      <td>micron</td>\n",
       "      <td>therealpetfoodcompany</td>\n",
       "      <td>0.167358</td>\n",
       "      <td>0</td>\n",
       "      <td>micron</td>\n",
       "      <td>therealpetfoodcompany</td>\n",
       "      <td>50</td>\n",
       "      <td>22</td>\n",
       "      <td>22</td>\n",
       "      <td>0.514286</td>\n",
       "      <td>...</td>\n",
       "      <td>0.000000</td>\n",
       "      <td>0.238095</td>\n",
       "      <td>0.000000</td>\n",
       "      <td>0.371429</td>\n",
       "      <td>0.476190</td>\n",
       "      <td>0.000000</td>\n",
       "      <td>0.047619</td>\n",
       "      <td>0.680392</td>\n",
       "      <td>0.182883</td>\n",
       "      <td>0.269585</td>\n",
       "    </tr>\n",
       "    <tr>\n",
       "      <th>31</th>\n",
       "      <td>theuniversityoflaw</td>\n",
       "      <td>ulaw</td>\n",
       "      <td>0.334822</td>\n",
       "      <td>1</td>\n",
       "      <td>theuniversityoflaw</td>\n",
       "      <td>ulaw</td>\n",
       "      <td>75</td>\n",
       "      <td>36</td>\n",
       "      <td>36</td>\n",
       "      <td>0.400000</td>\n",
       "      <td>...</td>\n",
       "      <td>0.000000</td>\n",
       "      <td>0.277778</td>\n",
       "      <td>0.000000</td>\n",
       "      <td>0.383333</td>\n",
       "      <td>0.435185</td>\n",
       "      <td>0.000000</td>\n",
       "      <td>0.055556</td>\n",
       "      <td>0.563235</td>\n",
       "      <td>0.150000</td>\n",
       "      <td>0.222222</td>\n",
       "    </tr>\n",
       "    <tr>\n",
       "      <th>276</th>\n",
       "      <td>vype</td>\n",
       "      <td>veype</td>\n",
       "      <td>0.692897</td>\n",
       "      <td>1</td>\n",
       "      <td>vype</td>\n",
       "      <td>veype</td>\n",
       "      <td>75</td>\n",
       "      <td>89</td>\n",
       "      <td>89</td>\n",
       "      <td>0.028571</td>\n",
       "      <td>...</td>\n",
       "      <td>1.000000</td>\n",
       "      <td>0.800000</td>\n",
       "      <td>0.866667</td>\n",
       "      <td>0.900000</td>\n",
       "      <td>0.933333</td>\n",
       "      <td>0.800000</td>\n",
       "      <td>0.800000</td>\n",
       "      <td>0.998039</td>\n",
       "      <td>0.934783</td>\n",
       "      <td>0.800000</td>\n",
       "    </tr>\n",
       "    <tr>\n",
       "      <th>85</th>\n",
       "      <td>grey</td>\n",
       "      <td>maternityyours</td>\n",
       "      <td>0.166972</td>\n",
       "      <td>0</td>\n",
       "      <td>grey</td>\n",
       "      <td>maternityyours</td>\n",
       "      <td>25</td>\n",
       "      <td>22</td>\n",
       "      <td>22</td>\n",
       "      <td>0.342857</td>\n",
       "      <td>...</td>\n",
       "      <td>0.000000</td>\n",
       "      <td>0.321429</td>\n",
       "      <td>0.000000</td>\n",
       "      <td>0.357143</td>\n",
       "      <td>0.543651</td>\n",
       "      <td>0.000000</td>\n",
       "      <td>0.071429</td>\n",
       "      <td>0.710294</td>\n",
       "      <td>0.150000</td>\n",
       "      <td>0.268433</td>\n",
       "    </tr>\n",
       "    <tr>\n",
       "      <th>281</th>\n",
       "      <td>eris</td>\n",
       "      <td>gameofstones</td>\n",
       "      <td>0.169777</td>\n",
       "      <td>0</td>\n",
       "      <td>eris</td>\n",
       "      <td>gameofstones</td>\n",
       "      <td>50</td>\n",
       "      <td>25</td>\n",
       "      <td>25</td>\n",
       "      <td>0.285714</td>\n",
       "      <td>...</td>\n",
       "      <td>0.000000</td>\n",
       "      <td>0.250000</td>\n",
       "      <td>0.000000</td>\n",
       "      <td>0.295833</td>\n",
       "      <td>0.555556</td>\n",
       "      <td>0.000000</td>\n",
       "      <td>0.166667</td>\n",
       "      <td>0.649020</td>\n",
       "      <td>0.167187</td>\n",
       "      <td>0.327957</td>\n",
       "    </tr>\n",
       "    <tr>\n",
       "      <th>199</th>\n",
       "      <td>elysium</td>\n",
       "      <td>booboo</td>\n",
       "      <td>0.164620</td>\n",
       "      <td>0</td>\n",
       "      <td>elysium</td>\n",
       "      <td>booboo</td>\n",
       "      <td>0</td>\n",
       "      <td>0</td>\n",
       "      <td>0</td>\n",
       "      <td>0.200000</td>\n",
       "      <td>...</td>\n",
       "      <td>0.000000</td>\n",
       "      <td>0.214286</td>\n",
       "      <td>0.000000</td>\n",
       "      <td>0.128571</td>\n",
       "      <td>0.000000</td>\n",
       "      <td>0.000000</td>\n",
       "      <td>0.000000</td>\n",
       "      <td>0.596569</td>\n",
       "      <td>0.327273</td>\n",
       "      <td>0.672811</td>\n",
       "    </tr>\n",
       "    <tr>\n",
       "      <th>188</th>\n",
       "      <td>aadvantage</td>\n",
       "      <td>advantageholidaysbyadvantage</td>\n",
       "      <td>0.633665</td>\n",
       "      <td>1</td>\n",
       "      <td>aadvantage</td>\n",
       "      <td>advantageholidaysbyadvantage</td>\n",
       "      <td>90</td>\n",
       "      <td>53</td>\n",
       "      <td>53</td>\n",
       "      <td>0.514286</td>\n",
       "      <td>...</td>\n",
       "      <td>1.000000</td>\n",
       "      <td>0.410714</td>\n",
       "      <td>0.000000</td>\n",
       "      <td>0.462500</td>\n",
       "      <td>0.652381</td>\n",
       "      <td>0.001797</td>\n",
       "      <td>0.321429</td>\n",
       "      <td>0.815196</td>\n",
       "      <td>0.340278</td>\n",
       "      <td>0.357143</td>\n",
       "    </tr>\n",
       "    <tr>\n",
       "      <th>66</th>\n",
       "      <td>tlclive</td>\n",
       "      <td>tlctraining</td>\n",
       "      <td>0.589134</td>\n",
       "      <td>1</td>\n",
       "      <td>tlclive</td>\n",
       "      <td>tlctraining</td>\n",
       "      <td>57</td>\n",
       "      <td>44</td>\n",
       "      <td>44</td>\n",
       "      <td>0.200000</td>\n",
       "      <td>...</td>\n",
       "      <td>0.500000</td>\n",
       "      <td>0.454545</td>\n",
       "      <td>0.130435</td>\n",
       "      <td>0.436364</td>\n",
       "      <td>0.645022</td>\n",
       "      <td>0.300253</td>\n",
       "      <td>0.363636</td>\n",
       "      <td>0.847549</td>\n",
       "      <td>0.458462</td>\n",
       "      <td>0.601173</td>\n",
       "    </tr>\n",
       "    <tr>\n",
       "      <th>16</th>\n",
       "      <td>pureipr</td>\n",
       "      <td>hamiltoninches</td>\n",
       "      <td>0.167661</td>\n",
       "      <td>0</td>\n",
       "      <td>pureipr</td>\n",
       "      <td>hamiltoninches</td>\n",
       "      <td>14</td>\n",
       "      <td>10</td>\n",
       "      <td>10</td>\n",
       "      <td>0.371429</td>\n",
       "      <td>...</td>\n",
       "      <td>0.000000</td>\n",
       "      <td>0.250000</td>\n",
       "      <td>0.000000</td>\n",
       "      <td>0.389286</td>\n",
       "      <td>0.404762</td>\n",
       "      <td>0.000000</td>\n",
       "      <td>0.071429</td>\n",
       "      <td>0.716176</td>\n",
       "      <td>0.169231</td>\n",
       "      <td>0.453917</td>\n",
       "    </tr>\n",
       "    <tr>\n",
       "      <th>290</th>\n",
       "      <td>lucedellavite</td>\n",
       "      <td>arcatadiluce</td>\n",
       "      <td>0.360706</td>\n",
       "      <td>0</td>\n",
       "      <td>lucedellavite</td>\n",
       "      <td>arcatadiluce</td>\n",
       "      <td>33</td>\n",
       "      <td>32</td>\n",
       "      <td>32</td>\n",
       "      <td>0.314286</td>\n",
       "      <td>...</td>\n",
       "      <td>0.000000</td>\n",
       "      <td>0.423077</td>\n",
       "      <td>0.046512</td>\n",
       "      <td>0.407692</td>\n",
       "      <td>0.542735</td>\n",
       "      <td>0.246886</td>\n",
       "      <td>0.384615</td>\n",
       "      <td>0.674020</td>\n",
       "      <td>0.501493</td>\n",
       "      <td>0.775434</td>\n",
       "    </tr>\n",
       "    <tr>\n",
       "      <th>69</th>\n",
       "      <td>houseofsilk</td>\n",
       "      <td>silkcut</td>\n",
       "      <td>0.639971</td>\n",
       "      <td>1</td>\n",
       "      <td>houseofsilk</td>\n",
       "      <td>silkcut</td>\n",
       "      <td>57</td>\n",
       "      <td>44</td>\n",
       "      <td>44</td>\n",
       "      <td>0.285714</td>\n",
       "      <td>...</td>\n",
       "      <td>0.000000</td>\n",
       "      <td>0.272727</td>\n",
       "      <td>0.000000</td>\n",
       "      <td>0.318182</td>\n",
       "      <td>0.322511</td>\n",
       "      <td>0.109610</td>\n",
       "      <td>0.090909</td>\n",
       "      <td>0.851961</td>\n",
       "      <td>0.442105</td>\n",
       "      <td>0.533724</td>\n",
       "    </tr>\n",
       "    <tr>\n",
       "      <th>52</th>\n",
       "      <td>dank</td>\n",
       "      <td>dankvapes</td>\n",
       "      <td>0.756866</td>\n",
       "      <td>1</td>\n",
       "      <td>dank</td>\n",
       "      <td>dankvapes</td>\n",
       "      <td>100</td>\n",
       "      <td>62</td>\n",
       "      <td>62</td>\n",
       "      <td>0.142857</td>\n",
       "      <td>...</td>\n",
       "      <td>0.000000</td>\n",
       "      <td>0.444444</td>\n",
       "      <td>0.172414</td>\n",
       "      <td>0.505556</td>\n",
       "      <td>0.814815</td>\n",
       "      <td>0.254365</td>\n",
       "      <td>0.444444</td>\n",
       "      <td>0.935294</td>\n",
       "      <td>0.470588</td>\n",
       "      <td>0.444444</td>\n",
       "    </tr>\n",
       "    <tr>\n",
       "      <th>113</th>\n",
       "      <td>next</td>\n",
       "      <td>nextdealshop</td>\n",
       "      <td>0.682281</td>\n",
       "      <td>1</td>\n",
       "      <td>next</td>\n",
       "      <td>nextdealshop</td>\n",
       "      <td>100</td>\n",
       "      <td>50</td>\n",
       "      <td>50</td>\n",
       "      <td>0.228571</td>\n",
       "      <td>...</td>\n",
       "      <td>0.000000</td>\n",
       "      <td>0.458333</td>\n",
       "      <td>0.000000</td>\n",
       "      <td>0.479167</td>\n",
       "      <td>0.777778</td>\n",
       "      <td>0.000000</td>\n",
       "      <td>0.333333</td>\n",
       "      <td>0.926471</td>\n",
       "      <td>0.352941</td>\n",
       "      <td>0.333333</td>\n",
       "    </tr>\n",
       "    <tr>\n",
       "      <th>178</th>\n",
       "      <td>moscany</td>\n",
       "      <td>toskani</td>\n",
       "      <td>0.562538</td>\n",
       "      <td>1</td>\n",
       "      <td>moscany</td>\n",
       "      <td>toskani</td>\n",
       "      <td>57</td>\n",
       "      <td>57</td>\n",
       "      <td>57</td>\n",
       "      <td>0.085714</td>\n",
       "      <td>...</td>\n",
       "      <td>0.500000</td>\n",
       "      <td>0.714286</td>\n",
       "      <td>0.181818</td>\n",
       "      <td>0.828571</td>\n",
       "      <td>0.714286</td>\n",
       "      <td>0.571429</td>\n",
       "      <td>0.571429</td>\n",
       "      <td>0.741176</td>\n",
       "      <td>0.751351</td>\n",
       "      <td>0.953917</td>\n",
       "    </tr>\n",
       "    <tr>\n",
       "      <th>54</th>\n",
       "      <td>boost</td>\n",
       "      <td>boostshot</td>\n",
       "      <td>0.738442</td>\n",
       "      <td>1</td>\n",
       "      <td>boost</td>\n",
       "      <td>boostshot</td>\n",
       "      <td>100</td>\n",
       "      <td>71</td>\n",
       "      <td>71</td>\n",
       "      <td>0.114286</td>\n",
       "      <td>...</td>\n",
       "      <td>0.000000</td>\n",
       "      <td>0.611111</td>\n",
       "      <td>0.241379</td>\n",
       "      <td>0.688889</td>\n",
       "      <td>0.851852</td>\n",
       "      <td>0.454365</td>\n",
       "      <td>0.555556</td>\n",
       "      <td>0.925490</td>\n",
       "      <td>0.529412</td>\n",
       "      <td>0.555556</td>\n",
       "    </tr>\n",
       "  </tbody>\n",
       "</table>\n",
       "<p>20 rows × 31 columns</p>\n",
       "</div>"
      ],
      "text/plain": [
       "                                a                             b  \\\n",
       "243  lafrancaiseinvestingtogether                          thew   \n",
       "222                 londonhairlab                  gameofstones   \n",
       "125                   blephaclean                 willowtreegin   \n",
       "140                           ofo                           ovo   \n",
       "7                      woodystout                 woodybrownale   \n",
       "279                        micron         therealpetfoodcompany   \n",
       "31             theuniversityoflaw                          ulaw   \n",
       "276                          vype                         veype   \n",
       "85                           grey                maternityyours   \n",
       "281                          eris                  gameofstones   \n",
       "199                       elysium                        booboo   \n",
       "188                    aadvantage  advantageholidaysbyadvantage   \n",
       "66                        tlclive                   tlctraining   \n",
       "16                        pureipr                hamiltoninches   \n",
       "290                 lucedellavite                  arcatadiluce   \n",
       "69                    houseofsilk                       silkcut   \n",
       "52                           dank                     dankvapes   \n",
       "113                          next                  nextdealshop   \n",
       "178                       moscany                       toskani   \n",
       "54                          boost                     boostshot   \n",
       "\n",
       "     predict_proba  target                          TM_A  \\\n",
       "243       0.264621       0  lafrancaiseinvestingtogether   \n",
       "222       0.168905       0                 londonhairlab   \n",
       "125       0.185320       0                   blephaclean   \n",
       "140       0.674461       1                           ofo   \n",
       "7         0.603822       1                    woodystout   \n",
       "279       0.167358       0                        micron   \n",
       "31        0.334822       1            theuniversityoflaw   \n",
       "276       0.692897       1                          vype   \n",
       "85        0.166972       0                          grey   \n",
       "281       0.169777       0                          eris   \n",
       "199       0.164620       0                       elysium   \n",
       "188       0.633665       1                    aadvantage   \n",
       "66        0.589134       1                       tlclive   \n",
       "16        0.167661       0                       pureipr   \n",
       "290       0.360706       0                 lucedellavite   \n",
       "69        0.639971       1                   houseofsilk   \n",
       "52        0.756866       1                          dank   \n",
       "113       0.682281       1                          next   \n",
       "178       0.562538       1                       moscany   \n",
       "54        0.738442       1                         boost   \n",
       "\n",
       "                             TM_B  partial  tkn_sort  tkn_set  levenshtein  \\\n",
       "243                          thew       75        19       19     0.714286   \n",
       "222                  gameofstones       25        24       24     0.342857   \n",
       "125                 willowtreegin       36        33       33     0.285714   \n",
       "140                           ovo       67        67       67     0.028571   \n",
       "7                   woodybrownale       60        52       52     0.200000   \n",
       "279         therealpetfoodcompany       50        22       22     0.514286   \n",
       "31                           ulaw       75        36       36     0.400000   \n",
       "276                         veype       75        89       89     0.028571   \n",
       "85                 maternityyours       25        22       22     0.342857   \n",
       "281                  gameofstones       50        25       25     0.285714   \n",
       "199                        booboo        0         0        0     0.200000   \n",
       "188  advantageholidaysbyadvantage       90        53       53     0.514286   \n",
       "66                    tlctraining       57        44       44     0.200000   \n",
       "16                 hamiltoninches       14        10       10     0.371429   \n",
       "290                  arcatadiluce       33        32       32     0.314286   \n",
       "69                        silkcut       57        44       44     0.285714   \n",
       "52                      dankvapes      100        62       62     0.142857   \n",
       "113                  nextdealshop      100        50       50     0.228571   \n",
       "178                       toskani       57        57       57     0.085714   \n",
       "54                      boostshot      100        71       71     0.114286   \n",
       "\n",
       "     ...       mra    editex      saps  flexmetric      jaro  higueramico  \\\n",
       "243  ...  0.000000  0.142857  0.000000    0.232143  0.428571     0.000000   \n",
       "222  ...  0.000000  0.269231  0.000000    0.146154  0.493590     0.110122   \n",
       "125  ...  0.333333  0.423077  0.000000    0.392308  0.557110     0.224359   \n",
       "140  ...  0.833333  0.833333  0.384615    0.966667  0.777778     0.666667   \n",
       "7    ...  0.500000  0.538462  0.105263    0.550000  0.687179     0.441142   \n",
       "279  ...  0.000000  0.238095  0.000000    0.371429  0.476190     0.000000   \n",
       "31   ...  0.000000  0.277778  0.000000    0.383333  0.435185     0.000000   \n",
       "276  ...  1.000000  0.800000  0.866667    0.900000  0.933333     0.800000   \n",
       "85   ...  0.000000  0.321429  0.000000    0.357143  0.543651     0.000000   \n",
       "281  ...  0.000000  0.250000  0.000000    0.295833  0.555556     0.000000   \n",
       "199  ...  0.000000  0.214286  0.000000    0.128571  0.000000     0.000000   \n",
       "188  ...  1.000000  0.410714  0.000000    0.462500  0.652381     0.001797   \n",
       "66   ...  0.500000  0.454545  0.130435    0.436364  0.645022     0.300253   \n",
       "16   ...  0.000000  0.250000  0.000000    0.389286  0.404762     0.000000   \n",
       "290  ...  0.000000  0.423077  0.046512    0.407692  0.542735     0.246886   \n",
       "69   ...  0.000000  0.272727  0.000000    0.318182  0.322511     0.109610   \n",
       "52   ...  0.000000  0.444444  0.172414    0.505556  0.814815     0.254365   \n",
       "113  ...  0.000000  0.458333  0.000000    0.479167  0.777778     0.000000   \n",
       "178  ...  0.500000  0.714286  0.181818    0.828571  0.714286     0.571429   \n",
       "54   ...  0.000000  0.611111  0.241379    0.688889  0.851852     0.454365   \n",
       "\n",
       "        sift4     eudex     aline  phoneticeditdistance  \n",
       "243  0.000000  0.626471  0.111842              0.130184  \n",
       "222  0.153846  0.765686  0.254930              0.720844  \n",
       "125  0.307692  0.832843  0.406349              0.648883  \n",
       "140  0.666667  0.999020  0.769231              0.989247  \n",
       "7    0.461538  0.835294  0.485714              0.727047  \n",
       "279  0.047619  0.680392  0.182883              0.269585  \n",
       "31   0.055556  0.563235  0.150000              0.222222  \n",
       "276  0.800000  0.998039  0.934783              0.800000  \n",
       "85   0.071429  0.710294  0.150000              0.268433  \n",
       "281  0.166667  0.649020  0.167187              0.327957  \n",
       "199  0.000000  0.596569  0.327273              0.672811  \n",
       "188  0.321429  0.815196  0.340278              0.357143  \n",
       "66   0.363636  0.847549  0.458462              0.601173  \n",
       "16   0.071429  0.716176  0.169231              0.453917  \n",
       "290  0.384615  0.674020  0.501493              0.775434  \n",
       "69   0.090909  0.851961  0.442105              0.533724  \n",
       "52   0.444444  0.935294  0.470588              0.444444  \n",
       "113  0.333333  0.926471  0.352941              0.333333  \n",
       "178  0.571429  0.741176  0.751351              0.953917  \n",
       "54   0.555556  0.925490  0.529412              0.555556  \n",
       "\n",
       "[20 rows x 31 columns]"
      ]
     },
     "execution_count": 32,
     "metadata": {},
     "output_type": "execute_result"
    }
   ],
   "source": [
    "df.sample(20)"
   ]
  },
  {
   "cell_type": "markdown",
   "metadata": {},
   "source": [
    "### Evaluate Gradient Boosting Classifier"
   ]
  },
  {
   "cell_type": "code",
   "execution_count": 33,
   "metadata": {},
   "outputs": [
    {
     "name": "stdout",
     "output_type": "stream",
     "text": [
      "Confusion Matrix:\n",
      "[[32  5]\n",
      " [ 4 24]]\n",
      "Classification Report\n",
      "              precision    recall  f1-score   support\n",
      "\n",
      "           0       0.89      0.86      0.88        37\n",
      "           1       0.83      0.86      0.84        28\n",
      "\n",
      "    accuracy                           0.86        65\n",
      "   macro avg       0.86      0.86      0.86        65\n",
      "weighted avg       0.86      0.86      0.86        65\n",
      "\n"
     ]
    }
   ],
   "source": [
    "from sklearn.metrics import classification_report, confusion_matrix\n",
    "from sklearn.ensemble import GradientBoostingClassifier\n",
    "\n",
    "gb_clf2 = GradientBoostingClassifier(learning_rate=0.01, \n",
    "        max_depth=3, max_features=0.5,\n",
    "        min_samples_leaf=10, min_samples_split=3, \n",
    "        n_estimators=100, subsample=0.9500000000000001)\n",
    "gb_clf2.fit(X_train.drop(['a', 'b', 'TM_A', 'TM_B'], 1), y_train)\n",
    "predictions = gb_clf2.predict(X_test.drop(['a', 'b', 'TM_A', 'TM_B'], 1))\n",
    "\n",
    "print(\"Confusion Matrix:\")\n",
    "print(confusion_matrix(y_test, predictions))\n",
    "\n",
    "print(\"Classification Report\")\n",
    "print(classification_report(y_test, predictions))"
   ]
  },
  {
   "cell_type": "code",
   "execution_count": 34,
   "metadata": {},
   "outputs": [],
   "source": [
    "# df_confusion.to_csv('TM_GBC_Confusion_matris.csv')"
   ]
  },
  {
   "cell_type": "code",
   "execution_count": 35,
   "metadata": {},
   "outputs": [],
   "source": [
    "# roc curve and auc\n",
    "from sklearn.metrics import roc_curve\n",
    "from sklearn.metrics import roc_auc_score\n",
    "import matplotlib.pyplot as plt"
   ]
  },
  {
   "cell_type": "code",
   "execution_count": 36,
   "metadata": {},
   "outputs": [
    {
     "data": {
      "text/plain": [
       "Text(0.6, 0.3, 'AUC=0.926')"
      ]
     },
     "execution_count": 36,
     "metadata": {},
     "output_type": "execute_result"
    },
    {
     "data": {
      "image/png": "[encoded data removed]",
      "text/plain": [
       "<Figure size 504x504 with 1 Axes>"
      ]
     },
     "metadata": {
      "needs_background": "light"
     },
     "output_type": "display_data"
    }
   ],
   "source": [
    "fig, ax = plt.subplots(1,1, figsize=(7,7))\n",
    "baseline_probs = [0 for _ in range(len(y_test))]\n",
    "\n",
    "# keep probabilities for the positive outcome only\n",
    "probs = gb_clf2.predict_proba(X_test.drop(['a', 'b', 'TM_A', 'TM_B'], 1))\n",
    "probs = probs[:, 1]\n",
    "\n",
    "# calculate scores\n",
    "baseline_auc = roc_auc_score(y_test, baseline_probs)\n",
    "auc = roc_auc_score(y_test, probs)\n",
    "auc = ('AUC=%.3f' % (auc))\n",
    "\n",
    "# calculate roc curves\n",
    "baseline_fpr, baseline_tpr, _ = roc_curve(y_test, baseline_probs)\n",
    "fpr, tpr, _ = roc_curve(y_test, probs)\n",
    "\n",
    "# plot the roc curve for the model\n",
    "ax.plot(baseline_fpr, baseline_tpr, color='gray')\n",
    "ax.plot(fpr, tpr, marker='.', color='black')\n",
    "\n",
    "# axis labels\n",
    "ax.set_xlabel('False Positive Rate',fontsize=12)\n",
    "ax.set_ylabel('True Positive Rate',fontsize=12)\n",
    "ax.set_title('Receiver Operating Characteristic', fontsize=16)\n",
    "plt.text(.6, .3, auc, fontsize=13)\n",
    "\n",
    "# plt.savefig('TM_GBC_ROC.png', dpi = 300)"
   ]
  },
  {
   "cell_type": "code",
   "execution_count": null,
   "metadata": {},
   "outputs": [],
   "source": [
    "import seaborn as sns\n",
    "\n",
    "corr = df.corr()\n",
    "sns.heatmap(corr, xticklabels=corr.columns.values,\n",
    "            yticklabels=corr.columns.values, annot = True,\n",
    "            cmap=\"YlGnBu_r\")\n",
    "heat_map=plt.gcf()\n",
    "heat_map.set_size_inches(20,15)\n",
    "plt.xticks(fontsize=10)\n",
    "plt.yticks(fontsize=10)\n",
    "plt.show()"
   ]
  },
  {
   "cell_type": "markdown",
   "metadata": {},
   "source": [
    "# Grid Search   \n",
    "\n",
    "Hyperparameter tuning?"
   ]
  },
  {
   "cell_type": "code",
   "execution_count": null,
   "metadata": {},
   "outputs": [],
   "source": [
    "cols = [col for col in df.columns if col not in ['a', 'b', 'TM_A', 'TM_B', 'target', 'predict_proba']]\n",
    "comb2 = list(combinations(cols, 2))\n",
    "comb3 = list(combinations(cols, 3))\n",
    "colgrid = [(col,)for col in cols]+comb2+comb3\n",
    "\n",
    "\n",
    "colgrid"
   ]
  },
  {
   "cell_type": "code",
   "execution_count": null,
   "metadata": {},
   "outputs": [],
   "source": [
    "from sklearn.model_selection import GridSearchCV\n",
    "from sklearn.linear_model import LogisticRegression\n",
    "from sklearn.metrics import confusion_matrix"
   ]
  },
  {
   "cell_type": "code",
   "execution_count": null,
   "metadata": {},
   "outputs": [],
   "source": [
    "X_train, X_test, y_train, y_test = train_test_split(df, df.target, test_size=0.2, random_state=42)\n",
    "X_train, X_val, y_train, y_val = train_test_split(X_train, y_train, test_size=0.25, random_state=42)"
   ]
  },
  {
   "cell_type": "code",
   "execution_count": null,
   "metadata": {},
   "outputs": [],
   "source": [
    "clf = LogisticRegression()\n",
    "grid_clf = GridSearchCV(clf, param_grid = {'C':np.logspace(-4, 4, 20)}, scoring = 'precision', verbose=0)\n",
    "\n",
    "scores = []\n",
    "for cols in colgrid:\n",
    "    grid_clf.fit(X_train[['predict_proba']+list(cols)], y_train)\n",
    "    y_pred = grid_clf.predict(X_val[['predict_proba']+list(cols)])\n",
    "    tn, fp, fn, tp = confusion_matrix(y_val, y_pred).ravel()\n",
    "    scores.append([str(cols), tn, fp, fn, tp])"
   ]
  },
  {
   "cell_type": "code",
   "execution_count": null,
   "metadata": {},
   "outputs": [],
   "source": [
    "scores_df = pd.DataFrame(scores)"
   ]
  },
  {
   "cell_type": "code",
   "execution_count": null,
   "metadata": {},
   "outputs": [],
   "source": [
    "scores_df.columns = ['features', 'tn', 'fp', 'fn', 'tp']"
   ]
  },
  {
   "cell_type": "code",
   "execution_count": null,
   "metadata": {},
   "outputs": [],
   "source": [
    "scores_df.head()"
   ]
  },
  {
   "cell_type": "code",
   "execution_count": null,
   "metadata": {},
   "outputs": [],
   "source": [
    "scores_df['error'] = scores_df['fp'] + scores_df['fn']"
   ]
  },
  {
   "cell_type": "code",
   "execution_count": null,
   "metadata": {},
   "outputs": [],
   "source": [
    "scores_df = scores_df.sort_values(['error', 'fp'])"
   ]
  },
  {
   "cell_type": "code",
   "execution_count": null,
   "metadata": {},
   "outputs": [],
   "source": [
    "X_train, X_test, y_train, y_test = train_test_split(df, df.target, test_size=0.2, random_state=42)"
   ]
  },
  {
   "cell_type": "code",
   "execution_count": null,
   "metadata": {},
   "outputs": [],
   "source": [
    "selected_cols = ['predict_proba', 'tkn_set', 'iterativesubstring', 'strcmp95']"
   ]
  },
  {
   "cell_type": "code",
   "execution_count": null,
   "metadata": {},
   "outputs": [],
   "source": [
    "clf = LogisticRegression()\n",
    "grid_clf = GridSearchCV(clf, param_grid = {'C':np.logspace(-4, 4, 20)}, scoring='precision')\n",
    "grid_clf.fit(X_train[selected_cols], y_train)\n",
    "y_pred = grid_clf.predict(X_test[selected_cols])"
   ]
  },
  {
   "cell_type": "code",
   "execution_count": null,
   "metadata": {},
   "outputs": [],
   "source": [
    "print(grid_clf.best_params_)"
   ]
  },
  {
   "cell_type": "markdown",
   "metadata": {},
   "source": [
    "## Evaluation"
   ]
  },
  {
   "cell_type": "code",
   "execution_count": null,
   "metadata": {},
   "outputs": [],
   "source": [
    "from sklearn.metrics import classification_report"
   ]
  },
  {
   "cell_type": "code",
   "execution_count": null,
   "metadata": {},
   "outputs": [],
   "source": [
    "def evaluate(y_test, y_pred):\n",
    "    cm = confusion_matrix(y_test, y_pred)\n",
    "    conf_matrix = pd.DataFrame(data=cm, columns=['Predicted: 0', 'Predicted: 1'], index=['Actual: 0', 'Actual: 1'])\n",
    "    print(classification_report(y_test, y_pred))\n",
    "    print(conf_matrix)"
   ]
  },
  {
   "cell_type": "code",
   "execution_count": null,
   "metadata": {},
   "outputs": [],
   "source": [
    "evaluate(y_test, y_pred)"
   ]
  },
  {
   "cell_type": "code",
   "execution_count": null,
   "metadata": {},
   "outputs": [],
   "source": [
    "# roc curve and auc\n",
    "from sklearn.metrics import roc_curve\n",
    "from sklearn.metrics import roc_auc_score\n",
    "import matplotlib.pyplot as plt"
   ]
  },
  {
   "cell_type": "code",
   "execution_count": null,
   "metadata": {},
   "outputs": [],
   "source": [
    "fig, ax = plt.subplots(1,1, figsize=(7,7))\n",
    "baseline_probs = [0 for _ in range(len(y_test))]\n",
    "\n",
    "# keep probabilities for the positive outcome only\n",
    "probs = grid_clf.predict_proba(X_test[selected_cols])\n",
    "probs = probs[:, 1]\n",
    "\n",
    "# calculate scores\n",
    "baseline_auc = roc_auc_score(y_test, baseline_probs)\n",
    "auc = roc_auc_score(y_test, probs)\n",
    "auc = ('AUC=%.3f' % (auc))\n",
    "\n",
    "# calculate roc curves\n",
    "baseline_fpr, baseline_tpr, _ = roc_curve(y_test, baseline_probs)\n",
    "fpr, tpr, _ = roc_curve(y_test, probs)\n",
    "\n",
    "# plot the roc curve for the model\n",
    "ax.plot(baseline_fpr, baseline_tpr, color='gray')\n",
    "ax.plot(fpr, tpr, marker='.', color='black')\n",
    "\n",
    "# axis labels\n",
    "ax.set_xlabel('False Positive Rate',fontsize=12)\n",
    "ax.set_ylabel('True Positive Rate',fontsize=12)\n",
    "ax.set_title('Receiver Operating Characteristic', fontsize=16)\n",
    "plt.text(.6, .3, auc, fontsize=13)"
   ]
  },
  {
   "cell_type": "markdown",
   "metadata": {},
   "source": [
    "### Export Models and Pipeline"
   ]
  },
  {
   "cell_type": "code",
   "execution_count": null,
   "metadata": {},
   "outputs": [],
   "source": [
    "import joblib\n",
    "import json"
   ]
  },
  {
   "cell_type": "code",
   "execution_count": null,
   "metadata": {},
   "outputs": [],
   "source": [
    "base_1 = base_model_1(X.drop(['a', 'b', 'TM_A', 'TM_B'], 1), y, X_test=None, export=True)\n",
    "joblib.dump(base_1, filename='Data.nosync/TM_Gradient_boost_base_model.pkl')"
   ]
  },
  {
   "cell_type": "code",
   "execution_count": null,
   "metadata": {},
   "outputs": [],
   "source": [
    "# base_model_2(X[['name_a', 'name_b']], y, X_test=None, export=True)"
   ]
  },
  {
   "cell_type": "code",
   "execution_count": null,
   "metadata": {},
   "outputs": [],
   "source": [
    "joblib.dump(grid_clf.best_estimator_, filename='Data.nosync/TM_meta_model.pkl')"
   ]
  },
  {
   "cell_type": "code",
   "execution_count": null,
   "metadata": {},
   "outputs": [],
   "source": []
  },
  {
   "cell_type": "markdown",
   "metadata": {},
   "source": [
    "### TPOT AutoML Regression"
   ]
  },
  {
   "cell_type": "code",
   "execution_count": null,
   "metadata": {},
   "outputs": [],
   "source": [
    "from tpot import TPOTRegressor\n",
    "\n",
    "pipeline_optimizer = TPOTRegressor(\n",
    "        scoring = 'f1', \n",
    "        generations=100,\n",
    "        verbosity=2,\n",
    "        n_jobs=-1   # Utilizes all available CPU cores\n",
    "        ) \n",
    "pipeline_optimizer.fit(X_train.drop(['a', 'b', 'TM_A', 'TM_B'],1), y_train)\n",
    "\n",
    "exported_pipeline = make_pipeline("
   ]
  }
 ],
 "metadata": {
  "kernelspec": {
   "display_name": "Python 3",
   "language": "python",
   "name": "python3"
  },
  "language_info": {
   "codemirror_mode": {
    "name": "ipython",
    "version": 3
   },
   "file_extension": ".py",
   "mimetype": "text/x-python",
   "name": "python",
   "nbconvert_exporter": "python",
   "pygments_lexer": "ipython3",
   "version": "3.8.3"
  }
 },
 "nbformat": 4,
 "nbformat_minor": 4
}
