{
 "cells": [
  {
   "cell_type": "markdown",
   "metadata": {},
   "source": [
    "# Modeling"
   ]
  },
  {
   "cell_type": "code",
   "execution_count": 1,
   "metadata": {},
   "outputs": [],
   "source": [
    "import pandas as pd\n",
    "import numpy as np\n",
    "import matplotlib as plt\n",
    "from sklearn.linear_model import LogisticRegression\n",
    "\n",
    "plt.rcParams['figure.dpi'] = 300\n",
    "%config InlineBackend.figure_format = 'retina'\n",
    "pd.set_option('display.max_columns', None)\n",
    "%matplotlib inline"
   ]
  },
  {
   "cell_type": "code",
   "execution_count": 2,
   "metadata": {},
   "outputs": [
    {
     "data": {
      "text/html": [
       "<div>\n",
       "<style scoped>\n",
       "    .dataframe tbody tr th:only-of-type {\n",
       "        vertical-align: middle;\n",
       "    }\n",
       "\n",
       "    .dataframe tbody tr th {\n",
       "        vertical-align: top;\n",
       "    }\n",
       "\n",
       "    .dataframe thead th {\n",
       "        text-align: right;\n",
       "    }\n",
       "</style>\n",
       "<table border=\"1\" class=\"dataframe\">\n",
       "  <thead>\n",
       "    <tr style=\"text-align: right;\">\n",
       "      <th></th>\n",
       "      <th>TM_A</th>\n",
       "      <th>TM_B</th>\n",
       "      <th>target</th>\n",
       "    </tr>\n",
       "  </thead>\n",
       "  <tbody>\n",
       "    <tr>\n",
       "      <th>71</th>\n",
       "      <td>Eden Pure</td>\n",
       "      <td>Eden Aesthetics</td>\n",
       "      <td>1</td>\n",
       "    </tr>\n",
       "    <tr>\n",
       "      <th>2</th>\n",
       "      <td>Zirco</td>\n",
       "      <td>Cozirc</td>\n",
       "      <td>1</td>\n",
       "    </tr>\n",
       "    <tr>\n",
       "      <th>303</th>\n",
       "      <td>CME</td>\n",
       "      <td>IRSIA CMF</td>\n",
       "      <td>0</td>\n",
       "    </tr>\n",
       "    <tr>\n",
       "      <th>335</th>\n",
       "      <td>GSR</td>\n",
       "      <td>GSRD</td>\n",
       "      <td>0</td>\n",
       "    </tr>\n",
       "    <tr>\n",
       "      <th>126</th>\n",
       "      <td>Healthy Times</td>\n",
       "      <td>TIME HEALTH</td>\n",
       "      <td>1</td>\n",
       "    </tr>\n",
       "    <tr>\n",
       "      <th>28</th>\n",
       "      <td>Fashion two twenty</td>\n",
       "      <td>Fashion tan</td>\n",
       "      <td>1</td>\n",
       "    </tr>\n",
       "    <tr>\n",
       "      <th>309</th>\n",
       "      <td>MCQ</td>\n",
       "      <td>UKMQ</td>\n",
       "      <td>0</td>\n",
       "    </tr>\n",
       "    <tr>\n",
       "      <th>128</th>\n",
       "      <td>DIALux</td>\n",
       "      <td>DIAL</td>\n",
       "      <td>1</td>\n",
       "    </tr>\n",
       "    <tr>\n",
       "      <th>257</th>\n",
       "      <td>TIAMA</td>\n",
       "      <td>TIANA</td>\n",
       "      <td>1</td>\n",
       "    </tr>\n",
       "    <tr>\n",
       "      <th>245</th>\n",
       "      <td>ANNAS</td>\n",
       "      <td>AMMA</td>\n",
       "      <td>1</td>\n",
       "    </tr>\n",
       "    <tr>\n",
       "      <th>202</th>\n",
       "      <td>FLYBE</td>\n",
       "      <td>FLYE</td>\n",
       "      <td>1</td>\n",
       "    </tr>\n",
       "    <tr>\n",
       "      <th>30</th>\n",
       "      <td>Cheeky Indian</td>\n",
       "      <td>Cheeky Italian</td>\n",
       "      <td>1</td>\n",
       "    </tr>\n",
       "    <tr>\n",
       "      <th>5</th>\n",
       "      <td>Flossies</td>\n",
       "      <td>Flossbone</td>\n",
       "      <td>1</td>\n",
       "    </tr>\n",
       "    <tr>\n",
       "      <th>182</th>\n",
       "      <td>WEALTHSMART</td>\n",
       "      <td>UBS SMARTWEALTH</td>\n",
       "      <td>1</td>\n",
       "    </tr>\n",
       "    <tr>\n",
       "      <th>308</th>\n",
       "      <td>BAILY&amp;BAILY</td>\n",
       "      <td>BAILLY-LAPIERRE</td>\n",
       "      <td>0</td>\n",
       "    </tr>\n",
       "    <tr>\n",
       "      <th>75</th>\n",
       "      <td>Real Pet Food Company</td>\n",
       "      <td>THE REAL PETFOOD COMPANY</td>\n",
       "      <td>1</td>\n",
       "    </tr>\n",
       "    <tr>\n",
       "      <th>229</th>\n",
       "      <td>NERO EXPRESS</td>\n",
       "      <td>NERO NERO</td>\n",
       "      <td>1</td>\n",
       "    </tr>\n",
       "    <tr>\n",
       "      <th>220</th>\n",
       "      <td>Artigiano</td>\n",
       "      <td>Espresso Artigiano</td>\n",
       "      <td>1</td>\n",
       "    </tr>\n",
       "    <tr>\n",
       "      <th>80</th>\n",
       "      <td>UP&amp;GO &amp; OATS</td>\n",
       "      <td>ayurvedic up&amp;go</td>\n",
       "      <td>1</td>\n",
       "    </tr>\n",
       "    <tr>\n",
       "      <th>89</th>\n",
       "      <td>Izirize</td>\n",
       "      <td>Liberize</td>\n",
       "      <td>1</td>\n",
       "    </tr>\n",
       "  </tbody>\n",
       "</table>\n",
       "</div>"
      ],
      "text/plain": [
       "                      TM_A                      TM_B  target\n",
       "71               Eden Pure           Eden Aesthetics       1\n",
       "2                    Zirco                    Cozirc       1\n",
       "303                    CME                 IRSIA CMF       0\n",
       "335                    GSR                      GSRD       0\n",
       "126          Healthy Times               TIME HEALTH       1\n",
       "28      Fashion two twenty               Fashion tan       1\n",
       "309                    MCQ                      UKMQ       0\n",
       "128                 DIALux                      DIAL       1\n",
       "257                  TIAMA                     TIANA       1\n",
       "245                  ANNAS                      AMMA       1\n",
       "202                  FLYBE                      FLYE       1\n",
       "30           Cheeky Indian            Cheeky Italian       1\n",
       "5                 Flossies                 Flossbone       1\n",
       "182            WEALTHSMART           UBS SMARTWEALTH       1\n",
       "308            BAILY&BAILY           BAILLY-LAPIERRE       0\n",
       "75   Real Pet Food Company  THE REAL PETFOOD COMPANY       1\n",
       "229           NERO EXPRESS                 NERO NERO       1\n",
       "220              Artigiano        Espresso Artigiano       1\n",
       "80            UP&GO & OATS           ayurvedic up&go       1\n",
       "89                 Izirize                  Liberize       1"
      ]
     },
     "execution_count": 2,
     "metadata": {},
     "output_type": "execute_result"
    }
   ],
   "source": [
    "cases = pd.read_csv('Data.nosync/Similar_TM.csv')\n",
    "cases.sample(20)"
   ]
  },
  {
   "cell_type": "code",
   "execution_count": 3,
   "metadata": {},
   "outputs": [],
   "source": [
    "import unidecode\n",
    "from fuzzywuzzy import fuzz\n",
    "import jellyfish\n",
    "\n",
    "from abydos.distance import (IterativeSubString, BISIM, DiscountedLevenshtein, Prefix, LCSstr, MLIPNS, Strcmp95,\n",
    "MRA, Editex, SAPS, FlexMetric, JaroWinkler, HigueraMico, Sift4, Eudex, ALINE, PhoneticEditDistance)\n",
    "\n",
    "from abydos.phonetic import PSHPSoundexFirst, Ainsworth\n",
    "pshp_soundex_first = PSHPSoundexFirst()\n",
    "pe = Ainsworth()"
   ]
  },
  {
   "cell_type": "code",
   "execution_count": 4,
   "metadata": {},
   "outputs": [],
   "source": [
    "iss = IterativeSubString()\n",
    "bisim = BISIM()\n",
    "dlev = DiscountedLevenshtein()\n",
    "prefix = Prefix()\n",
    "lcs = LCSstr()\n",
    "mlipns = MLIPNS()\n",
    "strcmp95 = Strcmp95()\n",
    "mra = MRA()\n",
    "editex = Editex()\n",
    "saps = SAPS()\n",
    "flexmetric = FlexMetric()\n",
    "jaro = JaroWinkler(mode='Jaro')\n",
    "higuera_mico = HigueraMico()\n",
    "sift4 = Sift4()\n",
    "eudex = Eudex()\n",
    "aline = ALINE()\n",
    "phonetic_edit = PhoneticEditDistance()"
   ]
  },
  {
   "cell_type": "code",
   "execution_count": 5,
   "metadata": {},
   "outputs": [],
   "source": [
    "algos = [iss, bisim, dlev, prefix, lcs, mlipns, strcmp95, mra, editex, saps, flexmetric, jaro, higuera_mico, sift4, eudex,\n",
    "         aline, phonetic_edit]\n",
    "\n",
    "algo_names = ['iterativesubstring', 'bisim', 'discountedlevenshtein', 'prefix', 'lcsstr', 'mlipns', 'strcmp95', 'mra',\n",
    "              'editex', 'saps', 'flexmetric', 'jaro', 'higueramico', 'sift4', 'eudex', 'aline',\n",
    "              'phoneticeditdistance']"
   ]
  },
  {
   "cell_type": "code",
   "execution_count": 6,
   "metadata": {},
   "outputs": [],
   "source": [
    "from abydos.phones import *"
   ]
  },
  {
   "cell_type": "code",
   "execution_count": 7,
   "metadata": {},
   "outputs": [],
   "source": [
    "def sum_ipa(name_a, name_b):\n",
    "    feat1 = ipa_to_features(pe.encode(name_a))\n",
    "    feat2 = ipa_to_features(pe.encode(name_b))\n",
    "    if len(feat1) <= 1:\n",
    "        score = sum(cmp_features(f1, f2) for f1, f2 in zip(feat1, feat2))/1\n",
    "    else:    \n",
    "        score = sum(cmp_features(f1, f2) for f1, f2 in zip(feat1, feat2))/len(feat1)\n",
    "    return score"
   ]
  },
  {
   "cell_type": "code",
   "execution_count": 8,
   "metadata": {},
   "outputs": [],
   "source": [
    "import re"
   ]
  },
  {
   "cell_type": "code",
   "execution_count": 9,
   "metadata": {},
   "outputs": [],
   "source": [
    "from tqdm import tqdm\n",
    "from sklearn.preprocessing import MinMaxScaler\n",
    "\n",
    "def featurize(df):\n",
    "    if len(df.columns)==3:\n",
    "        df.columns=['a', 'b', 'target']\n",
    "    elif len(df.columns)==2:\n",
    "        df.columns=['a', 'b']\n",
    "    else:\n",
    "        df = df.rename(columns={df.columns[0]: 'a', df.columns[1]: 'b' })\n",
    "        \n",
    "    df['TM_A'] = df.apply(lambda row: re.sub(\n",
    "        '[^a-zA-Z]+', '', unidecode.unidecode(row['a']).lower()), axis=1)\n",
    "    df['TM_B'] = df.apply(lambda row: re.sub(\n",
    "        '[^a-zA-Z]+', '', unidecode.unidecode(row['b']).lower()), axis=1)\n",
    "    \n",
    "\n",
    "    df['partial'] = df.apply(lambda row: fuzz.partial_ratio(row.TM_A,row.TM_B), axis=1)\n",
    "    df['tkn_sort'] = df.apply(lambda row: fuzz.token_sort_ratio(row.TM_A,row.TM_B), axis=1)\n",
    "    df['tkn_set'] = df.apply(lambda row: fuzz.token_set_ratio(row.TM_A,row.TM_B), axis=1)\n",
    "    \n",
    "    df['sum_ipa'] = df.apply(lambda row: sum_ipa(row.TM_A,row.TM_B), axis=1)\n",
    "    \n",
    "    # Jellyfish levenshtein\n",
    "    df['levenshtein']= df.apply(lambda row: jellyfish.levenshtein_distance(row.TM_A,row.TM_B), axis=1)\n",
    "    # Scale Levenshtein column\n",
    "    scaler = MinMaxScaler()\n",
    "    df['levenshtein'] = scaler.fit_transform(df['levenshtein'].values.reshape(-1,1))\n",
    "\n",
    "    # Jellyfish phoneme\n",
    "    df['metaphone'] = df.apply(\n",
    "        lambda row: 1 if jellyfish.metaphone(row.TM_A)==jellyfish.metaphone(row.TM_B) else 0, axis=1)\n",
    "    df['nysiis'] = df.apply(\n",
    "        lambda row: 1 if jellyfish.nysiis(row.TM_A)==jellyfish.nysiis(row.TM_B) else 0, axis=1)\n",
    "    df['mtch_rtng_cdx'] = df.apply(\n",
    "        lambda row: 1 if jellyfish.match_rating_codex(row.TM_A)==jellyfish.match_rating_codex(row.TM_B) else 0, axis=1)\n",
    "    \n",
    "    df['pshp_soundex_first'] = df.apply(\n",
    "        lambda row: 1 if pshp_soundex_first.encode(row.TM_A)==pshp_soundex_first.encode(row.TM_B) else 0, axis=1)\n",
    "    \n",
    "    for i, algo in enumerate(algos):\n",
    "            df[algo_names[i]] = df.progress_apply(lambda row: algo.sim(row.TM_A, row.TM_B), axis=1)\n",
    "\n",
    "    \n",
    "    return df"
   ]
  },
  {
   "cell_type": "code",
   "execution_count": 10,
   "metadata": {
    "scrolled": true
   },
   "outputs": [],
   "source": [
    "# featurize(cases)"
   ]
  },
  {
   "cell_type": "markdown",
   "metadata": {},
   "source": [
    "### Class Balancing  \n",
    "We can see that the classes are imbalanced, there are more instances of trademark invalidation than are dismissals."
   ]
  },
  {
   "cell_type": "code",
   "execution_count": 11,
   "metadata": {},
   "outputs": [
    {
     "data": {
      "text/plain": [
       "<matplotlib.axes._subplots.AxesSubplot at 0x7ff3c816a0d0>"
      ]
     },
     "execution_count": 11,
     "metadata": {},
     "output_type": "execute_result"
    },
    {
     "data": {
      "image/png": "[encoded data removed]",
      "text/plain": [
       "<Figure size 432x288 with 1 Axes>"
      ]
     },
     "metadata": {
      "image/png": {
       "height": 248,
       "width": 375
      },
      "needs_background": "light"
     },
     "output_type": "display_data"
    }
   ],
   "source": [
    "cases['target'].value_counts()[:2].plot(kind='bar')\n",
    "\n",
    "# plt.savefig('TM_Unbalanced.png', dpi = 300)"
   ]
  },
  {
   "cell_type": "code",
   "execution_count": 12,
   "metadata": {},
   "outputs": [],
   "source": [
    "from itertools import combinations\n",
    "import random\n",
    "random.seed(42)\n"
   ]
  },
  {
   "cell_type": "code",
   "execution_count": 13,
   "metadata": {},
   "outputs": [
    {
     "data": {
      "text/html": [
       "<div>\n",
       "<style scoped>\n",
       "    .dataframe tbody tr th:only-of-type {\n",
       "        vertical-align: middle;\n",
       "    }\n",
       "\n",
       "    .dataframe tbody tr th {\n",
       "        vertical-align: top;\n",
       "    }\n",
       "\n",
       "    .dataframe thead th {\n",
       "        text-align: right;\n",
       "    }\n",
       "</style>\n",
       "<table border=\"1\" class=\"dataframe\">\n",
       "  <thead>\n",
       "    <tr style=\"text-align: right;\">\n",
       "      <th></th>\n",
       "      <th>TM_A</th>\n",
       "      <th>TM_B</th>\n",
       "    </tr>\n",
       "  </thead>\n",
       "  <tbody>\n",
       "    <tr>\n",
       "      <th>0</th>\n",
       "      <td>UBS SMARTWEALTH</td>\n",
       "      <td>LEPICOL</td>\n",
       "    </tr>\n",
       "    <tr>\n",
       "      <th>1</th>\n",
       "      <td>NeverWeather</td>\n",
       "      <td>SILENT POOL</td>\n",
       "    </tr>\n",
       "    <tr>\n",
       "      <th>2</th>\n",
       "      <td>SOUPEDUP AND JUICED</td>\n",
       "      <td>Oakky</td>\n",
       "    </tr>\n",
       "    <tr>\n",
       "      <th>3</th>\n",
       "      <td>DIXIE UNION</td>\n",
       "      <td>VERVE</td>\n",
       "    </tr>\n",
       "    <tr>\n",
       "      <th>4</th>\n",
       "      <td>CANDEY</td>\n",
       "      <td>ADDICTION</td>\n",
       "    </tr>\n",
       "    <tr>\n",
       "      <th>...</th>\n",
       "      <td>...</td>\n",
       "      <td>...</td>\n",
       "    </tr>\n",
       "    <tr>\n",
       "      <th>1195</th>\n",
       "      <td>SAVVY</td>\n",
       "      <td>UBS SMARTWEALTH</td>\n",
       "    </tr>\n",
       "    <tr>\n",
       "      <th>1196</th>\n",
       "      <td>AEG</td>\n",
       "      <td>TOMMY</td>\n",
       "    </tr>\n",
       "    <tr>\n",
       "      <th>1197</th>\n",
       "      <td>ITP</td>\n",
       "      <td>+ Class View</td>\n",
       "    </tr>\n",
       "    <tr>\n",
       "      <th>1198</th>\n",
       "      <td>DIAL</td>\n",
       "      <td>EDOMIGE</td>\n",
       "    </tr>\n",
       "    <tr>\n",
       "      <th>1199</th>\n",
       "      <td>OPARUS</td>\n",
       "      <td>Cozirc</td>\n",
       "    </tr>\n",
       "  </tbody>\n",
       "</table>\n",
       "<p>1200 rows × 2 columns</p>\n",
       "</div>"
      ],
      "text/plain": [
       "                     TM_A             TM_B\n",
       "0         UBS SMARTWEALTH          LEPICOL\n",
       "1            NeverWeather      SILENT POOL\n",
       "2     SOUPEDUP AND JUICED            Oakky\n",
       "3             DIXIE UNION            VERVE\n",
       "4                  CANDEY        ADDICTION\n",
       "...                   ...              ...\n",
       "1195                SAVVY  UBS SMARTWEALTH\n",
       "1196                  AEG           TOMMY \n",
       "1197                  ITP     + Class View\n",
       "1198                 DIAL          EDOMIGE\n",
       "1199               OPARUS           Cozirc\n",
       "\n",
       "[1200 rows x 2 columns]"
      ]
     },
     "execution_count": 13,
     "metadata": {},
     "output_type": "execute_result"
    }
   ],
   "source": [
    "# Use combinatorics to generate negative class\n",
    "pos_cases = cases[cases['target'] == 1]\n",
    "\n",
    "case_names = pos_cases.loc[:, 'TM_A':'TM_B'].values.tolist()\n",
    "unique_cases = list(set([item for items in case_names for item in items]))\n",
    "alt_pairs = list(zip(pos_cases.TM_A, pos_cases.TM_B))+ list(zip(pos_cases.TM_B, pos_cases.TM_A))\n",
    "comb = list(combinations(unique_cases, 2))\n",
    "nonmatch_cases = list(set(comb) - set(alt_pairs))\n",
    "# Undersample the negative class for 1:4 class imbalance instead of 1:1000 extreme class imbalance\n",
    "nonmatch_cases = pd.DataFrame(random.choices(nonmatch_cases, k=1200), columns=['TM_A', 'TM_B']) # Originally was 1200\n",
    "\n",
    "nonmatch_cases"
   ]
  },
  {
   "cell_type": "code",
   "execution_count": 14,
   "metadata": {},
   "outputs": [
    {
     "name": "stdout",
     "output_type": "stream",
     "text": [
      "positive class ratio 1:4\n"
     ]
    }
   ],
   "source": [
    "print('positive class ratio 1:{}'.format(int(len(nonmatch_cases)/len(pos_cases))))"
   ]
  },
  {
   "cell_type": "code",
   "execution_count": 15,
   "metadata": {},
   "outputs": [
    {
     "data": {
      "text/html": [
       "<div>\n",
       "<style scoped>\n",
       "    .dataframe tbody tr th:only-of-type {\n",
       "        vertical-align: middle;\n",
       "    }\n",
       "\n",
       "    .dataframe tbody tr th {\n",
       "        vertical-align: top;\n",
       "    }\n",
       "\n",
       "    .dataframe thead th {\n",
       "        text-align: right;\n",
       "    }\n",
       "</style>\n",
       "<table border=\"1\" class=\"dataframe\">\n",
       "  <thead>\n",
       "    <tr style=\"text-align: right;\">\n",
       "      <th></th>\n",
       "      <th>TM_A</th>\n",
       "      <th>TM_B</th>\n",
       "    </tr>\n",
       "  </thead>\n",
       "  <tbody>\n",
       "    <tr>\n",
       "      <th>836</th>\n",
       "      <td>Nivalin</td>\n",
       "      <td>UP&amp;GO &amp; OATS</td>\n",
       "    </tr>\n",
       "    <tr>\n",
       "      <th>527</th>\n",
       "      <td>Lumina</td>\n",
       "      <td>KOTO</td>\n",
       "    </tr>\n",
       "    <tr>\n",
       "      <th>107</th>\n",
       "      <td>Oakky</td>\n",
       "      <td>BOOBOO</td>\n",
       "    </tr>\n",
       "    <tr>\n",
       "      <th>174</th>\n",
       "      <td>HELLO DIET</td>\n",
       "      <td>KINKCENTRAL</td>\n",
       "    </tr>\n",
       "    <tr>\n",
       "      <th>1176</th>\n",
       "      <td>BEATRICE.B</td>\n",
       "      <td>K-9</td>\n",
       "    </tr>\n",
       "    <tr>\n",
       "      <th>42</th>\n",
       "      <td>SugarZERO</td>\n",
       "      <td>TREADSTONE</td>\n",
       "    </tr>\n",
       "    <tr>\n",
       "      <th>893</th>\n",
       "      <td>Seycos</td>\n",
       "      <td>Your Maternity Shop</td>\n",
       "    </tr>\n",
       "    <tr>\n",
       "      <th>156</th>\n",
       "      <td>DUNSTON</td>\n",
       "      <td>HiGeen</td>\n",
       "    </tr>\n",
       "    <tr>\n",
       "      <th>455</th>\n",
       "      <td>BLEND IT MILKSHAKES</td>\n",
       "      <td>IFIS</td>\n",
       "    </tr>\n",
       "    <tr>\n",
       "      <th>851</th>\n",
       "      <td>RED BULL</td>\n",
       "      <td>SEARCH SAVVY PR</td>\n",
       "    </tr>\n",
       "    <tr>\n",
       "      <th>1063</th>\n",
       "      <td>Mideltone</td>\n",
       "      <td>DERMAVEEL</td>\n",
       "    </tr>\n",
       "    <tr>\n",
       "      <th>357</th>\n",
       "      <td>Rads</td>\n",
       "      <td>The Science of Stoke</td>\n",
       "    </tr>\n",
       "    <tr>\n",
       "      <th>903</th>\n",
       "      <td>Game of Stones</td>\n",
       "      <td>TIANA</td>\n",
       "    </tr>\n",
       "    <tr>\n",
       "      <th>846</th>\n",
       "      <td>WE</td>\n",
       "      <td>OVO</td>\n",
       "    </tr>\n",
       "    <tr>\n",
       "      <th>409</th>\n",
       "      <td>IT’S AN ADDICTION</td>\n",
       "      <td>The W</td>\n",
       "    </tr>\n",
       "    <tr>\n",
       "      <th>653</th>\n",
       "      <td>DENIM</td>\n",
       "      <td>CASKMATES</td>\n",
       "    </tr>\n",
       "    <tr>\n",
       "      <th>556</th>\n",
       "      <td>WILLOW</td>\n",
       "      <td>Amberstone</td>\n",
       "    </tr>\n",
       "    <tr>\n",
       "      <th>666</th>\n",
       "      <td>Flossies</td>\n",
       "      <td>MEDAX</td>\n",
       "    </tr>\n",
       "    <tr>\n",
       "      <th>560</th>\n",
       "      <td>POUNDLAND</td>\n",
       "      <td>Oli X Oliver</td>\n",
       "    </tr>\n",
       "    <tr>\n",
       "      <th>1107</th>\n",
       "      <td>Royal Oak</td>\n",
       "      <td>Smartworking Summit</td>\n",
       "    </tr>\n",
       "  </tbody>\n",
       "</table>\n",
       "</div>"
      ],
      "text/plain": [
       "                     TM_A                  TM_B\n",
       "836               Nivalin          UP&GO & OATS\n",
       "527                Lumina                  KOTO\n",
       "107                 Oakky                BOOBOO\n",
       "174            HELLO DIET           KINKCENTRAL\n",
       "1176           BEATRICE.B                   K-9\n",
       "42              SugarZERO            TREADSTONE\n",
       "893                Seycos   Your Maternity Shop\n",
       "156               DUNSTON                HiGeen\n",
       "455   BLEND IT MILKSHAKES                  IFIS\n",
       "851              RED BULL       SEARCH SAVVY PR\n",
       "1063            Mideltone             DERMAVEEL\n",
       "357                  Rads  The Science of Stoke\n",
       "903        Game of Stones                 TIANA\n",
       "846                    WE                   OVO\n",
       "409     IT’S AN ADDICTION                 The W\n",
       "653                 DENIM             CASKMATES\n",
       "556                WILLOW            Amberstone\n",
       "666              Flossies                 MEDAX\n",
       "560             POUNDLAND          Oli X Oliver\n",
       "1107            Royal Oak   Smartworking Summit"
      ]
     },
     "execution_count": 15,
     "metadata": {},
     "output_type": "execute_result"
    }
   ],
   "source": [
    "nonmatch_cases.sample(20)"
   ]
  },
  {
   "cell_type": "code",
   "execution_count": 16,
   "metadata": {},
   "outputs": [
    {
     "data": {
      "text/html": [
       "<div>\n",
       "<style scoped>\n",
       "    .dataframe tbody tr th:only-of-type {\n",
       "        vertical-align: middle;\n",
       "    }\n",
       "\n",
       "    .dataframe tbody tr th {\n",
       "        vertical-align: top;\n",
       "    }\n",
       "\n",
       "    .dataframe thead th {\n",
       "        text-align: right;\n",
       "    }\n",
       "</style>\n",
       "<table border=\"1\" class=\"dataframe\">\n",
       "  <thead>\n",
       "    <tr style=\"text-align: right;\">\n",
       "      <th></th>\n",
       "      <th>TM_A</th>\n",
       "      <th>TM_B</th>\n",
       "      <th>target</th>\n",
       "    </tr>\n",
       "  </thead>\n",
       "  <tbody>\n",
       "    <tr>\n",
       "      <th>104</th>\n",
       "      <td>CONNECT.COM</td>\n",
       "      <td>CONNECT AUTO</td>\n",
       "      <td>1</td>\n",
       "    </tr>\n",
       "    <tr>\n",
       "      <th>671</th>\n",
       "      <td>F.A.B. Method</td>\n",
       "      <td>WINSTON</td>\n",
       "      <td>0</td>\n",
       "    </tr>\n",
       "    <tr>\n",
       "      <th>1117</th>\n",
       "      <td>KERV</td>\n",
       "      <td>MULTIVAN</td>\n",
       "      <td>0</td>\n",
       "    </tr>\n",
       "    <tr>\n",
       "      <th>390</th>\n",
       "      <td>The LAD Bible</td>\n",
       "      <td>ADDICTION</td>\n",
       "      <td>0</td>\n",
       "    </tr>\n",
       "    <tr>\n",
       "      <th>569</th>\n",
       "      <td>ANNKE</td>\n",
       "      <td>Point</td>\n",
       "      <td>0</td>\n",
       "    </tr>\n",
       "    <tr>\n",
       "      <th>372</th>\n",
       "      <td>SABIS</td>\n",
       "      <td>WOODLAND</td>\n",
       "      <td>0</td>\n",
       "    </tr>\n",
       "    <tr>\n",
       "      <th>112</th>\n",
       "      <td>Nivalin</td>\n",
       "      <td>Novalin</td>\n",
       "      <td>1</td>\n",
       "    </tr>\n",
       "    <tr>\n",
       "      <th>316</th>\n",
       "      <td>ADVANTAGE HOLIDAYS BY ADVANTAGE</td>\n",
       "      <td>UWELL</td>\n",
       "      <td>0</td>\n",
       "    </tr>\n",
       "    <tr>\n",
       "      <th>154</th>\n",
       "      <td>Magnavoc</td>\n",
       "      <td>GENIE</td>\n",
       "      <td>0</td>\n",
       "    </tr>\n",
       "    <tr>\n",
       "      <th>303</th>\n",
       "      <td>Red Panda</td>\n",
       "      <td>TIANA</td>\n",
       "      <td>0</td>\n",
       "    </tr>\n",
       "    <tr>\n",
       "      <th>79</th>\n",
       "      <td>THE REAL PETFOOD COMPANY</td>\n",
       "      <td>UBS SMARTWEALTH</td>\n",
       "      <td>0</td>\n",
       "    </tr>\n",
       "    <tr>\n",
       "      <th>1074</th>\n",
       "      <td>LECIPHOL</td>\n",
       "      <td>Vapouriz</td>\n",
       "      <td>0</td>\n",
       "    </tr>\n",
       "    <tr>\n",
       "      <th>352</th>\n",
       "      <td>DG FASHION</td>\n",
       "      <td>FRIJJ</td>\n",
       "      <td>0</td>\n",
       "    </tr>\n",
       "    <tr>\n",
       "      <th>573</th>\n",
       "      <td>QIS</td>\n",
       "      <td>RED BULL BBQ GRILLS</td>\n",
       "      <td>0</td>\n",
       "    </tr>\n",
       "    <tr>\n",
       "      <th>348</th>\n",
       "      <td>Mrs Crimble’s</td>\n",
       "      <td>Mimbles</td>\n",
       "      <td>0</td>\n",
       "    </tr>\n",
       "    <tr>\n",
       "      <th>148</th>\n",
       "      <td>CAYA</td>\n",
       "      <td>TOAST IT NOTE</td>\n",
       "      <td>0</td>\n",
       "    </tr>\n",
       "    <tr>\n",
       "      <th>208</th>\n",
       "      <td>SOHO HOUSE</td>\n",
       "      <td>STONE</td>\n",
       "      <td>0</td>\n",
       "    </tr>\n",
       "    <tr>\n",
       "      <th>602</th>\n",
       "      <td>MARNI</td>\n",
       "      <td>DIXIE UNION</td>\n",
       "      <td>0</td>\n",
       "    </tr>\n",
       "    <tr>\n",
       "      <th>215</th>\n",
       "      <td>FOX</td>\n",
       "      <td>60 40 20</td>\n",
       "      <td>0</td>\n",
       "    </tr>\n",
       "    <tr>\n",
       "      <th>42</th>\n",
       "      <td>The Oxford Centre for Christian Apologetics</td>\n",
       "      <td>University of Oxford</td>\n",
       "      <td>1</td>\n",
       "    </tr>\n",
       "  </tbody>\n",
       "</table>\n",
       "</div>"
      ],
      "text/plain": [
       "                                             TM_A                  TM_B  \\\n",
       "104                                   CONNECT.COM          CONNECT AUTO   \n",
       "671                                 F.A.B. Method               WINSTON   \n",
       "1117                                         KERV              MULTIVAN   \n",
       "390                                 The LAD Bible             ADDICTION   \n",
       "569                                         ANNKE                 Point   \n",
       "372                                         SABIS              WOODLAND   \n",
       "112                                       Nivalin               Novalin   \n",
       "316               ADVANTAGE HOLIDAYS BY ADVANTAGE                 UWELL   \n",
       "154                                      Magnavoc                 GENIE   \n",
       "303                                     Red Panda                 TIANA   \n",
       "79                       THE REAL PETFOOD COMPANY       UBS SMARTWEALTH   \n",
       "1074                                     LECIPHOL              Vapouriz   \n",
       "352                                    DG FASHION                 FRIJJ   \n",
       "573                                           QIS   RED BULL BBQ GRILLS   \n",
       "348                                 Mrs Crimble’s               Mimbles   \n",
       "148                                          CAYA         TOAST IT NOTE   \n",
       "208                                    SOHO HOUSE                 STONE   \n",
       "602                                         MARNI           DIXIE UNION   \n",
       "215                                           FOX              60 40 20   \n",
       "42    The Oxford Centre for Christian Apologetics  University of Oxford   \n",
       "\n",
       "      target  \n",
       "104        1  \n",
       "671        0  \n",
       "1117       0  \n",
       "390        0  \n",
       "569        0  \n",
       "372        0  \n",
       "112        1  \n",
       "316        0  \n",
       "154        0  \n",
       "303        0  \n",
       "79         0  \n",
       "1074       0  \n",
       "352        0  \n",
       "573        0  \n",
       "348        0  \n",
       "148        0  \n",
       "208        0  \n",
       "602        0  \n",
       "215        0  \n",
       "42         1  "
      ]
     },
     "execution_count": 16,
     "metadata": {},
     "output_type": "execute_result"
    }
   ],
   "source": [
    "# Negative Class\n",
    "nonmatch_cases['target'] = 0\n",
    "df = pd.concat([pos_cases, nonmatch_cases])\n",
    "# non_match_cases = None\n",
    "# pos_cases = None\n",
    "\n",
    "# Add true negatives\n",
    "neg_cases = cases[cases['target'] == 0]\n",
    "class_balanced = pd.concat([df, neg_cases])\n",
    "\n",
    "class_balanced.sample(20)\n",
    "\n",
    "# class_balanced[class_balanced['TM_B'].str.len()!=0]\n"
   ]
  },
  {
   "cell_type": "code",
   "execution_count": 17,
   "metadata": {},
   "outputs": [
    {
     "data": {
      "text/plain": [
       "<matplotlib.axes._subplots.AxesSubplot at 0x7ff3c821c4f0>"
      ]
     },
     "execution_count": 17,
     "metadata": {},
     "output_type": "execute_result"
    },
    {
     "data": {
      "image/png": "[encoded data removed]",
      "text/plain": [
       "<Figure size 432x288 with 1 Axes>"
      ]
     },
     "metadata": {
      "image/png": {
       "height": 245,
       "width": 381
      },
      "needs_background": "light"
     },
     "output_type": "display_data"
    }
   ],
   "source": [
    "class_balanced['target'].value_counts()[:2].plot(kind='bar')\n",
    "\n",
    "# plt.savefig('TM_Balanced.png', dpi = 300)"
   ]
  },
  {
   "cell_type": "code",
   "execution_count": 18,
   "metadata": {},
   "outputs": [
    {
     "name": "stderr",
     "output_type": "stream",
     "text": [
      "<ipython-input-18-213a59b7ad7e>:1: TqdmExperimentalWarning: Using `tqdm.autonotebook.tqdm` in notebook mode. Use `tqdm.tqdm` instead to force console mode (e.g. in jupyter console)\n",
      "  from tqdm.autonotebook import tqdm\n",
      "/Users/seannguyen/opt/anaconda3/lib/python3.8/site-packages/tqdm/std.py:668: FutureWarning: The Panel class is removed from pandas. Accessing it from the top-level namespace will also be removed in the next version\n",
      "  from pandas import Panel\n"
     ]
    },
    {
     "data": {
      "application/vnd.jupyter.widget-view+json": {
       "model_id": "8a80710af7c849bdb41853a30d24de6a",
       "version_major": 2,
       "version_minor": 0
      },
      "text/plain": [
       "HBox(children=(FloatProgress(value=0.0, max=1557.0), HTML(value='')))"
      ]
     },
     "metadata": {},
     "output_type": "display_data"
    },
    {
     "name": "stdout",
     "output_type": "stream",
     "text": [
      "\n"
     ]
    },
    {
     "data": {
      "application/vnd.jupyter.widget-view+json": {
       "model_id": "46ae59f8e9484d2ba62905a0ed2af3d7",
       "version_major": 2,
       "version_minor": 0
      },
      "text/plain": [
       "HBox(children=(FloatProgress(value=0.0, max=1557.0), HTML(value='')))"
      ]
     },
     "metadata": {},
     "output_type": "display_data"
    },
    {
     "name": "stdout",
     "output_type": "stream",
     "text": [
      "\n"
     ]
    },
    {
     "data": {
      "application/vnd.jupyter.widget-view+json": {
       "model_id": "dc294396d0624fbfab245da158355dda",
       "version_major": 2,
       "version_minor": 0
      },
      "text/plain": [
       "HBox(children=(FloatProgress(value=0.0, max=1557.0), HTML(value='')))"
      ]
     },
     "metadata": {},
     "output_type": "display_data"
    },
    {
     "name": "stdout",
     "output_type": "stream",
     "text": [
      "\n"
     ]
    },
    {
     "data": {
      "application/vnd.jupyter.widget-view+json": {
       "model_id": "1d39051be8fa4fc3bcbb0247b38179cd",
       "version_major": 2,
       "version_minor": 0
      },
      "text/plain": [
       "HBox(children=(FloatProgress(value=0.0, max=1557.0), HTML(value='')))"
      ]
     },
     "metadata": {},
     "output_type": "display_data"
    },
    {
     "name": "stdout",
     "output_type": "stream",
     "text": [
      "\n"
     ]
    },
    {
     "data": {
      "application/vnd.jupyter.widget-view+json": {
       "model_id": "d167bbe1df3a46559d5881eead8e0888",
       "version_major": 2,
       "version_minor": 0
      },
      "text/plain": [
       "HBox(children=(FloatProgress(value=0.0, max=1557.0), HTML(value='')))"
      ]
     },
     "metadata": {},
     "output_type": "display_data"
    },
    {
     "name": "stdout",
     "output_type": "stream",
     "text": [
      "\n"
     ]
    },
    {
     "data": {
      "application/vnd.jupyter.widget-view+json": {
       "model_id": "0d43e3c97859467b914a458aa43ee965",
       "version_major": 2,
       "version_minor": 0
      },
      "text/plain": [
       "HBox(children=(FloatProgress(value=0.0, max=1557.0), HTML(value='')))"
      ]
     },
     "metadata": {},
     "output_type": "display_data"
    },
    {
     "name": "stdout",
     "output_type": "stream",
     "text": [
      "\n"
     ]
    },
    {
     "data": {
      "application/vnd.jupyter.widget-view+json": {
       "model_id": "c98deac3b682421abc7a5ac1f1efa5b7",
       "version_major": 2,
       "version_minor": 0
      },
      "text/plain": [
       "HBox(children=(FloatProgress(value=0.0, max=1557.0), HTML(value='')))"
      ]
     },
     "metadata": {},
     "output_type": "display_data"
    },
    {
     "name": "stdout",
     "output_type": "stream",
     "text": [
      "\n"
     ]
    },
    {
     "data": {
      "application/vnd.jupyter.widget-view+json": {
       "model_id": "e314a7060eac4736a693cc3d1fb99a77",
       "version_major": 2,
       "version_minor": 0
      },
      "text/plain": [
       "HBox(children=(FloatProgress(value=0.0, max=1557.0), HTML(value='')))"
      ]
     },
     "metadata": {},
     "output_type": "display_data"
    },
    {
     "name": "stdout",
     "output_type": "stream",
     "text": [
      "\n"
     ]
    },
    {
     "data": {
      "application/vnd.jupyter.widget-view+json": {
       "model_id": "c4c3db3d0e32409aa6aff7e93dff5c71",
       "version_major": 2,
       "version_minor": 0
      },
      "text/plain": [
       "HBox(children=(FloatProgress(value=0.0, max=1557.0), HTML(value='')))"
      ]
     },
     "metadata": {},
     "output_type": "display_data"
    },
    {
     "name": "stdout",
     "output_type": "stream",
     "text": [
      "\n"
     ]
    },
    {
     "data": {
      "application/vnd.jupyter.widget-view+json": {
       "model_id": "0918843f262940698dbff771027d279d",
       "version_major": 2,
       "version_minor": 0
      },
      "text/plain": [
       "HBox(children=(FloatProgress(value=0.0, max=1557.0), HTML(value='')))"
      ]
     },
     "metadata": {},
     "output_type": "display_data"
    },
    {
     "name": "stdout",
     "output_type": "stream",
     "text": [
      "\n"
     ]
    },
    {
     "data": {
      "application/vnd.jupyter.widget-view+json": {
       "model_id": "ab5ac29c151c4f088cacae6e8984e5c4",
       "version_major": 2,
       "version_minor": 0
      },
      "text/plain": [
       "HBox(children=(FloatProgress(value=0.0, max=1557.0), HTML(value='')))"
      ]
     },
     "metadata": {},
     "output_type": "display_data"
    },
    {
     "name": "stdout",
     "output_type": "stream",
     "text": [
      "\n"
     ]
    },
    {
     "data": {
      "application/vnd.jupyter.widget-view+json": {
       "model_id": "d2918959ae4542798b77c44fe8a8d05d",
       "version_major": 2,
       "version_minor": 0
      },
      "text/plain": [
       "HBox(children=(FloatProgress(value=0.0, max=1557.0), HTML(value='')))"
      ]
     },
     "metadata": {},
     "output_type": "display_data"
    },
    {
     "name": "stdout",
     "output_type": "stream",
     "text": [
      "\n"
     ]
    },
    {
     "data": {
      "application/vnd.jupyter.widget-view+json": {
       "model_id": "2f6a54faeb88437fadc88c0c9eea9949",
       "version_major": 2,
       "version_minor": 0
      },
      "text/plain": [
       "HBox(children=(FloatProgress(value=0.0, max=1557.0), HTML(value='')))"
      ]
     },
     "metadata": {},
     "output_type": "display_data"
    },
    {
     "name": "stdout",
     "output_type": "stream",
     "text": [
      "\n"
     ]
    },
    {
     "data": {
      "application/vnd.jupyter.widget-view+json": {
       "model_id": "f6177d53a9834c49bd40576b72f78b07",
       "version_major": 2,
       "version_minor": 0
      },
      "text/plain": [
       "HBox(children=(FloatProgress(value=0.0, max=1557.0), HTML(value='')))"
      ]
     },
     "metadata": {},
     "output_type": "display_data"
    },
    {
     "name": "stdout",
     "output_type": "stream",
     "text": [
      "\n"
     ]
    },
    {
     "data": {
      "application/vnd.jupyter.widget-view+json": {
       "model_id": "b452e8fb36504c65a33f347e10b14e39",
       "version_major": 2,
       "version_minor": 0
      },
      "text/plain": [
       "HBox(children=(FloatProgress(value=0.0, max=1557.0), HTML(value='')))"
      ]
     },
     "metadata": {},
     "output_type": "display_data"
    },
    {
     "name": "stdout",
     "output_type": "stream",
     "text": [
      "\n"
     ]
    },
    {
     "data": {
      "application/vnd.jupyter.widget-view+json": {
       "model_id": "c7b1c33e6ca34d6495f8a9d508466c21",
       "version_major": 2,
       "version_minor": 0
      },
      "text/plain": [
       "HBox(children=(FloatProgress(value=0.0, max=1557.0), HTML(value='')))"
      ]
     },
     "metadata": {},
     "output_type": "display_data"
    },
    {
     "name": "stdout",
     "output_type": "stream",
     "text": [
      "\n"
     ]
    },
    {
     "data": {
      "application/vnd.jupyter.widget-view+json": {
       "model_id": "a1691f74bc86438497be2870f0aa7ade",
       "version_major": 2,
       "version_minor": 0
      },
      "text/plain": [
       "HBox(children=(FloatProgress(value=0.0, max=1557.0), HTML(value='')))"
      ]
     },
     "metadata": {},
     "output_type": "display_data"
    },
    {
     "name": "stdout",
     "output_type": "stream",
     "text": [
      "\n"
     ]
    },
    {
     "data": {
      "text/html": [
       "<div>\n",
       "<style scoped>\n",
       "    .dataframe tbody tr th:only-of-type {\n",
       "        vertical-align: middle;\n",
       "    }\n",
       "\n",
       "    .dataframe tbody tr th {\n",
       "        vertical-align: top;\n",
       "    }\n",
       "\n",
       "    .dataframe thead th {\n",
       "        text-align: right;\n",
       "    }\n",
       "</style>\n",
       "<table border=\"1\" class=\"dataframe\">\n",
       "  <thead>\n",
       "    <tr style=\"text-align: right;\">\n",
       "      <th></th>\n",
       "      <th>a</th>\n",
       "      <th>b</th>\n",
       "      <th>target</th>\n",
       "      <th>TM_A</th>\n",
       "      <th>TM_B</th>\n",
       "      <th>partial</th>\n",
       "      <th>tkn_sort</th>\n",
       "      <th>tkn_set</th>\n",
       "      <th>sum_ipa</th>\n",
       "      <th>levenshtein</th>\n",
       "      <th>metaphone</th>\n",
       "      <th>nysiis</th>\n",
       "      <th>mtch_rtng_cdx</th>\n",
       "      <th>pshp_soundex_first</th>\n",
       "      <th>iterativesubstring</th>\n",
       "      <th>bisim</th>\n",
       "      <th>discountedlevenshtein</th>\n",
       "      <th>prefix</th>\n",
       "      <th>lcsstr</th>\n",
       "      <th>mlipns</th>\n",
       "      <th>strcmp95</th>\n",
       "      <th>mra</th>\n",
       "      <th>editex</th>\n",
       "      <th>saps</th>\n",
       "      <th>flexmetric</th>\n",
       "      <th>jaro</th>\n",
       "      <th>higueramico</th>\n",
       "      <th>sift4</th>\n",
       "      <th>eudex</th>\n",
       "      <th>aline</th>\n",
       "      <th>phoneticeditdistance</th>\n",
       "    </tr>\n",
       "  </thead>\n",
       "  <tbody>\n",
       "    <tr>\n",
       "      <th>627</th>\n",
       "      <td>PURE IPR</td>\n",
       "      <td>LIFESTYLE</td>\n",
       "      <td>0</td>\n",
       "      <td>pureipr</td>\n",
       "      <td>lifestyle</td>\n",
       "      <td>14</td>\n",
       "      <td>12</td>\n",
       "      <td>12</td>\n",
       "      <td>0.592166</td>\n",
       "      <td>0.222222</td>\n",
       "      <td>0</td>\n",
       "      <td>0</td>\n",
       "      <td>0</td>\n",
       "      <td>0</td>\n",
       "      <td>0.000000</td>\n",
       "      <td>0.111111</td>\n",
       "      <td>0.113592</td>\n",
       "      <td>0.000000</td>\n",
       "      <td>0.111111</td>\n",
       "      <td>0.0</td>\n",
       "      <td>0.361376</td>\n",
       "      <td>0.000000</td>\n",
       "      <td>0.222222</td>\n",
       "      <td>0.000000</td>\n",
       "      <td>0.288889</td>\n",
       "      <td>0.335979</td>\n",
       "      <td>0.097222</td>\n",
       "      <td>0.111111</td>\n",
       "      <td>0.585784</td>\n",
       "      <td>0.274468</td>\n",
       "      <td>0.614695</td>\n",
       "    </tr>\n",
       "    <tr>\n",
       "      <th>1127</th>\n",
       "      <td>Lumina</td>\n",
       "      <td>ITP</td>\n",
       "      <td>0</td>\n",
       "      <td>lumina</td>\n",
       "      <td>itp</td>\n",
       "      <td>33</td>\n",
       "      <td>22</td>\n",
       "      <td>22</td>\n",
       "      <td>0.322581</td>\n",
       "      <td>0.138889</td>\n",
       "      <td>0</td>\n",
       "      <td>0</td>\n",
       "      <td>0</td>\n",
       "      <td>0</td>\n",
       "      <td>0.000000</td>\n",
       "      <td>0.166667</td>\n",
       "      <td>0.203911</td>\n",
       "      <td>0.000000</td>\n",
       "      <td>0.166667</td>\n",
       "      <td>0.0</td>\n",
       "      <td>0.000000</td>\n",
       "      <td>0.000000</td>\n",
       "      <td>0.166667</td>\n",
       "      <td>0.000000</td>\n",
       "      <td>0.183333</td>\n",
       "      <td>0.000000</td>\n",
       "      <td>0.050000</td>\n",
       "      <td>0.166667</td>\n",
       "      <td>0.792647</td>\n",
       "      <td>0.200000</td>\n",
       "      <td>0.422043</td>\n",
       "    </tr>\n",
       "    <tr>\n",
       "      <th>82</th>\n",
       "      <td>DIXY CHICKEN</td>\n",
       "      <td>Trucool</td>\n",
       "      <td>0</td>\n",
       "      <td>dixychicken</td>\n",
       "      <td>trucool</td>\n",
       "      <td>14</td>\n",
       "      <td>11</td>\n",
       "      <td>11</td>\n",
       "      <td>0.413490</td>\n",
       "      <td>0.277778</td>\n",
       "      <td>0</td>\n",
       "      <td>0</td>\n",
       "      <td>0</td>\n",
       "      <td>0</td>\n",
       "      <td>0.000000</td>\n",
       "      <td>0.090909</td>\n",
       "      <td>0.115776</td>\n",
       "      <td>0.000000</td>\n",
       "      <td>0.090909</td>\n",
       "      <td>0.0</td>\n",
       "      <td>0.481385</td>\n",
       "      <td>0.000000</td>\n",
       "      <td>0.318182</td>\n",
       "      <td>0.000000</td>\n",
       "      <td>0.409091</td>\n",
       "      <td>0.411255</td>\n",
       "      <td>0.027525</td>\n",
       "      <td>0.090909</td>\n",
       "      <td>0.842157</td>\n",
       "      <td>0.180328</td>\n",
       "      <td>0.570381</td>\n",
       "    </tr>\n",
       "    <tr>\n",
       "      <th>1197</th>\n",
       "      <td>ITP</td>\n",
       "      <td>+ Class View</td>\n",
       "      <td>0</td>\n",
       "      <td>itp</td>\n",
       "      <td>classview</td>\n",
       "      <td>33</td>\n",
       "      <td>17</td>\n",
       "      <td>17</td>\n",
       "      <td>0.682796</td>\n",
       "      <td>0.222222</td>\n",
       "      <td>0</td>\n",
       "      <td>0</td>\n",
       "      <td>0</td>\n",
       "      <td>0</td>\n",
       "      <td>0.000000</td>\n",
       "      <td>0.111111</td>\n",
       "      <td>0.151813</td>\n",
       "      <td>0.000000</td>\n",
       "      <td>0.111111</td>\n",
       "      <td>0.0</td>\n",
       "      <td>0.000000</td>\n",
       "      <td>0.000000</td>\n",
       "      <td>0.277778</td>\n",
       "      <td>0.000000</td>\n",
       "      <td>0.300000</td>\n",
       "      <td>0.000000</td>\n",
       "      <td>0.000000</td>\n",
       "      <td>0.000000</td>\n",
       "      <td>0.537255</td>\n",
       "      <td>0.197872</td>\n",
       "      <td>0.301075</td>\n",
       "    </tr>\n",
       "    <tr>\n",
       "      <th>749</th>\n",
       "      <td>GAZIANTEPLILER PASTANESI</td>\n",
       "      <td>Karex</td>\n",
       "      <td>0</td>\n",
       "      <td>gazianteplilerpastanesi</td>\n",
       "      <td>karex</td>\n",
       "      <td>40</td>\n",
       "      <td>21</td>\n",
       "      <td>21</td>\n",
       "      <td>0.148668</td>\n",
       "      <td>0.555556</td>\n",
       "      <td>0</td>\n",
       "      <td>0</td>\n",
       "      <td>0</td>\n",
       "      <td>0</td>\n",
       "      <td>0.000000</td>\n",
       "      <td>0.086957</td>\n",
       "      <td>0.145664</td>\n",
       "      <td>0.000000</td>\n",
       "      <td>0.043478</td>\n",
       "      <td>0.0</td>\n",
       "      <td>0.544348</td>\n",
       "      <td>0.000000</td>\n",
       "      <td>0.173913</td>\n",
       "      <td>0.000000</td>\n",
       "      <td>0.234783</td>\n",
       "      <td>0.495652</td>\n",
       "      <td>0.000000</td>\n",
       "      <td>0.086957</td>\n",
       "      <td>0.862255</td>\n",
       "      <td>0.120661</td>\n",
       "      <td>0.206872</td>\n",
       "    </tr>\n",
       "    <tr>\n",
       "      <th>391</th>\n",
       "      <td>Galaxy Print Finishing</td>\n",
       "      <td>SABIS</td>\n",
       "      <td>0</td>\n",
       "      <td>galaxyprintfinishing</td>\n",
       "      <td>sabis</td>\n",
       "      <td>40</td>\n",
       "      <td>24</td>\n",
       "      <td>24</td>\n",
       "      <td>0.203226</td>\n",
       "      <td>0.472222</td>\n",
       "      <td>0</td>\n",
       "      <td>0</td>\n",
       "      <td>0</td>\n",
       "      <td>0</td>\n",
       "      <td>0.000000</td>\n",
       "      <td>0.125000</td>\n",
       "      <td>0.170936</td>\n",
       "      <td>0.000000</td>\n",
       "      <td>0.100000</td>\n",
       "      <td>0.0</td>\n",
       "      <td>0.525000</td>\n",
       "      <td>0.000000</td>\n",
       "      <td>0.200000</td>\n",
       "      <td>0.000000</td>\n",
       "      <td>0.265000</td>\n",
       "      <td>0.500000</td>\n",
       "      <td>0.000000</td>\n",
       "      <td>0.050000</td>\n",
       "      <td>0.762255</td>\n",
       "      <td>0.183036</td>\n",
       "      <td>0.240323</td>\n",
       "    </tr>\n",
       "    <tr>\n",
       "      <th>56</th>\n",
       "      <td>SYNDIKAT</td>\n",
       "      <td>SIMTEC</td>\n",
       "      <td>0</td>\n",
       "      <td>syndikat</td>\n",
       "      <td>simtec</td>\n",
       "      <td>33</td>\n",
       "      <td>43</td>\n",
       "      <td>43</td>\n",
       "      <td>0.721774</td>\n",
       "      <td>0.194444</td>\n",
       "      <td>0</td>\n",
       "      <td>0</td>\n",
       "      <td>0</td>\n",
       "      <td>1</td>\n",
       "      <td>0.050000</td>\n",
       "      <td>0.312500</td>\n",
       "      <td>0.185192</td>\n",
       "      <td>0.166667</td>\n",
       "      <td>0.125000</td>\n",
       "      <td>0.0</td>\n",
       "      <td>0.615278</td>\n",
       "      <td>0.000000</td>\n",
       "      <td>0.437500</td>\n",
       "      <td>0.000000</td>\n",
       "      <td>0.550000</td>\n",
       "      <td>0.527778</td>\n",
       "      <td>0.209921</td>\n",
       "      <td>0.375000</td>\n",
       "      <td>0.900980</td>\n",
       "      <td>0.575000</td>\n",
       "      <td>0.713710</td>\n",
       "    </tr>\n",
       "    <tr>\n",
       "      <th>155</th>\n",
       "      <td>PACIFICO</td>\n",
       "      <td>The Oxford Centre for Christian Apologetics</td>\n",
       "      <td>0</td>\n",
       "      <td>pacifico</td>\n",
       "      <td>theoxfordcentreforchristianapologetics</td>\n",
       "      <td>38</td>\n",
       "      <td>17</td>\n",
       "      <td>17</td>\n",
       "      <td>0.745968</td>\n",
       "      <td>0.944444</td>\n",
       "      <td>0</td>\n",
       "      <td>0</td>\n",
       "      <td>0</td>\n",
       "      <td>0</td>\n",
       "      <td>0.000000</td>\n",
       "      <td>0.092105</td>\n",
       "      <td>0.119707</td>\n",
       "      <td>0.000000</td>\n",
       "      <td>0.052632</td>\n",
       "      <td>0.0</td>\n",
       "      <td>0.497588</td>\n",
       "      <td>0.000000</td>\n",
       "      <td>0.210526</td>\n",
       "      <td>0.000000</td>\n",
       "      <td>0.311842</td>\n",
       "      <td>0.452193</td>\n",
       "      <td>0.000000</td>\n",
       "      <td>0.052632</td>\n",
       "      <td>0.654902</td>\n",
       "      <td>0.113333</td>\n",
       "      <td>0.199491</td>\n",
       "    </tr>\n",
       "    <tr>\n",
       "      <th>1030</th>\n",
       "      <td>BIOBUSTER</td>\n",
       "      <td>Eden Aesthetics</td>\n",
       "      <td>0</td>\n",
       "      <td>biobuster</td>\n",
       "      <td>edenaesthetics</td>\n",
       "      <td>33</td>\n",
       "      <td>26</td>\n",
       "      <td>26</td>\n",
       "      <td>0.706093</td>\n",
       "      <td>0.305556</td>\n",
       "      <td>0</td>\n",
       "      <td>0</td>\n",
       "      <td>0</td>\n",
       "      <td>0</td>\n",
       "      <td>0.000000</td>\n",
       "      <td>0.178571</td>\n",
       "      <td>0.184989</td>\n",
       "      <td>0.000000</td>\n",
       "      <td>0.142857</td>\n",
       "      <td>0.0</td>\n",
       "      <td>0.459524</td>\n",
       "      <td>0.000000</td>\n",
       "      <td>0.321429</td>\n",
       "      <td>0.000000</td>\n",
       "      <td>0.442857</td>\n",
       "      <td>0.404762</td>\n",
       "      <td>0.148834</td>\n",
       "      <td>0.214286</td>\n",
       "      <td>0.456863</td>\n",
       "      <td>0.352703</td>\n",
       "      <td>0.555300</td>\n",
       "    </tr>\n",
       "    <tr>\n",
       "      <th>238</th>\n",
       "      <td>Tailor-Tee</td>\n",
       "      <td>IQOS</td>\n",
       "      <td>0</td>\n",
       "      <td>tailortee</td>\n",
       "      <td>iqos</td>\n",
       "      <td>50</td>\n",
       "      <td>31</td>\n",
       "      <td>31</td>\n",
       "      <td>0.385305</td>\n",
       "      <td>0.194444</td>\n",
       "      <td>0</td>\n",
       "      <td>0</td>\n",
       "      <td>0</td>\n",
       "      <td>0</td>\n",
       "      <td>0.000000</td>\n",
       "      <td>0.222222</td>\n",
       "      <td>0.255086</td>\n",
       "      <td>0.000000</td>\n",
       "      <td>0.111111</td>\n",
       "      <td>0.0</td>\n",
       "      <td>0.574074</td>\n",
       "      <td>0.000000</td>\n",
       "      <td>0.333333</td>\n",
       "      <td>0.000000</td>\n",
       "      <td>0.522222</td>\n",
       "      <td>0.574074</td>\n",
       "      <td>0.032143</td>\n",
       "      <td>0.222222</td>\n",
       "      <td>0.599020</td>\n",
       "      <td>0.139535</td>\n",
       "      <td>0.399642</td>\n",
       "    </tr>\n",
       "    <tr>\n",
       "      <th>1196</th>\n",
       "      <td>AEG</td>\n",
       "      <td>TOMMY</td>\n",
       "      <td>0</td>\n",
       "      <td>aeg</td>\n",
       "      <td>tommy</td>\n",
       "      <td>0</td>\n",
       "      <td>0</td>\n",
       "      <td>0</td>\n",
       "      <td>0.681452</td>\n",
       "      <td>0.138889</td>\n",
       "      <td>0</td>\n",
       "      <td>0</td>\n",
       "      <td>0</td>\n",
       "      <td>0</td>\n",
       "      <td>0.000000</td>\n",
       "      <td>0.000000</td>\n",
       "      <td>0.036078</td>\n",
       "      <td>0.000000</td>\n",
       "      <td>0.000000</td>\n",
       "      <td>0.0</td>\n",
       "      <td>0.000000</td>\n",
       "      <td>0.000000</td>\n",
       "      <td>0.300000</td>\n",
       "      <td>0.000000</td>\n",
       "      <td>0.360000</td>\n",
       "      <td>0.000000</td>\n",
       "      <td>0.000000</td>\n",
       "      <td>0.000000</td>\n",
       "      <td>0.809804</td>\n",
       "      <td>0.111111</td>\n",
       "      <td>0.438710</td>\n",
       "    </tr>\n",
       "    <tr>\n",
       "      <th>721</th>\n",
       "      <td>RAWPIXEL</td>\n",
       "      <td>London Resi</td>\n",
       "      <td>0</td>\n",
       "      <td>rawpixel</td>\n",
       "      <td>londonresi</td>\n",
       "      <td>25</td>\n",
       "      <td>22</td>\n",
       "      <td>22</td>\n",
       "      <td>0.699597</td>\n",
       "      <td>0.250000</td>\n",
       "      <td>0</td>\n",
       "      <td>0</td>\n",
       "      <td>0</td>\n",
       "      <td>0</td>\n",
       "      <td>0.000000</td>\n",
       "      <td>0.150000</td>\n",
       "      <td>0.078770</td>\n",
       "      <td>0.000000</td>\n",
       "      <td>0.100000</td>\n",
       "      <td>0.0</td>\n",
       "      <td>0.520833</td>\n",
       "      <td>0.000000</td>\n",
       "      <td>0.250000</td>\n",
       "      <td>0.000000</td>\n",
       "      <td>0.170000</td>\n",
       "      <td>0.408333</td>\n",
       "      <td>0.088889</td>\n",
       "      <td>0.100000</td>\n",
       "      <td>0.866667</td>\n",
       "      <td>0.283333</td>\n",
       "      <td>0.654839</td>\n",
       "    </tr>\n",
       "    <tr>\n",
       "      <th>1047</th>\n",
       "      <td>ANNKE</td>\n",
       "      <td>THEUNIBIBLE</td>\n",
       "      <td>0</td>\n",
       "      <td>annke</td>\n",
       "      <td>theunibible</td>\n",
       "      <td>20</td>\n",
       "      <td>25</td>\n",
       "      <td>25</td>\n",
       "      <td>0.683871</td>\n",
       "      <td>0.250000</td>\n",
       "      <td>0</td>\n",
       "      <td>0</td>\n",
       "      <td>0</td>\n",
       "      <td>0</td>\n",
       "      <td>0.000000</td>\n",
       "      <td>0.136364</td>\n",
       "      <td>0.187684</td>\n",
       "      <td>0.000000</td>\n",
       "      <td>0.090909</td>\n",
       "      <td>0.0</td>\n",
       "      <td>0.389697</td>\n",
       "      <td>0.000000</td>\n",
       "      <td>0.272727</td>\n",
       "      <td>0.000000</td>\n",
       "      <td>0.345455</td>\n",
       "      <td>0.360606</td>\n",
       "      <td>0.000000</td>\n",
       "      <td>0.090909</td>\n",
       "      <td>0.750980</td>\n",
       "      <td>0.207018</td>\n",
       "      <td>0.403226</td>\n",
       "    </tr>\n",
       "    <tr>\n",
       "      <th>430</th>\n",
       "      <td>AIRBLUE</td>\n",
       "      <td>Seycos</td>\n",
       "      <td>0</td>\n",
       "      <td>airblue</td>\n",
       "      <td>seycos</td>\n",
       "      <td>17</td>\n",
       "      <td>15</td>\n",
       "      <td>15</td>\n",
       "      <td>0.585253</td>\n",
       "      <td>0.194444</td>\n",
       "      <td>0</td>\n",
       "      <td>0</td>\n",
       "      <td>0</td>\n",
       "      <td>0</td>\n",
       "      <td>0.000000</td>\n",
       "      <td>0.071429</td>\n",
       "      <td>0.000000</td>\n",
       "      <td>0.000000</td>\n",
       "      <td>0.142857</td>\n",
       "      <td>0.0</td>\n",
       "      <td>0.000000</td>\n",
       "      <td>0.000000</td>\n",
       "      <td>0.142857</td>\n",
       "      <td>0.000000</td>\n",
       "      <td>0.142857</td>\n",
       "      <td>0.000000</td>\n",
       "      <td>0.000000</td>\n",
       "      <td>0.000000</td>\n",
       "      <td>0.722059</td>\n",
       "      <td>0.160606</td>\n",
       "      <td>0.594470</td>\n",
       "    </tr>\n",
       "    <tr>\n",
       "      <th>189</th>\n",
       "      <td>MICRONCLEAN</td>\n",
       "      <td>MICRON</td>\n",
       "      <td>1</td>\n",
       "      <td>micronclean</td>\n",
       "      <td>micron</td>\n",
       "      <td>100</td>\n",
       "      <td>71</td>\n",
       "      <td>71</td>\n",
       "      <td>0.600000</td>\n",
       "      <td>0.138889</td>\n",
       "      <td>0</td>\n",
       "      <td>0</td>\n",
       "      <td>0</td>\n",
       "      <td>1</td>\n",
       "      <td>0.911765</td>\n",
       "      <td>0.545455</td>\n",
       "      <td>0.646030</td>\n",
       "      <td>1.000000</td>\n",
       "      <td>0.545455</td>\n",
       "      <td>0.0</td>\n",
       "      <td>0.909091</td>\n",
       "      <td>0.666667</td>\n",
       "      <td>0.590909</td>\n",
       "      <td>0.225806</td>\n",
       "      <td>0.650000</td>\n",
       "      <td>0.848485</td>\n",
       "      <td>0.430123</td>\n",
       "      <td>0.545455</td>\n",
       "      <td>0.861765</td>\n",
       "      <td>0.557377</td>\n",
       "      <td>0.545455</td>\n",
       "    </tr>\n",
       "    <tr>\n",
       "      <th>72</th>\n",
       "      <td>DERMAWELL</td>\n",
       "      <td>Organised Mum</td>\n",
       "      <td>0</td>\n",
       "      <td>dermawell</td>\n",
       "      <td>organisedmum</td>\n",
       "      <td>33</td>\n",
       "      <td>29</td>\n",
       "      <td>29</td>\n",
       "      <td>0.669355</td>\n",
       "      <td>0.277778</td>\n",
       "      <td>0</td>\n",
       "      <td>0</td>\n",
       "      <td>0</td>\n",
       "      <td>0</td>\n",
       "      <td>0.000000</td>\n",
       "      <td>0.250000</td>\n",
       "      <td>0.180399</td>\n",
       "      <td>0.000000</td>\n",
       "      <td>0.083333</td>\n",
       "      <td>0.0</td>\n",
       "      <td>0.605556</td>\n",
       "      <td>0.000000</td>\n",
       "      <td>0.208333</td>\n",
       "      <td>0.000000</td>\n",
       "      <td>0.345833</td>\n",
       "      <td>0.527778</td>\n",
       "      <td>0.187296</td>\n",
       "      <td>0.250000</td>\n",
       "      <td>0.675490</td>\n",
       "      <td>0.251563</td>\n",
       "      <td>0.579301</td>\n",
       "    </tr>\n",
       "    <tr>\n",
       "      <th>217</th>\n",
       "      <td>SUB4</td>\n",
       "      <td>RELATED</td>\n",
       "      <td>0</td>\n",
       "      <td>sub</td>\n",
       "      <td>related</td>\n",
       "      <td>0</td>\n",
       "      <td>0</td>\n",
       "      <td>0</td>\n",
       "      <td>0.709677</td>\n",
       "      <td>0.194444</td>\n",
       "      <td>0</td>\n",
       "      <td>0</td>\n",
       "      <td>0</td>\n",
       "      <td>0</td>\n",
       "      <td>0.000000</td>\n",
       "      <td>0.000000</td>\n",
       "      <td>0.058188</td>\n",
       "      <td>0.000000</td>\n",
       "      <td>0.000000</td>\n",
       "      <td>0.0</td>\n",
       "      <td>0.000000</td>\n",
       "      <td>0.000000</td>\n",
       "      <td>0.071429</td>\n",
       "      <td>0.000000</td>\n",
       "      <td>0.314286</td>\n",
       "      <td>0.000000</td>\n",
       "      <td>0.000000</td>\n",
       "      <td>0.000000</td>\n",
       "      <td>0.660784</td>\n",
       "      <td>0.305405</td>\n",
       "      <td>0.377880</td>\n",
       "    </tr>\n",
       "    <tr>\n",
       "      <th>228</th>\n",
       "      <td>WHOLE FOODS MARKET</td>\n",
       "      <td>PROGAIN</td>\n",
       "      <td>0</td>\n",
       "      <td>wholefoodsmarket</td>\n",
       "      <td>progain</td>\n",
       "      <td>29</td>\n",
       "      <td>17</td>\n",
       "      <td>17</td>\n",
       "      <td>0.414392</td>\n",
       "      <td>0.388889</td>\n",
       "      <td>0</td>\n",
       "      <td>0</td>\n",
       "      <td>0</td>\n",
       "      <td>0</td>\n",
       "      <td>0.000000</td>\n",
       "      <td>0.125000</td>\n",
       "      <td>0.142778</td>\n",
       "      <td>0.000000</td>\n",
       "      <td>0.062500</td>\n",
       "      <td>0.0</td>\n",
       "      <td>0.531845</td>\n",
       "      <td>0.000000</td>\n",
       "      <td>0.312500</td>\n",
       "      <td>0.000000</td>\n",
       "      <td>0.362500</td>\n",
       "      <td>0.470238</td>\n",
       "      <td>0.000000</td>\n",
       "      <td>0.062500</td>\n",
       "      <td>0.765686</td>\n",
       "      <td>0.196429</td>\n",
       "      <td>0.402218</td>\n",
       "    </tr>\n",
       "    <tr>\n",
       "      <th>555</th>\n",
       "      <td>BRITISH GREEN GAS</td>\n",
       "      <td>EPONIM</td>\n",
       "      <td>0</td>\n",
       "      <td>britishgreengas</td>\n",
       "      <td>eponim</td>\n",
       "      <td>33</td>\n",
       "      <td>19</td>\n",
       "      <td>19</td>\n",
       "      <td>0.362283</td>\n",
       "      <td>0.388889</td>\n",
       "      <td>0</td>\n",
       "      <td>0</td>\n",
       "      <td>0</td>\n",
       "      <td>0</td>\n",
       "      <td>0.000000</td>\n",
       "      <td>0.133333</td>\n",
       "      <td>0.106179</td>\n",
       "      <td>0.000000</td>\n",
       "      <td>0.066667</td>\n",
       "      <td>0.0</td>\n",
       "      <td>0.504444</td>\n",
       "      <td>0.000000</td>\n",
       "      <td>0.266667</td>\n",
       "      <td>0.000000</td>\n",
       "      <td>0.306667</td>\n",
       "      <td>0.411111</td>\n",
       "      <td>0.000000</td>\n",
       "      <td>0.066667</td>\n",
       "      <td>0.479412</td>\n",
       "      <td>0.160000</td>\n",
       "      <td>0.363441</td>\n",
       "    </tr>\n",
       "    <tr>\n",
       "      <th>1129</th>\n",
       "      <td>Supersonic</td>\n",
       "      <td>GREY FAMOUSLY EFFECTIVE</td>\n",
       "      <td>0</td>\n",
       "      <td>supersonic</td>\n",
       "      <td>greyfamouslyeffective</td>\n",
       "      <td>30</td>\n",
       "      <td>19</td>\n",
       "      <td>19</td>\n",
       "      <td>0.692082</td>\n",
       "      <td>0.500000</td>\n",
       "      <td>0</td>\n",
       "      <td>0</td>\n",
       "      <td>0</td>\n",
       "      <td>0</td>\n",
       "      <td>0.000000</td>\n",
       "      <td>0.142857</td>\n",
       "      <td>0.157217</td>\n",
       "      <td>0.000000</td>\n",
       "      <td>0.047619</td>\n",
       "      <td>0.0</td>\n",
       "      <td>0.546984</td>\n",
       "      <td>0.000000</td>\n",
       "      <td>0.333333</td>\n",
       "      <td>0.000000</td>\n",
       "      <td>0.383333</td>\n",
       "      <td>0.517460</td>\n",
       "      <td>0.000000</td>\n",
       "      <td>0.095238</td>\n",
       "      <td>0.667647</td>\n",
       "      <td>0.244860</td>\n",
       "      <td>0.430108</td>\n",
       "    </tr>\n",
       "  </tbody>\n",
       "</table>\n",
       "</div>"
      ],
      "text/plain": [
       "                             a                                            b  \\\n",
       "627                   PURE IPR                                    LIFESTYLE   \n",
       "1127                    Lumina                                          ITP   \n",
       "82                DIXY CHICKEN                                      Trucool   \n",
       "1197                       ITP                                 + Class View   \n",
       "749   GAZIANTEPLILER PASTANESI                                        Karex   \n",
       "391     Galaxy Print Finishing                                        SABIS   \n",
       "56                    SYNDIKAT                                       SIMTEC   \n",
       "155                   PACIFICO  The Oxford Centre for Christian Apologetics   \n",
       "1030                 BIOBUSTER                              Eden Aesthetics   \n",
       "238                 Tailor-Tee                                         IQOS   \n",
       "1196                       AEG                                       TOMMY    \n",
       "721                   RAWPIXEL                                  London Resi   \n",
       "1047                     ANNKE                                  THEUNIBIBLE   \n",
       "430                    AIRBLUE                                       Seycos   \n",
       "189                MICRONCLEAN                                       MICRON   \n",
       "72                   DERMAWELL                                Organised Mum   \n",
       "217                       SUB4                                      RELATED   \n",
       "228         WHOLE FOODS MARKET                                      PROGAIN   \n",
       "555          BRITISH GREEN GAS                                       EPONIM   \n",
       "1129                Supersonic                      GREY FAMOUSLY EFFECTIVE   \n",
       "\n",
       "      target                     TM_A                                    TM_B  \\\n",
       "627        0                  pureipr                               lifestyle   \n",
       "1127       0                   lumina                                     itp   \n",
       "82         0              dixychicken                                 trucool   \n",
       "1197       0                      itp                               classview   \n",
       "749        0  gazianteplilerpastanesi                                   karex   \n",
       "391        0     galaxyprintfinishing                                   sabis   \n",
       "56         0                 syndikat                                  simtec   \n",
       "155        0                 pacifico  theoxfordcentreforchristianapologetics   \n",
       "1030       0                biobuster                          edenaesthetics   \n",
       "238        0                tailortee                                    iqos   \n",
       "1196       0                      aeg                                   tommy   \n",
       "721        0                 rawpixel                              londonresi   \n",
       "1047       0                    annke                             theunibible   \n",
       "430        0                  airblue                                  seycos   \n",
       "189        1              micronclean                                  micron   \n",
       "72         0                dermawell                            organisedmum   \n",
       "217        0                      sub                                 related   \n",
       "228        0         wholefoodsmarket                                 progain   \n",
       "555        0          britishgreengas                                  eponim   \n",
       "1129       0               supersonic                   greyfamouslyeffective   \n",
       "\n",
       "      partial  tkn_sort  tkn_set   sum_ipa  levenshtein  metaphone  nysiis  \\\n",
       "627        14        12       12  0.592166     0.222222          0       0   \n",
       "1127       33        22       22  0.322581     0.138889          0       0   \n",
       "82         14        11       11  0.413490     0.277778          0       0   \n",
       "1197       33        17       17  0.682796     0.222222          0       0   \n",
       "749        40        21       21  0.148668     0.555556          0       0   \n",
       "391        40        24       24  0.203226     0.472222          0       0   \n",
       "56         33        43       43  0.721774     0.194444          0       0   \n",
       "155        38        17       17  0.745968     0.944444          0       0   \n",
       "1030       33        26       26  0.706093     0.305556          0       0   \n",
       "238        50        31       31  0.385305     0.194444          0       0   \n",
       "1196        0         0        0  0.681452     0.138889          0       0   \n",
       "721        25        22       22  0.699597     0.250000          0       0   \n",
       "1047       20        25       25  0.683871     0.250000          0       0   \n",
       "430        17        15       15  0.585253     0.194444          0       0   \n",
       "189       100        71       71  0.600000     0.138889          0       0   \n",
       "72         33        29       29  0.669355     0.277778          0       0   \n",
       "217         0         0        0  0.709677     0.194444          0       0   \n",
       "228        29        17       17  0.414392     0.388889          0       0   \n",
       "555        33        19       19  0.362283     0.388889          0       0   \n",
       "1129       30        19       19  0.692082     0.500000          0       0   \n",
       "\n",
       "      mtch_rtng_cdx  pshp_soundex_first  iterativesubstring     bisim  \\\n",
       "627               0                   0            0.000000  0.111111   \n",
       "1127              0                   0            0.000000  0.166667   \n",
       "82                0                   0            0.000000  0.090909   \n",
       "1197              0                   0            0.000000  0.111111   \n",
       "749               0                   0            0.000000  0.086957   \n",
       "391               0                   0            0.000000  0.125000   \n",
       "56                0                   1            0.050000  0.312500   \n",
       "155               0                   0            0.000000  0.092105   \n",
       "1030              0                   0            0.000000  0.178571   \n",
       "238               0                   0            0.000000  0.222222   \n",
       "1196              0                   0            0.000000  0.000000   \n",
       "721               0                   0            0.000000  0.150000   \n",
       "1047              0                   0            0.000000  0.136364   \n",
       "430               0                   0            0.000000  0.071429   \n",
       "189               0                   1            0.911765  0.545455   \n",
       "72                0                   0            0.000000  0.250000   \n",
       "217               0                   0            0.000000  0.000000   \n",
       "228               0                   0            0.000000  0.125000   \n",
       "555               0                   0            0.000000  0.133333   \n",
       "1129              0                   0            0.000000  0.142857   \n",
       "\n",
       "      discountedlevenshtein    prefix    lcsstr  mlipns  strcmp95       mra  \\\n",
       "627                0.113592  0.000000  0.111111     0.0  0.361376  0.000000   \n",
       "1127               0.203911  0.000000  0.166667     0.0  0.000000  0.000000   \n",
       "82                 0.115776  0.000000  0.090909     0.0  0.481385  0.000000   \n",
       "1197               0.151813  0.000000  0.111111     0.0  0.000000  0.000000   \n",
       "749                0.145664  0.000000  0.043478     0.0  0.544348  0.000000   \n",
       "391                0.170936  0.000000  0.100000     0.0  0.525000  0.000000   \n",
       "56                 0.185192  0.166667  0.125000     0.0  0.615278  0.000000   \n",
       "155                0.119707  0.000000  0.052632     0.0  0.497588  0.000000   \n",
       "1030               0.184989  0.000000  0.142857     0.0  0.459524  0.000000   \n",
       "238                0.255086  0.000000  0.111111     0.0  0.574074  0.000000   \n",
       "1196               0.036078  0.000000  0.000000     0.0  0.000000  0.000000   \n",
       "721                0.078770  0.000000  0.100000     0.0  0.520833  0.000000   \n",
       "1047               0.187684  0.000000  0.090909     0.0  0.389697  0.000000   \n",
       "430                0.000000  0.000000  0.142857     0.0  0.000000  0.000000   \n",
       "189                0.646030  1.000000  0.545455     0.0  0.909091  0.666667   \n",
       "72                 0.180399  0.000000  0.083333     0.0  0.605556  0.000000   \n",
       "217                0.058188  0.000000  0.000000     0.0  0.000000  0.000000   \n",
       "228                0.142778  0.000000  0.062500     0.0  0.531845  0.000000   \n",
       "555                0.106179  0.000000  0.066667     0.0  0.504444  0.000000   \n",
       "1129               0.157217  0.000000  0.047619     0.0  0.546984  0.000000   \n",
       "\n",
       "        editex      saps  flexmetric      jaro  higueramico     sift4  \\\n",
       "627   0.222222  0.000000    0.288889  0.335979     0.097222  0.111111   \n",
       "1127  0.166667  0.000000    0.183333  0.000000     0.050000  0.166667   \n",
       "82    0.318182  0.000000    0.409091  0.411255     0.027525  0.090909   \n",
       "1197  0.277778  0.000000    0.300000  0.000000     0.000000  0.000000   \n",
       "749   0.173913  0.000000    0.234783  0.495652     0.000000  0.086957   \n",
       "391   0.200000  0.000000    0.265000  0.500000     0.000000  0.050000   \n",
       "56    0.437500  0.000000    0.550000  0.527778     0.209921  0.375000   \n",
       "155   0.210526  0.000000    0.311842  0.452193     0.000000  0.052632   \n",
       "1030  0.321429  0.000000    0.442857  0.404762     0.148834  0.214286   \n",
       "238   0.333333  0.000000    0.522222  0.574074     0.032143  0.222222   \n",
       "1196  0.300000  0.000000    0.360000  0.000000     0.000000  0.000000   \n",
       "721   0.250000  0.000000    0.170000  0.408333     0.088889  0.100000   \n",
       "1047  0.272727  0.000000    0.345455  0.360606     0.000000  0.090909   \n",
       "430   0.142857  0.000000    0.142857  0.000000     0.000000  0.000000   \n",
       "189   0.590909  0.225806    0.650000  0.848485     0.430123  0.545455   \n",
       "72    0.208333  0.000000    0.345833  0.527778     0.187296  0.250000   \n",
       "217   0.071429  0.000000    0.314286  0.000000     0.000000  0.000000   \n",
       "228   0.312500  0.000000    0.362500  0.470238     0.000000  0.062500   \n",
       "555   0.266667  0.000000    0.306667  0.411111     0.000000  0.066667   \n",
       "1129  0.333333  0.000000    0.383333  0.517460     0.000000  0.095238   \n",
       "\n",
       "         eudex     aline  phoneticeditdistance  \n",
       "627   0.585784  0.274468              0.614695  \n",
       "1127  0.792647  0.200000              0.422043  \n",
       "82    0.842157  0.180328              0.570381  \n",
       "1197  0.537255  0.197872              0.301075  \n",
       "749   0.862255  0.120661              0.206872  \n",
       "391   0.762255  0.183036              0.240323  \n",
       "56    0.900980  0.575000              0.713710  \n",
       "155   0.654902  0.113333              0.199491  \n",
       "1030  0.456863  0.352703              0.555300  \n",
       "238   0.599020  0.139535              0.399642  \n",
       "1196  0.809804  0.111111              0.438710  \n",
       "721   0.866667  0.283333              0.654839  \n",
       "1047  0.750980  0.207018              0.403226  \n",
       "430   0.722059  0.160606              0.594470  \n",
       "189   0.861765  0.557377              0.545455  \n",
       "72    0.675490  0.251563              0.579301  \n",
       "217   0.660784  0.305405              0.377880  \n",
       "228   0.765686  0.196429              0.402218  \n",
       "555   0.479412  0.160000              0.363441  \n",
       "1129  0.667647  0.244860              0.430108  "
      ]
     },
     "execution_count": 18,
     "metadata": {},
     "output_type": "execute_result"
    }
   ],
   "source": [
    "from tqdm.autonotebook import tqdm\n",
    "tqdm.pandas()\n",
    "\n",
    "df = featurize(class_balanced)\n",
    "df.sample(20)"
   ]
  },
  {
   "cell_type": "markdown",
   "metadata": {},
   "source": [
    "#### Export clean data to csv"
   ]
  },
  {
   "cell_type": "code",
   "execution_count": null,
   "metadata": {},
   "outputs": [],
   "source": [
    "# df.to_csv('Data.nosync/TM_features.csv', index=False)  "
   ]
  },
  {
   "cell_type": "code",
   "execution_count": 20,
   "metadata": {},
   "outputs": [],
   "source": [
    "y = df.target\n",
    "X = df.drop(columns = 'target')"
   ]
  },
  {
   "cell_type": "code",
   "execution_count": 21,
   "metadata": {},
   "outputs": [],
   "source": [
    "from sklearn.model_selection import train_test_split"
   ]
  },
  {
   "cell_type": "code",
   "execution_count": 22,
   "metadata": {},
   "outputs": [],
   "source": [
    "X_train, X_test, y_train, y_test = train_test_split(X, y, test_size=0.20, random_state=42)"
   ]
  },
  {
   "cell_type": "code",
   "execution_count": null,
   "metadata": {},
   "outputs": [],
   "source": [
    "#X_train.drop(['a', 'b', 'TM_A', 'TM_B'],1)"
   ]
  },
  {
   "cell_type": "markdown",
   "metadata": {},
   "source": [
    "## TPOT AutoML pipeline"
   ]
  },
  {
   "cell_type": "code",
   "execution_count": null,
   "metadata": {},
   "outputs": [],
   "source": [
    "from tpot import TPOTClassifier"
   ]
  },
  {
   "cell_type": "code",
   "execution_count": null,
   "metadata": {},
   "outputs": [],
   "source": [
    "# pipeline_optimizer = TPOTClassifier(\n",
    "#         scoring = 'f1', \n",
    "#         generations=100,\n",
    "#         verbosity=2,\n",
    "#         n_jobs=-1   # Utilizes all available CPU cores\n",
    "#         ) \n",
    "# pipeline_optimizer.fit(X_train.drop(['a', 'b', 'TM_A', 'TM_B'],1), y_train)"
   ]
  },
  {
   "cell_type": "code",
   "execution_count": null,
   "metadata": {},
   "outputs": [],
   "source": [
    "# print(pipeline_optimizer.score(X_test.drop(['a', 'b', 'TM_A', 'TM_B'], 1), y_test))"
   ]
  },
  {
   "cell_type": "markdown",
   "metadata": {},
   "source": [
    "### Export TPOT pipeline"
   ]
  },
  {
   "cell_type": "code",
   "execution_count": null,
   "metadata": {},
   "outputs": [],
   "source": [
    "# pipeline_optimizer.export('tpot_exported_calssifier_pipeline.py')"
   ]
  },
  {
   "cell_type": "markdown",
   "metadata": {},
   "source": [
    "### Load TPOT pipeline"
   ]
  },
  {
   "cell_type": "code",
   "execution_count": null,
   "metadata": {},
   "outputs": [],
   "source": [
    "df_TPOT = df.drop(columns = ['a','b','TM_A','TM_B'])\n",
    "df_TPOT"
   ]
  },
  {
   "cell_type": "code",
   "execution_count": null,
   "metadata": {},
   "outputs": [],
   "source": [
    "import numpy as np\n",
    "import pandas as pd\n",
    "from sklearn.ensemble import GradientBoostingClassifier\n",
    "from sklearn.model_selection import train_test_split\n",
    "from sklearn.pipeline import make_pipeline, make_union\n",
    "from tpot.builtins import StackingEstimator\n",
    "from sklearn.preprocessing import FunctionTransformer\n",
    "from copy import copy\n",
    "\n",
    "# NOTE: Make sure that the outcome column is labeled 'target' in the data file\n",
    "tpot_data = df_TPOT\n",
    "features = tpot_data.drop('target', axis=1)\n",
    "training_features, testing_features, training_target, testing_target = \\\n",
    "            train_test_split(features, tpot_data['target'], random_state=None)\n",
    "\n",
    "# Average CV score on the training set was: 0.8945711361541637\n",
    "exported_pipeline = make_pipeline(\n",
    "    make_union(\n",
    "        FunctionTransformer(copy),\n",
    "        FunctionTransformer(copy)\n",
    "    ),\n",
    "    GradientBoostingClassifier(learning_rate=0.01, max_depth=3, max_features=0.5,\n",
    "                               min_samples_leaf=10, min_samples_split=3, \n",
    "                               n_estimators=100, subsample=0.9500000000000001)\n",
    ")\n",
    "\n",
    "exported_pipeline.fit(training_features, training_target)\n",
    "results = exported_pipeline.predict(testing_features)\n",
    "\n",
    "results"
   ]
  },
  {
   "cell_type": "code",
   "execution_count": null,
   "metadata": {},
   "outputs": [],
   "source": [
    "def base_model_1(X_train, y_train, X_test, export = False) :\n",
    "    exported_pipeline = make_pipeline(\n",
    "    GradientBoostingClassifier(\n",
    "        learning_rate=0.01, \n",
    "        max_depth=3, max_features=0.5,\n",
    "        min_samples_leaf=10, min_samples_split=3, \n",
    "        n_estimators=100, subsample=0.9500000000000001)\n",
    "    )\n",
    "\n",
    "    exported_pipeline.fit(X_train, y_train)\n",
    "    if export==True:\n",
    "        return exported_pipeline\n",
    "    else:\n",
    "        y_pred = exported_pipeline.predict_proba(X_test)\n",
    "        return [p[1] for p in y_pred]"
   ]
  },
  {
   "cell_type": "code",
   "execution_count": null,
   "metadata": {},
   "outputs": [],
   "source": [
    "base_model_1(X_train.drop(['a', 'b', 'TM_A', 'TM_B'],1), \n",
    "             y_train, X_test.drop(['a', 'b', 'TM_A', 'TM_B'], 1))"
   ]
  },
  {
   "cell_type": "markdown",
   "metadata": {},
   "source": [
    "# K-fold cross validation"
   ]
  },
  {
   "cell_type": "code",
   "execution_count": null,
   "metadata": {},
   "outputs": [],
   "source": [
    "from sklearn.model_selection import StratifiedKFold"
   ]
  },
  {
   "cell_type": "code",
   "execution_count": null,
   "metadata": {
    "scrolled": true
   },
   "outputs": [],
   "source": [
    "pd.options.mode.chained_assignment = None\n",
    "\n",
    "# Stratified K-Folds cross-validator\n",
    "meta_training = pd.DataFrame()\n",
    "\n",
    "stratified_kfold = StratifiedKFold(n_splits=10, shuffle=True, random_state=1)\n",
    "\n",
    "fold = 1\n",
    "for train_index, test_index in stratified_kfold.split(X, y):\n",
    "    X_train, X_test = X.iloc[train_index], X.iloc[test_index]\n",
    "    y_train, y_test = y.iloc[train_index], y.iloc[test_index]\n",
    "    \n",
    "    oof_pred = X_test[['TM_A', 'TM_B']]\n",
    "    \n",
    "    oof_pred['predict_proba'] = base_model_1(X_train.drop(['a', 'b', 'TM_A', 'TM_B'], 1),\n",
    "                                      y_train,\n",
    "                                      X_test.drop(['a', 'b', 'TM_A', 'TM_B'], 1))\n",
    "    \n",
    "    oof_pred['target'] = y_test.tolist()\n",
    "    \n",
    "    print('completed fold {} of 10'.format(fold))\n",
    "    fold += 1\n",
    "\n",
    "    meta_training = meta_training.append(oof_pred)"
   ]
  },
  {
   "cell_type": "code",
   "execution_count": null,
   "metadata": {},
   "outputs": [],
   "source": [
    "meta_training.sample(20)"
   ]
  },
  {
   "cell_type": "markdown",
   "metadata": {},
   "source": [
    "### Meta-Model: Logistic Regression"
   ]
  },
  {
   "cell_type": "code",
   "execution_count": null,
   "metadata": {},
   "outputs": [],
   "source": [
    "df=featurize(meta_training)"
   ]
  },
  {
   "cell_type": "code",
   "execution_count": null,
   "metadata": {},
   "outputs": [],
   "source": [
    "df.sample(20)"
   ]
  },
  {
   "cell_type": "markdown",
   "metadata": {},
   "source": [
    "### Evaluate Gradient Boosting Classifier"
   ]
  },
  {
   "cell_type": "code",
   "execution_count": null,
   "metadata": {},
   "outputs": [],
   "source": [
    "from sklearn.metrics import classification_report, confusion_matrix\n",
    "from sklearn.ensemble import GradientBoostingClassifier\n",
    "\n",
    "gb_clf2 = GradientBoostingClassifier(learning_rate=0.01, \n",
    "        max_depth=3, max_features=0.5,\n",
    "        min_samples_leaf=10, min_samples_split=3, \n",
    "        n_estimators=100, subsample=0.9500000000000001)\n",
    "gb_clf2.fit(X_train.drop(['a', 'b', 'TM_A', 'TM_B'], 1), y_train)\n",
    "predictions = gb_clf2.predict(X_test.drop(['a', 'b', 'TM_A', 'TM_B'], 1))\n",
    "\n",
    "print(\"Confusion Matrix:\")\n",
    "print(confusion_matrix(y_test, predictions))\n",
    "\n",
    "print(\"Classification Report\")\n",
    "print(classification_report(y_test, predictions))"
   ]
  },
  {
   "cell_type": "code",
   "execution_count": null,
   "metadata": {},
   "outputs": [],
   "source": [
    "predictions"
   ]
  },
  {
   "cell_type": "code",
   "execution_count": null,
   "metadata": {},
   "outputs": [],
   "source": [
    "# df_confusion.to_csv('TM_GBC_Confusion_matrix.csv')"
   ]
  },
  {
   "cell_type": "code",
   "execution_count": null,
   "metadata": {},
   "outputs": [],
   "source": [
    "# roc curve and auc\n",
    "from sklearn.metrics import roc_curve\n",
    "from sklearn.metrics import roc_auc_score\n",
    "import matplotlib.pyplot as plt"
   ]
  },
  {
   "cell_type": "code",
   "execution_count": null,
   "metadata": {},
   "outputs": [],
   "source": [
    "fig, ax = plt.subplots(1,1, figsize=(7,7))\n",
    "baseline_probs = [0 for _ in range(len(y_test))]\n",
    "\n",
    "# keep probabilities for the positive outcome only\n",
    "probs = gb_clf2.predict_proba(X_test.drop(['a', 'b', 'TM_A', 'TM_B'], 1))\n",
    "probs = probs[:, 1]\n",
    "\n",
    "# calculate scores\n",
    "baseline_auc = roc_auc_score(y_test, baseline_probs)\n",
    "auc = roc_auc_score(y_test, probs)\n",
    "auc = ('AUC=%.3f' % (auc))\n",
    "\n",
    "# calculate roc curves\n",
    "baseline_fpr, baseline_tpr, _ = roc_curve(y_test, baseline_probs)\n",
    "fpr, tpr, _ = roc_curve(y_test, probs)\n",
    "\n",
    "# plot the roc curve for the model\n",
    "ax.plot(baseline_fpr, baseline_tpr, color='gray')\n",
    "ax.plot(fpr, tpr, marker='.', color='black')\n",
    "\n",
    "# axis labels\n",
    "ax.set_xlabel('False Positive Rate',fontsize=12)\n",
    "ax.set_ylabel('True Positive Rate',fontsize=12)\n",
    "ax.set_title('Receiver Operating Characteristic', fontsize=16)\n",
    "plt.text(.6, .3, auc, fontsize=13)\n",
    "\n",
    "# plt.savefig('TM_GBC_ROC.png', dpi = 300)"
   ]
  },
  {
   "cell_type": "code",
   "execution_count": null,
   "metadata": {},
   "outputs": [],
   "source": [
    "import seaborn as sns\n",
    "\n",
    "corr = df.corr()\n",
    "sns.heatmap(corr, xticklabels=corr.columns.values,\n",
    "            yticklabels=corr.columns.values, annot = True,\n",
    "            cmap=\"YlGnBu_r\")\n",
    "heat_map=plt.gcf()\n",
    "heat_map.set_size_inches(20,15)\n",
    "plt.xticks(fontsize=10)\n",
    "plt.yticks(fontsize=10)\n",
    "plt.show()"
   ]
  },
  {
   "cell_type": "markdown",
   "metadata": {},
   "source": [
    "# XGboost"
   ]
  },
  {
   "cell_type": "code",
   "execution_count": null,
   "metadata": {},
   "outputs": [],
   "source": [
    "from sklearn.metrics import auc, accuracy_score, confusion_matrix, mean_squared_error\n",
    "from sklearn.model_selection import cross_val_score, GridSearchCV, KFold, RandomizedSearchCV, train_test_split\n",
    "\n",
    "import xgboost as xgb\n",
    "\n",
    "y = df.target\n",
    "X = df.drop(columns = ['target','predict_proba'])\n",
    "\n",
    "X_train, X_test, y_train, y_test = train_test_split(X, y, test_size=0.20, random_state=42)"
   ]
  },
  {
   "cell_type": "code",
   "execution_count": null,
   "metadata": {},
   "outputs": [],
   "source": [
    "D_train = xgb.DMatrix(X_train.drop(['a', 'b', 'TM_A', 'TM_B'], 1), label=y_train)\n",
    "D_test = xgb.DMatrix(X_test.drop(['a', 'b', 'TM_A', 'TM_B'], 1), label=y_test)\n",
    "\n",
    "param = {\n",
    "    'eta': 0.3, \n",
    "    'max_depth': 3,  \n",
    "    'objective': 'multi:softprob',  \n",
    "    'num_class': 3}\n",
    "\n",
    "steps = 20  # The number of training iterations\n",
    "\n",
    "xgbmodel = xgb.train(param, D_train, steps)"
   ]
  },
  {
   "cell_type": "code",
   "execution_count": null,
   "metadata": {},
   "outputs": [],
   "source": [
    "import numpy as np\n",
    "from sklearn.metrics import precision_score, recall_score, accuracy_score\n",
    "\n",
    "preds = xgbmodel.predict(D_test)\n",
    "best_preds = np.asarray([np.argmax(line) for line in preds])\n",
    "\n",
    "print(\"Precision = {}\".format(precision_score(y_test, best_preds, average='macro')))\n",
    "print(\"Recall = {}\".format(recall_score(y_test, best_preds, average='macro')))\n",
    "print(\"Accuracy = {}\".format(accuracy_score(y_test, best_preds)))"
   ]
  },
  {
   "cell_type": "code",
   "execution_count": null,
   "metadata": {},
   "outputs": [],
   "source": [
    "from sklearn.model_selection import GridSearchCV\n",
    "\n",
    "clf = xgb.XGBClassifier()\n",
    "parameters = {\n",
    "     \"eta\"    : [0.05, 0.10, 0.15, 0.20, 0.25, 0.30 ] ,\n",
    "     \"max_depth\"        : [ 3, 4, 5, 6, 8, 10, 12, 15],\n",
    "     \"min_child_weight\" : [ 1, 3, 5, 7 ],\n",
    "     \"gamma\"            : [ 0.0, 0.1, 0.2 , 0.3, 0.4 ],\n",
    "     \"colsample_bytree\" : [ 0.3, 0.4, 0.5 , 0.7 ]\n",
    "     }\n",
    "\n",
    "grid = GridSearchCV(clf,\n",
    "                    parameters, n_jobs=4,\n",
    "                    scoring=\"neg_log_loss\",\n",
    "                    cv=10)\n",
    "\n",
    "grid.fit(X_train.drop(['a', 'b', 'TM_A', 'TM_B'], 1), y_train)"
   ]
  },
  {
   "cell_type": "code",
   "execution_count": null,
   "metadata": {},
   "outputs": [],
   "source": [
    "import pickle\n",
    "\n",
    "# Dictionary of best parameters\n",
    "best_pars = grid.best_params_\n",
    "# Best XGB model that was found based on the metric score you specify\n",
    "best_model = grid.best_estimator_\n",
    "# Save model\n",
    "# pickle.dump(grid.best_estimator_, open(\"Data.nosync/TM_XGboost_classifier.pkl\", \"wb\"))"
   ]
  },
  {
   "cell_type": "markdown",
   "metadata": {},
   "source": [
    "### Test saved model"
   ]
  },
  {
   "cell_type": "code",
   "execution_count": 23,
   "metadata": {},
   "outputs": [
    {
     "name": "stdout",
     "output_type": "stream",
     "text": [
      "0.9519230769230769\n"
     ]
    }
   ],
   "source": [
    "import pickle\n",
    "import numpy as np\n",
    "\n",
    "# load the model from disk\n",
    "loaded_model = pickle.load(open(\"Data.nosync/TM_XGboost_classifier.pkl\", 'rb'))\n",
    "result = loaded_model.score(X_test.drop(['a', 'b', 'TM_A', 'TM_B'], 1), y_test)\n",
    "print(result)"
   ]
  },
  {
   "cell_type": "code",
   "execution_count": 26,
   "metadata": {},
   "outputs": [
    {
     "data": {
      "text/plain": [
       "[0.66269153,\n",
       " 0.8952138,\n",
       " 0.0062926686,\n",
       " 0.005451213,\n",
       " 0.005086109,\n",
       " 0.6184402,\n",
       " 0.6965233,\n",
       " 0.006455301,\n",
       " 0.005086109,\n",
       " 0.073286995,\n",
       " 0.8925104,\n",
       " 0.0176966,\n",
       " 0.005086109,\n",
       " 0.7895966,\n",
       " 0.005588669,\n",
       " 0.016065467,\n",
       " 0.005248141,\n",
       " 0.005086109,\n",
       " 0.7486737,\n",
       " 0.023591796,\n",
       " 0.3498808,\n",
       " 0.017419038,\n",
       " 0.005248141,\n",
       " 0.007751674,\n",
       " 0.91489357,\n",
       " 0.006934082,\n",
       " 0.85752624,\n",
       " 0.91340494,\n",
       " 0.83272535,\n",
       " 0.005086109,\n",
       " 0.0052247136,\n",
       " 0.91905504,\n",
       " 0.005086109,\n",
       " 0.0072437595,\n",
       " 0.016220106,\n",
       " 0.005086109,\n",
       " 0.7622635,\n",
       " 0.005086109,\n",
       " 0.010455422,\n",
       " 0.013005878,\n",
       " 0.8270256,\n",
       " 0.44341785,\n",
       " 0.005086109,\n",
       " 0.0062463186,\n",
       " 0.0060976255,\n",
       " 0.005086109,\n",
       " 0.8655519,\n",
       " 0.0055997116,\n",
       " 0.006314867,\n",
       " 0.005086109,\n",
       " 0.007331088,\n",
       " 0.005086109,\n",
       " 0.8046192,\n",
       " 0.0060670525,\n",
       " 0.023354523,\n",
       " 0.035249777,\n",
       " 0.36473787,\n",
       " 0.006000083,\n",
       " 0.005248141,\n",
       " 0.00666589,\n",
       " 0.005086109,\n",
       " 0.005086109,\n",
       " 0.8959903,\n",
       " 0.005248141,\n",
       " 0.0052247136,\n",
       " 0.55314326,\n",
       " 0.0060670525,\n",
       " 0.8250887,\n",
       " 0.005086109,\n",
       " 0.008535243,\n",
       " 0.005086109,\n",
       " 0.005086109,\n",
       " 0.005086109,\n",
       " 0.0063603693,\n",
       " 0.006521625,\n",
       " 0.008542719,\n",
       " 0.85652816,\n",
       " 0.0060670525,\n",
       " 0.7995454,\n",
       " 0.0074740127,\n",
       " 0.005086109,\n",
       " 0.06174106,\n",
       " 0.005086109,\n",
       " 0.015514503,\n",
       " 0.89823985,\n",
       " 0.8938576,\n",
       " 0.9460026,\n",
       " 0.7736818,\n",
       " 0.005086109,\n",
       " 0.8681129,\n",
       " 0.017762678,\n",
       " 0.0060976255,\n",
       " 0.0072437595,\n",
       " 0.005086109,\n",
       " 0.005086109,\n",
       " 0.0061910506,\n",
       " 0.8350321,\n",
       " 0.006934082,\n",
       " 0.005086109,\n",
       " 0.005086109,\n",
       " 0.010190034,\n",
       " 0.058063883,\n",
       " 0.005086109,\n",
       " 0.0052247136,\n",
       " 0.033049956,\n",
       " 0.8734613,\n",
       " 0.93162555,\n",
       " 0.005588669,\n",
       " 0.9457174,\n",
       " 0.005086109,\n",
       " 0.020051803,\n",
       " 0.005086109,\n",
       " 0.0076154424,\n",
       " 0.03139484,\n",
       " 0.005309399,\n",
       " 0.0060670525,\n",
       " 0.73952526,\n",
       " 0.44460878,\n",
       " 0.76550496,\n",
       " 0.005086109,\n",
       " 0.008049996,\n",
       " 0.005086109,\n",
       " 0.0066207186,\n",
       " 0.8383324,\n",
       " 0.005086109,\n",
       " 0.006521625,\n",
       " 0.005086109,\n",
       " 0.0131757995,\n",
       " 0.005086109,\n",
       " 0.005282945,\n",
       " 0.006000083,\n",
       " 0.008153564,\n",
       " 0.005086109,\n",
       " 0.72723055,\n",
       " 0.026477221,\n",
       " 0.9132533,\n",
       " 0.08716639,\n",
       " 0.0053055,\n",
       " 0.006673668,\n",
       " 0.00666589,\n",
       " 0.09602214,\n",
       " 0.9268194,\n",
       " 0.006502113,\n",
       " 0.026316617,\n",
       " 0.005248141,\n",
       " 0.005086109,\n",
       " 0.005086109,\n",
       " 0.0052247136,\n",
       " 0.007457272,\n",
       " 0.005086109,\n",
       " 0.008322848,\n",
       " 0.008957604,\n",
       " 0.005086109,\n",
       " 0.0075416425,\n",
       " 0.0052247136,\n",
       " 0.810167,\n",
       " 0.039466564,\n",
       " 0.0060670525,\n",
       " 0.0060976255,\n",
       " 0.005086109,\n",
       " 0.006000083,\n",
       " 0.0074145333,\n",
       " 0.4874053,\n",
       " 0.0060976255,\n",
       " 0.64451176,\n",
       " 0.024392331,\n",
       " 0.005588669,\n",
       " 0.401399,\n",
       " 0.0052247136,\n",
       " 0.91553295,\n",
       " 0.75977266,\n",
       " 0.1259883,\n",
       " 0.005086109,\n",
       " 0.0053055,\n",
       " 0.08356373,\n",
       " 0.005248141,\n",
       " 0.041973032,\n",
       " 0.8898581,\n",
       " 0.84600854,\n",
       " 0.3272037,\n",
       " 0.0060670525,\n",
       " 0.005086109,\n",
       " 0.08254995,\n",
       " 0.006120104,\n",
       " 0.005086109,\n",
       " 0.005905767,\n",
       " 0.007422581,\n",
       " 0.0052247136,\n",
       " 0.014420942,\n",
       " 0.014769094,\n",
       " 0.0052247136,\n",
       " 0.005086109,\n",
       " 0.0060670525,\n",
       " 0.005086109,\n",
       " 0.008026465,\n",
       " 0.008307426,\n",
       " 0.005086109,\n",
       " 0.16635866,\n",
       " 0.005086109,\n",
       " 0.90117216,\n",
       " 0.875411,\n",
       " 0.006592354,\n",
       " 0.21642601,\n",
       " 0.0060670525,\n",
       " 0.005426884,\n",
       " 0.68246174,\n",
       " 0.0068636215,\n",
       " 0.008056194,\n",
       " 0.0071920543,\n",
       " 0.01003994,\n",
       " 0.8046192,\n",
       " 0.005086109,\n",
       " 0.019770045,\n",
       " 0.9011296,\n",
       " 0.0069906716,\n",
       " 0.005086109,\n",
       " 0.005086109,\n",
       " 0.0070436765,\n",
       " 0.006000083,\n",
       " 0.048579056,\n",
       " 0.005086109,\n",
       " 0.005086109,\n",
       " 0.005086109,\n",
       " 0.7224782,\n",
       " 0.0071560405,\n",
       " 0.0052247136,\n",
       " 0.1457838,\n",
       " 0.61526954,\n",
       " 0.010725191,\n",
       " 0.005086109,\n",
       " 0.006000083,\n",
       " 0.005086109,\n",
       " 0.005086109,\n",
       " 0.005451213,\n",
       " 0.0060670525,\n",
       " 0.7680691,\n",
       " 0.016675647,\n",
       " 0.005086109,\n",
       " 0.005086109,\n",
       " 0.005086109,\n",
       " 0.005086109,\n",
       " 0.92329764,\n",
       " 0.0052247136,\n",
       " 0.005248141,\n",
       " 0.006710604,\n",
       " 0.005086109,\n",
       " 0.006975098,\n",
       " 0.005086109,\n",
       " 0.005248141,\n",
       " 0.6723057,\n",
       " 0.0060976255,\n",
       " 0.037453443,\n",
       " 0.8195317,\n",
       " 0.005086109,\n",
       " 0.020015629,\n",
       " 0.005086109,\n",
       " 0.91117126,\n",
       " 0.09367021,\n",
       " 0.030865483,\n",
       " 0.005588669,\n",
       " 0.005086109,\n",
       " 0.6546154,\n",
       " 0.005086109,\n",
       " 0.61908966,\n",
       " 0.005309399,\n",
       " 0.007038259,\n",
       " 0.006865296,\n",
       " 0.005086109,\n",
       " 0.0060422276,\n",
       " 0.005086109,\n",
       " 0.005905767,\n",
       " 0.7486737,\n",
       " 0.94151914,\n",
       " 0.006000083,\n",
       " 0.0060976255,\n",
       " 0.0061619156,\n",
       " 0.0060976255,\n",
       " 0.013218722,\n",
       " 0.024729118,\n",
       " 0.0057191704,\n",
       " 0.005086109,\n",
       " 0.005282945,\n",
       " 0.014293465,\n",
       " 0.005086109,\n",
       " 0.0060976255,\n",
       " 0.005086109,\n",
       " 0.0053055,\n",
       " 0.006503715,\n",
       " 0.005086109,\n",
       " 0.0062601385,\n",
       " 0.005086109,\n",
       " 0.006000083,\n",
       " 0.0060976255,\n",
       " 0.005086109,\n",
       " 0.746572,\n",
       " 0.005451213,\n",
       " 0.008617459,\n",
       " 0.005086109,\n",
       " 0.65614945,\n",
       " 0.005086109,\n",
       " 0.0071560405,\n",
       " 0.29696995,\n",
       " 0.024392331,\n",
       " 0.019295666,\n",
       " 0.8437893,\n",
       " 0.00616344,\n",
       " 0.62624395,\n",
       " 0.53912324,\n",
       " 0.906716,\n",
       " 0.6326195,\n",
       " 0.005086109,\n",
       " 0.005426884]"
      ]
     },
     "execution_count": 26,
     "metadata": {},
     "output_type": "execute_result"
    }
   ],
   "source": [
    "proba_result = loaded_model.predict_proba(X_test.drop(['a', 'b', 'TM_A', 'TM_B'], 1))\n",
    "\n",
    "paa = [p[1] for p in proba_result]\n",
    "\n",
    "paa\n",
    "\n",
    "\n"
   ]
  },
  {
   "cell_type": "code",
   "execution_count": 27,
   "metadata": {},
   "outputs": [
    {
     "data": {
      "text/plain": [
       "array([1, 1, 0, 0, 0, 1, 1, 0, 0, 0, 1, 0, 0, 1, 0, 0, 0, 0, 1, 0, 0, 0,\n",
       "       0, 0, 1, 0, 1, 1, 1, 0, 0, 1, 0, 0, 0, 0, 1, 0, 0, 0, 1, 0, 0, 0,\n",
       "       0, 0, 1, 0, 0, 0, 0, 0, 1, 0, 0, 0, 0, 0, 0, 0, 0, 0, 1, 0, 0, 1,\n",
       "       0, 1, 0, 0, 0, 0, 0, 0, 0, 0, 1, 0, 1, 0, 0, 0, 0, 0, 1, 1, 1, 1,\n",
       "       0, 1, 0, 0, 0, 0, 0, 0, 1, 0, 0, 0, 0, 0, 0, 0, 0, 1, 1, 0, 1, 0,\n",
       "       0, 0, 0, 0, 0, 0, 1, 0, 1, 0, 0, 0, 0, 1, 0, 0, 0, 0, 0, 0, 0, 0,\n",
       "       0, 1, 0, 1, 0, 0, 0, 0, 0, 1, 0, 0, 0, 0, 0, 0, 0, 0, 0, 0, 0, 0,\n",
       "       0, 1, 0, 0, 0, 0, 0, 0, 0, 0, 1, 0, 0, 0, 0, 1, 1, 0, 0, 0, 0, 0,\n",
       "       0, 1, 1, 0, 0, 0, 0, 0, 0, 0, 0, 0, 0, 0, 0, 0, 0, 0, 0, 0, 0, 0,\n",
       "       0, 1, 1, 0, 0, 0, 0, 1, 0, 0, 0, 0, 1, 0, 0, 1, 0, 0, 0, 0, 0, 0,\n",
       "       0, 0, 0, 1, 0, 0, 0, 1, 0, 0, 0, 0, 0, 0, 0, 1, 0, 0, 0, 0, 0, 1,\n",
       "       0, 0, 0, 0, 0, 0, 0, 1, 0, 0, 1, 0, 0, 0, 1, 0, 0, 0, 0, 1, 0, 1,\n",
       "       0, 0, 0, 0, 0, 0, 0, 1, 1, 0, 0, 0, 0, 0, 0, 0, 0, 0, 0, 0, 0, 0,\n",
       "       0, 0, 0, 0, 0, 0, 0, 0, 1, 0, 0, 0, 1, 0, 0, 0, 0, 0, 1, 0, 1, 1,\n",
       "       1, 1, 0, 0])"
      ]
     },
     "execution_count": 27,
     "metadata": {},
     "output_type": "execute_result"
    }
   ],
   "source": [
    "loaded_model.predict(X_test.drop(['a', 'b', 'TM_A', 'TM_B'], 1))"
   ]
  },
  {
   "cell_type": "code",
   "execution_count": 31,
   "metadata": {},
   "outputs": [
    {
     "data": {
      "text/html": [
       "<div>\n",
       "<style scoped>\n",
       "    .dataframe tbody tr th:only-of-type {\n",
       "        vertical-align: middle;\n",
       "    }\n",
       "\n",
       "    .dataframe tbody tr th {\n",
       "        vertical-align: top;\n",
       "    }\n",
       "\n",
       "    .dataframe thead th {\n",
       "        text-align: right;\n",
       "    }\n",
       "</style>\n",
       "<table border=\"1\" class=\"dataframe\">\n",
       "  <thead>\n",
       "    <tr style=\"text-align: right;\">\n",
       "      <th></th>\n",
       "      <th>bboyaa</th>\n",
       "      <th>fdslkajsdf</th>\n",
       "    </tr>\n",
       "  </thead>\n",
       "  <tbody>\n",
       "    <tr>\n",
       "      <th>0</th>\n",
       "      <td>Flipn Chicken</td>\n",
       "      <td>Frickn Chicken</td>\n",
       "    </tr>\n",
       "  </tbody>\n",
       "</table>\n",
       "</div>"
      ],
      "text/plain": [
       "          bboyaa      fdslkajsdf\n",
       "0  Flipn Chicken  Frickn Chicken"
      ]
     },
     "execution_count": 31,
     "metadata": {},
     "output_type": "execute_result"
    }
   ],
   "source": [
    "# Import pandas library \n",
    "import pandas as pd \n",
    "  \n",
    "# initialize list of lists \n",
    "data = [['Flipn Chicken','Frickn Chicken']] \n",
    "  \n",
    "# Create the pandas DataFrame \n",
    "mydf = pd.DataFrame(data, columns = ['bboyaa', 'fdslkajsdf']) \n",
    "  \n",
    "# print dataframe. \n",
    "mydf "
   ]
  },
  {
   "cell_type": "code",
   "execution_count": 32,
   "metadata": {},
   "outputs": [
    {
     "data": {
      "application/vnd.jupyter.widget-view+json": {
       "model_id": "844a1bacd20d44e9bf34128965731f9b",
       "version_major": 2,
       "version_minor": 0
      },
      "text/plain": [
       "HBox(children=(FloatProgress(value=0.0, max=1.0), HTML(value='')))"
      ]
     },
     "metadata": {},
     "output_type": "display_data"
    },
    {
     "name": "stdout",
     "output_type": "stream",
     "text": [
      "\n"
     ]
    },
    {
     "data": {
      "application/vnd.jupyter.widget-view+json": {
       "model_id": "43b5d142eabc4902981c86cdf211dc6f",
       "version_major": 2,
       "version_minor": 0
      },
      "text/plain": [
       "HBox(children=(FloatProgress(value=0.0, max=1.0), HTML(value='')))"
      ]
     },
     "metadata": {},
     "output_type": "display_data"
    },
    {
     "name": "stdout",
     "output_type": "stream",
     "text": [
      "\n"
     ]
    },
    {
     "data": {
      "application/vnd.jupyter.widget-view+json": {
       "model_id": "54ad488f87764ae091e24d09e33d3c74",
       "version_major": 2,
       "version_minor": 0
      },
      "text/plain": [
       "HBox(children=(FloatProgress(value=0.0, max=1.0), HTML(value='')))"
      ]
     },
     "metadata": {},
     "output_type": "display_data"
    },
    {
     "name": "stdout",
     "output_type": "stream",
     "text": [
      "\n"
     ]
    },
    {
     "data": {
      "application/vnd.jupyter.widget-view+json": {
       "model_id": "6ca90ab909e044b399c75a973b4af000",
       "version_major": 2,
       "version_minor": 0
      },
      "text/plain": [
       "HBox(children=(FloatProgress(value=0.0, max=1.0), HTML(value='')))"
      ]
     },
     "metadata": {},
     "output_type": "display_data"
    },
    {
     "name": "stdout",
     "output_type": "stream",
     "text": [
      "\n"
     ]
    },
    {
     "data": {
      "application/vnd.jupyter.widget-view+json": {
       "model_id": "da64cef0248c44a69d3f3e281c96f69a",
       "version_major": 2,
       "version_minor": 0
      },
      "text/plain": [
       "HBox(children=(FloatProgress(value=0.0, max=1.0), HTML(value='')))"
      ]
     },
     "metadata": {},
     "output_type": "display_data"
    },
    {
     "name": "stdout",
     "output_type": "stream",
     "text": [
      "\n"
     ]
    },
    {
     "data": {
      "application/vnd.jupyter.widget-view+json": {
       "model_id": "a092956236a24784b979b7cd9ff0e501",
       "version_major": 2,
       "version_minor": 0
      },
      "text/plain": [
       "HBox(children=(FloatProgress(value=0.0, max=1.0), HTML(value='')))"
      ]
     },
     "metadata": {},
     "output_type": "display_data"
    },
    {
     "name": "stdout",
     "output_type": "stream",
     "text": [
      "\n"
     ]
    },
    {
     "data": {
      "application/vnd.jupyter.widget-view+json": {
       "model_id": "b156f40827ff45bc8f88cd71b09ec1ab",
       "version_major": 2,
       "version_minor": 0
      },
      "text/plain": [
       "HBox(children=(FloatProgress(value=0.0, max=1.0), HTML(value='')))"
      ]
     },
     "metadata": {},
     "output_type": "display_data"
    },
    {
     "name": "stdout",
     "output_type": "stream",
     "text": [
      "\n"
     ]
    },
    {
     "data": {
      "application/vnd.jupyter.widget-view+json": {
       "model_id": "9c6b408345324c11832781d0a1b080d4",
       "version_major": 2,
       "version_minor": 0
      },
      "text/plain": [
       "HBox(children=(FloatProgress(value=0.0, max=1.0), HTML(value='')))"
      ]
     },
     "metadata": {},
     "output_type": "display_data"
    },
    {
     "name": "stdout",
     "output_type": "stream",
     "text": [
      "\n"
     ]
    },
    {
     "data": {
      "application/vnd.jupyter.widget-view+json": {
       "model_id": "926c2cada438451a9b4cbbbe1d63c55f",
       "version_major": 2,
       "version_minor": 0
      },
      "text/plain": [
       "HBox(children=(FloatProgress(value=0.0, max=1.0), HTML(value='')))"
      ]
     },
     "metadata": {},
     "output_type": "display_data"
    },
    {
     "name": "stdout",
     "output_type": "stream",
     "text": [
      "\n"
     ]
    },
    {
     "data": {
      "application/vnd.jupyter.widget-view+json": {
       "model_id": "5cad331eaa0e438bafbcfa95b68f8d2a",
       "version_major": 2,
       "version_minor": 0
      },
      "text/plain": [
       "HBox(children=(FloatProgress(value=0.0, max=1.0), HTML(value='')))"
      ]
     },
     "metadata": {},
     "output_type": "display_data"
    },
    {
     "name": "stdout",
     "output_type": "stream",
     "text": [
      "\n"
     ]
    },
    {
     "data": {
      "application/vnd.jupyter.widget-view+json": {
       "model_id": "dd2e256fa9b24a959937963b045b7dfb",
       "version_major": 2,
       "version_minor": 0
      },
      "text/plain": [
       "HBox(children=(FloatProgress(value=0.0, max=1.0), HTML(value='')))"
      ]
     },
     "metadata": {},
     "output_type": "display_data"
    },
    {
     "name": "stdout",
     "output_type": "stream",
     "text": [
      "\n"
     ]
    },
    {
     "data": {
      "application/vnd.jupyter.widget-view+json": {
       "model_id": "caec3a3f9d7e49dc902a84a2d70df1cd",
       "version_major": 2,
       "version_minor": 0
      },
      "text/plain": [
       "HBox(children=(FloatProgress(value=0.0, max=1.0), HTML(value='')))"
      ]
     },
     "metadata": {},
     "output_type": "display_data"
    },
    {
     "name": "stdout",
     "output_type": "stream",
     "text": [
      "\n"
     ]
    },
    {
     "data": {
      "application/vnd.jupyter.widget-view+json": {
       "model_id": "95f9d6a62ef64ace9166ad7bd8ad1878",
       "version_major": 2,
       "version_minor": 0
      },
      "text/plain": [
       "HBox(children=(FloatProgress(value=0.0, max=1.0), HTML(value='')))"
      ]
     },
     "metadata": {},
     "output_type": "display_data"
    },
    {
     "name": "stdout",
     "output_type": "stream",
     "text": [
      "\n"
     ]
    },
    {
     "data": {
      "application/vnd.jupyter.widget-view+json": {
       "model_id": "aa12274499e8488b90b4d0bb003eb58c",
       "version_major": 2,
       "version_minor": 0
      },
      "text/plain": [
       "HBox(children=(FloatProgress(value=0.0, max=1.0), HTML(value='')))"
      ]
     },
     "metadata": {},
     "output_type": "display_data"
    },
    {
     "name": "stdout",
     "output_type": "stream",
     "text": [
      "\n"
     ]
    },
    {
     "data": {
      "application/vnd.jupyter.widget-view+json": {
       "model_id": "d2f2f3199c5f4def846da0e0cf69ca12",
       "version_major": 2,
       "version_minor": 0
      },
      "text/plain": [
       "HBox(children=(FloatProgress(value=0.0, max=1.0), HTML(value='')))"
      ]
     },
     "metadata": {},
     "output_type": "display_data"
    },
    {
     "name": "stdout",
     "output_type": "stream",
     "text": [
      "\n"
     ]
    },
    {
     "data": {
      "application/vnd.jupyter.widget-view+json": {
       "model_id": "971f58175f47446c9b4332be5743fde1",
       "version_major": 2,
       "version_minor": 0
      },
      "text/plain": [
       "HBox(children=(FloatProgress(value=0.0, max=1.0), HTML(value='')))"
      ]
     },
     "metadata": {},
     "output_type": "display_data"
    },
    {
     "name": "stdout",
     "output_type": "stream",
     "text": [
      "\n"
     ]
    },
    {
     "data": {
      "application/vnd.jupyter.widget-view+json": {
       "model_id": "c8febf0cdf7740eb88dffa1ed2e47c30",
       "version_major": 2,
       "version_minor": 0
      },
      "text/plain": [
       "HBox(children=(FloatProgress(value=0.0, max=1.0), HTML(value='')))"
      ]
     },
     "metadata": {},
     "output_type": "display_data"
    },
    {
     "name": "stdout",
     "output_type": "stream",
     "text": [
      "\n"
     ]
    },
    {
     "data": {
      "text/html": [
       "<div>\n",
       "<style scoped>\n",
       "    .dataframe tbody tr th:only-of-type {\n",
       "        vertical-align: middle;\n",
       "    }\n",
       "\n",
       "    .dataframe tbody tr th {\n",
       "        vertical-align: top;\n",
       "    }\n",
       "\n",
       "    .dataframe thead th {\n",
       "        text-align: right;\n",
       "    }\n",
       "</style>\n",
       "<table border=\"1\" class=\"dataframe\">\n",
       "  <thead>\n",
       "    <tr style=\"text-align: right;\">\n",
       "      <th></th>\n",
       "      <th>a</th>\n",
       "      <th>b</th>\n",
       "      <th>TM_A</th>\n",
       "      <th>TM_B</th>\n",
       "      <th>partial</th>\n",
       "      <th>tkn_sort</th>\n",
       "      <th>tkn_set</th>\n",
       "      <th>sum_ipa</th>\n",
       "      <th>levenshtein</th>\n",
       "      <th>metaphone</th>\n",
       "      <th>nysiis</th>\n",
       "      <th>mtch_rtng_cdx</th>\n",
       "      <th>pshp_soundex_first</th>\n",
       "      <th>iterativesubstring</th>\n",
       "      <th>bisim</th>\n",
       "      <th>discountedlevenshtein</th>\n",
       "      <th>prefix</th>\n",
       "      <th>lcsstr</th>\n",
       "      <th>mlipns</th>\n",
       "      <th>strcmp95</th>\n",
       "      <th>mra</th>\n",
       "      <th>editex</th>\n",
       "      <th>saps</th>\n",
       "      <th>flexmetric</th>\n",
       "      <th>jaro</th>\n",
       "      <th>higueramico</th>\n",
       "      <th>sift4</th>\n",
       "      <th>eudex</th>\n",
       "      <th>aline</th>\n",
       "      <th>phoneticeditdistance</th>\n",
       "    </tr>\n",
       "  </thead>\n",
       "  <tbody>\n",
       "    <tr>\n",
       "      <th>0</th>\n",
       "      <td>Flipn Chicken</td>\n",
       "      <td>Frickn Chicken</td>\n",
       "      <td>flipnchicken</td>\n",
       "      <td>fricknchicken</td>\n",
       "      <td>75</td>\n",
       "      <td>80</td>\n",
       "      <td>80</td>\n",
       "      <td>0.972141</td>\n",
       "      <td>0.0</td>\n",
       "      <td>0</td>\n",
       "      <td>0</td>\n",
       "      <td>0</td>\n",
       "      <td>0</td>\n",
       "      <td>0.761313</td>\n",
       "      <td>0.769231</td>\n",
       "      <td>0.715296</td>\n",
       "      <td>0.083333</td>\n",
       "      <td>0.615385</td>\n",
       "      <td>0.0</td>\n",
       "      <td>0.805192</td>\n",
       "      <td>0.666667</td>\n",
       "      <td>0.846154</td>\n",
       "      <td>0.604167</td>\n",
       "      <td>0.815385</td>\n",
       "      <td>0.767521</td>\n",
       "      <td>0.769231</td>\n",
       "      <td>0.769231</td>\n",
       "      <td>0.919608</td>\n",
       "      <td>0.812658</td>\n",
       "      <td>0.899504</td>\n",
       "    </tr>\n",
       "  </tbody>\n",
       "</table>\n",
       "</div>"
      ],
      "text/plain": [
       "               a               b          TM_A           TM_B  partial  \\\n",
       "0  Flipn Chicken  Frickn Chicken  flipnchicken  fricknchicken       75   \n",
       "\n",
       "   tkn_sort  tkn_set   sum_ipa  levenshtein  metaphone  nysiis  mtch_rtng_cdx  \\\n",
       "0        80       80  0.972141          0.0          0       0              0   \n",
       "\n",
       "   pshp_soundex_first  iterativesubstring     bisim  discountedlevenshtein  \\\n",
       "0                   0            0.761313  0.769231               0.715296   \n",
       "\n",
       "     prefix    lcsstr  mlipns  strcmp95       mra    editex      saps  \\\n",
       "0  0.083333  0.615385     0.0  0.805192  0.666667  0.846154  0.604167   \n",
       "\n",
       "   flexmetric      jaro  higueramico     sift4     eudex     aline  \\\n",
       "0    0.815385  0.767521     0.769231  0.769231  0.919608  0.812658   \n",
       "\n",
       "   phoneticeditdistance  \n",
       "0              0.899504  "
      ]
     },
     "execution_count": 32,
     "metadata": {},
     "output_type": "execute_result"
    }
   ],
   "source": [
    "featurize(mydf)"
   ]
  },
  {
   "cell_type": "code",
   "execution_count": 33,
   "metadata": {},
   "outputs": [
    {
     "data": {
      "application/vnd.jupyter.widget-view+json": {
       "model_id": "456642abdf5f409c98c3477ce3ece52b",
       "version_major": 2,
       "version_minor": 0
      },
      "text/plain": [
       "HBox(children=(FloatProgress(value=0.0, max=1.0), HTML(value='')))"
      ]
     },
     "metadata": {},
     "output_type": "display_data"
    },
    {
     "name": "stdout",
     "output_type": "stream",
     "text": [
      "\n"
     ]
    },
    {
     "data": {
      "application/vnd.jupyter.widget-view+json": {
       "model_id": "58dacc425fbf47249003a7d9d107cba4",
       "version_major": 2,
       "version_minor": 0
      },
      "text/plain": [
       "HBox(children=(FloatProgress(value=0.0, max=1.0), HTML(value='')))"
      ]
     },
     "metadata": {},
     "output_type": "display_data"
    },
    {
     "name": "stdout",
     "output_type": "stream",
     "text": [
      "\n"
     ]
    },
    {
     "data": {
      "application/vnd.jupyter.widget-view+json": {
       "model_id": "972430bd18234b64b426bc61f0db362b",
       "version_major": 2,
       "version_minor": 0
      },
      "text/plain": [
       "HBox(children=(FloatProgress(value=0.0, max=1.0), HTML(value='')))"
      ]
     },
     "metadata": {},
     "output_type": "display_data"
    },
    {
     "name": "stdout",
     "output_type": "stream",
     "text": [
      "\n"
     ]
    },
    {
     "data": {
      "application/vnd.jupyter.widget-view+json": {
       "model_id": "3e86e78e6bc14aaea80f3aa0b4f1c472",
       "version_major": 2,
       "version_minor": 0
      },
      "text/plain": [
       "HBox(children=(FloatProgress(value=0.0, max=1.0), HTML(value='')))"
      ]
     },
     "metadata": {},
     "output_type": "display_data"
    },
    {
     "name": "stdout",
     "output_type": "stream",
     "text": [
      "\n"
     ]
    },
    {
     "data": {
      "application/vnd.jupyter.widget-view+json": {
       "model_id": "1889854252774e74b021a8eacb8c5996",
       "version_major": 2,
       "version_minor": 0
      },
      "text/plain": [
       "HBox(children=(FloatProgress(value=0.0, max=1.0), HTML(value='')))"
      ]
     },
     "metadata": {},
     "output_type": "display_data"
    },
    {
     "name": "stdout",
     "output_type": "stream",
     "text": [
      "\n"
     ]
    },
    {
     "data": {
      "application/vnd.jupyter.widget-view+json": {
       "model_id": "0f0f3464e17a44f08ffa4f2c1329dbb2",
       "version_major": 2,
       "version_minor": 0
      },
      "text/plain": [
       "HBox(children=(FloatProgress(value=0.0, max=1.0), HTML(value='')))"
      ]
     },
     "metadata": {},
     "output_type": "display_data"
    },
    {
     "name": "stdout",
     "output_type": "stream",
     "text": [
      "\n"
     ]
    },
    {
     "data": {
      "application/vnd.jupyter.widget-view+json": {
       "model_id": "e56dd84d5ee845b4bf5493fd4b2c7fd1",
       "version_major": 2,
       "version_minor": 0
      },
      "text/plain": [
       "HBox(children=(FloatProgress(value=0.0, max=1.0), HTML(value='')))"
      ]
     },
     "metadata": {},
     "output_type": "display_data"
    },
    {
     "name": "stdout",
     "output_type": "stream",
     "text": [
      "\n"
     ]
    },
    {
     "data": {
      "application/vnd.jupyter.widget-view+json": {
       "model_id": "293f8090277a4d17812cb3bd6e87a600",
       "version_major": 2,
       "version_minor": 0
      },
      "text/plain": [
       "HBox(children=(FloatProgress(value=0.0, max=1.0), HTML(value='')))"
      ]
     },
     "metadata": {},
     "output_type": "display_data"
    },
    {
     "name": "stdout",
     "output_type": "stream",
     "text": [
      "\n"
     ]
    },
    {
     "data": {
      "application/vnd.jupyter.widget-view+json": {
       "model_id": "4ac50ca6a0de4ebb9f8ca16a0778b930",
       "version_major": 2,
       "version_minor": 0
      },
      "text/plain": [
       "HBox(children=(FloatProgress(value=0.0, max=1.0), HTML(value='')))"
      ]
     },
     "metadata": {},
     "output_type": "display_data"
    },
    {
     "name": "stdout",
     "output_type": "stream",
     "text": [
      "\n"
     ]
    },
    {
     "data": {
      "application/vnd.jupyter.widget-view+json": {
       "model_id": "1dc8473534084a4ba1683849d5b78584",
       "version_major": 2,
       "version_minor": 0
      },
      "text/plain": [
       "HBox(children=(FloatProgress(value=0.0, max=1.0), HTML(value='')))"
      ]
     },
     "metadata": {},
     "output_type": "display_data"
    },
    {
     "name": "stdout",
     "output_type": "stream",
     "text": [
      "\n"
     ]
    },
    {
     "data": {
      "application/vnd.jupyter.widget-view+json": {
       "model_id": "14fec260885f43d7a5b0d2ca46050c03",
       "version_major": 2,
       "version_minor": 0
      },
      "text/plain": [
       "HBox(children=(FloatProgress(value=0.0, max=1.0), HTML(value='')))"
      ]
     },
     "metadata": {},
     "output_type": "display_data"
    },
    {
     "name": "stdout",
     "output_type": "stream",
     "text": [
      "\n"
     ]
    },
    {
     "data": {
      "application/vnd.jupyter.widget-view+json": {
       "model_id": "191658ee7398490e98d8010ae0e96740",
       "version_major": 2,
       "version_minor": 0
      },
      "text/plain": [
       "HBox(children=(FloatProgress(value=0.0, max=1.0), HTML(value='')))"
      ]
     },
     "metadata": {},
     "output_type": "display_data"
    },
    {
     "name": "stdout",
     "output_type": "stream",
     "text": [
      "\n"
     ]
    },
    {
     "data": {
      "application/vnd.jupyter.widget-view+json": {
       "model_id": "4907cde159e8468cbcf4d67d423a3d64",
       "version_major": 2,
       "version_minor": 0
      },
      "text/plain": [
       "HBox(children=(FloatProgress(value=0.0, max=1.0), HTML(value='')))"
      ]
     },
     "metadata": {},
     "output_type": "display_data"
    },
    {
     "name": "stdout",
     "output_type": "stream",
     "text": [
      "\n"
     ]
    },
    {
     "data": {
      "application/vnd.jupyter.widget-view+json": {
       "model_id": "d5766111d1e443679939266de5e40cd0",
       "version_major": 2,
       "version_minor": 0
      },
      "text/plain": [
       "HBox(children=(FloatProgress(value=0.0, max=1.0), HTML(value='')))"
      ]
     },
     "metadata": {},
     "output_type": "display_data"
    },
    {
     "name": "stdout",
     "output_type": "stream",
     "text": [
      "\n"
     ]
    },
    {
     "data": {
      "application/vnd.jupyter.widget-view+json": {
       "model_id": "1923f1389e4a44a69364b8870e644281",
       "version_major": 2,
       "version_minor": 0
      },
      "text/plain": [
       "HBox(children=(FloatProgress(value=0.0, max=1.0), HTML(value='')))"
      ]
     },
     "metadata": {},
     "output_type": "display_data"
    },
    {
     "name": "stdout",
     "output_type": "stream",
     "text": [
      "\n"
     ]
    },
    {
     "data": {
      "application/vnd.jupyter.widget-view+json": {
       "model_id": "64af67f3a35744b68f4b5d9e8c6968c7",
       "version_major": 2,
       "version_minor": 0
      },
      "text/plain": [
       "HBox(children=(FloatProgress(value=0.0, max=1.0), HTML(value='')))"
      ]
     },
     "metadata": {},
     "output_type": "display_data"
    },
    {
     "name": "stdout",
     "output_type": "stream",
     "text": [
      "\n"
     ]
    },
    {
     "data": {
      "application/vnd.jupyter.widget-view+json": {
       "model_id": "9c061e8c70554485a1be947d9abe3fef",
       "version_major": 2,
       "version_minor": 0
      },
      "text/plain": [
       "HBox(children=(FloatProgress(value=0.0, max=1.0), HTML(value='')))"
      ]
     },
     "metadata": {},
     "output_type": "display_data"
    },
    {
     "name": "stdout",
     "output_type": "stream",
     "text": [
      "\n"
     ]
    },
    {
     "data": {
      "text/plain": [
       "[0.9122305]"
      ]
     },
     "execution_count": 33,
     "metadata": {},
     "output_type": "execute_result"
    }
   ],
   "source": [
    "foo = featurize(mydf)\n",
    "foo2 = foo.drop(['a', 'b', 'TM_A', 'TM_B'], 1)\n",
    "\n",
    "foo3 = loaded_model.predict_proba(foo2)\n",
    "\n",
    "foo4 = [p[1] for p in foo3]\n",
    "\n",
    "foo4"
   ]
  },
  {
   "cell_type": "code",
   "execution_count": null,
   "metadata": {},
   "outputs": [],
   "source": []
  },
  {
   "cell_type": "code",
   "execution_count": 34,
   "metadata": {},
   "outputs": [],
   "source": [
    "def XGboost_ratio(data):\n",
    "    df = featurize(data)\n",
    "    df2 = df.drop(['a', 'b', 'TM_A', 'TM_B'], 1)\n",
    "    df3 = loaded_model.predict_proba(df2)\n",
    "    df4 = [p[1] for p in df3]\n",
    "    return df4"
   ]
  },
  {
   "cell_type": "code",
   "execution_count": 36,
   "metadata": {},
   "outputs": [
    {
     "data": {
      "application/vnd.jupyter.widget-view+json": {
       "model_id": "0b122749493441fba59955c7f82a8bc5",
       "version_major": 2,
       "version_minor": 0
      },
      "text/plain": [
       "HBox(children=(FloatProgress(value=0.0, max=1.0), HTML(value='')))"
      ]
     },
     "metadata": {},
     "output_type": "display_data"
    },
    {
     "name": "stdout",
     "output_type": "stream",
     "text": [
      "\n"
     ]
    },
    {
     "data": {
      "application/vnd.jupyter.widget-view+json": {
       "model_id": "17a8bbf86e4941fab4247adbf4b20293",
       "version_major": 2,
       "version_minor": 0
      },
      "text/plain": [
       "HBox(children=(FloatProgress(value=0.0, max=1.0), HTML(value='')))"
      ]
     },
     "metadata": {},
     "output_type": "display_data"
    },
    {
     "name": "stdout",
     "output_type": "stream",
     "text": [
      "\n"
     ]
    },
    {
     "data": {
      "application/vnd.jupyter.widget-view+json": {
       "model_id": "e9b452f002624ad7b518b2e0dc05b669",
       "version_major": 2,
       "version_minor": 0
      },
      "text/plain": [
       "HBox(children=(FloatProgress(value=0.0, max=1.0), HTML(value='')))"
      ]
     },
     "metadata": {},
     "output_type": "display_data"
    },
    {
     "name": "stdout",
     "output_type": "stream",
     "text": [
      "\n"
     ]
    },
    {
     "data": {
      "application/vnd.jupyter.widget-view+json": {
       "model_id": "774a6995af984d14a04ececa33069624",
       "version_major": 2,
       "version_minor": 0
      },
      "text/plain": [
       "HBox(children=(FloatProgress(value=0.0, max=1.0), HTML(value='')))"
      ]
     },
     "metadata": {},
     "output_type": "display_data"
    },
    {
     "name": "stdout",
     "output_type": "stream",
     "text": [
      "\n"
     ]
    },
    {
     "data": {
      "application/vnd.jupyter.widget-view+json": {
       "model_id": "9509e6b764ab402682c77b912c8acec3",
       "version_major": 2,
       "version_minor": 0
      },
      "text/plain": [
       "HBox(children=(FloatProgress(value=0.0, max=1.0), HTML(value='')))"
      ]
     },
     "metadata": {},
     "output_type": "display_data"
    },
    {
     "name": "stdout",
     "output_type": "stream",
     "text": [
      "\n"
     ]
    },
    {
     "data": {
      "application/vnd.jupyter.widget-view+json": {
       "model_id": "da0a4f1b009a4fde8053931c10efd9e5",
       "version_major": 2,
       "version_minor": 0
      },
      "text/plain": [
       "HBox(children=(FloatProgress(value=0.0, max=1.0), HTML(value='')))"
      ]
     },
     "metadata": {},
     "output_type": "display_data"
    },
    {
     "name": "stdout",
     "output_type": "stream",
     "text": [
      "\n"
     ]
    },
    {
     "data": {
      "application/vnd.jupyter.widget-view+json": {
       "model_id": "75a6aed812114c71b98b4b672193ea95",
       "version_major": 2,
       "version_minor": 0
      },
      "text/plain": [
       "HBox(children=(FloatProgress(value=0.0, max=1.0), HTML(value='')))"
      ]
     },
     "metadata": {},
     "output_type": "display_data"
    },
    {
     "name": "stdout",
     "output_type": "stream",
     "text": [
      "\n"
     ]
    },
    {
     "data": {
      "application/vnd.jupyter.widget-view+json": {
       "model_id": "eae6607bf0964d329454420dbc030ebe",
       "version_major": 2,
       "version_minor": 0
      },
      "text/plain": [
       "HBox(children=(FloatProgress(value=0.0, max=1.0), HTML(value='')))"
      ]
     },
     "metadata": {},
     "output_type": "display_data"
    },
    {
     "name": "stdout",
     "output_type": "stream",
     "text": [
      "\n"
     ]
    },
    {
     "data": {
      "application/vnd.jupyter.widget-view+json": {
       "model_id": "e7e72fe600b64c8d9ab002bccb9d148c",
       "version_major": 2,
       "version_minor": 0
      },
      "text/plain": [
       "HBox(children=(FloatProgress(value=0.0, max=1.0), HTML(value='')))"
      ]
     },
     "metadata": {},
     "output_type": "display_data"
    },
    {
     "name": "stdout",
     "output_type": "stream",
     "text": [
      "\n"
     ]
    },
    {
     "data": {
      "application/vnd.jupyter.widget-view+json": {
       "model_id": "5038d4f5fa14475782135a74a318565f",
       "version_major": 2,
       "version_minor": 0
      },
      "text/plain": [
       "HBox(children=(FloatProgress(value=0.0, max=1.0), HTML(value='')))"
      ]
     },
     "metadata": {},
     "output_type": "display_data"
    },
    {
     "name": "stdout",
     "output_type": "stream",
     "text": [
      "\n"
     ]
    },
    {
     "data": {
      "application/vnd.jupyter.widget-view+json": {
       "model_id": "64d1bc815f12475ba4b995856224706e",
       "version_major": 2,
       "version_minor": 0
      },
      "text/plain": [
       "HBox(children=(FloatProgress(value=0.0, max=1.0), HTML(value='')))"
      ]
     },
     "metadata": {},
     "output_type": "display_data"
    },
    {
     "name": "stdout",
     "output_type": "stream",
     "text": [
      "\n"
     ]
    },
    {
     "data": {
      "application/vnd.jupyter.widget-view+json": {
       "model_id": "0dae8d4dab2849879e00f79066c531ae",
       "version_major": 2,
       "version_minor": 0
      },
      "text/plain": [
       "HBox(children=(FloatProgress(value=0.0, max=1.0), HTML(value='')))"
      ]
     },
     "metadata": {},
     "output_type": "display_data"
    },
    {
     "name": "stdout",
     "output_type": "stream",
     "text": [
      "\n"
     ]
    },
    {
     "data": {
      "application/vnd.jupyter.widget-view+json": {
       "model_id": "5a4c96dd7f6f4519a7d7f6bf4694fe54",
       "version_major": 2,
       "version_minor": 0
      },
      "text/plain": [
       "HBox(children=(FloatProgress(value=0.0, max=1.0), HTML(value='')))"
      ]
     },
     "metadata": {},
     "output_type": "display_data"
    },
    {
     "name": "stdout",
     "output_type": "stream",
     "text": [
      "\n"
     ]
    },
    {
     "data": {
      "application/vnd.jupyter.widget-view+json": {
       "model_id": "0cdda69849d74f14856e5671247ac0b3",
       "version_major": 2,
       "version_minor": 0
      },
      "text/plain": [
       "HBox(children=(FloatProgress(value=0.0, max=1.0), HTML(value='')))"
      ]
     },
     "metadata": {},
     "output_type": "display_data"
    },
    {
     "name": "stdout",
     "output_type": "stream",
     "text": [
      "\n"
     ]
    },
    {
     "data": {
      "application/vnd.jupyter.widget-view+json": {
       "model_id": "e5dc32c28e74488a9c97742876d78d48",
       "version_major": 2,
       "version_minor": 0
      },
      "text/plain": [
       "HBox(children=(FloatProgress(value=0.0, max=1.0), HTML(value='')))"
      ]
     },
     "metadata": {},
     "output_type": "display_data"
    },
    {
     "name": "stdout",
     "output_type": "stream",
     "text": [
      "\n"
     ]
    },
    {
     "data": {
      "application/vnd.jupyter.widget-view+json": {
       "model_id": "40e1e03ed8474736a184b4110608ac38",
       "version_major": 2,
       "version_minor": 0
      },
      "text/plain": [
       "HBox(children=(FloatProgress(value=0.0, max=1.0), HTML(value='')))"
      ]
     },
     "metadata": {},
     "output_type": "display_data"
    },
    {
     "name": "stdout",
     "output_type": "stream",
     "text": [
      "\n"
     ]
    },
    {
     "data": {
      "application/vnd.jupyter.widget-view+json": {
       "model_id": "f1c777affa334deb950e053c15c4f009",
       "version_major": 2,
       "version_minor": 0
      },
      "text/plain": [
       "HBox(children=(FloatProgress(value=0.0, max=1.0), HTML(value='')))"
      ]
     },
     "metadata": {},
     "output_type": "display_data"
    },
    {
     "name": "stdout",
     "output_type": "stream",
     "text": [
      "\n"
     ]
    },
    {
     "data": {
      "text/plain": [
       "[0.9122305]"
      ]
     },
     "execution_count": 36,
     "metadata": {},
     "output_type": "execute_result"
    }
   ],
   "source": [
    "XGboost_ratio(mydf)"
   ]
  },
  {
   "cell_type": "code",
   "execution_count": 38,
   "metadata": {},
   "outputs": [
    {
     "data": {
      "text/plain": [
       "0                                                      daisy\n",
       "1                                                  budweiser\n",
       "2                                       washburns gold medal\n",
       "3                                                      giant\n",
       "4                                                    welcome\n",
       "                                 ...                        \n",
       "1071622                                                  etf\n",
       "1071623                                              europol\n",
       "1071624                                   parati vero parati\n",
       "1071625    organisation africaine de la propriete intelle...\n",
       "1071626                 the great seal of the choctaw nation\n",
       "Name: wordmark, Length: 1071627, dtype: object"
      ]
     },
     "execution_count": 38,
     "metadata": {},
     "output_type": "execute_result"
    }
   ],
   "source": [
    "pd = pd.read_csv(\"Data.nosync/TM_clean_soundex.csv\", index_col = False)\n",
    "\n",
    "# df_matches = df[df.apply(get_ratio, axis = 1) > 70]\n",
    "\n",
    "pd['wordmark']"
   ]
  },
  {
   "cell_type": "code",
   "execution_count": null,
   "metadata": {},
   "outputs": [],
   "source": []
  },
  {
   "cell_type": "code",
   "execution_count": null,
   "metadata": {},
   "outputs": [],
   "source": []
  },
  {
   "cell_type": "code",
   "execution_count": null,
   "metadata": {},
   "outputs": [],
   "source": []
  },
  {
   "cell_type": "code",
   "execution_count": null,
   "metadata": {},
   "outputs": [],
   "source": []
  },
  {
   "cell_type": "markdown",
   "metadata": {},
   "source": [
    "### Evaluate XGboost"
   ]
  },
  {
   "cell_type": "code",
   "execution_count": null,
   "metadata": {},
   "outputs": [],
   "source": [
    "# roc curve and auc\n",
    "from sklearn.metrics import roc_curve\n",
    "from sklearn.metrics import roc_auc_score\n",
    "import matplotlib.pyplot as plt"
   ]
  },
  {
   "cell_type": "code",
   "execution_count": null,
   "metadata": {},
   "outputs": [],
   "source": [
    "fig, ax = plt.subplots(1,1, figsize=(7,7))\n",
    "baseline_probs = [0 for _ in range(len(y_test))]\n",
    "\n",
    "# keep probabilities for the positive outcome only\n",
    "probs = grid.predict_proba(X_test.drop(['a', 'b', 'TM_A', 'TM_B'], 1))\n",
    "probs = probs[:, 1]\n",
    "\n",
    "# calculate scores\n",
    "baseline_auc = roc_auc_score(y_test, baseline_probs)\n",
    "auc = roc_auc_score(y_test, probs)\n",
    "auc = ('AUC=%.3f' % (auc))\n",
    "\n",
    "# calculate roc curves\n",
    "baseline_fpr, baseline_tpr, _ = roc_curve(y_test, baseline_probs)\n",
    "fpr, tpr, _ = roc_curve(y_test, probs)\n",
    "\n",
    "# plot the roc curve for the model\n",
    "ax.plot(baseline_fpr, baseline_tpr, color='gray')\n",
    "ax.plot(fpr, tpr, marker='.', color='black')\n",
    "\n",
    "# axis labels\n",
    "ax.set_xlabel('False Positive Rate',fontsize=12)\n",
    "ax.set_ylabel('True Positive Rate',fontsize=12)\n",
    "ax.set_title('Receiver Operating Characteristic', fontsize=16)\n",
    "plt.text(.6, .3, auc, fontsize=13)\n",
    "\n",
    "# plt.savefig('Figs/TM_XGBoost_ROC.png', dpi = 600)"
   ]
  },
  {
   "cell_type": "code",
   "execution_count": null,
   "metadata": {},
   "outputs": [],
   "source": [
    "from sklearn.metrics import classification_report, confusion_matrix\n",
    "\n",
    "print(\"Confusion Matrix:\")\n",
    "print(confusion_matrix(y_test, best_preds))\n",
    "\n",
    "print(\"Classification Report\")\n",
    "print(classification_report(y_test, best_preds))"
   ]
  },
  {
   "cell_type": "code",
   "execution_count": null,
   "metadata": {},
   "outputs": [],
   "source": []
  },
  {
   "cell_type": "code",
   "execution_count": null,
   "metadata": {},
   "outputs": [],
   "source": [
    "import joblib\n",
    "\n",
    "xgbmodel.dump_model('Data.nosync/TM_XGBoost_model.pkl')"
   ]
  },
  {
   "cell_type": "code",
   "execution_count": null,
   "metadata": {},
   "outputs": [],
   "source": [
    "from xgboost import plot_importance\n",
    "from matplotlib import pyplot\n",
    "\n",
    "plt.rcParams['figure.dpi'] = 300\n",
    "%config InlineBackend.figure_format = 'retina'\n",
    "\n",
    "plot_importance(xgbmodel)\n",
    "# pyplot.show()\n",
    "# plt.savefig(\"Figs/TM_XGboost_feature_importance.png\", format='png', dpi=600, bbox_inches='tight')"
   ]
  },
  {
   "cell_type": "code",
   "execution_count": null,
   "metadata": {},
   "outputs": [],
   "source": [
    "import shap\n",
    "\n",
    "# load JS visualization code to notebook\n",
    "shap.initjs()\n",
    "\n",
    "# explain the model's predictions using SHAP\n",
    "# (same syntax works for LightGBM, CatBoost, scikit-learn and spark models)\n",
    "explainer = shap.TreeExplainer(xgbmodel)\n",
    "shap_values = explainer.shap_values(X.drop(['a', 'b', 'TM_A', 'TM_B'], 1))\n",
    "\n",
    "\n",
    "shap.summary_plot(shap_values[0], X.drop(['a', 'b', 'TM_A', 'TM_B'], 1), plot_type=\"bar\", show=False)\n",
    "# plt.savefig(\"Figs/TM_XGboost_SHAP_features.png\", format='png', dpi=600, bbox_inches='tight')"
   ]
  },
  {
   "cell_type": "code",
   "execution_count": null,
   "metadata": {},
   "outputs": [],
   "source": [
    "# create a dependence plot to show the effect of a single feature across the whole dataset\n",
    "shap.dependence_plot(\"discountedlevenshtein\", shap_values[0],\n",
    "                     X.drop(['a', 'b', 'TM_A', 'TM_B'], 1))\n"
   ]
  },
  {
   "cell_type": "code",
   "execution_count": null,
   "metadata": {},
   "outputs": [],
   "source": [
    "# create a dependence plot to show the effect of a single feature across the whole dataset\n",
    "shap.dependence_plot(\"iterativesubstring\", shap_values[0],\n",
    "                     X.drop(['a', 'b', 'TM_A', 'TM_B'], 1))\n"
   ]
  },
  {
   "cell_type": "code",
   "execution_count": null,
   "metadata": {},
   "outputs": [],
   "source": [
    "# summarize the effects of all the features\n",
    "shap.summary_plot(shap_values[0],\n",
    "                X.drop(['a', 'b', 'TM_A', 'TM_B'], 1))"
   ]
  },
  {
   "cell_type": "markdown",
   "metadata": {},
   "source": [
    "# Grid Search   \n",
    "\n",
    "Hyperparameter tuning"
   ]
  },
  {
   "cell_type": "code",
   "execution_count": null,
   "metadata": {},
   "outputs": [],
   "source": [
    "cols = [col for col in df.columns if col not in ['a', 'b', 'TM_A', 'TM_B', 'target', 'predict_proba']]\n",
    "comb2 = list(combinations(cols, 2))\n",
    "comb3 = list(combinations(cols, 3))\n",
    "colgrid = [(col,)for col in cols]+comb2+comb3\n",
    "\n",
    "\n",
    "colgrid"
   ]
  },
  {
   "cell_type": "code",
   "execution_count": null,
   "metadata": {},
   "outputs": [],
   "source": [
    "from sklearn.model_selection import GridSearchCV\n",
    "from sklearn.linear_model import LogisticRegression\n",
    "from sklearn.metrics import confusion_matrix"
   ]
  },
  {
   "cell_type": "code",
   "execution_count": null,
   "metadata": {},
   "outputs": [],
   "source": [
    "X_train, X_test, y_train, y_test = train_test_split(df, df.target, test_size=0.2, random_state=42)\n",
    "X_train, X_val, y_train, y_val = train_test_split(X_train, y_train, test_size=0.25, random_state=42)"
   ]
  },
  {
   "cell_type": "code",
   "execution_count": null,
   "metadata": {},
   "outputs": [],
   "source": [
    "clf = LogisticRegression()\n",
    "grid_clf = GridSearchCV(clf, param_grid = {'C':np.logspace(-4, 4, 20)}, scoring = 'precision', verbose=0)\n",
    "\n",
    "scores = []\n",
    "for cols in colgrid:\n",
    "    grid_clf.fit(X_train[['predict_proba']+list(cols)], y_train)\n",
    "    y_pred = grid_clf.predict(X_val[['predict_proba']+list(cols)])\n",
    "    tn, fp, fn, tp = confusion_matrix(y_val, y_pred).ravel()\n",
    "    scores.append([str(cols), tn, fp, fn, tp])"
   ]
  },
  {
   "cell_type": "code",
   "execution_count": null,
   "metadata": {},
   "outputs": [],
   "source": [
    "scores_df = pd.DataFrame(scores)"
   ]
  },
  {
   "cell_type": "code",
   "execution_count": null,
   "metadata": {},
   "outputs": [],
   "source": [
    "scores_df.columns = ['features', 'tn', 'fp', 'fn', 'tp']"
   ]
  },
  {
   "cell_type": "code",
   "execution_count": null,
   "metadata": {},
   "outputs": [],
   "source": [
    "scores_df.head()"
   ]
  },
  {
   "cell_type": "code",
   "execution_count": null,
   "metadata": {},
   "outputs": [],
   "source": [
    "scores_df['error'] = scores_df['fp'] + scores_df['fn']"
   ]
  },
  {
   "cell_type": "code",
   "execution_count": null,
   "metadata": {},
   "outputs": [],
   "source": [
    "scores_df = scores_df.sort_values(['error', 'fp'])"
   ]
  },
  {
   "cell_type": "code",
   "execution_count": null,
   "metadata": {},
   "outputs": [],
   "source": [
    "X_train, X_test, y_train, y_test = train_test_split(df, df.target, test_size=0.2, random_state=42)"
   ]
  },
  {
   "cell_type": "code",
   "execution_count": null,
   "metadata": {},
   "outputs": [],
   "source": [
    "selected_cols = ['discountedlevenshtein', 'phoneticeditdistance', 'iterativesubstring', 'sum_ipa']"
   ]
  },
  {
   "cell_type": "code",
   "execution_count": null,
   "metadata": {},
   "outputs": [],
   "source": [
    "clf = LogisticRegression()\n",
    "grid_clf = GridSearchCV(clf, param_grid = {'C':np.logspace(-4, 4, 20)}, scoring='precision')\n",
    "grid_clf.fit(X_train[selected_cols], y_train)\n",
    "y_pred = grid_clf.predict(X_test[selected_cols])"
   ]
  },
  {
   "cell_type": "code",
   "execution_count": null,
   "metadata": {},
   "outputs": [],
   "source": [
    "print(grid_clf.best_params_)"
   ]
  },
  {
   "cell_type": "markdown",
   "metadata": {},
   "source": [
    "## Evaluation"
   ]
  },
  {
   "cell_type": "code",
   "execution_count": null,
   "metadata": {},
   "outputs": [],
   "source": [
    "from sklearn.metrics import classification_report"
   ]
  },
  {
   "cell_type": "code",
   "execution_count": null,
   "metadata": {},
   "outputs": [],
   "source": [
    "def evaluate(y_test, y_pred):\n",
    "    cm = confusion_matrix(y_test, y_pred)\n",
    "    conf_matrix = pd.DataFrame(data=cm, columns=['Predicted: 0', 'Predicted: 1'], index=['Actual: 0', 'Actual: 1'])\n",
    "    print(classification_report(y_test, y_pred))\n",
    "    print(conf_matrix)"
   ]
  },
  {
   "cell_type": "code",
   "execution_count": null,
   "metadata": {},
   "outputs": [],
   "source": [
    "evaluate(y_test, y_pred)"
   ]
  },
  {
   "cell_type": "code",
   "execution_count": null,
   "metadata": {},
   "outputs": [],
   "source": [
    "# roc curve and auc\n",
    "from sklearn.metrics import roc_curve\n",
    "from sklearn.metrics import roc_auc_score\n",
    "import matplotlib.pyplot as plt"
   ]
  },
  {
   "cell_type": "code",
   "execution_count": null,
   "metadata": {},
   "outputs": [],
   "source": [
    "fig, ax = plt.subplots(1,1, figsize=(7,7))\n",
    "baseline_probs = [0 for _ in range(len(y_test))]\n",
    "\n",
    "# keep probabilities for the positive outcome only\n",
    "probs = grid_clf.predict_proba(X_test[selected_cols])\n",
    "probs = probs[:, 1]\n",
    "\n",
    "# calculate scores\n",
    "baseline_auc = roc_auc_score(y_test, baseline_probs)\n",
    "auc = roc_auc_score(y_test, probs)\n",
    "auc = ('AUC=%.3f' % (auc))\n",
    "\n",
    "# calculate roc curves\n",
    "baseline_fpr, baseline_tpr, _ = roc_curve(y_test, baseline_probs)\n",
    "fpr, tpr, _ = roc_curve(y_test, probs)\n",
    "\n",
    "# plot the roc curve for the model\n",
    "ax.plot(baseline_fpr, baseline_tpr, color='gray')\n",
    "ax.plot(fpr, tpr, marker='.', color='black')\n",
    "\n",
    "# axis labels\n",
    "ax.set_xlabel('False Positive Rate',fontsize=12)\n",
    "ax.set_ylabel('True Positive Rate',fontsize=12)\n",
    "ax.set_title('Receiver Operating Characteristic', fontsize=16)\n",
    "plt.text(.6, .3, auc, fontsize=13)"
   ]
  },
  {
   "cell_type": "markdown",
   "metadata": {},
   "source": [
    "### Export Models and Pipeline"
   ]
  },
  {
   "cell_type": "code",
   "execution_count": null,
   "metadata": {},
   "outputs": [],
   "source": [
    "import joblib\n",
    "import json"
   ]
  },
  {
   "cell_type": "code",
   "execution_count": null,
   "metadata": {},
   "outputs": [],
   "source": [
    "base_1 = base_model_1(X.drop(['a', 'b', 'TM_A', 'TM_B'], 1), y, X_test=None, export=True)\n",
    "joblib.dump(base_1, filename='Data.nosync/TM_Gradient_boost_base_model.pkl')"
   ]
  },
  {
   "cell_type": "code",
   "execution_count": null,
   "metadata": {},
   "outputs": [],
   "source": [
    "# base_model_2(X[['name_a', 'name_b']], y, X_test=None, export=True)"
   ]
  },
  {
   "cell_type": "code",
   "execution_count": null,
   "metadata": {},
   "outputs": [],
   "source": [
    "joblib.dump(grid_clf.best_estimator_, filename='Data.nosync/TM_meta_model.pkl')"
   ]
  },
  {
   "cell_type": "code",
   "execution_count": null,
   "metadata": {},
   "outputs": [],
   "source": []
  }
 ],
 "metadata": {
  "kernelspec": {
   "display_name": "Python 3",
   "language": "python",
   "name": "python3"
  },
  "language_info": {
   "codemirror_mode": {
    "name": "ipython",
    "version": 3
   },
   "file_extension": ".py",
   "mimetype": "text/x-python",
   "name": "python",
   "nbconvert_exporter": "python",
   "pygments_lexer": "ipython3",
   "version": "3.8.3"
  }
 },
 "nbformat": 4,
 "nbformat_minor": 4
}
